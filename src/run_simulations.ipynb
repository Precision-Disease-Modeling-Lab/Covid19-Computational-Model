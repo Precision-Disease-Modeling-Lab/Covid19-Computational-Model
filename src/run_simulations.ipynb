{
 "nbformat": 4,
 "nbformat_minor": 2,
 "metadata": {
  "language_info": {
   "name": "python",
   "codemirror_mode": {
    "name": "ipython",
    "version": 3
   },
   "version": "3.6.8-final"
  },
  "orig_nbformat": 2,
  "file_extension": ".py",
  "mimetype": "text/x-python",
  "name": "python",
  "npconvert_exporter": "python",
  "pygments_lexer": "ipython3",
  "version": 3,
  "kernelspec": {
   "name": "python36864bitenvvenvccf248a9dfeb4d9f8dc856794b3af623",
   "display_name": "Python 3.6.8 64-bit ('env': venv)"
  }
 },
 "cells": [
  {
   "cell_type": "code",
   "execution_count": 6,
   "metadata": {},
   "outputs": [],
   "source": [
    "from covid_simulation import * \n",
    ""
   ]
  },
  {
   "cell_type": "code",
   "execution_count": 7,
   "metadata": {},
   "outputs": [],
   "source": [
    "def print_infection_mat(): \n",
    "    print(' ')\n",
    "    for m in range(1,5): \n",
    "        print('| ', end=' ')\n",
    "        for n in range(1,5): \n",
    "            print(infection_by_age[n]['p'][m], end=' ')\n",
    "        print(' |')\n",
    "\n",
    "def run_sim(dd): \n",
    "    print(' ')\n",
    "    print(dd)\n",
    "    G = nx.read_gpickle(os.path.join(data_dir,dd['G_filename']))\n",
    "    update_infection_table(*dd['p'])\n",
    "    print_infection_mat()\n",
    "    logState=run_simulation(G, T_max=250, verbose = False)\n",
    "    with open(os.path.join(data_dir,'G_logState{0}.p'.format(dd['id'] )), 'wb') as fp: \n",
    "        pickle.dump(logState, fp)\n",
    "    nx.write_gpickle(G,os.path.join(data_dir,'G_simulated_logState{}.p'.format(dd['id'])))\n",
    "    print('=======================================')"
   ]
  },
  {
   "cell_type": "code",
   "execution_count": 8,
   "metadata": {},
   "outputs": [],
   "source": [
    "basic_p = 0.01\n",
    "infection_p0 = 0.1\n",
    "simulation_config=[{'id': 1, 'label':'State1 - normal', \n",
    "                    'G_filename': 'G_aged.p', \n",
    "                    'p': [basic_p, basic_p, None]}, \n",
    "\n",
    "                    {'id': 2, 'label':'State2 - age seperation - update connections', \n",
    "                    'G_filename': 'G_equi_aged.p', \n",
    "                    'p': [0.0, basic_p, None]}, \n",
    "\n",
    "                    {'id': 3, 'label':'State3 - eldery seperation', \n",
    "                    'G_filename': 'G_aged_eldery_grouped.p', \n",
    "                    'p': [basic_p, basic_p, 0.0]}, \n",
    "\n",
    "                    {'id': 4, 'label':'State4 - restric social distancing', \n",
    "                    'G_filename': 'G_aged.p', \n",
    "                    'p': [basic_p/2, basic_p, None]}, \n",
    "\n",
    "                    {'id': 5, 'label':'State5 - age seperation', \n",
    "                    'G_filename': 'G_aged.p', \n",
    "                    'p': [0.0, basic_p, None]}\n",
    "]"
   ]
  },
  {
   "cell_type": "code",
   "execution_count": 9,
   "metadata": {},
   "outputs": [],
   "source": [
    "type_of_network, N  = (1,1000)\n",
    "data_dir = 'data_' + str(type_of_network)+'_'+ str(N)"
   ]
  },
  {
   "cell_type": "code",
   "execution_count": 4,
   "metadata": {},
   "outputs": [
    {
     "output_type": "stream",
     "name": "stderr",
     "text": "3%|▎         | 7/250 [00:00<00:03, 61.57it/s] \n{'id': 1, 'label': 'State1 - normal', 'G_filename': 'G_aged.p', 'p': [0.01, 0.01, None]}\n \n|  0.01 0.01 0.01 0.01  |\n|  0.01 0.01 0.01 0.01  |\n|  0.01 0.01 0.01 0.01  |\n|  0.01 0.01 0.01 0.01  |\n100%|██████████| 250/250 [00:15<00:00, 16.49it/s]\n  3%|▎         | 8/250 [00:00<00:03, 74.97it/s]=======================================\n \n{'id': 2, 'label': 'State2 - age seperation - update connections', 'G_filename': 'G_equi_aged.p', 'p': [0.0, 0.01, None]}\n \n|  0.01 0.0 0.0 0.0  |\n|  0.0 0.01 0.0 0.0  |\n|  0.0 0.0 0.01 0.0  |\n|  0.0 0.0 0.0 0.01  |\n100%|██████████| 250/250 [00:17<00:00, 14.54it/s]\n  0%|          | 0/250 [00:00<?, ?it/s]=======================================\n \n{'id': 3, 'label': 'State3 - eldery seperation', 'G_filename': 'G_aged_eldery_grouped.p', 'p': [0.01, 0.01, 0.0]}\n0.0\n \n|  0.01 0.01 0.01 0.0  |\n|  0.01 0.01 0.01 0.0  |\n|  0.01 0.01 0.01 0.0  |\n|  0.0 0.0 0.0 0.01  |\n100%|██████████| 250/250 [00:17<00:00, 14.64it/s]\n  3%|▎         | 8/250 [00:00<00:03, 64.69it/s]=======================================\n \n{'id': 4, 'label': 'State4 - restric social distancing', 'G_filename': 'G_aged.p', 'p': [0.005, 0.01, None]}\n \n|  0.01 0.005 0.005 0.005  |\n|  0.005 0.01 0.005 0.005  |\n|  0.005 0.005 0.01 0.005  |\n|  0.005 0.005 0.005 0.01  |\n100%|██████████| 250/250 [00:18<00:00, 13.37it/s]\n  2%|▏         | 5/250 [00:00<00:05, 42.49it/s]=======================================\n \n{'id': 5, 'label': 'State5 - age seperation', 'G_filename': 'G_aged.p', 'p': [0.0, 0.01, None]}\n \n|  0.01 0.0 0.0 0.0  |\n|  0.0 0.01 0.0 0.0  |\n|  0.0 0.0 0.01 0.0  |\n|  0.0 0.0 0.0 0.01  |\n100%|██████████| 250/250 [00:18<00:00, 13.20it/s]\n=======================================\n"
    }
   ],
   "source": [
    "\n",
    "\n",
    "for conf in simulation_config: \n",
    "    run_sim(conf)"
   ]
  },
  {
   "cell_type": "code",
   "execution_count": 5,
   "metadata": {},
   "outputs": [
    {
     "output_type": "stream",
     "name": "stderr",
     "text": "2%|▏         | 5/250 [00:00<00:05, 48.21it/s] \n{'id': 1, 'label': 'State1 - normal', 'G_filename': 'G_aged.p', 'p': [0.01, 0.01, None]}\n \n|  0.01 0.01 0.01 0.01  |\n|  0.01 0.01 0.01 0.01  |\n|  0.01 0.01 0.01 0.01  |\n|  0.01 0.01 0.01 0.01  |\n100%|██████████| 250/250 [00:15<00:00, 16.21it/s]=======================================\n\n"
    }
   ],
   "source": [
    "# run_sim(simulation_config[0])"
   ]
  },
  {
   "cell_type": "code",
   "execution_count": null,
   "metadata": {},
   "outputs": [],
   "source": []
  }
 ]
}