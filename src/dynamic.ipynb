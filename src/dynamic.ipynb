{
 "nbformat": 4,
 "nbformat_minor": 2,
 "metadata": {
  "language_info": {
   "name": "python",
   "codemirror_mode": {
    "name": "ipython",
    "version": 3
   },
   "version": "3.7.5-final"
  },
  "orig_nbformat": 2,
  "file_extension": ".py",
  "mimetype": "text/x-python",
  "name": "python",
  "npconvert_exporter": "python",
  "pygments_lexer": "ipython3",
  "version": 3,
  "kernelspec": {
   "name": "python36864bitenvvenvccf248a9dfeb4d9f8dc856794b3af623",
   "display_name": "Python 3.6.8 64-bit ('env': venv)"
  }
 },
 "cells": [
  {
   "cell_type": "code",
   "execution_count": 2,
   "metadata": {},
   "outputs": [],
   "source": [
    "from covid_simulation import * \n",
    "import pickle\n",
    "from matplotlib.backends.backend_agg import FigureCanvasAgg as FigureCanvas\n",
    "from matplotlib.figure import Figure\n",
    "from matplotlib.animation import FuncAnimation, PillowWriter  \n",
    "\n",
    "import matplotlib.pyplot as plt\n",
    "%matplotlib inline"
   ]
  },
  {
   "cell_type": "code",
   "execution_count": 6,
   "metadata": {},
   "outputs": [],
   "source": [
    "stateIdx=1\n",
    "type_of_network, N  = (3,1000)\n",
    "data_dir = os.path.join('../data','data_' + str(type_of_network)+'_'+ str(N))\n",
    "data_dir = os.path.join('../data','data_' + str(type_of_network)+'_'+ str(N))\n",
    "G=nx.read_gpickle(os.path.join(data_dir,'G_simulated_logState1_iter_0.p'))\n",
    "logStatus = pickle.load(open(os.path.join(data_dir,'G_logState{0}_iter_0.p'.format(stateIdx)), 'rb'))"
   ]
  },
  {
   "cell_type": "code",
   "execution_count": 7,
   "metadata": {},
   "outputs": [],
   "source": [
    "def get_element_per_status(logStatus, t): \n",
    "    return list(map(lambda x : logStatus[t][x],  ['S','E','I','R']))"
   ]
  },
  {
   "cell_type": "markdown",
   "metadata": {},
   "source": [
    "# few  families conenctions"
   ]
  },
  {
   "cell_type": "code",
   "execution_count": 8,
   "metadata": {},
   "outputs": [
    {
     "output_type": "stream",
     "name": "stdout",
     "text": "6\n"
    }
   ],
   "source": [
    "for n,y in G.nodes(data=True): \n",
    "    if len(find_family_members(G,n))>3: \n",
    "        print(n)\n",
    "        break"
   ]
  },
  {
   "cell_type": "code",
   "execution_count": 13,
   "metadata": {},
   "outputs": [],
   "source": [
    "seeds = [2]\n",
    "family_members_list=[]\n",
    "non_family_members_list=[]\n",
    "\n",
    "for k in range(5): \n",
    "    \n",
    "    family_members=find_family_members(G,seeds[k])\n",
    "    non_family_members=find_non_family_members(G,seeds[k])\n",
    "\n",
    "    seeds.append(np.random.choice(non_family_members))\n",
    "    family_members_list += family_members\n",
    "    non_family_members_list += non_family_members\n",
    "\n",
    "# exclude seeds from list \n",
    "family_members = [x for x in family_members if x not in seeds]\n",
    "non_family_members_list = [x for x in non_family_members_list if x not in seeds]\n",
    "node_list = [*seeds,*family_members_list,*non_family_members_list]\n",
    ""
   ]
  },
  {
   "cell_type": "code",
   "execution_count": 14,
   "metadata": {},
   "outputs": [
    {
     "output_type": "stream",
     "name": "stderr",
     "text": "The PostScript backend does not support transparency; partially transparent artists will be rendered opaque.\nThe PostScript backend does not support transparency; partially transparent artists will be rendered opaque.\n"
    },
    {
     "output_type": "display_data",
     "data": {
      "text/plain": "<Figure size 720x720 with 1 Axes>",
      "image/svg+xml": "<?xml version=\"1.0\" encoding=\"utf-8\" standalone=\"no\"?>\r\n<!DOCTYPE svg PUBLIC \"-//W3C//DTD SVG 1.1//EN\"\r\n  \"http://www.w3.org/Graphics/SVG/1.1/DTD/svg11.dtd\">\r\n<!-- Created with matplotlib (https://matplotlib.org/) -->\r\n<svg height=\"558pt\" version=\"1.1\" viewBox=\"0 0 572.4 558\" width=\"572.4pt\" xmlns=\"http://www.w3.org/2000/svg\" xmlns:xlink=\"http://www.w3.org/1999/xlink\">\r\n <defs>\r\n  <style type=\"text/css\">\r\n*{stroke-linecap:butt;stroke-linejoin:round;}\r\n  </style>\r\n </defs>\r\n <g id=\"figure_1\">\r\n  <g id=\"patch_1\">\r\n   <path d=\"M 0 558 \r\nL 572.4 558 \r\nL 572.4 0 \r\nL 0 0 \r\nz\r\n\" style=\"fill:none;\"/>\r\n  </g>\r\n  <g id=\"axes_1\">\r\n   <g id=\"patch_2\">\r\n    <path d=\"M 7.2 550.8 \r\nL 565.2 550.8 \r\nL 565.2 7.2 \r\nL 7.2 7.2 \r\nz\r\n\" style=\"fill:#ffffff;\"/>\r\n   </g>\r\n   <g id=\"LineCollection_1\">\r\n    <path clip-path=\"url(#p38d62b706a)\" d=\"M 99.644108 206.744621 \r\nL 49.637592 217.875587 \r\n\" style=\"fill:none;stroke:#808080;\"/>\r\n    <path clip-path=\"url(#p38d62b706a)\" d=\"M 99.644108 206.744621 \r\nL 86.119962 184.782104 \r\n\" style=\"fill:none;stroke:#808080;\"/>\r\n    <path clip-path=\"url(#p38d62b706a)\" d=\"M 99.644108 206.744621 \r\nL 122.742198 212.522846 \r\n\" style=\"fill:none;stroke:#808080;\"/>\r\n    <path clip-path=\"url(#p38d62b706a)\" d=\"M 99.644108 206.744621 \r\nL 73.801872 266.525028 \r\n\" style=\"fill:none;stroke:#808080;\"/>\r\n    <path clip-path=\"url(#p38d62b706a)\" d=\"M 99.644108 206.744621 \r\nL 91.026489 151.531204 \r\n\" style=\"fill:none;stroke:#808080;\"/>\r\n    <path clip-path=\"url(#p38d62b706a)\" d=\"M 99.644108 206.744621 \r\nL 79.56975 230.344103 \r\n\" style=\"fill:none;stroke:#808080;\"/>\r\n    <path clip-path=\"url(#p38d62b706a)\" d=\"M 99.644108 206.744621 \r\nL 101.64163 288.495784 \r\n\" style=\"fill:none;stroke:#808080;\"/>\r\n    <path clip-path=\"url(#p38d62b706a)\" d=\"M 99.644108 206.744621 \r\nL 67.5697 210.45622 \r\n\" style=\"fill:none;stroke:#808080;\"/>\r\n    <path clip-path=\"url(#p38d62b706a)\" d=\"M 99.644108 206.744621 \r\nL 181.162437 157.049522 \r\n\" style=\"fill:none;stroke:#808080;\"/>\r\n    <path clip-path=\"url(#p38d62b706a)\" d=\"M 99.644108 206.744621 \r\nL 131.145503 160.690307 \r\n\" style=\"fill:none;stroke:#808080;\"/>\r\n    <path clip-path=\"url(#p38d62b706a)\" d=\"M 49.637592 217.875587 \r\nL 122.742198 212.522846 \r\n\" style=\"fill:none;stroke:#808080;\"/>\r\n    <path clip-path=\"url(#p38d62b706a)\" d=\"M 49.637592 217.875587 \r\nL 91.026489 151.531204 \r\n\" style=\"fill:none;stroke:#808080;\"/>\r\n    <path clip-path=\"url(#p38d62b706a)\" d=\"M 49.637592 217.875587 \r\nL 101.64163 288.495784 \r\n\" style=\"fill:none;stroke:#808080;\"/>\r\n    <path clip-path=\"url(#p38d62b706a)\" d=\"M 49.637592 217.875587 \r\nL 73.801872 266.525028 \r\n\" style=\"fill:none;stroke:#808080;\"/>\r\n    <path clip-path=\"url(#p38d62b706a)\" d=\"M 49.637592 217.875587 \r\nL 67.5697 210.45622 \r\n\" style=\"fill:none;stroke:#808080;\"/>\r\n    <path clip-path=\"url(#p38d62b706a)\" d=\"M 49.637592 217.875587 \r\nL 50.757532 156.338032 \r\n\" style=\"fill:none;stroke:#808080;\"/>\r\n    <path clip-path=\"url(#p38d62b706a)\" d=\"M 49.637592 217.875587 \r\nL 32.563636 258.382958 \r\n\" style=\"fill:none;stroke:#808080;\"/>\r\n    <path clip-path=\"url(#p38d62b706a)\" d=\"M 122.742198 212.522846 \r\nL 91.026489 151.531204 \r\n\" style=\"fill:none;stroke:#808080;\"/>\r\n    <path clip-path=\"url(#p38d62b706a)\" d=\"M 122.742198 212.522846 \r\nL 101.64163 288.495784 \r\n\" style=\"fill:none;stroke:#808080;\"/>\r\n    <path clip-path=\"url(#p38d62b706a)\" d=\"M 122.742198 212.522846 \r\nL 86.119962 184.782104 \r\n\" style=\"fill:none;stroke:#808080;\"/>\r\n    <path clip-path=\"url(#p38d62b706a)\" d=\"M 122.742198 212.522846 \r\nL 73.801872 266.525028 \r\n\" style=\"fill:none;stroke:#808080;\"/>\r\n    <path clip-path=\"url(#p38d62b706a)\" d=\"M 122.742198 212.522846 \r\nL 181.162437 157.049522 \r\n\" style=\"fill:none;stroke:#808080;\"/>\r\n    <path clip-path=\"url(#p38d62b706a)\" d=\"M 122.742198 212.522846 \r\nL 32.563636 258.382958 \r\n\" style=\"fill:none;stroke:#808080;\"/>\r\n    <path clip-path=\"url(#p38d62b706a)\" d=\"M 122.742198 212.522846 \r\nL 67.5697 210.45622 \r\n\" style=\"fill:none;stroke:#808080;\"/>\r\n    <path clip-path=\"url(#p38d62b706a)\" d=\"M 122.742198 212.522846 \r\nL 50.757532 156.338032 \r\n\" style=\"fill:none;stroke:#808080;\"/>\r\n    <path clip-path=\"url(#p38d62b706a)\" d=\"M 122.742198 212.522846 \r\nL 36.146571 292.305681 \r\n\" style=\"fill:none;stroke:#808080;\"/>\r\n    <path clip-path=\"url(#p38d62b706a)\" d=\"M 122.742198 212.522846 \r\nL 262.086323 252.208343 \r\n\" style=\"fill:none;stroke:#808080;\"/>\r\n    <path clip-path=\"url(#p38d62b706a)\" d=\"M 122.742198 212.522846 \r\nL 202.5211 127.135734 \r\n\" style=\"fill:none;stroke:#808080;\"/>\r\n    <path clip-path=\"url(#p38d62b706a)\" d=\"M 122.742198 212.522846 \r\nL 146.538876 248.018824 \r\n\" style=\"fill:none;stroke:#808080;\"/>\r\n    <path clip-path=\"url(#p38d62b706a)\" d=\"M 122.742198 212.522846 \r\nL 119.852058 70.269345 \r\n\" style=\"fill:none;stroke:#808080;\"/>\r\n    <path clip-path=\"url(#p38d62b706a)\" d=\"M 122.742198 212.522846 \r\nL 218.514324 282.679466 \r\n\" style=\"fill:none;stroke:#808080;\"/>\r\n    <path clip-path=\"url(#p38d62b706a)\" d=\"M 91.026489 151.531204 \r\nL 181.162437 157.049522 \r\n\" style=\"fill:none;stroke:#808080;\"/>\r\n    <path clip-path=\"url(#p38d62b706a)\" d=\"M 91.026489 151.531204 \r\nL 79.56975 230.344103 \r\n\" style=\"fill:none;stroke:#808080;\"/>\r\n    <path clip-path=\"url(#p38d62b706a)\" d=\"M 101.64163 288.495784 \r\nL 32.563636 258.382958 \r\n\" style=\"fill:none;stroke:#808080;\"/>\r\n    <path clip-path=\"url(#p38d62b706a)\" d=\"M 101.64163 288.495784 \r\nL 209.625357 314.220831 \r\n\" style=\"fill:none;stroke:#808080;\"/>\r\n    <path clip-path=\"url(#p38d62b706a)\" d=\"M 36.146571 292.305681 \r\nL 79.56975 230.344103 \r\n\" style=\"fill:none;stroke:#808080;\"/>\r\n    <path clip-path=\"url(#p38d62b706a)\" d=\"M 209.625357 314.220831 \r\nL 315.551499 354.262374 \r\n\" style=\"fill:none;stroke:#808080;\"/>\r\n    <path clip-path=\"url(#p38d62b706a)\" d=\"M 209.625357 314.220831 \r\nL 268.442253 198.08455 \r\n\" style=\"fill:none;stroke:#808080;\"/>\r\n    <path clip-path=\"url(#p38d62b706a)\" d=\"M 181.162437 157.049522 \r\nL 119.852058 70.269345 \r\n\" style=\"fill:none;stroke:#808080;\"/>\r\n    <path clip-path=\"url(#p38d62b706a)\" d=\"M 181.162437 157.049522 \r\nL 306.79585 234.576973 \r\n\" style=\"fill:none;stroke:#808080;\"/>\r\n    <path clip-path=\"url(#p38d62b706a)\" d=\"M 181.162437 157.049522 \r\nL 275.374968 94.780528 \r\n\" style=\"fill:none;stroke:#808080;\"/>\r\n    <path clip-path=\"url(#p38d62b706a)\" d=\"M 539.836364 387.511793 \r\nL 436.508359 375.449201 \r\n\" style=\"fill:none;stroke:#808080;\"/>\r\n    <path clip-path=\"url(#p38d62b706a)\" d=\"M 471.860099 274.212507 \r\nL 383.513546 245.64346 \r\n\" style=\"fill:none;stroke:#808080;\"/>\r\n    <path clip-path=\"url(#p38d62b706a)\" d=\"M 471.860099 274.212507 \r\nL 436.508359 375.449201 \r\n\" style=\"fill:none;stroke:#808080;\"/>\r\n    <path clip-path=\"url(#p38d62b706a)\" d=\"M 320.759303 482.803222 \r\nL 338.664027 399.799408 \r\n\" style=\"fill:none;stroke:#808080;\"/>\r\n    <path clip-path=\"url(#p38d62b706a)\" d=\"M 320.759303 482.803222 \r\nL 315.551499 354.262374 \r\n\" style=\"fill:none;stroke:#808080;\"/>\r\n    <path clip-path=\"url(#p38d62b706a)\" d=\"M 338.664027 399.799408 \r\nL 338.393821 285.139671 \r\n\" style=\"fill:none;stroke:#808080;\"/>\r\n    <path clip-path=\"url(#p38d62b706a)\" d=\"M 338.664027 399.799408 \r\nL 392.016025 331.537919 \r\n\" style=\"fill:none;stroke:#808080;\"/>\r\n    <path clip-path=\"url(#p38d62b706a)\" d=\"M 338.664027 399.799408 \r\nL 348.732024 321.267388 \r\n\" style=\"fill:none;stroke:#808080;\"/>\r\n    <path clip-path=\"url(#p38d62b706a)\" d=\"M 338.664027 399.799408 \r\nL 436.508359 375.449201 \r\n\" style=\"fill:none;stroke:#808080;\"/>\r\n    <path clip-path=\"url(#p38d62b706a)\" d=\"M 338.664027 399.799408 \r\nL 226.502449 391.264746 \r\n\" style=\"fill:none;stroke:#808080;\"/>\r\n    <path clip-path=\"url(#p38d62b706a)\" d=\"M 306.79585 234.576973 \r\nL 367.777325 298.449719 \r\n\" style=\"fill:none;stroke:#808080;\"/>\r\n    <path clip-path=\"url(#p38d62b706a)\" d=\"M 306.79585 234.576973 \r\nL 364.20795 188.096887 \r\n\" style=\"fill:none;stroke:#808080;\"/>\r\n    <path clip-path=\"url(#p38d62b706a)\" d=\"M 306.79585 234.576973 \r\nL 305.479566 318.219512 \r\n\" style=\"fill:none;stroke:#808080;\"/>\r\n    <path clip-path=\"url(#p38d62b706a)\" d=\"M 306.79585 234.576973 \r\nL 392.016025 331.537919 \r\n\" style=\"fill:none;stroke:#808080;\"/>\r\n    <path clip-path=\"url(#p38d62b706a)\" d=\"M 306.79585 234.576973 \r\nL 349.293329 229.340631 \r\n\" style=\"fill:none;stroke:#808080;\"/>\r\n    <path clip-path=\"url(#p38d62b706a)\" d=\"M 418.806809 459.095188 \r\nL 436.508359 375.449201 \r\n\" style=\"fill:none;stroke:#808080;\"/>\r\n    <path clip-path=\"url(#p38d62b706a)\" d=\"M 418.806809 459.095188 \r\nL 348.732024 321.267388 \r\n\" style=\"fill:none;stroke:#808080;\"/>\r\n    <path clip-path=\"url(#p38d62b706a)\" d=\"M 418.806809 459.095188 \r\nL 469.777825 508.344488 \r\n\" style=\"fill:none;stroke:#808080;\"/>\r\n    <path clip-path=\"url(#p38d62b706a)\" d=\"M 367.777325 298.449719 \r\nL 348.732024 321.267388 \r\n\" style=\"fill:none;stroke:#808080;\"/>\r\n    <path clip-path=\"url(#p38d62b706a)\" d=\"M 367.777325 298.449719 \r\nL 305.479566 318.219512 \r\n\" style=\"fill:none;stroke:#808080;\"/>\r\n    <path clip-path=\"url(#p38d62b706a)\" d=\"M 367.777325 298.449719 \r\nL 349.293329 229.340631 \r\n\" style=\"fill:none;stroke:#808080;\"/>\r\n    <path clip-path=\"url(#p38d62b706a)\" d=\"M 367.777325 298.449719 \r\nL 372.715774 339.325711 \r\n\" style=\"fill:none;stroke:#808080;\"/>\r\n    <path clip-path=\"url(#p38d62b706a)\" d=\"M 367.777325 298.449719 \r\nL 392.016025 331.537919 \r\n\" style=\"fill:none;stroke:#808080;\"/>\r\n    <path clip-path=\"url(#p38d62b706a)\" d=\"M 367.777325 298.449719 \r\nL 436.508359 375.449201 \r\n\" style=\"fill:none;stroke:#808080;\"/>\r\n    <path clip-path=\"url(#p38d62b706a)\" d=\"M 393.272633 31.909091 \r\nL 364.20795 188.096887 \r\n\" style=\"fill:none;stroke:#808080;\"/>\r\n    <path clip-path=\"url(#p38d62b706a)\" d=\"M 443.88814 76.98055 \r\nL 364.20795 188.096887 \r\n\" style=\"fill:none;stroke:#808080;\"/>\r\n    <path clip-path=\"url(#p38d62b706a)\" d=\"M 348.732024 321.267388 \r\nL 338.393821 285.139671 \r\n\" style=\"fill:none;stroke:#808080;\"/>\r\n    <path clip-path=\"url(#p38d62b706a)\" d=\"M 348.732024 321.267388 \r\nL 305.479566 318.219512 \r\n\" style=\"fill:none;stroke:#808080;\"/>\r\n    <path clip-path=\"url(#p38d62b706a)\" d=\"M 348.732024 321.267388 \r\nL 349.293329 229.340631 \r\n\" style=\"fill:none;stroke:#808080;\"/>\r\n    <path clip-path=\"url(#p38d62b706a)\" d=\"M 348.732024 321.267388 \r\nL 364.20795 188.096887 \r\n\" style=\"fill:none;stroke:#808080;\"/>\r\n    <path clip-path=\"url(#p38d62b706a)\" d=\"M 348.732024 321.267388 \r\nL 372.715774 339.325711 \r\n\" style=\"fill:none;stroke:#808080;\"/>\r\n    <path clip-path=\"url(#p38d62b706a)\" d=\"M 348.732024 321.267388 \r\nL 262.086323 252.208343 \r\n\" style=\"fill:none;stroke:#808080;\"/>\r\n    <path clip-path=\"url(#p38d62b706a)\" d=\"M 254.251859 466.982654 \r\nL 315.551499 354.262374 \r\n\" style=\"fill:none;stroke:#808080;\"/>\r\n    <path clip-path=\"url(#p38d62b706a)\" d=\"M 254.251859 466.982654 \r\nL 226.502449 391.264746 \r\n\" style=\"fill:none;stroke:#808080;\"/>\r\n    <path clip-path=\"url(#p38d62b706a)\" d=\"M 469.777825 508.344488 \r\nL 436.508359 375.449201 \r\n\" style=\"fill:none;stroke:#808080;\"/>\r\n    <path clip-path=\"url(#p38d62b706a)\" d=\"M 226.502449 391.264746 \r\nL 146.538876 248.018824 \r\n\" style=\"fill:none;stroke:#808080;\"/>\r\n    <path clip-path=\"url(#p38d62b706a)\" d=\"M 84.116244 376.862125 \r\nL 146.538876 248.018824 \r\n\" style=\"fill:none;stroke:#808080;\"/>\r\n    <path clip-path=\"url(#p38d62b706a)\" d=\"M 218.514324 282.679466 \r\nL 332.297254 328.328982 \r\n\" style=\"fill:none;stroke:#808080;\"/>\r\n    <path clip-path=\"url(#p38d62b706a)\" d=\"M 419.697214 48.564718 \r\nL 364.20795 188.096887 \r\n\" style=\"fill:none;stroke:#808080;\"/>\r\n    <path clip-path=\"url(#p38d62b706a)\" d=\"M 202.5211 127.135734 \r\nL 289.80104 167.36808 \r\n\" style=\"fill:none;stroke:#808080;\"/>\r\n    <path clip-path=\"url(#p38d62b706a)\" d=\"M 341.005132 77.099251 \r\nL 364.20795 188.096887 \r\n\" style=\"fill:none;stroke:#808080;\"/>\r\n    <path clip-path=\"url(#p38d62b706a)\" d=\"M 341.005132 77.099251 \r\nL 289.80104 167.36808 \r\n\" style=\"fill:none;stroke:#808080;\"/>\r\n    <path clip-path=\"url(#p38d62b706a)\" d=\"M 289.80104 167.36808 \r\nL 315.551499 354.262374 \r\n\" style=\"fill:none;stroke:#808080;\"/>\r\n    <path clip-path=\"url(#p38d62b706a)\" d=\"M 262.086323 252.208343 \r\nL 383.513546 245.64346 \r\n\" style=\"fill:none;stroke:#808080;\"/>\r\n    <path clip-path=\"url(#p38d62b706a)\" d=\"M 383.513546 245.64346 \r\nL 364.20795 188.096887 \r\n\" style=\"fill:none;stroke:#808080;\"/>\r\n    <path clip-path=\"url(#p38d62b706a)\" d=\"M 383.513546 245.64346 \r\nL 410.536026 356.50653 \r\n\" style=\"fill:none;stroke:#808080;\"/>\r\n    <path clip-path=\"url(#p38d62b706a)\" d=\"M 268.442253 198.08455 \r\nL 364.20795 188.096887 \r\n\" style=\"fill:none;stroke:#808080;\"/>\r\n    <path clip-path=\"url(#p38d62b706a)\" d=\"M 268.442253 198.08455 \r\nL 238.658418 132.721468 \r\n\" style=\"fill:none;stroke:#808080;\"/>\r\n    <path clip-path=\"url(#p38d62b706a)\" d=\"M 62.370536 114.506862 \r\nL 146.538876 248.018824 \r\n\" style=\"fill:none;stroke:#808080;\"/>\r\n    <path clip-path=\"url(#p38d62b706a)\" d=\"M 275.374968 94.780528 \r\nL 364.20795 188.096887 \r\n\" style=\"fill:none;stroke:#808080;\"/>\r\n    <path clip-path=\"url(#p38d62b706a)\" d=\"M 531.022042 441.054264 \r\nL 436.508359 375.449201 \r\n\" style=\"fill:none;stroke:#808080;\"/>\r\n    <path clip-path=\"url(#p38d62b706a)\" d=\"M 238.658418 132.721468 \r\nL 171.499555 103.843052 \r\n\" style=\"fill:none;stroke:#808080;\"/>\r\n    <path clip-path=\"url(#p38d62b706a)\" d=\"M 238.658418 132.721468 \r\nL 131.145503 160.690307 \r\n\" style=\"fill:none;stroke:#808080;\"/>\r\n    <path clip-path=\"url(#p38d62b706a)\" d=\"M 238.658418 132.721468 \r\nL 364.20795 188.096887 \r\n\" style=\"fill:none;stroke:#808080;\"/>\r\n    <path clip-path=\"url(#p38d62b706a)\" d=\"M 295.910415 524.934524 \r\nL 315.551499 354.262374 \r\n\" style=\"fill:none;stroke:#808080;\"/>\r\n    <path clip-path=\"url(#p38d62b706a)\" d=\"M 462.942979 377.946159 \r\nL 453.729133 412.321605 \r\n\" style=\"fill:none;stroke:#808080;\"/>\r\n    <path clip-path=\"url(#p38d62b706a)\" d=\"M 462.942979 377.946159 \r\nL 412.191011 407.147332 \r\n\" style=\"fill:none;stroke:#808080;\"/>\r\n    <path clip-path=\"url(#p38d62b706a)\" d=\"M 462.942979 377.946159 \r\nL 410.536026 356.50653 \r\n\" style=\"fill:none;stroke:#808080;\"/>\r\n    <path clip-path=\"url(#p38d62b706a)\" d=\"M 462.942979 377.946159 \r\nL 436.508359 375.449201 \r\n\" style=\"fill:none;stroke:#808080;\"/>\r\n    <path clip-path=\"url(#p38d62b706a)\" d=\"M 462.942979 377.946159 \r\nL 392.016025 331.537919 \r\n\" style=\"fill:none;stroke:#808080;\"/>\r\n    <path clip-path=\"url(#p38d62b706a)\" d=\"M 171.499555 103.843052 \r\nL 146.538876 248.018824 \r\n\" style=\"fill:none;stroke:#808080;\"/>\r\n    <path clip-path=\"url(#p38d62b706a)\" d=\"M 453.729133 412.321605 \r\nL 412.191011 407.147332 \r\n\" style=\"fill:none;stroke:#808080;\"/>\r\n    <path clip-path=\"url(#p38d62b706a)\" d=\"M 453.729133 412.321605 \r\nL 410.536026 356.50653 \r\n\" style=\"fill:none;stroke:#808080;\"/>\r\n    <path clip-path=\"url(#p38d62b706a)\" d=\"M 453.729133 412.321605 \r\nL 436.508359 375.449201 \r\n\" style=\"fill:none;stroke:#808080;\"/>\r\n    <path clip-path=\"url(#p38d62b706a)\" d=\"M 453.729133 412.321605 \r\nL 392.016025 331.537919 \r\n\" style=\"fill:none;stroke:#808080;\"/>\r\n    <path clip-path=\"url(#p38d62b706a)\" d=\"M 412.191011 407.147332 \r\nL 332.297254 328.328982 \r\n\" style=\"fill:none;stroke:#808080;\"/>\r\n    <path clip-path=\"url(#p38d62b706a)\" d=\"M 412.191011 407.147332 \r\nL 436.508359 375.449201 \r\n\" style=\"fill:none;stroke:#808080;\"/>\r\n    <path clip-path=\"url(#p38d62b706a)\" d=\"M 412.191011 407.147332 \r\nL 372.715774 339.325711 \r\n\" style=\"fill:none;stroke:#808080;\"/>\r\n    <path clip-path=\"url(#p38d62b706a)\" d=\"M 400.962488 296.2404 \r\nL 436.508359 375.449201 \r\n\" style=\"fill:none;stroke:#808080;\"/>\r\n    <path clip-path=\"url(#p38d62b706a)\" d=\"M 400.962488 296.2404 \r\nL 392.016025 331.537919 \r\n\" style=\"fill:none;stroke:#808080;\"/>\r\n    <path clip-path=\"url(#p38d62b706a)\" d=\"M 400.962488 296.2404 \r\nL 315.551499 354.262374 \r\n\" style=\"fill:none;stroke:#808080;\"/>\r\n    <path clip-path=\"url(#p38d62b706a)\" d=\"M 400.962488 296.2404 \r\nL 364.20795 188.096887 \r\n\" style=\"fill:none;stroke:#808080;\"/>\r\n    <path clip-path=\"url(#p38d62b706a)\" d=\"M 131.145503 160.690307 \r\nL 146.538876 248.018824 \r\n\" style=\"fill:none;stroke:#808080;\"/>\r\n    <path clip-path=\"url(#p38d62b706a)\" d=\"M 131.145503 160.690307 \r\nL 50.757532 156.338032 \r\n\" style=\"fill:none;stroke:#808080;\"/>\r\n    <path clip-path=\"url(#p38d62b706a)\" d=\"M 131.145503 160.690307 \r\nL 79.56975 230.344103 \r\n\" style=\"fill:none;stroke:#808080;\"/>\r\n    <path clip-path=\"url(#p38d62b706a)\" d=\"M 436.508359 375.449201 \r\nL 315.551499 354.262374 \r\n\" style=\"fill:none;stroke:#808080;\"/>\r\n    <path clip-path=\"url(#p38d62b706a)\" d=\"M 436.508359 375.449201 \r\nL 364.20795 188.096887 \r\n\" style=\"fill:none;stroke:#808080;\"/>\r\n    <path clip-path=\"url(#p38d62b706a)\" d=\"M 436.508359 375.449201 \r\nL 514.272709 488.086266 \r\n\" style=\"fill:none;stroke:#808080;\"/>\r\n    <path clip-path=\"url(#p38d62b706a)\" d=\"M 146.538876 248.018824 \r\nL 67.5697 210.45622 \r\n\" style=\"fill:none;stroke:#808080;\"/>\r\n    <path clip-path=\"url(#p38d62b706a)\" d=\"M 146.538876 248.018824 \r\nL 79.56975 230.344103 \r\n\" style=\"fill:none;stroke:#808080;\"/>\r\n    <path clip-path=\"url(#p38d62b706a)\" d=\"M 146.538876 248.018824 \r\nL 73.801872 266.525028 \r\n\" style=\"fill:none;stroke:#808080;\"/>\r\n    <path clip-path=\"url(#p38d62b706a)\" d=\"M 146.538876 248.018824 \r\nL 86.119962 184.782104 \r\n\" style=\"fill:none;stroke:#808080;\"/>\r\n    <path clip-path=\"url(#p38d62b706a)\" d=\"M 146.538876 248.018824 \r\nL 315.551499 354.262374 \r\n\" style=\"fill:none;stroke:#808080;\"/>\r\n    <path clip-path=\"url(#p38d62b706a)\" d=\"M 146.538876 248.018824 \r\nL 111.792861 104.430343 \r\n\" style=\"fill:none;stroke:#808080;\"/>\r\n    <path clip-path=\"url(#p38d62b706a)\" d=\"M 392.016025 331.537919 \r\nL 332.297254 328.328982 \r\n\" style=\"fill:none;stroke:#808080;\"/>\r\n    <path clip-path=\"url(#p38d62b706a)\" d=\"M 392.016025 331.537919 \r\nL 315.551499 354.262374 \r\n\" style=\"fill:none;stroke:#808080;\"/>\r\n    <path clip-path=\"url(#p38d62b706a)\" d=\"M 392.016025 331.537919 \r\nL 410.536026 356.50653 \r\n\" style=\"fill:none;stroke:#808080;\"/>\r\n    <path clip-path=\"url(#p38d62b706a)\" d=\"M 392.016025 331.537919 \r\nL 437.698492 210.127192 \r\n\" style=\"fill:none;stroke:#808080;\"/>\r\n    <path clip-path=\"url(#p38d62b706a)\" d=\"M 315.551499 354.262374 \r\nL 372.715774 339.325711 \r\n\" style=\"fill:none;stroke:#808080;\"/>\r\n    <path clip-path=\"url(#p38d62b706a)\" d=\"M 315.551499 354.262374 \r\nL 332.297254 328.328982 \r\n\" style=\"fill:none;stroke:#808080;\"/>\r\n    <path clip-path=\"url(#p38d62b706a)\" d=\"M 315.551499 354.262374 \r\nL 338.393821 285.139671 \r\n\" style=\"fill:none;stroke:#808080;\"/>\r\n    <path clip-path=\"url(#p38d62b706a)\" d=\"M 315.551499 354.262374 \r\nL 410.536026 356.50653 \r\n\" style=\"fill:none;stroke:#808080;\"/>\r\n    <path clip-path=\"url(#p38d62b706a)\" d=\"M 315.551499 354.262374 \r\nL 305.479566 318.219512 \r\n\" style=\"fill:none;stroke:#808080;\"/>\r\n    <path clip-path=\"url(#p38d62b706a)\" d=\"M 315.551499 354.262374 \r\nL 337.281719 526.090909 \r\n\" style=\"fill:none;stroke:#808080;\"/>\r\n    <path clip-path=\"url(#p38d62b706a)\" d=\"M 315.551499 354.262374 \r\nL 413.999225 246.111978 \r\n\" style=\"fill:none;stroke:#808080;\"/>\r\n    <path clip-path=\"url(#p38d62b706a)\" d=\"M 364.20795 188.096887 \r\nL 372.715774 339.325711 \r\n\" style=\"fill:none;stroke:#808080;\"/>\r\n    <path clip-path=\"url(#p38d62b706a)\" d=\"M 364.20795 188.096887 \r\nL 338.393821 285.139671 \r\n\" style=\"fill:none;stroke:#808080;\"/>\r\n    <path clip-path=\"url(#p38d62b706a)\" d=\"M 364.20795 188.096887 \r\nL 332.297254 328.328982 \r\n\" style=\"fill:none;stroke:#808080;\"/>\r\n    <path clip-path=\"url(#p38d62b706a)\" d=\"M 364.20795 188.096887 \r\nL 349.293329 229.340631 \r\n\" style=\"fill:none;stroke:#808080;\"/>\r\n    <path clip-path=\"url(#p38d62b706a)\" d=\"M 364.20795 188.096887 \r\nL 445.283903 147.350958 \r\n\" style=\"fill:none;stroke:#808080;\"/>\r\n    <path clip-path=\"url(#p38d62b706a)\" d=\"M 364.20795 188.096887 \r\nL 437.698492 210.127192 \r\n\" style=\"fill:none;stroke:#808080;\"/>\r\n    <path clip-path=\"url(#p38d62b706a)\" d=\"M 372.715774 339.325711 \r\nL 332.297254 328.328982 \r\n\" style=\"fill:none;stroke:#808080;\"/>\r\n    <path clip-path=\"url(#p38d62b706a)\" d=\"M 372.715774 339.325711 \r\nL 410.536026 356.50653 \r\n\" style=\"fill:none;stroke:#808080;\"/>\r\n    <path clip-path=\"url(#p38d62b706a)\" d=\"M 86.119962 184.782104 \r\nL 79.56975 230.344103 \r\n\" style=\"fill:none;stroke:#808080;\"/>\r\n    <path clip-path=\"url(#p38d62b706a)\" d=\"M 86.119962 184.782104 \r\nL 67.5697 210.45622 \r\n\" style=\"fill:none;stroke:#808080;\"/>\r\n    <path clip-path=\"url(#p38d62b706a)\" d=\"M 73.801872 266.525028 \r\nL 79.56975 230.344103 \r\n\" style=\"fill:none;stroke:#808080;\"/>\r\n    <path clip-path=\"url(#p38d62b706a)\" d=\"M 73.801872 266.525028 \r\nL 67.5697 210.45622 \r\n\" style=\"fill:none;stroke:#808080;\"/>\r\n    <path clip-path=\"url(#p38d62b706a)\" d=\"M 67.5697 210.45622 \r\nL 50.757532 156.338032 \r\n\" style=\"fill:none;stroke:#808080;\"/>\r\n    <path clip-path=\"url(#p38d62b706a)\" d=\"M 67.5697 210.45622 \r\nL 79.56975 230.344103 \r\n\" style=\"fill:none;stroke:#808080;\"/>\r\n    <path clip-path=\"url(#p38d62b706a)\" d=\"M 349.293329 229.340631 \r\nL 338.393821 285.139671 \r\n\" style=\"fill:none;stroke:#808080;\"/>\r\n    <path clip-path=\"url(#p38d62b706a)\" d=\"M 413.999225 246.111978 \r\nL 445.283903 147.350958 \r\n\" style=\"fill:none;stroke:#808080;\"/>\r\n   </g>\r\n   <g id=\"matplotlib.axis_1\">\r\n    <g id=\"xtick_1\"/>\r\n    <g id=\"xtick_2\"/>\r\n    <g id=\"xtick_3\"/>\r\n    <g id=\"xtick_4\"/>\r\n    <g id=\"xtick_5\"/>\r\n    <g id=\"xtick_6\"/>\r\n    <g id=\"xtick_7\"/>\r\n    <g id=\"xtick_8\"/>\r\n    <g id=\"xtick_9\"/>\r\n   </g>\r\n   <g id=\"matplotlib.axis_2\">\r\n    <g id=\"ytick_1\"/>\r\n    <g id=\"ytick_2\"/>\r\n    <g id=\"ytick_3\"/>\r\n    <g id=\"ytick_4\"/>\r\n    <g id=\"ytick_5\"/>\r\n    <g id=\"ytick_6\"/>\r\n    <g id=\"ytick_7\"/>\r\n   </g>\r\n   <g id=\"PathCollection_1\">\r\n    <defs>\r\n     <path d=\"M -3.535534 3.535534 \r\nL 3.535534 3.535534 \r\nL 3.535534 -3.535534 \r\nL -3.535534 -3.535534 \r\nz\r\n\" id=\"m9a83c62912\" style=\"stroke:#0000ff;\"/>\r\n    </defs>\r\n    <g clip-path=\"url(#p38d62b706a)\">\r\n     <use style=\"fill:#0000ff;stroke:#0000ff;\" x=\"122.742198\" xlink:href=\"#m9a83c62912\" y=\"212.522846\"/>\r\n     <use style=\"fill:#0000ff;stroke:#0000ff;\" x=\"146.538876\" xlink:href=\"#m9a83c62912\" y=\"248.018824\"/>\r\n     <use style=\"fill:#0000ff;stroke:#0000ff;\" x=\"315.551499\" xlink:href=\"#m9a83c62912\" y=\"354.262374\"/>\r\n     <use style=\"fill:#0000ff;stroke:#0000ff;\" x=\"436.508359\" xlink:href=\"#m9a83c62912\" y=\"375.449201\"/>\r\n     <use style=\"fill:#0000ff;stroke:#0000ff;\" x=\"364.20795\" xlink:href=\"#m9a83c62912\" y=\"188.096887\"/>\r\n    </g>\r\n   </g>\r\n   <g id=\"PathCollection_2\">\r\n    <defs>\r\n     <path d=\"M 0 -5 \r\nL -1.12257 -1.545085 \r\nL -4.755283 -1.545085 \r\nL -1.816356 0.59017 \r\nL -2.938926 4.045085 \r\nL -0 1.90983 \r\nL 2.938926 4.045085 \r\nL 1.816356 0.59017 \r\nL 4.755283 -1.545085 \r\nL 1.12257 -1.545085 \r\nz\r\n\" id=\"m57fb440d2f\" style=\"stroke:#ffa500;\"/>\r\n    </defs>\r\n    <g clip-path=\"url(#p38d62b706a)\">\r\n     <use style=\"fill:#ffa500;stroke:#ffa500;\" x=\"181.162437\" xlink:href=\"#m57fb440d2f\" y=\"157.049522\"/>\r\n     <use style=\"fill:#ffa500;stroke:#ffa500;\" x=\"119.852058\" xlink:href=\"#m57fb440d2f\" y=\"70.269345\"/>\r\n     <use style=\"fill:#ffa500;stroke:#ffa500;\" x=\"171.499555\" xlink:href=\"#m57fb440d2f\" y=\"103.843052\"/>\r\n     <use style=\"fill:#ffa500;stroke:#ffa500;\" x=\"392.016025\" xlink:href=\"#m57fb440d2f\" y=\"331.537919\"/>\r\n     <use style=\"fill:#ffa500;stroke:#ffa500;\" x=\"400.962488\" xlink:href=\"#m57fb440d2f\" y=\"296.2404\"/>\r\n     <use style=\"fill:#ffa500;stroke:#ffa500;\" x=\"412.191011\" xlink:href=\"#m57fb440d2f\" y=\"407.147332\"/>\r\n     <use style=\"fill:#ffa500;stroke:#ffa500;\" x=\"453.729133\" xlink:href=\"#m57fb440d2f\" y=\"412.321605\"/>\r\n     <use style=\"fill:#ffa500;stroke:#ffa500;\" x=\"462.942979\" xlink:href=\"#m57fb440d2f\" y=\"377.946159\"/>\r\n     <use style=\"fill:#ffa500;stroke:#ffa500;\" x=\"372.715774\" xlink:href=\"#m57fb440d2f\" y=\"339.325711\"/>\r\n    </g>\r\n   </g>\r\n   <g id=\"PathCollection_3\">\r\n    <defs>\r\n     <path d=\"M 0 2.738613 \r\nC 0.726289 2.738613 1.422928 2.450055 1.936492 1.936492 \r\nC 2.450055 1.422928 2.738613 0.726289 2.738613 0 \r\nC 2.738613 -0.726289 2.450055 -1.422928 1.936492 -1.936492 \r\nC 1.422928 -2.450055 0.726289 -2.738613 0 -2.738613 \r\nC -0.726289 -2.738613 -1.422928 -2.450055 -1.936492 -1.936492 \r\nC -2.450055 -1.422928 -2.738613 -0.726289 -2.738613 0 \r\nC -2.738613 0.726289 -2.450055 1.422928 -1.936492 1.936492 \r\nC -1.422928 2.450055 -0.726289 2.738613 0 2.738613 \r\nz\r\n\" id=\"me4e06b9e12\" style=\"stroke:#ff0000;\"/>\r\n    </defs>\r\n    <g clip-path=\"url(#p38d62b706a)\">\r\n     <use style=\"fill:#ff0000;stroke:#ff0000;\" x=\"49.637592\" xlink:href=\"#me4e06b9e12\" y=\"217.875587\"/>\r\n     <use style=\"fill:#ff0000;stroke:#ff0000;\" x=\"91.026489\" xlink:href=\"#me4e06b9e12\" y=\"151.531204\"/>\r\n     <use style=\"fill:#ff0000;stroke:#ff0000;\" x=\"99.644108\" xlink:href=\"#me4e06b9e12\" y=\"206.744621\"/>\r\n     <use style=\"fill:#ff0000;stroke:#ff0000;\" x=\"101.64163\" xlink:href=\"#me4e06b9e12\" y=\"288.495784\"/>\r\n     <use style=\"fill:#ff0000;stroke:#ff0000;\" x=\"86.119962\" xlink:href=\"#me4e06b9e12\" y=\"184.782104\"/>\r\n     <use style=\"fill:#ff0000;stroke:#ff0000;\" x=\"73.801872\" xlink:href=\"#me4e06b9e12\" y=\"266.525028\"/>\r\n     <use style=\"fill:#ff0000;stroke:#ff0000;\" x=\"32.563636\" xlink:href=\"#me4e06b9e12\" y=\"258.382958\"/>\r\n     <use style=\"fill:#ff0000;stroke:#ff0000;\" x=\"67.5697\" xlink:href=\"#me4e06b9e12\" y=\"210.45622\"/>\r\n     <use style=\"fill:#ff0000;stroke:#ff0000;\" x=\"50.757532\" xlink:href=\"#me4e06b9e12\" y=\"156.338032\"/>\r\n     <use style=\"fill:#ff0000;stroke:#ff0000;\" x=\"36.146571\" xlink:href=\"#me4e06b9e12\" y=\"292.305681\"/>\r\n     <use style=\"fill:#ff0000;stroke:#ff0000;\" x=\"262.086323\" xlink:href=\"#me4e06b9e12\" y=\"252.208343\"/>\r\n     <use style=\"fill:#ff0000;stroke:#ff0000;\" x=\"202.5211\" xlink:href=\"#me4e06b9e12\" y=\"127.135734\"/>\r\n     <use style=\"fill:#ff0000;stroke:#ff0000;\" x=\"218.514324\" xlink:href=\"#me4e06b9e12\" y=\"282.679466\"/>\r\n     <use style=\"fill:#ff0000;stroke:#ff0000;\" x=\"131.145503\" xlink:href=\"#me4e06b9e12\" y=\"160.690307\"/>\r\n     <use style=\"fill:#ff0000;stroke:#ff0000;\" x=\"67.5697\" xlink:href=\"#me4e06b9e12\" y=\"210.45622\"/>\r\n     <use style=\"fill:#ff0000;stroke:#ff0000;\" x=\"79.56975\" xlink:href=\"#me4e06b9e12\" y=\"230.344103\"/>\r\n     <use style=\"fill:#ff0000;stroke:#ff0000;\" x=\"73.801872\" xlink:href=\"#me4e06b9e12\" y=\"266.525028\"/>\r\n     <use style=\"fill:#ff0000;stroke:#ff0000;\" x=\"86.119962\" xlink:href=\"#me4e06b9e12\" y=\"184.782104\"/>\r\n     <use style=\"fill:#ff0000;stroke:#ff0000;\" x=\"226.502449\" xlink:href=\"#me4e06b9e12\" y=\"391.264746\"/>\r\n     <use style=\"fill:#ff0000;stroke:#ff0000;\" x=\"111.792861\" xlink:href=\"#me4e06b9e12\" y=\"104.430343\"/>\r\n     <use style=\"fill:#ff0000;stroke:#ff0000;\" x=\"62.370536\" xlink:href=\"#me4e06b9e12\" y=\"114.506862\"/>\r\n     <use style=\"fill:#ff0000;stroke:#ff0000;\" x=\"84.116244\" xlink:href=\"#me4e06b9e12\" y=\"376.862125\"/>\r\n     <use style=\"fill:#ff0000;stroke:#ff0000;\" x=\"372.715774\" xlink:href=\"#me4e06b9e12\" y=\"339.325711\"/>\r\n     <use style=\"fill:#ff0000;stroke:#ff0000;\" x=\"332.297254\" xlink:href=\"#me4e06b9e12\" y=\"328.328982\"/>\r\n     <use style=\"fill:#ff0000;stroke:#ff0000;\" x=\"338.393821\" xlink:href=\"#me4e06b9e12\" y=\"285.139671\"/>\r\n     <use style=\"fill:#ff0000;stroke:#ff0000;\" x=\"410.536026\" xlink:href=\"#me4e06b9e12\" y=\"356.50653\"/>\r\n     <use style=\"fill:#ff0000;stroke:#ff0000;\" x=\"305.479566\" xlink:href=\"#me4e06b9e12\" y=\"318.219512\"/>\r\n     <use style=\"fill:#ff0000;stroke:#ff0000;\" x=\"209.625357\" xlink:href=\"#me4e06b9e12\" y=\"314.220831\"/>\r\n     <use style=\"fill:#ff0000;stroke:#ff0000;\" x=\"337.281719\" xlink:href=\"#me4e06b9e12\" y=\"526.090909\"/>\r\n     <use style=\"fill:#ff0000;stroke:#ff0000;\" x=\"289.80104\" xlink:href=\"#me4e06b9e12\" y=\"167.36808\"/>\r\n     <use style=\"fill:#ff0000;stroke:#ff0000;\" x=\"413.999225\" xlink:href=\"#me4e06b9e12\" y=\"246.111978\"/>\r\n     <use style=\"fill:#ff0000;stroke:#ff0000;\" x=\"254.251859\" xlink:href=\"#me4e06b9e12\" y=\"466.982654\"/>\r\n     <use style=\"fill:#ff0000;stroke:#ff0000;\" x=\"295.910415\" xlink:href=\"#me4e06b9e12\" y=\"524.934524\"/>\r\n     <use style=\"fill:#ff0000;stroke:#ff0000;\" x=\"320.759303\" xlink:href=\"#me4e06b9e12\" y=\"482.803222\"/>\r\n     <use style=\"fill:#ff0000;stroke:#ff0000;\" x=\"400.962488\" xlink:href=\"#me4e06b9e12\" y=\"296.2404\"/>\r\n     <use style=\"fill:#ff0000;stroke:#ff0000;\" x=\"338.664027\" xlink:href=\"#me4e06b9e12\" y=\"399.799408\"/>\r\n     <use style=\"fill:#ff0000;stroke:#ff0000;\" x=\"367.777325\" xlink:href=\"#me4e06b9e12\" y=\"298.449719\"/>\r\n     <use style=\"fill:#ff0000;stroke:#ff0000;\" x=\"469.777825\" xlink:href=\"#me4e06b9e12\" y=\"508.344488\"/>\r\n     <use style=\"fill:#ff0000;stroke:#ff0000;\" x=\"418.806809\" xlink:href=\"#me4e06b9e12\" y=\"459.095188\"/>\r\n     <use style=\"fill:#ff0000;stroke:#ff0000;\" x=\"531.022042\" xlink:href=\"#me4e06b9e12\" y=\"441.054264\"/>\r\n     <use style=\"fill:#ff0000;stroke:#ff0000;\" x=\"514.272709\" xlink:href=\"#me4e06b9e12\" y=\"488.086266\"/>\r\n     <use style=\"fill:#ff0000;stroke:#ff0000;\" x=\"539.836364\" xlink:href=\"#me4e06b9e12\" y=\"387.511793\"/>\r\n     <use style=\"fill:#ff0000;stroke:#ff0000;\" x=\"471.860099\" xlink:href=\"#me4e06b9e12\" y=\"274.212507\"/>\r\n     <use style=\"fill:#ff0000;stroke:#ff0000;\" x=\"306.79585\" xlink:href=\"#me4e06b9e12\" y=\"234.576973\"/>\r\n     <use style=\"fill:#ff0000;stroke:#ff0000;\" x=\"338.393821\" xlink:href=\"#me4e06b9e12\" y=\"285.139671\"/>\r\n     <use style=\"fill:#ff0000;stroke:#ff0000;\" x=\"332.297254\" xlink:href=\"#me4e06b9e12\" y=\"328.328982\"/>\r\n     <use style=\"fill:#ff0000;stroke:#ff0000;\" x=\"348.732024\" xlink:href=\"#me4e06b9e12\" y=\"321.267388\"/>\r\n     <use style=\"fill:#ff0000;stroke:#ff0000;\" x=\"400.962488\" xlink:href=\"#me4e06b9e12\" y=\"296.2404\"/>\r\n     <use style=\"fill:#ff0000;stroke:#ff0000;\" x=\"383.513546\" xlink:href=\"#me4e06b9e12\" y=\"245.64346\"/>\r\n     <use style=\"fill:#ff0000;stroke:#ff0000;\" x=\"268.442253\" xlink:href=\"#me4e06b9e12\" y=\"198.08455\"/>\r\n     <use style=\"fill:#ff0000;stroke:#ff0000;\" x=\"393.272633\" xlink:href=\"#me4e06b9e12\" y=\"31.909091\"/>\r\n     <use style=\"fill:#ff0000;stroke:#ff0000;\" x=\"341.005132\" xlink:href=\"#me4e06b9e12\" y=\"77.099251\"/>\r\n     <use style=\"fill:#ff0000;stroke:#ff0000;\" x=\"443.88814\" xlink:href=\"#me4e06b9e12\" y=\"76.98055\"/>\r\n     <use style=\"fill:#ff0000;stroke:#ff0000;\" x=\"238.658418\" xlink:href=\"#me4e06b9e12\" y=\"132.721468\"/>\r\n     <use style=\"fill:#ff0000;stroke:#ff0000;\" x=\"445.283903\" xlink:href=\"#me4e06b9e12\" y=\"147.350958\"/>\r\n     <use style=\"fill:#ff0000;stroke:#ff0000;\" x=\"419.697214\" xlink:href=\"#me4e06b9e12\" y=\"48.564718\"/>\r\n     <use style=\"fill:#ff0000;stroke:#ff0000;\" x=\"275.374968\" xlink:href=\"#me4e06b9e12\" y=\"94.780528\"/>\r\n     <use style=\"fill:#ff0000;stroke:#ff0000;\" x=\"437.698492\" xlink:href=\"#me4e06b9e12\" y=\"210.127192\"/>\r\n    </g>\r\n   </g>\r\n   <g id=\"patch_3\">\r\n    <path d=\"M 7.2 550.8 \r\nL 7.2 7.2 \r\n\" style=\"fill:none;stroke:#000000;stroke-linecap:square;stroke-linejoin:miter;stroke-width:0.8;\"/>\r\n   </g>\r\n   <g id=\"patch_4\">\r\n    <path d=\"M 565.2 550.8 \r\nL 565.2 7.2 \r\n\" style=\"fill:none;stroke:#000000;stroke-linecap:square;stroke-linejoin:miter;stroke-width:0.8;\"/>\r\n   </g>\r\n   <g id=\"patch_5\">\r\n    <path d=\"M 7.2 550.8 \r\nL 565.2 550.8 \r\n\" style=\"fill:none;stroke:#000000;stroke-linecap:square;stroke-linejoin:miter;stroke-width:0.8;\"/>\r\n   </g>\r\n   <g id=\"patch_6\">\r\n    <path d=\"M 7.2 7.2 \r\nL 565.2 7.2 \r\n\" style=\"fill:none;stroke:#000000;stroke-linecap:square;stroke-linejoin:miter;stroke-width:0.8;\"/>\r\n   </g>\r\n   <g id=\"legend_1\">\r\n    <g id=\"patch_7\">\r\n     <path d=\"M 422.729688 59.234375 \r\nL 558.2 59.234375 \r\nQ 560.2 59.234375 560.2 57.234375 \r\nL 560.2 14.2 \r\nQ 560.2 12.2 558.2 12.2 \r\nL 422.729688 12.2 \r\nQ 420.729688 12.2 420.729688 14.2 \r\nL 420.729688 57.234375 \r\nQ 420.729688 59.234375 422.729688 59.234375 \r\nz\r\n\" style=\"fill:#ffffff;opacity:0.8;stroke:#cccccc;stroke-linejoin:miter;\"/>\r\n    </g>\r\n    <g id=\"PathCollection_4\">\r\n     <g>\r\n      <use style=\"fill:#0000ff;stroke:#0000ff;\" x=\"434.729688\" xlink:href=\"#m9a83c62912\" y=\"21.173437\"/>\r\n     </g>\r\n    </g>\r\n    <g id=\"text_1\">\r\n     <!-- subject -->\r\n     <defs>\r\n      <path d=\"M 44.28125 53.078125 \r\nL 44.28125 44.578125 \r\nQ 40.484375 46.53125 36.375 47.5 \r\nQ 32.28125 48.484375 27.875 48.484375 \r\nQ 21.1875 48.484375 17.84375 46.4375 \r\nQ 14.5 44.390625 14.5 40.28125 \r\nQ 14.5 37.15625 16.890625 35.375 \r\nQ 19.28125 33.59375 26.515625 31.984375 \r\nL 29.59375 31.296875 \r\nQ 39.15625 29.25 43.1875 25.515625 \r\nQ 47.21875 21.78125 47.21875 15.09375 \r\nQ 47.21875 7.46875 41.1875 3.015625 \r\nQ 35.15625 -1.421875 24.609375 -1.421875 \r\nQ 20.21875 -1.421875 15.453125 -0.5625 \r\nQ 10.6875 0.296875 5.421875 2 \r\nL 5.421875 11.28125 \r\nQ 10.40625 8.6875 15.234375 7.390625 \r\nQ 20.0625 6.109375 24.8125 6.109375 \r\nQ 31.15625 6.109375 34.5625 8.28125 \r\nQ 37.984375 10.453125 37.984375 14.40625 \r\nQ 37.984375 18.0625 35.515625 20.015625 \r\nQ 33.0625 21.96875 24.703125 23.78125 \r\nL 21.578125 24.515625 \r\nQ 13.234375 26.265625 9.515625 29.90625 \r\nQ 5.8125 33.546875 5.8125 39.890625 \r\nQ 5.8125 47.609375 11.28125 51.796875 \r\nQ 16.75 56 26.8125 56 \r\nQ 31.78125 56 36.171875 55.265625 \r\nQ 40.578125 54.546875 44.28125 53.078125 \r\nz\r\n\" id=\"DejaVuSans-115\"/>\r\n      <path d=\"M 8.5 21.578125 \r\nL 8.5 54.6875 \r\nL 17.484375 54.6875 \r\nL 17.484375 21.921875 \r\nQ 17.484375 14.15625 20.5 10.265625 \r\nQ 23.53125 6.390625 29.59375 6.390625 \r\nQ 36.859375 6.390625 41.078125 11.03125 \r\nQ 45.3125 15.671875 45.3125 23.6875 \r\nL 45.3125 54.6875 \r\nL 54.296875 54.6875 \r\nL 54.296875 0 \r\nL 45.3125 0 \r\nL 45.3125 8.40625 \r\nQ 42.046875 3.421875 37.71875 1 \r\nQ 33.40625 -1.421875 27.6875 -1.421875 \r\nQ 18.265625 -1.421875 13.375 4.4375 \r\nQ 8.5 10.296875 8.5 21.578125 \r\nz\r\nM 31.109375 56 \r\nz\r\n\" id=\"DejaVuSans-117\"/>\r\n      <path d=\"M 48.6875 27.296875 \r\nQ 48.6875 37.203125 44.609375 42.84375 \r\nQ 40.53125 48.484375 33.40625 48.484375 \r\nQ 26.265625 48.484375 22.1875 42.84375 \r\nQ 18.109375 37.203125 18.109375 27.296875 \r\nQ 18.109375 17.390625 22.1875 11.75 \r\nQ 26.265625 6.109375 33.40625 6.109375 \r\nQ 40.53125 6.109375 44.609375 11.75 \r\nQ 48.6875 17.390625 48.6875 27.296875 \r\nz\r\nM 18.109375 46.390625 \r\nQ 20.953125 51.265625 25.265625 53.625 \r\nQ 29.59375 56 35.59375 56 \r\nQ 45.5625 56 51.78125 48.09375 \r\nQ 58.015625 40.1875 58.015625 27.296875 \r\nQ 58.015625 14.40625 51.78125 6.484375 \r\nQ 45.5625 -1.421875 35.59375 -1.421875 \r\nQ 29.59375 -1.421875 25.265625 0.953125 \r\nQ 20.953125 3.328125 18.109375 8.203125 \r\nL 18.109375 0 \r\nL 9.078125 0 \r\nL 9.078125 75.984375 \r\nL 18.109375 75.984375 \r\nz\r\n\" id=\"DejaVuSans-98\"/>\r\n      <path d=\"M 9.421875 54.6875 \r\nL 18.40625 54.6875 \r\nL 18.40625 -0.984375 \r\nQ 18.40625 -11.421875 14.421875 -16.109375 \r\nQ 10.453125 -20.796875 1.609375 -20.796875 \r\nL -1.8125 -20.796875 \r\nL -1.8125 -13.1875 \r\nL 0.59375 -13.1875 \r\nQ 5.71875 -13.1875 7.5625 -10.8125 \r\nQ 9.421875 -8.453125 9.421875 -0.984375 \r\nz\r\nM 9.421875 75.984375 \r\nL 18.40625 75.984375 \r\nL 18.40625 64.59375 \r\nL 9.421875 64.59375 \r\nz\r\n\" id=\"DejaVuSans-106\"/>\r\n      <path d=\"M 56.203125 29.59375 \r\nL 56.203125 25.203125 \r\nL 14.890625 25.203125 \r\nQ 15.484375 15.921875 20.484375 11.0625 \r\nQ 25.484375 6.203125 34.421875 6.203125 \r\nQ 39.59375 6.203125 44.453125 7.46875 \r\nQ 49.3125 8.734375 54.109375 11.28125 \r\nL 54.109375 2.78125 \r\nQ 49.265625 0.734375 44.1875 -0.34375 \r\nQ 39.109375 -1.421875 33.890625 -1.421875 \r\nQ 20.796875 -1.421875 13.15625 6.1875 \r\nQ 5.515625 13.8125 5.515625 26.8125 \r\nQ 5.515625 40.234375 12.765625 48.109375 \r\nQ 20.015625 56 32.328125 56 \r\nQ 43.359375 56 49.78125 48.890625 \r\nQ 56.203125 41.796875 56.203125 29.59375 \r\nz\r\nM 47.21875 32.234375 \r\nQ 47.125 39.59375 43.09375 43.984375 \r\nQ 39.0625 48.390625 32.421875 48.390625 \r\nQ 24.90625 48.390625 20.390625 44.140625 \r\nQ 15.875 39.890625 15.1875 32.171875 \r\nz\r\n\" id=\"DejaVuSans-101\"/>\r\n      <path d=\"M 48.78125 52.59375 \r\nL 48.78125 44.1875 \r\nQ 44.96875 46.296875 41.140625 47.34375 \r\nQ 37.3125 48.390625 33.40625 48.390625 \r\nQ 24.65625 48.390625 19.8125 42.84375 \r\nQ 14.984375 37.3125 14.984375 27.296875 \r\nQ 14.984375 17.28125 19.8125 11.734375 \r\nQ 24.65625 6.203125 33.40625 6.203125 \r\nQ 37.3125 6.203125 41.140625 7.25 \r\nQ 44.96875 8.296875 48.78125 10.40625 \r\nL 48.78125 2.09375 \r\nQ 45.015625 0.34375 40.984375 -0.53125 \r\nQ 36.96875 -1.421875 32.421875 -1.421875 \r\nQ 20.0625 -1.421875 12.78125 6.34375 \r\nQ 5.515625 14.109375 5.515625 27.296875 \r\nQ 5.515625 40.671875 12.859375 48.328125 \r\nQ 20.21875 56 33.015625 56 \r\nQ 37.15625 56 41.109375 55.140625 \r\nQ 45.0625 54.296875 48.78125 52.59375 \r\nz\r\n\" id=\"DejaVuSans-99\"/>\r\n      <path d=\"M 18.3125 70.21875 \r\nL 18.3125 54.6875 \r\nL 36.8125 54.6875 \r\nL 36.8125 47.703125 \r\nL 18.3125 47.703125 \r\nL 18.3125 18.015625 \r\nQ 18.3125 11.328125 20.140625 9.421875 \r\nQ 21.96875 7.515625 27.59375 7.515625 \r\nL 36.8125 7.515625 \r\nL 36.8125 0 \r\nL 27.59375 0 \r\nQ 17.1875 0 13.234375 3.875 \r\nQ 9.28125 7.765625 9.28125 18.015625 \r\nL 9.28125 47.703125 \r\nL 2.6875 47.703125 \r\nL 2.6875 54.6875 \r\nL 9.28125 54.6875 \r\nL 9.28125 70.21875 \r\nz\r\n\" id=\"DejaVuSans-116\"/>\r\n     </defs>\r\n     <g transform=\"translate(452.729688 23.798437)scale(0.1 -0.1)\">\r\n      <use xlink:href=\"#DejaVuSans-115\"/>\r\n      <use x=\"52.099609\" xlink:href=\"#DejaVuSans-117\"/>\r\n      <use x=\"115.478516\" xlink:href=\"#DejaVuSans-98\"/>\r\n      <use x=\"178.955078\" xlink:href=\"#DejaVuSans-106\"/>\r\n      <use x=\"206.738281\" xlink:href=\"#DejaVuSans-101\"/>\r\n      <use x=\"268.261719\" xlink:href=\"#DejaVuSans-99\"/>\r\n      <use x=\"323.242188\" xlink:href=\"#DejaVuSans-116\"/>\r\n     </g>\r\n    </g>\r\n    <g id=\"PathCollection_5\">\r\n     <g>\r\n      <use style=\"fill:#ffa500;stroke:#ffa500;\" x=\"434.729688\" xlink:href=\"#m57fb440d2f\" y=\"35.851562\"/>\r\n     </g>\r\n    </g>\r\n    <g id=\"text_2\">\r\n     <!-- family members -->\r\n     <defs>\r\n      <path d=\"M 37.109375 75.984375 \r\nL 37.109375 68.5 \r\nL 28.515625 68.5 \r\nQ 23.6875 68.5 21.796875 66.546875 \r\nQ 19.921875 64.59375 19.921875 59.515625 \r\nL 19.921875 54.6875 \r\nL 34.71875 54.6875 \r\nL 34.71875 47.703125 \r\nL 19.921875 47.703125 \r\nL 19.921875 0 \r\nL 10.890625 0 \r\nL 10.890625 47.703125 \r\nL 2.296875 47.703125 \r\nL 2.296875 54.6875 \r\nL 10.890625 54.6875 \r\nL 10.890625 58.5 \r\nQ 10.890625 67.625 15.140625 71.796875 \r\nQ 19.390625 75.984375 28.609375 75.984375 \r\nz\r\n\" id=\"DejaVuSans-102\"/>\r\n      <path d=\"M 34.28125 27.484375 \r\nQ 23.390625 27.484375 19.1875 25 \r\nQ 14.984375 22.515625 14.984375 16.5 \r\nQ 14.984375 11.71875 18.140625 8.90625 \r\nQ 21.296875 6.109375 26.703125 6.109375 \r\nQ 34.1875 6.109375 38.703125 11.40625 \r\nQ 43.21875 16.703125 43.21875 25.484375 \r\nL 43.21875 27.484375 \r\nz\r\nM 52.203125 31.203125 \r\nL 52.203125 0 \r\nL 43.21875 0 \r\nL 43.21875 8.296875 \r\nQ 40.140625 3.328125 35.546875 0.953125 \r\nQ 30.953125 -1.421875 24.3125 -1.421875 \r\nQ 15.921875 -1.421875 10.953125 3.296875 \r\nQ 6 8.015625 6 15.921875 \r\nQ 6 25.140625 12.171875 29.828125 \r\nQ 18.359375 34.515625 30.609375 34.515625 \r\nL 43.21875 34.515625 \r\nL 43.21875 35.40625 \r\nQ 43.21875 41.609375 39.140625 45 \r\nQ 35.0625 48.390625 27.6875 48.390625 \r\nQ 23 48.390625 18.546875 47.265625 \r\nQ 14.109375 46.140625 10.015625 43.890625 \r\nL 10.015625 52.203125 \r\nQ 14.9375 54.109375 19.578125 55.046875 \r\nQ 24.21875 56 28.609375 56 \r\nQ 40.484375 56 46.34375 49.84375 \r\nQ 52.203125 43.703125 52.203125 31.203125 \r\nz\r\n\" id=\"DejaVuSans-97\"/>\r\n      <path d=\"M 52 44.1875 \r\nQ 55.375 50.25 60.0625 53.125 \r\nQ 64.75 56 71.09375 56 \r\nQ 79.640625 56 84.28125 50.015625 \r\nQ 88.921875 44.046875 88.921875 33.015625 \r\nL 88.921875 0 \r\nL 79.890625 0 \r\nL 79.890625 32.71875 \r\nQ 79.890625 40.578125 77.09375 44.375 \r\nQ 74.3125 48.1875 68.609375 48.1875 \r\nQ 61.625 48.1875 57.5625 43.546875 \r\nQ 53.515625 38.921875 53.515625 30.90625 \r\nL 53.515625 0 \r\nL 44.484375 0 \r\nL 44.484375 32.71875 \r\nQ 44.484375 40.625 41.703125 44.40625 \r\nQ 38.921875 48.1875 33.109375 48.1875 \r\nQ 26.21875 48.1875 22.15625 43.53125 \r\nQ 18.109375 38.875 18.109375 30.90625 \r\nL 18.109375 0 \r\nL 9.078125 0 \r\nL 9.078125 54.6875 \r\nL 18.109375 54.6875 \r\nL 18.109375 46.1875 \r\nQ 21.1875 51.21875 25.484375 53.609375 \r\nQ 29.78125 56 35.6875 56 \r\nQ 41.65625 56 45.828125 52.96875 \r\nQ 50 49.953125 52 44.1875 \r\nz\r\n\" id=\"DejaVuSans-109\"/>\r\n      <path d=\"M 9.421875 54.6875 \r\nL 18.40625 54.6875 \r\nL 18.40625 0 \r\nL 9.421875 0 \r\nz\r\nM 9.421875 75.984375 \r\nL 18.40625 75.984375 \r\nL 18.40625 64.59375 \r\nL 9.421875 64.59375 \r\nz\r\n\" id=\"DejaVuSans-105\"/>\r\n      <path d=\"M 9.421875 75.984375 \r\nL 18.40625 75.984375 \r\nL 18.40625 0 \r\nL 9.421875 0 \r\nz\r\n\" id=\"DejaVuSans-108\"/>\r\n      <path d=\"M 32.171875 -5.078125 \r\nQ 28.375 -14.84375 24.75 -17.8125 \r\nQ 21.140625 -20.796875 15.09375 -20.796875 \r\nL 7.90625 -20.796875 \r\nL 7.90625 -13.28125 \r\nL 13.1875 -13.28125 \r\nQ 16.890625 -13.28125 18.9375 -11.515625 \r\nQ 21 -9.765625 23.484375 -3.21875 \r\nL 25.09375 0.875 \r\nL 2.984375 54.6875 \r\nL 12.5 54.6875 \r\nL 29.59375 11.921875 \r\nL 46.6875 54.6875 \r\nL 56.203125 54.6875 \r\nz\r\n\" id=\"DejaVuSans-121\"/>\r\n      <path id=\"DejaVuSans-32\"/>\r\n      <path d=\"M 41.109375 46.296875 \r\nQ 39.59375 47.171875 37.8125 47.578125 \r\nQ 36.03125 48 33.890625 48 \r\nQ 26.265625 48 22.1875 43.046875 \r\nQ 18.109375 38.09375 18.109375 28.8125 \r\nL 18.109375 0 \r\nL 9.078125 0 \r\nL 9.078125 54.6875 \r\nL 18.109375 54.6875 \r\nL 18.109375 46.1875 \r\nQ 20.953125 51.171875 25.484375 53.578125 \r\nQ 30.03125 56 36.53125 56 \r\nQ 37.453125 56 38.578125 55.875 \r\nQ 39.703125 55.765625 41.0625 55.515625 \r\nz\r\n\" id=\"DejaVuSans-114\"/>\r\n     </defs>\r\n     <g transform=\"translate(452.729688 38.476562)scale(0.1 -0.1)\">\r\n      <use xlink:href=\"#DejaVuSans-102\"/>\r\n      <use x=\"35.205078\" xlink:href=\"#DejaVuSans-97\"/>\r\n      <use x=\"96.484375\" xlink:href=\"#DejaVuSans-109\"/>\r\n      <use x=\"193.896484\" xlink:href=\"#DejaVuSans-105\"/>\r\n      <use x=\"221.679688\" xlink:href=\"#DejaVuSans-108\"/>\r\n      <use x=\"249.462891\" xlink:href=\"#DejaVuSans-121\"/>\r\n      <use x=\"308.642578\" xlink:href=\"#DejaVuSans-32\"/>\r\n      <use x=\"340.429688\" xlink:href=\"#DejaVuSans-109\"/>\r\n      <use x=\"437.841797\" xlink:href=\"#DejaVuSans-101\"/>\r\n      <use x=\"499.365234\" xlink:href=\"#DejaVuSans-109\"/>\r\n      <use x=\"596.777344\" xlink:href=\"#DejaVuSans-98\"/>\r\n      <use x=\"660.253906\" xlink:href=\"#DejaVuSans-101\"/>\r\n      <use x=\"721.777344\" xlink:href=\"#DejaVuSans-114\"/>\r\n      <use x=\"762.890625\" xlink:href=\"#DejaVuSans-115\"/>\r\n     </g>\r\n    </g>\r\n    <g id=\"PathCollection_6\">\r\n     <g>\r\n      <use style=\"fill:#ff0000;stroke:#ff0000;\" x=\"434.729688\" xlink:href=\"#me4e06b9e12\" y=\"50.529687\"/>\r\n     </g>\r\n    </g>\r\n    <g id=\"text_3\">\r\n     <!-- non family members -->\r\n     <defs>\r\n      <path d=\"M 54.890625 33.015625 \r\nL 54.890625 0 \r\nL 45.90625 0 \r\nL 45.90625 32.71875 \r\nQ 45.90625 40.484375 42.875 44.328125 \r\nQ 39.84375 48.1875 33.796875 48.1875 \r\nQ 26.515625 48.1875 22.3125 43.546875 \r\nQ 18.109375 38.921875 18.109375 30.90625 \r\nL 18.109375 0 \r\nL 9.078125 0 \r\nL 9.078125 54.6875 \r\nL 18.109375 54.6875 \r\nL 18.109375 46.1875 \r\nQ 21.34375 51.125 25.703125 53.5625 \r\nQ 30.078125 56 35.796875 56 \r\nQ 45.21875 56 50.046875 50.171875 \r\nQ 54.890625 44.34375 54.890625 33.015625 \r\nz\r\n\" id=\"DejaVuSans-110\"/>\r\n      <path d=\"M 30.609375 48.390625 \r\nQ 23.390625 48.390625 19.1875 42.75 \r\nQ 14.984375 37.109375 14.984375 27.296875 \r\nQ 14.984375 17.484375 19.15625 11.84375 \r\nQ 23.34375 6.203125 30.609375 6.203125 \r\nQ 37.796875 6.203125 41.984375 11.859375 \r\nQ 46.1875 17.53125 46.1875 27.296875 \r\nQ 46.1875 37.015625 41.984375 42.703125 \r\nQ 37.796875 48.390625 30.609375 48.390625 \r\nz\r\nM 30.609375 56 \r\nQ 42.328125 56 49.015625 48.375 \r\nQ 55.71875 40.765625 55.71875 27.296875 \r\nQ 55.71875 13.875 49.015625 6.21875 \r\nQ 42.328125 -1.421875 30.609375 -1.421875 \r\nQ 18.84375 -1.421875 12.171875 6.21875 \r\nQ 5.515625 13.875 5.515625 27.296875 \r\nQ 5.515625 40.765625 12.171875 48.375 \r\nQ 18.84375 56 30.609375 56 \r\nz\r\n\" id=\"DejaVuSans-111\"/>\r\n     </defs>\r\n     <g transform=\"translate(452.729688 53.154687)scale(0.1 -0.1)\">\r\n      <use xlink:href=\"#DejaVuSans-110\"/>\r\n      <use x=\"63.378906\" xlink:href=\"#DejaVuSans-111\"/>\r\n      <use x=\"124.560547\" xlink:href=\"#DejaVuSans-110\"/>\r\n      <use x=\"187.939453\" xlink:href=\"#DejaVuSans-32\"/>\r\n      <use x=\"219.726562\" xlink:href=\"#DejaVuSans-102\"/>\r\n      <use x=\"254.931641\" xlink:href=\"#DejaVuSans-97\"/>\r\n      <use x=\"316.210938\" xlink:href=\"#DejaVuSans-109\"/>\r\n      <use x=\"413.623047\" xlink:href=\"#DejaVuSans-105\"/>\r\n      <use x=\"441.40625\" xlink:href=\"#DejaVuSans-108\"/>\r\n      <use x=\"469.189453\" xlink:href=\"#DejaVuSans-121\"/>\r\n      <use x=\"528.369141\" xlink:href=\"#DejaVuSans-32\"/>\r\n      <use x=\"560.15625\" xlink:href=\"#DejaVuSans-109\"/>\r\n      <use x=\"657.568359\" xlink:href=\"#DejaVuSans-101\"/>\r\n      <use x=\"719.091797\" xlink:href=\"#DejaVuSans-109\"/>\r\n      <use x=\"816.503906\" xlink:href=\"#DejaVuSans-98\"/>\r\n      <use x=\"879.980469\" xlink:href=\"#DejaVuSans-101\"/>\r\n      <use x=\"941.503906\" xlink:href=\"#DejaVuSans-114\"/>\r\n      <use x=\"982.617188\" xlink:href=\"#DejaVuSans-115\"/>\r\n     </g>\r\n    </g>\r\n   </g>\r\n  </g>\r\n </g>\r\n <defs>\r\n  <clipPath id=\"p38d62b706a\">\r\n   <rect height=\"543.6\" width=\"558\" x=\"7.2\" y=\"7.2\"/>\r\n  </clipPath>\r\n </defs>\r\n</svg>\r\n",
      "image/png": "[encoded data removed]"
     },
     "metadata": {}
    }
   ],
   "source": [
    "g = G.subgraph(node_list)\n",
    "pos=nx.spring_layout(g)\n",
    "\n",
    "plt.figure(figsize=(10,10))\n",
    "nx.draw_networkx_nodes(g,pos, nodelist=seeds[:-1], node_color='blue', node_size=50, node_shape = 's') \n",
    "nx.draw_networkx_nodes(g,pos, nodelist=family_members_list, node_color='orange', node_size=100, node_shape = '*')   \n",
    "nx.draw_networkx_nodes(g,pos, nodelist=non_family_members_list, node_color='r', node_size=30)   \n",
    "  \n",
    "nx.draw_networkx_edges(G, pos, edgelist=g.edges(), edge_color='gray')\n",
    "plt.legend(['subject', 'family members', 'non family members'])\n",
    "plt.savefig(os.path.join(data_dir,'Connections between 30 subjects.eps'), format='eps')\n",
    ""
   ]
  },
  {
   "cell_type": "code",
   "execution_count": null,
   "metadata": {},
   "outputs": [],
   "source": []
  },
  {
   "cell_type": "code",
   "execution_count": null,
   "metadata": {},
   "outputs": [],
   "source": []
  },
  {
   "cell_type": "code",
   "execution_count": 12,
   "metadata": {},
   "outputs": [],
   "source": [
    "pos=nx.random_layout(G)\n",
    "# #pos=nx.spring_layout(G)\n",
    "node_list=[x for x in range(N)]"
   ]
  },
  {
   "cell_type": "code",
   "execution_count": 13,
   "metadata": {},
   "outputs": [],
   "source": [
    "status_list=   {'S':{'node_color': 'blue','node_size' : 5, 'alpha': 1.0 }, \n",
    "                'E':{'node_color': 'orange','node_size' : 20, 'alpha': 1.0 },\n",
    "                'I':{'node_color': 'red','node_size' : 20, 'alpha': 1.0 },\n",
    "                'R':{'node_color': 'gray','node_size' : 5, 'alpha': 1.0 },\n",
    "                'D':{'node_color': 'black','node_size' : 5, 'alpha': 1.0 }}"
   ]
  },
  {
   "cell_type": "code",
   "execution_count": 14,
   "metadata": {},
   "outputs": [],
   "source": [
    "# def disp_graph(t): \n",
    "    \n",
    "#     for k, status in enumerate(['S','E','I','R']): \n",
    "#         nx.draw_networkx_nodes(G,pos,\n",
    "#                                 nodelist=logStatus[t][status],\n",
    "#                                 node_color=status_list[status]['node_color'],\n",
    "#                                 node_size=status_list[status]['node_size'],\n",
    "#                                 alpha=status_list[status]['alpha'])    "
   ]
  },
  {
   "cell_type": "code",
   "execution_count": 15,
   "metadata": {},
   "outputs": [],
   "source": [
    "def new_exposed_nodes(t): \n",
    "    edges_list = []\n",
    "    if t > 0 :  \n",
    "        status = 'E'\n",
    "        exposed_node_list=logStatus[t][status]\n",
    "        addition_exposed_list=[x for x in logStatus[t][status] if x not in logStatus[t-1][status]]\n",
    "        addition_exposed_list = [x for x in addition_exposed_list if 'origin' in G.nodes[x]]\n",
    "        edges_list=set([(G.nodes[x]['origin'][-1], x) for x in addition_exposed_list if G.nodes[x]['origin'][-1] > -1]) \n",
    "    return edges_list"
   ]
  },
  {
   "cell_type": "code",
   "execution_count": 17,
   "metadata": {},
   "outputs": [
    {
     "output_type": "display_data",
     "data": {
      "text/plain": "<Figure size 432x288 with 1 Axes>",
      "image/svg+xml": "<?xml version=\"1.0\" encoding=\"utf-8\" standalone=\"no\"?>\r\n<!DOCTYPE svg PUBLIC \"-//W3C//DTD SVG 1.1//EN\"\r\n  \"http://www.w3.org/Graphics/SVG/1.1/DTD/svg11.dtd\">\r\n<!-- Created with matplotlib (https://matplotlib.org/) -->\r\n<svg height=\"274.574125pt\" version=\"1.1\" viewBox=\"0 0 349.2 274.574125\" width=\"349.2pt\" xmlns=\"http://www.w3.org/2000/svg\" xmlns:xlink=\"http://www.w3.org/1999/xlink\">\r\n <defs>\r\n  <style type=\"text/css\">\r\n*{stroke-linecap:butt;stroke-linejoin:round;}\r\n  </style>\r\n </defs>\r\n <g id=\"figure_1\">\r\n  <g id=\"patch_1\">\r\n   <path d=\"M 0 274.574125 \r\nL 349.2 274.574125 \r\nL 349.2 0 \r\nL 0 0 \r\nz\r\n\" style=\"fill:none;\"/>\r\n  </g>\r\n  <g id=\"axes_1\">\r\n   <g id=\"patch_2\">\r\n    <path d=\"M 7.2 239.758125 \r\nL 342 239.758125 \r\nL 342 22.318125 \r\nL 7.2 22.318125 \r\nz\r\n\" style=\"fill:#ffffff;\"/>\r\n   </g>\r\n   <g id=\"LineCollection_1\">\r\n    <path clip-path=\"url(#pf3d6e79d06)\" d=\"M 166.757021 156.363264 \r\nL 244.398823 153.787704 \r\n\" style=\"fill:none;stroke:#ff0000;\"/>\r\n    <path clip-path=\"url(#pf3d6e79d06)\" d=\"M 264.031618 188.606146 \r\nL 52.377167 141.419107 \r\n\" style=\"fill:none;stroke:#ff0000;\"/>\r\n    <path clip-path=\"url(#pf3d6e79d06)\" d=\"M 234.234202 112.198478 \r\nL 217.227759 37.941644 \r\n\" style=\"fill:none;stroke:#ff0000;\"/>\r\n    <path clip-path=\"url(#pf3d6e79d06)\" d=\"M 25.907082 106.552521 \r\nL 69.037075 138.901228 \r\n\" style=\"fill:none;stroke:#ff0000;\"/>\r\n    <path clip-path=\"url(#pf3d6e79d06)\" d=\"M 310.188348 97.663495 \r\nL 204.647259 210.551114 \r\n\" style=\"fill:none;stroke:#ff0000;\"/>\r\n    <path clip-path=\"url(#pf3d6e79d06)\" d=\"M 297.133319 138.728279 \r\nL 90.772908 88.921295 \r\n\" style=\"fill:none;stroke:#ff0000;\"/>\r\n    <path clip-path=\"url(#pf3d6e79d06)\" d=\"M 27.378459 162.400847 \r\nL 260.96228 111.419836 \r\n\" style=\"fill:none;stroke:#ff0000;\"/>\r\n    <path clip-path=\"url(#pf3d6e79d06)\" d=\"M 133.480164 177.307853 \r\nL 51.745721 131.905889 \r\n\" style=\"fill:none;stroke:#ff0000;\"/>\r\n    <path clip-path=\"url(#pf3d6e79d06)\" d=\"M 185.198082 210.276448 \r\nL 227.756532 41.685393 \r\n\" style=\"fill:none;stroke:#ff0000;\"/>\r\n    <path clip-path=\"url(#pf3d6e79d06)\" d=\"M 326.781818 148.083578 \r\nL 143.679043 77.385458 \r\n\" style=\"fill:none;stroke:#ff0000;\"/>\r\n   </g>\r\n   <g id=\"matplotlib.axis_1\">\r\n    <g id=\"xtick_1\"/>\r\n    <g id=\"xtick_2\"/>\r\n    <g id=\"xtick_3\"/>\r\n    <g id=\"xtick_4\"/>\r\n    <g id=\"xtick_5\"/>\r\n    <g id=\"xtick_6\"/>\r\n   </g>\r\n   <g id=\"matplotlib.axis_2\">\r\n    <g id=\"ytick_1\"/>\r\n    <g id=\"ytick_2\"/>\r\n    <g id=\"ytick_3\"/>\r\n    <g id=\"ytick_4\"/>\r\n    <g id=\"ytick_5\"/>\r\n    <g id=\"ytick_6\"/>\r\n   </g>\r\n   <g id=\"PathCollection_1\">\r\n    <defs>\r\n     <path d=\"M 0 2.236068 \r\nC 0.593012 2.236068 1.161816 2.000462 1.581139 1.581139 \r\nC 2.000462 1.161816 2.236068 0.593012 2.236068 0 \r\nC 2.236068 -0.593012 2.000462 -1.161816 1.581139 -1.581139 \r\nC 1.161816 -2.000462 0.593012 -2.236068 0 -2.236068 \r\nC -0.593012 -2.236068 -1.161816 -2.000462 -1.581139 -1.581139 \r\nC -2.000462 -1.161816 -2.236068 -0.593012 -2.236068 0 \r\nC -2.236068 0.593012 -2.000462 1.161816 -1.581139 1.581139 \r\nC -1.161816 2.000462 -0.593012 2.236068 0 2.236068 \r\nz\r\n\" id=\"mc36a20ffae\" style=\"stroke:#ffa500;\"/>\r\n    </defs>\r\n    <g clip-path=\"url(#pf3d6e79d06)\">\r\n     <use style=\"fill:#ffa500;stroke:#ffa500;\" x=\"133.480164\" xlink:href=\"#mc36a20ffae\" y=\"177.307853\"/>\r\n     <use style=\"fill:#ffa500;stroke:#ffa500;\" x=\"22.418182\" xlink:href=\"#mc36a20ffae\" y=\"197.586362\"/>\r\n     <use style=\"fill:#ffa500;stroke:#ffa500;\" x=\"224.718186\" xlink:href=\"#mc36a20ffae\" y=\"121.57132\"/>\r\n     <use style=\"fill:#ffa500;stroke:#ffa500;\" x=\"217.227759\" xlink:href=\"#mc36a20ffae\" y=\"37.941644\"/>\r\n     <use style=\"fill:#ffa500;stroke:#ffa500;\" x=\"326.781818\" xlink:href=\"#mc36a20ffae\" y=\"148.083578\"/>\r\n     <use style=\"fill:#ffa500;stroke:#ffa500;\" x=\"91.054434\" xlink:href=\"#mc36a20ffae\" y=\"48.380198\"/>\r\n     <use style=\"fill:#ffa500;stroke:#ffa500;\" x=\"199.127713\" xlink:href=\"#mc36a20ffae\" y=\"81.698883\"/>\r\n     <use style=\"fill:#ffa500;stroke:#ffa500;\" x=\"53.193776\" xlink:href=\"#mc36a20ffae\" y=\"101.00019\"/>\r\n     <use style=\"fill:#ffa500;stroke:#ffa500;\" x=\"90.772908\" xlink:href=\"#mc36a20ffae\" y=\"88.921295\"/>\r\n     <use style=\"fill:#ffa500;stroke:#ffa500;\" x=\"196.000843\" xlink:href=\"#mc36a20ffae\" y=\"229.245793\"/>\r\n     <use style=\"fill:#ffa500;stroke:#ffa500;\" x=\"143.679043\" xlink:href=\"#mc36a20ffae\" y=\"77.385458\"/>\r\n     <use style=\"fill:#ffa500;stroke:#ffa500;\" x=\"151.540646\" xlink:href=\"#mc36a20ffae\" y=\"179.095185\"/>\r\n     <use style=\"fill:#ffa500;stroke:#ffa500;\" x=\"257.976981\" xlink:href=\"#mc36a20ffae\" y=\"216.247016\"/>\r\n     <use style=\"fill:#ffa500;stroke:#ffa500;\" x=\"69.037075\" xlink:href=\"#mc36a20ffae\" y=\"138.901228\"/>\r\n     <use style=\"fill:#ffa500;stroke:#ffa500;\" x=\"310.188348\" xlink:href=\"#mc36a20ffae\" y=\"97.663495\"/>\r\n     <use style=\"fill:#ffa500;stroke:#ffa500;\" x=\"264.031618\" xlink:href=\"#mc36a20ffae\" y=\"188.606146\"/>\r\n     <use style=\"fill:#ffa500;stroke:#ffa500;\" x=\"204.647259\" xlink:href=\"#mc36a20ffae\" y=\"210.551114\"/>\r\n     <use style=\"fill:#ffa500;stroke:#ffa500;\" x=\"41.291449\" xlink:href=\"#mc36a20ffae\" y=\"118.633792\"/>\r\n     <use style=\"fill:#ffa500;stroke:#ffa500;\" x=\"46.708574\" xlink:href=\"#mc36a20ffae\" y=\"32.201761\"/>\r\n     <use style=\"fill:#ffa500;stroke:#ffa500;\" x=\"25.907082\" xlink:href=\"#mc36a20ffae\" y=\"106.552521\"/>\r\n     <use style=\"fill:#ffa500;stroke:#ffa500;\" x=\"185.198082\" xlink:href=\"#mc36a20ffae\" y=\"210.276448\"/>\r\n     <use style=\"fill:#ffa500;stroke:#ffa500;\" x=\"171.552461\" xlink:href=\"#mc36a20ffae\" y=\"63.616872\"/>\r\n     <use style=\"fill:#ffa500;stroke:#ffa500;\" x=\"267.107618\" xlink:href=\"#mc36a20ffae\" y=\"99.127959\"/>\r\n     <use style=\"fill:#ffa500;stroke:#ffa500;\" x=\"227.756532\" xlink:href=\"#mc36a20ffae\" y=\"41.685393\"/>\r\n     <use style=\"fill:#ffa500;stroke:#ffa500;\" x=\"116.62022\" xlink:href=\"#mc36a20ffae\" y=\"129.250681\"/>\r\n     <use style=\"fill:#ffa500;stroke:#ffa500;\" x=\"51.745721\" xlink:href=\"#mc36a20ffae\" y=\"131.905889\"/>\r\n     <use style=\"fill:#ffa500;stroke:#ffa500;\" x=\"74.03718\" xlink:href=\"#mc36a20ffae\" y=\"124.475509\"/>\r\n     <use style=\"fill:#ffa500;stroke:#ffa500;\" x=\"126.028074\" xlink:href=\"#mc36a20ffae\" y=\"36.83961\"/>\r\n     <use style=\"fill:#ffa500;stroke:#ffa500;\" x=\"154.709479\" xlink:href=\"#mc36a20ffae\" y=\"119.787205\"/>\r\n     <use style=\"fill:#ffa500;stroke:#ffa500;\" x=\"53.109757\" xlink:href=\"#mc36a20ffae\" y=\"199.24965\"/>\r\n     <use style=\"fill:#ffa500;stroke:#ffa500;\" x=\"52.377167\" xlink:href=\"#mc36a20ffae\" y=\"141.419107\"/>\r\n     <use style=\"fill:#ffa500;stroke:#ffa500;\" x=\"60.518644\" xlink:href=\"#mc36a20ffae\" y=\"225.044449\"/>\r\n     <use style=\"fill:#ffa500;stroke:#ffa500;\" x=\"297.133319\" xlink:href=\"#mc36a20ffae\" y=\"138.728279\"/>\r\n     <use style=\"fill:#ffa500;stroke:#ffa500;\" x=\"308.372089\" xlink:href=\"#mc36a20ffae\" y=\"132.895838\"/>\r\n     <use style=\"fill:#ffa500;stroke:#ffa500;\" x=\"166.757021\" xlink:href=\"#mc36a20ffae\" y=\"156.363264\"/>\r\n     <use style=\"fill:#ffa500;stroke:#ffa500;\" x=\"27.378459\" xlink:href=\"#mc36a20ffae\" y=\"162.400847\"/>\r\n     <use style=\"fill:#ffa500;stroke:#ffa500;\" x=\"260.96228\" xlink:href=\"#mc36a20ffae\" y=\"111.419836\"/>\r\n     <use style=\"fill:#ffa500;stroke:#ffa500;\" x=\"244.398823\" xlink:href=\"#mc36a20ffae\" y=\"153.787704\"/>\r\n     <use style=\"fill:#ffa500;stroke:#ffa500;\" x=\"55.036071\" xlink:href=\"#mc36a20ffae\" y=\"71.702645\"/>\r\n     <use style=\"fill:#ffa500;stroke:#ffa500;\" x=\"234.234202\" xlink:href=\"#mc36a20ffae\" y=\"112.198478\"/>\r\n     <use style=\"fill:#ffa500;stroke:#ffa500;\" x=\"66.688268\" xlink:href=\"#mc36a20ffae\" y=\"151.431645\"/>\r\n    </g>\r\n   </g>\r\n   <g id=\"PathCollection_2\">\r\n    <defs>\r\n     <path d=\"M 0 2.236068 \r\nC 0.593012 2.236068 1.161816 2.000462 1.581139 1.581139 \r\nC 2.000462 1.161816 2.236068 0.593012 2.236068 0 \r\nC 2.236068 -0.593012 2.000462 -1.161816 1.581139 -1.581139 \r\nC 1.161816 -2.000462 0.593012 -2.236068 0 -2.236068 \r\nC -0.593012 -2.236068 -1.161816 -2.000462 -1.581139 -1.581139 \r\nC -2.000462 -1.161816 -2.236068 -0.593012 -2.236068 0 \r\nC -2.236068 0.593012 -2.000462 1.161816 -1.581139 1.581139 \r\nC -1.161816 2.000462 -0.593012 2.236068 0 2.236068 \r\nz\r\n\" id=\"m6125bf08b4\" style=\"stroke:#ff0000;\"/>\r\n    </defs>\r\n    <g clip-path=\"url(#pf3d6e79d06)\">\r\n     <use style=\"fill:#ff0000;stroke:#ff0000;\" x=\"166.612026\" xlink:href=\"#m6125bf08b4\" y=\"64.551271\"/>\r\n     <use style=\"fill:#ff0000;stroke:#ff0000;\" x=\"254.217287\" xlink:href=\"#m6125bf08b4\" y=\"229.874489\"/>\r\n     <use style=\"fill:#ff0000;stroke:#ff0000;\" x=\"200.84312\" xlink:href=\"#m6125bf08b4\" y=\"64.677133\"/>\r\n     <use style=\"fill:#ff0000;stroke:#ff0000;\" x=\"112.780364\" xlink:href=\"#m6125bf08b4\" y=\"228.230922\"/>\r\n     <use style=\"fill:#ff0000;stroke:#ff0000;\" x=\"202.800323\" xlink:href=\"#m6125bf08b4\" y=\"92.036101\"/>\r\n     <use style=\"fill:#ff0000;stroke:#ff0000;\" x=\"251.373707\" xlink:href=\"#m6125bf08b4\" y=\"153.573992\"/>\r\n    </g>\r\n   </g>\r\n   <g id=\"patch_3\">\r\n    <path d=\"M 7.2 239.758125 \r\nL 7.2 22.318125 \r\n\" style=\"fill:none;stroke:#000000;stroke-linecap:square;stroke-linejoin:miter;stroke-width:0.8;\"/>\r\n   </g>\r\n   <g id=\"patch_4\">\r\n    <path d=\"M 342 239.758125 \r\nL 342 22.318125 \r\n\" style=\"fill:none;stroke:#000000;stroke-linecap:square;stroke-linejoin:miter;stroke-width:0.8;\"/>\r\n   </g>\r\n   <g id=\"patch_5\">\r\n    <path d=\"M 7.2 239.758125 \r\nL 342 239.758125 \r\n\" style=\"fill:none;stroke:#000000;stroke-linecap:square;stroke-linejoin:miter;stroke-width:0.8;\"/>\r\n   </g>\r\n   <g id=\"patch_6\">\r\n    <path d=\"M 7.2 22.318125 \r\nL 342 22.318125 \r\n\" style=\"fill:none;stroke:#000000;stroke-linecap:square;stroke-linejoin:miter;stroke-width:0.8;\"/>\r\n   </g>\r\n   <g id=\"text_1\">\r\n    <!-- t= 10 days -->\r\n    <defs>\r\n     <path d=\"M 18.3125 70.21875 \r\nL 18.3125 54.6875 \r\nL 36.8125 54.6875 \r\nL 36.8125 47.703125 \r\nL 18.3125 47.703125 \r\nL 18.3125 18.015625 \r\nQ 18.3125 11.328125 20.140625 9.421875 \r\nQ 21.96875 7.515625 27.59375 7.515625 \r\nL 36.8125 7.515625 \r\nL 36.8125 0 \r\nL 27.59375 0 \r\nQ 17.1875 0 13.234375 3.875 \r\nQ 9.28125 7.765625 9.28125 18.015625 \r\nL 9.28125 47.703125 \r\nL 2.6875 47.703125 \r\nL 2.6875 54.6875 \r\nL 9.28125 54.6875 \r\nL 9.28125 70.21875 \r\nz\r\n\" id=\"DejaVuSans-116\"/>\r\n     <path d=\"M 10.59375 45.40625 \r\nL 73.1875 45.40625 \r\nL 73.1875 37.203125 \r\nL 10.59375 37.203125 \r\nz\r\nM 10.59375 25.484375 \r\nL 73.1875 25.484375 \r\nL 73.1875 17.1875 \r\nL 10.59375 17.1875 \r\nz\r\n\" id=\"DejaVuSans-61\"/>\r\n     <path id=\"DejaVuSans-32\"/>\r\n     <path d=\"M 12.40625 8.296875 \r\nL 28.515625 8.296875 \r\nL 28.515625 63.921875 \r\nL 10.984375 60.40625 \r\nL 10.984375 69.390625 \r\nL 28.421875 72.90625 \r\nL 38.28125 72.90625 \r\nL 38.28125 8.296875 \r\nL 54.390625 8.296875 \r\nL 54.390625 0 \r\nL 12.40625 0 \r\nz\r\n\" id=\"DejaVuSans-49\"/>\r\n     <path d=\"M 31.78125 66.40625 \r\nQ 24.171875 66.40625 20.328125 58.90625 \r\nQ 16.5 51.421875 16.5 36.375 \r\nQ 16.5 21.390625 20.328125 13.890625 \r\nQ 24.171875 6.390625 31.78125 6.390625 \r\nQ 39.453125 6.390625 43.28125 13.890625 \r\nQ 47.125 21.390625 47.125 36.375 \r\nQ 47.125 51.421875 43.28125 58.90625 \r\nQ 39.453125 66.40625 31.78125 66.40625 \r\nz\r\nM 31.78125 74.21875 \r\nQ 44.046875 74.21875 50.515625 64.515625 \r\nQ 56.984375 54.828125 56.984375 36.375 \r\nQ 56.984375 17.96875 50.515625 8.265625 \r\nQ 44.046875 -1.421875 31.78125 -1.421875 \r\nQ 19.53125 -1.421875 13.0625 8.265625 \r\nQ 6.59375 17.96875 6.59375 36.375 \r\nQ 6.59375 54.828125 13.0625 64.515625 \r\nQ 19.53125 74.21875 31.78125 74.21875 \r\nz\r\n\" id=\"DejaVuSans-48\"/>\r\n     <path d=\"M 45.40625 46.390625 \r\nL 45.40625 75.984375 \r\nL 54.390625 75.984375 \r\nL 54.390625 0 \r\nL 45.40625 0 \r\nL 45.40625 8.203125 \r\nQ 42.578125 3.328125 38.25 0.953125 \r\nQ 33.9375 -1.421875 27.875 -1.421875 \r\nQ 17.96875 -1.421875 11.734375 6.484375 \r\nQ 5.515625 14.40625 5.515625 27.296875 \r\nQ 5.515625 40.1875 11.734375 48.09375 \r\nQ 17.96875 56 27.875 56 \r\nQ 33.9375 56 38.25 53.625 \r\nQ 42.578125 51.265625 45.40625 46.390625 \r\nz\r\nM 14.796875 27.296875 \r\nQ 14.796875 17.390625 18.875 11.75 \r\nQ 22.953125 6.109375 30.078125 6.109375 \r\nQ 37.203125 6.109375 41.296875 11.75 \r\nQ 45.40625 17.390625 45.40625 27.296875 \r\nQ 45.40625 37.203125 41.296875 42.84375 \r\nQ 37.203125 48.484375 30.078125 48.484375 \r\nQ 22.953125 48.484375 18.875 42.84375 \r\nQ 14.796875 37.203125 14.796875 27.296875 \r\nz\r\n\" id=\"DejaVuSans-100\"/>\r\n     <path d=\"M 34.28125 27.484375 \r\nQ 23.390625 27.484375 19.1875 25 \r\nQ 14.984375 22.515625 14.984375 16.5 \r\nQ 14.984375 11.71875 18.140625 8.90625 \r\nQ 21.296875 6.109375 26.703125 6.109375 \r\nQ 34.1875 6.109375 38.703125 11.40625 \r\nQ 43.21875 16.703125 43.21875 25.484375 \r\nL 43.21875 27.484375 \r\nz\r\nM 52.203125 31.203125 \r\nL 52.203125 0 \r\nL 43.21875 0 \r\nL 43.21875 8.296875 \r\nQ 40.140625 3.328125 35.546875 0.953125 \r\nQ 30.953125 -1.421875 24.3125 -1.421875 \r\nQ 15.921875 -1.421875 10.953125 3.296875 \r\nQ 6 8.015625 6 15.921875 \r\nQ 6 25.140625 12.171875 29.828125 \r\nQ 18.359375 34.515625 30.609375 34.515625 \r\nL 43.21875 34.515625 \r\nL 43.21875 35.40625 \r\nQ 43.21875 41.609375 39.140625 45 \r\nQ 35.0625 48.390625 27.6875 48.390625 \r\nQ 23 48.390625 18.546875 47.265625 \r\nQ 14.109375 46.140625 10.015625 43.890625 \r\nL 10.015625 52.203125 \r\nQ 14.9375 54.109375 19.578125 55.046875 \r\nQ 24.21875 56 28.609375 56 \r\nQ 40.484375 56 46.34375 49.84375 \r\nQ 52.203125 43.703125 52.203125 31.203125 \r\nz\r\n\" id=\"DejaVuSans-97\"/>\r\n     <path d=\"M 32.171875 -5.078125 \r\nQ 28.375 -14.84375 24.75 -17.8125 \r\nQ 21.140625 -20.796875 15.09375 -20.796875 \r\nL 7.90625 -20.796875 \r\nL 7.90625 -13.28125 \r\nL 13.1875 -13.28125 \r\nQ 16.890625 -13.28125 18.9375 -11.515625 \r\nQ 21 -9.765625 23.484375 -3.21875 \r\nL 25.09375 0.875 \r\nL 2.984375 54.6875 \r\nL 12.5 54.6875 \r\nL 29.59375 11.921875 \r\nL 46.6875 54.6875 \r\nL 56.203125 54.6875 \r\nz\r\n\" id=\"DejaVuSans-121\"/>\r\n     <path d=\"M 44.28125 53.078125 \r\nL 44.28125 44.578125 \r\nQ 40.484375 46.53125 36.375 47.5 \r\nQ 32.28125 48.484375 27.875 48.484375 \r\nQ 21.1875 48.484375 17.84375 46.4375 \r\nQ 14.5 44.390625 14.5 40.28125 \r\nQ 14.5 37.15625 16.890625 35.375 \r\nQ 19.28125 33.59375 26.515625 31.984375 \r\nL 29.59375 31.296875 \r\nQ 39.15625 29.25 43.1875 25.515625 \r\nQ 47.21875 21.78125 47.21875 15.09375 \r\nQ 47.21875 7.46875 41.1875 3.015625 \r\nQ 35.15625 -1.421875 24.609375 -1.421875 \r\nQ 20.21875 -1.421875 15.453125 -0.5625 \r\nQ 10.6875 0.296875 5.421875 2 \r\nL 5.421875 11.28125 \r\nQ 10.40625 8.6875 15.234375 7.390625 \r\nQ 20.0625 6.109375 24.8125 6.109375 \r\nQ 31.15625 6.109375 34.5625 8.28125 \r\nQ 37.984375 10.453125 37.984375 14.40625 \r\nQ 37.984375 18.0625 35.515625 20.015625 \r\nQ 33.0625 21.96875 24.703125 23.78125 \r\nL 21.578125 24.515625 \r\nQ 13.234375 26.265625 9.515625 29.90625 \r\nQ 5.8125 33.546875 5.8125 39.890625 \r\nQ 5.8125 47.609375 11.28125 51.796875 \r\nQ 16.75 56 26.8125 56 \r\nQ 31.78125 56 36.171875 55.265625 \r\nQ 40.578125 54.546875 44.28125 53.078125 \r\nz\r\n\" id=\"DejaVuSans-115\"/>\r\n    </defs>\r\n    <g transform=\"translate(9.894908 236.74986)scale(0.12 -0.12)\">\r\n     <use xlink:href=\"#DejaVuSans-116\"/>\r\n     <use x=\"39.208984\" xlink:href=\"#DejaVuSans-61\"/>\r\n     <use x=\"122.998047\" xlink:href=\"#DejaVuSans-32\"/>\r\n     <use x=\"154.785156\" xlink:href=\"#DejaVuSans-49\"/>\r\n     <use x=\"218.408203\" xlink:href=\"#DejaVuSans-48\"/>\r\n     <use x=\"282.03125\" xlink:href=\"#DejaVuSans-32\"/>\r\n     <use x=\"313.818359\" xlink:href=\"#DejaVuSans-100\"/>\r\n     <use x=\"377.294922\" xlink:href=\"#DejaVuSans-97\"/>\r\n     <use x=\"438.574219\" xlink:href=\"#DejaVuSans-121\"/>\r\n     <use x=\"497.753906\" xlink:href=\"#DejaVuSans-115\"/>\r\n    </g>\r\n   </g>\r\n   <g id=\"text_2\">\r\n    <!-- state : 1  -->\r\n    <defs>\r\n     <path d=\"M 56.203125 29.59375 \r\nL 56.203125 25.203125 \r\nL 14.890625 25.203125 \r\nQ 15.484375 15.921875 20.484375 11.0625 \r\nQ 25.484375 6.203125 34.421875 6.203125 \r\nQ 39.59375 6.203125 44.453125 7.46875 \r\nQ 49.3125 8.734375 54.109375 11.28125 \r\nL 54.109375 2.78125 \r\nQ 49.265625 0.734375 44.1875 -0.34375 \r\nQ 39.109375 -1.421875 33.890625 -1.421875 \r\nQ 20.796875 -1.421875 13.15625 6.1875 \r\nQ 5.515625 13.8125 5.515625 26.8125 \r\nQ 5.515625 40.234375 12.765625 48.109375 \r\nQ 20.015625 56 32.328125 56 \r\nQ 43.359375 56 49.78125 48.890625 \r\nQ 56.203125 41.796875 56.203125 29.59375 \r\nz\r\nM 47.21875 32.234375 \r\nQ 47.125 39.59375 43.09375 43.984375 \r\nQ 39.0625 48.390625 32.421875 48.390625 \r\nQ 24.90625 48.390625 20.390625 44.140625 \r\nQ 15.875 39.890625 15.1875 32.171875 \r\nz\r\n\" id=\"DejaVuSans-101\"/>\r\n     <path d=\"M 11.71875 12.40625 \r\nL 22.015625 12.40625 \r\nL 22.015625 0 \r\nL 11.71875 0 \r\nz\r\nM 11.71875 51.703125 \r\nL 22.015625 51.703125 \r\nL 22.015625 39.3125 \r\nL 11.71875 39.3125 \r\nz\r\n\" id=\"DejaVuSans-58\"/>\r\n    </defs>\r\n    <g transform=\"translate(147.841875 16.318125)scale(0.12 -0.12)\">\r\n     <use xlink:href=\"#DejaVuSans-115\"/>\r\n     <use x=\"52.099609\" xlink:href=\"#DejaVuSans-116\"/>\r\n     <use x=\"91.308594\" xlink:href=\"#DejaVuSans-97\"/>\r\n     <use x=\"152.587891\" xlink:href=\"#DejaVuSans-116\"/>\r\n     <use x=\"191.796875\" xlink:href=\"#DejaVuSans-101\"/>\r\n     <use x=\"253.320312\" xlink:href=\"#DejaVuSans-32\"/>\r\n     <use x=\"285.107422\" xlink:href=\"#DejaVuSans-58\"/>\r\n     <use x=\"318.798828\" xlink:href=\"#DejaVuSans-32\"/>\r\n     <use x=\"350.585938\" xlink:href=\"#DejaVuSans-49\"/>\r\n     <use x=\"414.208984\" xlink:href=\"#DejaVuSans-32\"/>\r\n    </g>\r\n   </g>\r\n   <g id=\"legend_1\">\r\n    <g id=\"patch_7\">\r\n     <path d=\"M 92.951562 267.374125 \r\nL 256.248438 267.374125 \r\nQ 258.248438 267.374125 258.248438 265.374125 \r\nL 258.248438 251.696 \r\nQ 258.248438 249.696 256.248438 249.696 \r\nL 92.951562 249.696 \r\nQ 90.951562 249.696 90.951562 251.696 \r\nL 90.951562 265.374125 \r\nQ 90.951562 267.374125 92.951562 267.374125 \r\nz\r\n\" style=\"fill:#ffffff;opacity:0.8;stroke:#cccccc;stroke-linejoin:miter;\"/>\r\n    </g>\r\n    <g id=\"PathCollection_3\">\r\n     <g>\r\n      <use style=\"fill:#ffa500;stroke:#ffa500;\" x=\"104.951562\" xlink:href=\"#mc36a20ffae\" y=\"258.669438\"/>\r\n     </g>\r\n    </g>\r\n    <g id=\"text_3\">\r\n     <!-- Exposed -->\r\n     <defs>\r\n      <path d=\"M 9.8125 72.90625 \r\nL 55.90625 72.90625 \r\nL 55.90625 64.59375 \r\nL 19.671875 64.59375 \r\nL 19.671875 43.015625 \r\nL 54.390625 43.015625 \r\nL 54.390625 34.71875 \r\nL 19.671875 34.71875 \r\nL 19.671875 8.296875 \r\nL 56.78125 8.296875 \r\nL 56.78125 0 \r\nL 9.8125 0 \r\nz\r\n\" id=\"DejaVuSans-69\"/>\r\n      <path d=\"M 54.890625 54.6875 \r\nL 35.109375 28.078125 \r\nL 55.90625 0 \r\nL 45.3125 0 \r\nL 29.390625 21.484375 \r\nL 13.484375 0 \r\nL 2.875 0 \r\nL 24.125 28.609375 \r\nL 4.6875 54.6875 \r\nL 15.28125 54.6875 \r\nL 29.78125 35.203125 \r\nL 44.28125 54.6875 \r\nz\r\n\" id=\"DejaVuSans-120\"/>\r\n      <path d=\"M 18.109375 8.203125 \r\nL 18.109375 -20.796875 \r\nL 9.078125 -20.796875 \r\nL 9.078125 54.6875 \r\nL 18.109375 54.6875 \r\nL 18.109375 46.390625 \r\nQ 20.953125 51.265625 25.265625 53.625 \r\nQ 29.59375 56 35.59375 56 \r\nQ 45.5625 56 51.78125 48.09375 \r\nQ 58.015625 40.1875 58.015625 27.296875 \r\nQ 58.015625 14.40625 51.78125 6.484375 \r\nQ 45.5625 -1.421875 35.59375 -1.421875 \r\nQ 29.59375 -1.421875 25.265625 0.953125 \r\nQ 20.953125 3.328125 18.109375 8.203125 \r\nz\r\nM 48.6875 27.296875 \r\nQ 48.6875 37.203125 44.609375 42.84375 \r\nQ 40.53125 48.484375 33.40625 48.484375 \r\nQ 26.265625 48.484375 22.1875 42.84375 \r\nQ 18.109375 37.203125 18.109375 27.296875 \r\nQ 18.109375 17.390625 22.1875 11.75 \r\nQ 26.265625 6.109375 33.40625 6.109375 \r\nQ 40.53125 6.109375 44.609375 11.75 \r\nQ 48.6875 17.390625 48.6875 27.296875 \r\nz\r\n\" id=\"DejaVuSans-112\"/>\r\n      <path d=\"M 30.609375 48.390625 \r\nQ 23.390625 48.390625 19.1875 42.75 \r\nQ 14.984375 37.109375 14.984375 27.296875 \r\nQ 14.984375 17.484375 19.15625 11.84375 \r\nQ 23.34375 6.203125 30.609375 6.203125 \r\nQ 37.796875 6.203125 41.984375 11.859375 \r\nQ 46.1875 17.53125 46.1875 27.296875 \r\nQ 46.1875 37.015625 41.984375 42.703125 \r\nQ 37.796875 48.390625 30.609375 48.390625 \r\nz\r\nM 30.609375 56 \r\nQ 42.328125 56 49.015625 48.375 \r\nQ 55.71875 40.765625 55.71875 27.296875 \r\nQ 55.71875 13.875 49.015625 6.21875 \r\nQ 42.328125 -1.421875 30.609375 -1.421875 \r\nQ 18.84375 -1.421875 12.171875 6.21875 \r\nQ 5.515625 13.875 5.515625 27.296875 \r\nQ 5.515625 40.765625 12.171875 48.375 \r\nQ 18.84375 56 30.609375 56 \r\nz\r\n\" id=\"DejaVuSans-111\"/>\r\n     </defs>\r\n     <g transform=\"translate(122.951562 261.294438)scale(0.1 -0.1)\">\r\n      <use xlink:href=\"#DejaVuSans-69\"/>\r\n      <use x=\"63.183594\" xlink:href=\"#DejaVuSans-120\"/>\r\n      <use x=\"122.363281\" xlink:href=\"#DejaVuSans-112\"/>\r\n      <use x=\"185.839844\" xlink:href=\"#DejaVuSans-111\"/>\r\n      <use x=\"247.021484\" xlink:href=\"#DejaVuSans-115\"/>\r\n      <use x=\"299.121094\" xlink:href=\"#DejaVuSans-101\"/>\r\n      <use x=\"360.644531\" xlink:href=\"#DejaVuSans-100\"/>\r\n     </g>\r\n    </g>\r\n    <g id=\"PathCollection_4\">\r\n     <g>\r\n      <use style=\"fill:#ff0000;stroke:#ff0000;\" x=\"195.367188\" xlink:href=\"#m6125bf08b4\" y=\"258.669438\"/>\r\n     </g>\r\n    </g>\r\n    <g id=\"text_4\">\r\n     <!-- Infected -->\r\n     <defs>\r\n      <path d=\"M 9.8125 72.90625 \r\nL 19.671875 72.90625 \r\nL 19.671875 0 \r\nL 9.8125 0 \r\nz\r\n\" id=\"DejaVuSans-73\"/>\r\n      <path d=\"M 54.890625 33.015625 \r\nL 54.890625 0 \r\nL 45.90625 0 \r\nL 45.90625 32.71875 \r\nQ 45.90625 40.484375 42.875 44.328125 \r\nQ 39.84375 48.1875 33.796875 48.1875 \r\nQ 26.515625 48.1875 22.3125 43.546875 \r\nQ 18.109375 38.921875 18.109375 30.90625 \r\nL 18.109375 0 \r\nL 9.078125 0 \r\nL 9.078125 54.6875 \r\nL 18.109375 54.6875 \r\nL 18.109375 46.1875 \r\nQ 21.34375 51.125 25.703125 53.5625 \r\nQ 30.078125 56 35.796875 56 \r\nQ 45.21875 56 50.046875 50.171875 \r\nQ 54.890625 44.34375 54.890625 33.015625 \r\nz\r\n\" id=\"DejaVuSans-110\"/>\r\n      <path d=\"M 37.109375 75.984375 \r\nL 37.109375 68.5 \r\nL 28.515625 68.5 \r\nQ 23.6875 68.5 21.796875 66.546875 \r\nQ 19.921875 64.59375 19.921875 59.515625 \r\nL 19.921875 54.6875 \r\nL 34.71875 54.6875 \r\nL 34.71875 47.703125 \r\nL 19.921875 47.703125 \r\nL 19.921875 0 \r\nL 10.890625 0 \r\nL 10.890625 47.703125 \r\nL 2.296875 47.703125 \r\nL 2.296875 54.6875 \r\nL 10.890625 54.6875 \r\nL 10.890625 58.5 \r\nQ 10.890625 67.625 15.140625 71.796875 \r\nQ 19.390625 75.984375 28.609375 75.984375 \r\nz\r\n\" id=\"DejaVuSans-102\"/>\r\n      <path d=\"M 48.78125 52.59375 \r\nL 48.78125 44.1875 \r\nQ 44.96875 46.296875 41.140625 47.34375 \r\nQ 37.3125 48.390625 33.40625 48.390625 \r\nQ 24.65625 48.390625 19.8125 42.84375 \r\nQ 14.984375 37.3125 14.984375 27.296875 \r\nQ 14.984375 17.28125 19.8125 11.734375 \r\nQ 24.65625 6.203125 33.40625 6.203125 \r\nQ 37.3125 6.203125 41.140625 7.25 \r\nQ 44.96875 8.296875 48.78125 10.40625 \r\nL 48.78125 2.09375 \r\nQ 45.015625 0.34375 40.984375 -0.53125 \r\nQ 36.96875 -1.421875 32.421875 -1.421875 \r\nQ 20.0625 -1.421875 12.78125 6.34375 \r\nQ 5.515625 14.109375 5.515625 27.296875 \r\nQ 5.515625 40.671875 12.859375 48.328125 \r\nQ 20.21875 56 33.015625 56 \r\nQ 37.15625 56 41.109375 55.140625 \r\nQ 45.0625 54.296875 48.78125 52.59375 \r\nz\r\n\" id=\"DejaVuSans-99\"/>\r\n     </defs>\r\n     <g transform=\"translate(213.367188 261.294438)scale(0.1 -0.1)\">\r\n      <use xlink:href=\"#DejaVuSans-73\"/>\r\n      <use x=\"29.492188\" xlink:href=\"#DejaVuSans-110\"/>\r\n      <use x=\"92.871094\" xlink:href=\"#DejaVuSans-102\"/>\r\n      <use x=\"128.076172\" xlink:href=\"#DejaVuSans-101\"/>\r\n      <use x=\"189.599609\" xlink:href=\"#DejaVuSans-99\"/>\r\n      <use x=\"244.580078\" xlink:href=\"#DejaVuSans-116\"/>\r\n      <use x=\"283.789062\" xlink:href=\"#DejaVuSans-101\"/>\r\n      <use x=\"345.3125\" xlink:href=\"#DejaVuSans-100\"/>\r\n     </g>\r\n    </g>\r\n   </g>\r\n  </g>\r\n </g>\r\n <defs>\r\n  <clipPath id=\"pf3d6e79d06\">\r\n   <rect height=\"217.44\" width=\"334.8\" x=\"7.2\" y=\"22.318125\"/>\r\n  </clipPath>\r\n </defs>\r\n</svg>\r\n",
      "image/png": "[encoded data removed]"
     },
     "metadata": {}
    }
   ],
   "source": [
    "def animate(t):\n",
    "    for k, status in enumerate(['S','E','I','R','D']): \n",
    "        nx.draw_networkx_nodes(G,pos,\n",
    "                                nodelist=logStatus[t][status],\n",
    "                                node_color=status_list[status]['node_color'],\n",
    "                                node_size=status_list[status]['node_size'],\n",
    "                                alpha=status_list[status]['alpha'])\n",
    "    nx.draw_networkx_edges(G, pos, edgelist=new_exposed_nodes(t), edge_color='r')\n",
    "        \n",
    "    plt.title('state : {} '.format(stateIdx), loc='center')  \n",
    "    plt.text(-0.04,-0.03, 't= {} days'.format(t), fontsize=12)\n",
    "    plt.legend(['Susceptible','Exposed','Infected','Recovered', 'Died'], loc='lower center', bbox_to_anchor=(0.5, -0.15), ncol=4, fancybox=True)\n",
    "    #plt.show()\n",
    "\n",
    "def animate(t):\n",
    "    for k, status in enumerate(['E','I']): \n",
    "        nx.draw_networkx_nodes(G,pos,\n",
    "                                nodelist=logStatus[t][status],\n",
    "                                node_color=status_list[status]['node_color'],\n",
    "                                node_size=status_list[status]['node_size'],\n",
    "                                alpha=status_list[status]['alpha'])\n",
    "    nx.draw_networkx_edges(G, pos, edgelist=new_exposed_nodes(t), edge_color='r')\n",
    "        \n",
    "    plt.title('state : {} '.format(stateIdx), loc='center')  \n",
    "    plt.text(-0.04,-0.03, 't= {} days'.format(t), fontsize=12)\n",
    "    plt.legend(['Exposed','Infected'], loc='lower center', bbox_to_anchor=(0.5, -0.15), ncol=4, fancybox=True)\n",
    "    #plt.show()\n",
    "\n",
    "animate(10)    "
   ]
  },
  {
   "cell_type": "code",
   "execution_count": 14,
   "metadata": {},
   "outputs": [],
   "source": [
    "def get_figure_asnumpy(fig): \n",
    "    canvas = FigureCanvas(fig)\n",
    "    canvas.draw() \n",
    "    s, (width, height) = canvas.print_to_buffer()\n",
    "    return np.frombuffer(s, np.uint8).reshape((height, width, 4))"
   ]
  },
  {
   "cell_type": "code",
   "execution_count": null,
   "metadata": {},
   "outputs": [],
   "source": [
    " ['S', 'E','I','R','D']"
   ]
  },
  {
   "cell_type": "code",
   "execution_count": 89,
   "metadata": {},
   "outputs": [
    {
     "output_type": "display_data",
     "data": {
      "text/plain": "<Figure size 1440x1440 with 0 Axes>"
     },
     "metadata": {}
    },
    {
     "output_type": "display_data",
     "data": {
      "text/plain": "<Figure size 1440x1440 with 0 Axes>"
     },
     "metadata": {}
    },
    {
     "output_type": "display_data",
     "data": {
      "text/plain": "<Figure size 1440x1440 with 0 Axes>"
     },
     "metadata": {}
    },
    {
     "output_type": "display_data",
     "data": {
      "text/plain": "<Figure size 1440x1440 with 0 Axes>"
     },
     "metadata": {}
    },
    {
     "output_type": "display_data",
     "data": {
      "text/plain": "<Figure size 1440x1440 with 0 Axes>"
     },
     "metadata": {}
    },
    {
     "output_type": "display_data",
     "data": {
      "text/plain": "<Figure size 1440x1440 with 0 Axes>"
     },
     "metadata": {}
    },
    {
     "output_type": "display_data",
     "data": {
      "text/plain": "<Figure size 1440x1440 with 0 Axes>"
     },
     "metadata": {}
    },
    {
     "output_type": "display_data",
     "data": {
      "text/plain": "<Figure size 1440x1440 with 0 Axes>"
     },
     "metadata": {}
    },
    {
     "output_type": "display_data",
     "data": {
      "text/plain": "<Figure size 1440x1440 with 0 Axes>"
     },
     "metadata": {}
    },
    {
     "output_type": "display_data",
     "data": {
      "text/plain": "<Figure size 1440x1440 with 0 Axes>"
     },
     "metadata": {}
    },
    {
     "output_type": "display_data",
     "data": {
      "text/plain": "<Figure size 1440x1440 with 0 Axes>"
     },
     "metadata": {}
    },
    {
     "output_type": "display_data",
     "data": {
      "text/plain": "<Figure size 1440x1440 with 0 Axes>"
     },
     "metadata": {}
    },
    {
     "output_type": "display_data",
     "data": {
      "text/plain": "<Figure size 1440x1440 with 0 Axes>"
     },
     "metadata": {}
    },
    {
     "output_type": "display_data",
     "data": {
      "text/plain": "<Figure size 1440x1440 with 0 Axes>"
     },
     "metadata": {}
    },
    {
     "output_type": "display_data",
     "data": {
      "text/plain": "<Figure size 1440x1440 with 0 Axes>"
     },
     "metadata": {}
    },
    {
     "output_type": "display_data",
     "data": {
      "text/plain": "<Figure size 1440x1440 with 0 Axes>"
     },
     "metadata": {}
    },
    {
     "output_type": "display_data",
     "data": {
      "text/plain": "<Figure size 1440x1440 with 0 Axes>"
     },
     "metadata": {}
    },
    {
     "output_type": "display_data",
     "data": {
      "text/plain": "<Figure size 1440x1440 with 0 Axes>"
     },
     "metadata": {}
    },
    {
     "output_type": "display_data",
     "data": {
      "text/plain": "<Figure size 1440x1440 with 0 Axes>"
     },
     "metadata": {}
    },
    {
     "output_type": "display_data",
     "data": {
      "text/plain": "<Figure size 1440x1440 with 0 Axes>"
     },
     "metadata": {}
    },
    {
     "output_type": "display_data",
     "data": {
      "text/plain": "<Figure size 1440x1440 with 0 Axes>"
     },
     "metadata": {}
    },
    {
     "output_type": "display_data",
     "data": {
      "text/plain": "<Figure size 1440x1440 with 0 Axes>"
     },
     "metadata": {}
    },
    {
     "output_type": "display_data",
     "data": {
      "text/plain": "<Figure size 1440x1440 with 0 Axes>"
     },
     "metadata": {}
    },
    {
     "output_type": "display_data",
     "data": {
      "text/plain": "<Figure size 1440x1440 with 0 Axes>"
     },
     "metadata": {}
    },
    {
     "output_type": "display_data",
     "data": {
      "text/plain": "<Figure size 1440x1440 with 0 Axes>"
     },
     "metadata": {}
    },
    {
     "output_type": "display_data",
     "data": {
      "text/plain": "<Figure size 1440x1440 with 0 Axes>"
     },
     "metadata": {}
    },
    {
     "output_type": "display_data",
     "data": {
      "text/plain": "<Figure size 1440x1440 with 0 Axes>"
     },
     "metadata": {}
    },
    {
     "output_type": "display_data",
     "data": {
      "text/plain": "<Figure size 1440x1440 with 0 Axes>"
     },
     "metadata": {}
    },
    {
     "output_type": "display_data",
     "data": {
      "text/plain": "<Figure size 1440x1440 with 0 Axes>"
     },
     "metadata": {}
    },
    {
     "output_type": "display_data",
     "data": {
      "text/plain": "<Figure size 1440x1440 with 0 Axes>"
     },
     "metadata": {}
    },
    {
     "output_type": "display_data",
     "data": {
      "text/plain": "<Figure size 1440x1440 with 0 Axes>"
     },
     "metadata": {}
    },
    {
     "output_type": "display_data",
     "data": {
      "text/plain": "<Figure size 1440x1440 with 0 Axes>"
     },
     "metadata": {}
    },
    {
     "output_type": "display_data",
     "data": {
      "text/plain": "<Figure size 1440x1440 with 0 Axes>"
     },
     "metadata": {}
    },
    {
     "output_type": "display_data",
     "data": {
      "text/plain": "<Figure size 1440x1440 with 0 Axes>"
     },
     "metadata": {}
    },
    {
     "output_type": "display_data",
     "data": {
      "text/plain": "<Figure size 1440x1440 with 0 Axes>"
     },
     "metadata": {}
    },
    {
     "output_type": "display_data",
     "data": {
      "text/plain": "<Figure size 1440x1440 with 0 Axes>"
     },
     "metadata": {}
    },
    {
     "output_type": "display_data",
     "data": {
      "text/plain": "<Figure size 1440x1440 with 0 Axes>"
     },
     "metadata": {}
    },
    {
     "output_type": "display_data",
     "data": {
      "text/plain": "<Figure size 1440x1440 with 0 Axes>"
     },
     "metadata": {}
    },
    {
     "output_type": "display_data",
     "data": {
      "text/plain": "<Figure size 1440x1440 with 0 Axes>"
     },
     "metadata": {}
    },
    {
     "output_type": "display_data",
     "data": {
      "text/plain": "<Figure size 1440x1440 with 0 Axes>"
     },
     "metadata": {}
    },
    {
     "output_type": "display_data",
     "data": {
      "text/plain": "<Figure size 1440x1440 with 0 Axes>"
     },
     "metadata": {}
    },
    {
     "output_type": "display_data",
     "data": {
      "text/plain": "<Figure size 1440x1440 with 0 Axes>"
     },
     "metadata": {}
    },
    {
     "output_type": "display_data",
     "data": {
      "text/plain": "<Figure size 1440x1440 with 0 Axes>"
     },
     "metadata": {}
    },
    {
     "output_type": "display_data",
     "data": {
      "text/plain": "<Figure size 1440x1440 with 0 Axes>"
     },
     "metadata": {}
    },
    {
     "output_type": "display_data",
     "data": {
      "text/plain": "<Figure size 1440x1440 with 0 Axes>"
     },
     "metadata": {}
    },
    {
     "output_type": "display_data",
     "data": {
      "text/plain": "<Figure size 1440x1440 with 0 Axes>"
     },
     "metadata": {}
    },
    {
     "output_type": "display_data",
     "data": {
      "text/plain": "<Figure size 1440x1440 with 0 Axes>"
     },
     "metadata": {}
    },
    {
     "output_type": "display_data",
     "data": {
      "text/plain": "<Figure size 1440x1440 with 0 Axes>"
     },
     "metadata": {}
    },
    {
     "output_type": "display_data",
     "data": {
      "text/plain": "<Figure size 1440x1440 with 0 Axes>"
     },
     "metadata": {}
    },
    {
     "output_type": "display_data",
     "data": {
      "text/plain": "<Figure size 1440x1440 with 0 Axes>"
     },
     "metadata": {}
    },
    {
     "output_type": "display_data",
     "data": {
      "text/plain": "<Figure size 1440x1440 with 0 Axes>"
     },
     "metadata": {}
    },
    {
     "output_type": "display_data",
     "data": {
      "text/plain": "<Figure size 1440x1440 with 0 Axes>"
     },
     "metadata": {}
    },
    {
     "output_type": "display_data",
     "data": {
      "text/plain": "<Figure size 1440x1440 with 0 Axes>"
     },
     "metadata": {}
    },
    {
     "output_type": "display_data",
     "data": {
      "text/plain": "<Figure size 1440x1440 with 0 Axes>"
     },
     "metadata": {}
    },
    {
     "output_type": "display_data",
     "data": {
      "text/plain": "<Figure size 1440x1440 with 0 Axes>"
     },
     "metadata": {}
    },
    {
     "output_type": "display_data",
     "data": {
      "text/plain": "<Figure size 1440x1440 with 0 Axes>"
     },
     "metadata": {}
    },
    {
     "output_type": "display_data",
     "data": {
      "text/plain": "<Figure size 1440x1440 with 0 Axes>"
     },
     "metadata": {}
    },
    {
     "output_type": "display_data",
     "data": {
      "text/plain": "<Figure size 1440x1440 with 0 Axes>"
     },
     "metadata": {}
    },
    {
     "output_type": "display_data",
     "data": {
      "text/plain": "<Figure size 1440x1440 with 0 Axes>"
     },
     "metadata": {}
    },
    {
     "output_type": "display_data",
     "data": {
      "text/plain": "<Figure size 1440x1440 with 0 Axes>"
     },
     "metadata": {}
    },
    {
     "output_type": "display_data",
     "data": {
      "text/plain": "<Figure size 1440x1440 with 0 Axes>"
     },
     "metadata": {}
    },
    {
     "output_type": "display_data",
     "data": {
      "text/plain": "<Figure size 1440x1440 with 0 Axes>"
     },
     "metadata": {}
    },
    {
     "output_type": "display_data",
     "data": {
      "text/plain": "<Figure size 1440x1440 with 0 Axes>"
     },
     "metadata": {}
    },
    {
     "output_type": "display_data",
     "data": {
      "text/plain": "<Figure size 1440x1440 with 0 Axes>"
     },
     "metadata": {}
    },
    {
     "output_type": "display_data",
     "data": {
      "text/plain": "<Figure size 1440x1440 with 0 Axes>"
     },
     "metadata": {}
    },
    {
     "output_type": "display_data",
     "data": {
      "text/plain": "<Figure size 1440x1440 with 0 Axes>"
     },
     "metadata": {}
    },
    {
     "output_type": "display_data",
     "data": {
      "text/plain": "<Figure size 1440x1440 with 0 Axes>"
     },
     "metadata": {}
    },
    {
     "output_type": "display_data",
     "data": {
      "text/plain": "<Figure size 1440x1440 with 0 Axes>"
     },
     "metadata": {}
    },
    {
     "output_type": "display_data",
     "data": {
      "text/plain": "<Figure size 1440x1440 with 0 Axes>"
     },
     "metadata": {}
    },
    {
     "output_type": "display_data",
     "data": {
      "text/plain": "<Figure size 1440x1440 with 0 Axes>"
     },
     "metadata": {}
    },
    {
     "output_type": "display_data",
     "data": {
      "text/plain": "<Figure size 1440x1440 with 0 Axes>"
     },
     "metadata": {}
    },
    {
     "output_type": "display_data",
     "data": {
      "text/plain": "<Figure size 1440x1440 with 0 Axes>"
     },
     "metadata": {}
    },
    {
     "output_type": "display_data",
     "data": {
      "text/plain": "<Figure size 1440x1440 with 0 Axes>"
     },
     "metadata": {}
    },
    {
     "output_type": "display_data",
     "data": {
      "text/plain": "<Figure size 1440x1440 with 0 Axes>"
     },
     "metadata": {}
    },
    {
     "output_type": "display_data",
     "data": {
      "text/plain": "<Figure size 1440x1440 with 0 Axes>"
     },
     "metadata": {}
    },
    {
     "output_type": "display_data",
     "data": {
      "text/plain": "<Figure size 1440x1440 with 0 Axes>"
     },
     "metadata": {}
    },
    {
     "output_type": "display_data",
     "data": {
      "text/plain": "<Figure size 1440x1440 with 0 Axes>"
     },
     "metadata": {}
    },
    {
     "output_type": "display_data",
     "data": {
      "text/plain": "<Figure size 1440x1440 with 0 Axes>"
     },
     "metadata": {}
    },
    {
     "output_type": "display_data",
     "data": {
      "text/plain": "<Figure size 1440x1440 with 0 Axes>"
     },
     "metadata": {}
    },
    {
     "output_type": "display_data",
     "data": {
      "text/plain": "<Figure size 1440x1440 with 0 Axes>"
     },
     "metadata": {}
    },
    {
     "output_type": "display_data",
     "data": {
      "text/plain": "<Figure size 1440x1440 with 0 Axes>"
     },
     "metadata": {}
    },
    {
     "output_type": "display_data",
     "data": {
      "text/plain": "<Figure size 1440x1440 with 0 Axes>"
     },
     "metadata": {}
    },
    {
     "output_type": "display_data",
     "data": {
      "text/plain": "<Figure size 1440x1440 with 0 Axes>"
     },
     "metadata": {}
    },
    {
     "output_type": "display_data",
     "data": {
      "text/plain": "<Figure size 1440x1440 with 0 Axes>"
     },
     "metadata": {}
    },
    {
     "output_type": "display_data",
     "data": {
      "text/plain": "<Figure size 1440x1440 with 0 Axes>"
     },
     "metadata": {}
    },
    {
     "output_type": "display_data",
     "data": {
      "text/plain": "<Figure size 1440x1440 with 0 Axes>"
     },
     "metadata": {}
    },
    {
     "output_type": "display_data",
     "data": {
      "text/plain": "<Figure size 1440x1440 with 0 Axes>"
     },
     "metadata": {}
    },
    {
     "output_type": "display_data",
     "data": {
      "text/plain": "<Figure size 1440x1440 with 0 Axes>"
     },
     "metadata": {}
    },
    {
     "output_type": "display_data",
     "data": {
      "text/plain": "<Figure size 1440x1440 with 0 Axes>"
     },
     "metadata": {}
    },
    {
     "output_type": "display_data",
     "data": {
      "text/plain": "<Figure size 1440x1440 with 0 Axes>"
     },
     "metadata": {}
    },
    {
     "output_type": "display_data",
     "data": {
      "text/plain": "<Figure size 1440x1440 with 0 Axes>"
     },
     "metadata": {}
    },
    {
     "output_type": "display_data",
     "data": {
      "text/plain": "<Figure size 1440x1440 with 0 Axes>"
     },
     "metadata": {}
    },
    {
     "output_type": "display_data",
     "data": {
      "text/plain": "<Figure size 1440x1440 with 0 Axes>"
     },
     "metadata": {}
    },
    {
     "output_type": "display_data",
     "data": {
      "text/plain": "<Figure size 1440x1440 with 0 Axes>"
     },
     "metadata": {}
    },
    {
     "output_type": "display_data",
     "data": {
      "text/plain": "<Figure size 1440x1440 with 0 Axes>"
     },
     "metadata": {}
    },
    {
     "output_type": "display_data",
     "data": {
      "text/plain": "<Figure size 1440x1440 with 0 Axes>"
     },
     "metadata": {}
    },
    {
     "output_type": "display_data",
     "data": {
      "text/plain": "<Figure size 1440x1440 with 0 Axes>"
     },
     "metadata": {}
    },
    {
     "output_type": "display_data",
     "data": {
      "text/plain": "<Figure size 1440x1440 with 0 Axes>"
     },
     "metadata": {}
    },
    {
     "output_type": "display_data",
     "data": {
      "text/plain": "<Figure size 1440x1440 with 0 Axes>"
     },
     "metadata": {}
    },
    {
     "output_type": "display_data",
     "data": {
      "text/plain": "<Figure size 1440x1440 with 0 Axes>"
     },
     "metadata": {}
    },
    {
     "output_type": "display_data",
     "data": {
      "text/plain": "<Figure size 1440x1440 with 0 Axes>"
     },
     "metadata": {}
    },
    {
     "output_type": "display_data",
     "data": {
      "text/plain": "<Figure size 1440x1440 with 0 Axes>"
     },
     "metadata": {}
    },
    {
     "output_type": "display_data",
     "data": {
      "text/plain": "<Figure size 1440x1440 with 0 Axes>"
     },
     "metadata": {}
    },
    {
     "output_type": "display_data",
     "data": {
      "text/plain": "<Figure size 1440x1440 with 0 Axes>"
     },
     "metadata": {}
    },
    {
     "output_type": "display_data",
     "data": {
      "text/plain": "<Figure size 1440x1440 with 0 Axes>"
     },
     "metadata": {}
    },
    {
     "output_type": "display_data",
     "data": {
      "text/plain": "<Figure size 1440x1440 with 0 Axes>"
     },
     "metadata": {}
    },
    {
     "output_type": "display_data",
     "data": {
      "text/plain": "<Figure size 1440x1440 with 0 Axes>"
     },
     "metadata": {}
    },
    {
     "output_type": "display_data",
     "data": {
      "text/plain": "<Figure size 1440x1440 with 0 Axes>"
     },
     "metadata": {}
    },
    {
     "output_type": "display_data",
     "data": {
      "text/plain": "<Figure size 1440x1440 with 0 Axes>"
     },
     "metadata": {}
    },
    {
     "output_type": "display_data",
     "data": {
      "text/plain": "<Figure size 1440x1440 with 0 Axes>"
     },
     "metadata": {}
    },
    {
     "output_type": "display_data",
     "data": {
      "text/plain": "<Figure size 1440x1440 with 0 Axes>"
     },
     "metadata": {}
    },
    {
     "output_type": "display_data",
     "data": {
      "text/plain": "<Figure size 1440x1440 with 0 Axes>"
     },
     "metadata": {}
    },
    {
     "output_type": "display_data",
     "data": {
      "text/plain": "<Figure size 1440x1440 with 0 Axes>"
     },
     "metadata": {}
    },
    {
     "output_type": "display_data",
     "data": {
      "text/plain": "<Figure size 1440x1440 with 0 Axes>"
     },
     "metadata": {}
    },
    {
     "output_type": "display_data",
     "data": {
      "text/plain": "<Figure size 1440x1440 with 0 Axes>"
     },
     "metadata": {}
    },
    {
     "output_type": "display_data",
     "data": {
      "text/plain": "<Figure size 1440x1440 with 0 Axes>"
     },
     "metadata": {}
    },
    {
     "output_type": "display_data",
     "data": {
      "text/plain": "<Figure size 1440x1440 with 0 Axes>"
     },
     "metadata": {}
    },
    {
     "output_type": "display_data",
     "data": {
      "text/plain": "<Figure size 1440x1440 with 0 Axes>"
     },
     "metadata": {}
    },
    {
     "output_type": "display_data",
     "data": {
      "text/plain": "<Figure size 1440x1440 with 0 Axes>"
     },
     "metadata": {}
    },
    {
     "output_type": "display_data",
     "data": {
      "text/plain": "<Figure size 1440x1440 with 0 Axes>"
     },
     "metadata": {}
    },
    {
     "output_type": "display_data",
     "data": {
      "text/plain": "<Figure size 1440x1440 with 0 Axes>"
     },
     "metadata": {}
    },
    {
     "output_type": "display_data",
     "data": {
      "text/plain": "<Figure size 1440x1440 with 0 Axes>"
     },
     "metadata": {}
    },
    {
     "output_type": "display_data",
     "data": {
      "text/plain": "<Figure size 1440x1440 with 0 Axes>"
     },
     "metadata": {}
    },
    {
     "output_type": "display_data",
     "data": {
      "text/plain": "<Figure size 1440x1440 with 0 Axes>"
     },
     "metadata": {}
    },
    {
     "output_type": "display_data",
     "data": {
      "text/plain": "<Figure size 1440x1440 with 0 Axes>"
     },
     "metadata": {}
    },
    {
     "output_type": "display_data",
     "data": {
      "text/plain": "<Figure size 1440x1440 with 0 Axes>"
     },
     "metadata": {}
    },
    {
     "output_type": "display_data",
     "data": {
      "text/plain": "<Figure size 1440x1440 with 0 Axes>"
     },
     "metadata": {}
    },
    {
     "output_type": "display_data",
     "data": {
      "text/plain": "<Figure size 1440x1440 with 0 Axes>"
     },
     "metadata": {}
    },
    {
     "output_type": "display_data",
     "data": {
      "text/plain": "<Figure size 1440x1440 with 0 Axes>"
     },
     "metadata": {}
    },
    {
     "output_type": "display_data",
     "data": {
      "text/plain": "<Figure size 1440x1440 with 0 Axes>"
     },
     "metadata": {}
    },
    {
     "output_type": "display_data",
     "data": {
      "text/plain": "<Figure size 1440x1440 with 0 Axes>"
     },
     "metadata": {}
    },
    {
     "output_type": "display_data",
     "data": {
      "text/plain": "<Figure size 1440x1440 with 0 Axes>"
     },
     "metadata": {}
    },
    {
     "output_type": "display_data",
     "data": {
      "text/plain": "<Figure size 1440x1440 with 0 Axes>"
     },
     "metadata": {}
    },
    {
     "output_type": "display_data",
     "data": {
      "text/plain": "<Figure size 1440x1440 with 0 Axes>"
     },
     "metadata": {}
    },
    {
     "output_type": "display_data",
     "data": {
      "text/plain": "<Figure size 1440x1440 with 0 Axes>"
     },
     "metadata": {}
    },
    {
     "output_type": "display_data",
     "data": {
      "text/plain": "<Figure size 1440x1440 with 0 Axes>"
     },
     "metadata": {}
    },
    {
     "output_type": "display_data",
     "data": {
      "text/plain": "<Figure size 1440x1440 with 0 Axes>"
     },
     "metadata": {}
    },
    {
     "output_type": "display_data",
     "data": {
      "text/plain": "<Figure size 1440x1440 with 0 Axes>"
     },
     "metadata": {}
    },
    {
     "output_type": "display_data",
     "data": {
      "text/plain": "<Figure size 1440x1440 with 0 Axes>"
     },
     "metadata": {}
    },
    {
     "output_type": "display_data",
     "data": {
      "text/plain": "<Figure size 1440x1440 with 0 Axes>"
     },
     "metadata": {}
    },
    {
     "output_type": "display_data",
     "data": {
      "text/plain": "<Figure size 1440x1440 with 0 Axes>"
     },
     "metadata": {}
    },
    {
     "output_type": "display_data",
     "data": {
      "text/plain": "<Figure size 1440x1440 with 0 Axes>"
     },
     "metadata": {}
    },
    {
     "output_type": "display_data",
     "data": {
      "text/plain": "<Figure size 1440x1440 with 0 Axes>"
     },
     "metadata": {}
    },
    {
     "output_type": "display_data",
     "data": {
      "text/plain": "<Figure size 1440x1440 with 0 Axes>"
     },
     "metadata": {}
    },
    {
     "output_type": "display_data",
     "data": {
      "text/plain": "<Figure size 1440x1440 with 0 Axes>"
     },
     "metadata": {}
    },
    {
     "output_type": "display_data",
     "data": {
      "text/plain": "<Figure size 1440x1440 with 0 Axes>"
     },
     "metadata": {}
    },
    {
     "output_type": "display_data",
     "data": {
      "text/plain": "<Figure size 1440x1440 with 0 Axes>"
     },
     "metadata": {}
    },
    {
     "output_type": "display_data",
     "data": {
      "text/plain": "<Figure size 1440x1440 with 0 Axes>"
     },
     "metadata": {}
    },
    {
     "output_type": "display_data",
     "data": {
      "text/plain": "<Figure size 1440x1440 with 0 Axes>"
     },
     "metadata": {}
    },
    {
     "output_type": "display_data",
     "data": {
      "text/plain": "<Figure size 1440x1440 with 0 Axes>"
     },
     "metadata": {}
    }
   ],
   "source": [
    "\n",
    "logStatus1 = pickle.load(open(os.path.join(data_dir,'G_logState1.p'), 'rb'))\n",
    "logStatus2 = pickle.load(open(os.path.join(data_dir,'G_logState2.p'), 'rb'))\n",
    "logStatus3 = pickle.load(open(os.path.join(data_dir,'G_logState3.p'), 'rb'))\n",
    "logStatus4 = pickle.load(open(os.path.join(data_dir,'G_logState4.p'), 'rb'))\n",
    "status_list  = ['S', 'E','I','R','D']\n",
    "status_list = ['D']\n",
    "for t in range(150): \n",
    "    fig, ax = plt.subplots(ncols=2, nrows=2, figsize=(20,20),  sharex='all', sharey='all')\n",
    "    animate(logStatus1, ax[0,0], t,  status_list)\n",
    "    animate(logStatus2, ax[0,1], t,  status_list)\n",
    "    animate(logStatus3, ax[1,0], t,  status_list)\n",
    "    animate(logStatus4, ax[1,1], t,  status_list)\n",
    "    ax[0,0].set_title('State1')\n",
    "    ax[0,1].set_title('State2')\n",
    "    ax[1,0].set_title('State3')\n",
    "    ax[1,1].set_title('State4')\n",
    "    fig.suptitle('t= {} days'.format(t), fontsize=15)\n",
    "    fig.legend(['Susceptible','Exposed','Infected','Recovered', 'Died'], loc='lower center', ncol=5, fancybox=True, fontsize=15)\n",
    "    plt.tight_layout(pad=2.0, w_pad=0.0, h_pad=0.0)\n",
    "    plt.savefig(r'C:\\TEMP\\covid\\png10\\Graph_{:04d}.png'.format(t), format=\"PNG\")\n",
    "    fig.clear()"
   ]
  },
  {
   "cell_type": "code",
   "execution_count": null,
   "metadata": {},
   "outputs": [],
   "source": []
  },
  {
   "cell_type": "code",
   "execution_count": 86,
   "metadata": {},
   "outputs": [
    {
     "output_type": "display_data",
     "data": {
      "text/plain": "<Figure size 1440x720 with 0 Axes>"
     },
     "metadata": {}
    },
    {
     "output_type": "display_data",
     "data": {
      "text/plain": "<Figure size 1440x720 with 0 Axes>"
     },
     "metadata": {}
    },
    {
     "output_type": "display_data",
     "data": {
      "text/plain": "<Figure size 1440x720 with 0 Axes>"
     },
     "metadata": {}
    },
    {
     "output_type": "display_data",
     "data": {
      "text/plain": "<Figure size 1440x720 with 0 Axes>"
     },
     "metadata": {}
    },
    {
     "output_type": "display_data",
     "data": {
      "text/plain": "<Figure size 1440x720 with 0 Axes>"
     },
     "metadata": {}
    },
    {
     "output_type": "display_data",
     "data": {
      "text/plain": "<Figure size 1440x720 with 0 Axes>"
     },
     "metadata": {}
    },
    {
     "output_type": "display_data",
     "data": {
      "text/plain": "<Figure size 1440x720 with 0 Axes>"
     },
     "metadata": {}
    },
    {
     "output_type": "display_data",
     "data": {
      "text/plain": "<Figure size 1440x720 with 0 Axes>"
     },
     "metadata": {}
    },
    {
     "output_type": "display_data",
     "data": {
      "text/plain": "<Figure size 1440x720 with 0 Axes>"
     },
     "metadata": {}
    },
    {
     "output_type": "display_data",
     "data": {
      "text/plain": "<Figure size 1440x720 with 0 Axes>"
     },
     "metadata": {}
    },
    {
     "output_type": "display_data",
     "data": {
      "text/plain": "<Figure size 1440x720 with 0 Axes>"
     },
     "metadata": {}
    },
    {
     "output_type": "display_data",
     "data": {
      "text/plain": "<Figure size 1440x720 with 0 Axes>"
     },
     "metadata": {}
    },
    {
     "output_type": "display_data",
     "data": {
      "text/plain": "<Figure size 1440x720 with 0 Axes>"
     },
     "metadata": {}
    },
    {
     "output_type": "display_data",
     "data": {
      "text/plain": "<Figure size 1440x720 with 0 Axes>"
     },
     "metadata": {}
    },
    {
     "output_type": "display_data",
     "data": {
      "text/plain": "<Figure size 1440x720 with 0 Axes>"
     },
     "metadata": {}
    },
    {
     "output_type": "display_data",
     "data": {
      "text/plain": "<Figure size 1440x720 with 0 Axes>"
     },
     "metadata": {}
    },
    {
     "output_type": "display_data",
     "data": {
      "text/plain": "<Figure size 1440x720 with 0 Axes>"
     },
     "metadata": {}
    },
    {
     "output_type": "display_data",
     "data": {
      "text/plain": "<Figure size 1440x720 with 0 Axes>"
     },
     "metadata": {}
    },
    {
     "output_type": "display_data",
     "data": {
      "text/plain": "<Figure size 1440x720 with 0 Axes>"
     },
     "metadata": {}
    },
    {
     "output_type": "display_data",
     "data": {
      "text/plain": "<Figure size 1440x720 with 0 Axes>"
     },
     "metadata": {}
    },
    {
     "output_type": "display_data",
     "data": {
      "text/plain": "<Figure size 1440x720 with 0 Axes>"
     },
     "metadata": {}
    },
    {
     "output_type": "display_data",
     "data": {
      "text/plain": "<Figure size 1440x720 with 0 Axes>"
     },
     "metadata": {}
    },
    {
     "output_type": "display_data",
     "data": {
      "text/plain": "<Figure size 1440x720 with 0 Axes>"
     },
     "metadata": {}
    },
    {
     "output_type": "display_data",
     "data": {
      "text/plain": "<Figure size 1440x720 with 0 Axes>"
     },
     "metadata": {}
    },
    {
     "output_type": "display_data",
     "data": {
      "text/plain": "<Figure size 1440x720 with 0 Axes>"
     },
     "metadata": {}
    },
    {
     "output_type": "display_data",
     "data": {
      "text/plain": "<Figure size 1440x720 with 0 Axes>"
     },
     "metadata": {}
    },
    {
     "output_type": "display_data",
     "data": {
      "text/plain": "<Figure size 1440x720 with 0 Axes>"
     },
     "metadata": {}
    },
    {
     "output_type": "display_data",
     "data": {
      "text/plain": "<Figure size 1440x720 with 0 Axes>"
     },
     "metadata": {}
    },
    {
     "output_type": "display_data",
     "data": {
      "text/plain": "<Figure size 1440x720 with 0 Axes>"
     },
     "metadata": {}
    },
    {
     "output_type": "display_data",
     "data": {
      "text/plain": "<Figure size 1440x720 with 0 Axes>"
     },
     "metadata": {}
    },
    {
     "output_type": "display_data",
     "data": {
      "text/plain": "<Figure size 1440x720 with 0 Axes>"
     },
     "metadata": {}
    },
    {
     "output_type": "display_data",
     "data": {
      "text/plain": "<Figure size 1440x720 with 0 Axes>"
     },
     "metadata": {}
    },
    {
     "output_type": "display_data",
     "data": {
      "text/plain": "<Figure size 1440x720 with 0 Axes>"
     },
     "metadata": {}
    },
    {
     "output_type": "display_data",
     "data": {
      "text/plain": "<Figure size 1440x720 with 0 Axes>"
     },
     "metadata": {}
    },
    {
     "output_type": "display_data",
     "data": {
      "text/plain": "<Figure size 1440x720 with 0 Axes>"
     },
     "metadata": {}
    },
    {
     "output_type": "display_data",
     "data": {
      "text/plain": "<Figure size 1440x720 with 0 Axes>"
     },
     "metadata": {}
    },
    {
     "output_type": "display_data",
     "data": {
      "text/plain": "<Figure size 1440x720 with 0 Axes>"
     },
     "metadata": {}
    },
    {
     "output_type": "display_data",
     "data": {
      "text/plain": "<Figure size 1440x720 with 0 Axes>"
     },
     "metadata": {}
    },
    {
     "output_type": "display_data",
     "data": {
      "text/plain": "<Figure size 1440x720 with 0 Axes>"
     },
     "metadata": {}
    },
    {
     "output_type": "display_data",
     "data": {
      "text/plain": "<Figure size 1440x720 with 0 Axes>"
     },
     "metadata": {}
    },
    {
     "output_type": "display_data",
     "data": {
      "text/plain": "<Figure size 1440x720 with 0 Axes>"
     },
     "metadata": {}
    },
    {
     "output_type": "display_data",
     "data": {
      "text/plain": "<Figure size 1440x720 with 0 Axes>"
     },
     "metadata": {}
    },
    {
     "output_type": "display_data",
     "data": {
      "text/plain": "<Figure size 1440x720 with 0 Axes>"
     },
     "metadata": {}
    },
    {
     "output_type": "display_data",
     "data": {
      "text/plain": "<Figure size 1440x720 with 0 Axes>"
     },
     "metadata": {}
    },
    {
     "output_type": "display_data",
     "data": {
      "text/plain": "<Figure size 1440x720 with 0 Axes>"
     },
     "metadata": {}
    },
    {
     "output_type": "display_data",
     "data": {
      "text/plain": "<Figure size 1440x720 with 0 Axes>"
     },
     "metadata": {}
    },
    {
     "output_type": "display_data",
     "data": {
      "text/plain": "<Figure size 1440x720 with 0 Axes>"
     },
     "metadata": {}
    },
    {
     "output_type": "display_data",
     "data": {
      "text/plain": "<Figure size 1440x720 with 0 Axes>"
     },
     "metadata": {}
    },
    {
     "output_type": "display_data",
     "data": {
      "text/plain": "<Figure size 1440x720 with 0 Axes>"
     },
     "metadata": {}
    },
    {
     "output_type": "display_data",
     "data": {
      "text/plain": "<Figure size 1440x720 with 0 Axes>"
     },
     "metadata": {}
    },
    {
     "output_type": "display_data",
     "data": {
      "text/plain": "<Figure size 1440x720 with 0 Axes>"
     },
     "metadata": {}
    },
    {
     "output_type": "display_data",
     "data": {
      "text/plain": "<Figure size 1440x720 with 0 Axes>"
     },
     "metadata": {}
    },
    {
     "output_type": "display_data",
     "data": {
      "text/plain": "<Figure size 1440x720 with 0 Axes>"
     },
     "metadata": {}
    },
    {
     "output_type": "display_data",
     "data": {
      "text/plain": "<Figure size 1440x720 with 0 Axes>"
     },
     "metadata": {}
    },
    {
     "output_type": "display_data",
     "data": {
      "text/plain": "<Figure size 1440x720 with 0 Axes>"
     },
     "metadata": {}
    },
    {
     "output_type": "display_data",
     "data": {
      "text/plain": "<Figure size 1440x720 with 0 Axes>"
     },
     "metadata": {}
    },
    {
     "output_type": "display_data",
     "data": {
      "text/plain": "<Figure size 1440x720 with 0 Axes>"
     },
     "metadata": {}
    },
    {
     "output_type": "display_data",
     "data": {
      "text/plain": "<Figure size 1440x720 with 0 Axes>"
     },
     "metadata": {}
    },
    {
     "output_type": "display_data",
     "data": {
      "text/plain": "<Figure size 1440x720 with 0 Axes>"
     },
     "metadata": {}
    },
    {
     "output_type": "display_data",
     "data": {
      "text/plain": "<Figure size 1440x720 with 0 Axes>"
     },
     "metadata": {}
    },
    {
     "output_type": "display_data",
     "data": {
      "text/plain": "<Figure size 1440x720 with 0 Axes>"
     },
     "metadata": {}
    },
    {
     "output_type": "display_data",
     "data": {
      "text/plain": "<Figure size 1440x720 with 0 Axes>"
     },
     "metadata": {}
    },
    {
     "output_type": "display_data",
     "data": {
      "text/plain": "<Figure size 1440x720 with 0 Axes>"
     },
     "metadata": {}
    },
    {
     "output_type": "display_data",
     "data": {
      "text/plain": "<Figure size 1440x720 with 0 Axes>"
     },
     "metadata": {}
    },
    {
     "output_type": "display_data",
     "data": {
      "text/plain": "<Figure size 1440x720 with 0 Axes>"
     },
     "metadata": {}
    },
    {
     "output_type": "display_data",
     "data": {
      "text/plain": "<Figure size 1440x720 with 0 Axes>"
     },
     "metadata": {}
    },
    {
     "output_type": "display_data",
     "data": {
      "text/plain": "<Figure size 1440x720 with 0 Axes>"
     },
     "metadata": {}
    },
    {
     "output_type": "display_data",
     "data": {
      "text/plain": "<Figure size 1440x720 with 0 Axes>"
     },
     "metadata": {}
    },
    {
     "output_type": "display_data",
     "data": {
      "text/plain": "<Figure size 1440x720 with 0 Axes>"
     },
     "metadata": {}
    },
    {
     "output_type": "display_data",
     "data": {
      "text/plain": "<Figure size 1440x720 with 0 Axes>"
     },
     "metadata": {}
    },
    {
     "output_type": "display_data",
     "data": {
      "text/plain": "<Figure size 1440x720 with 0 Axes>"
     },
     "metadata": {}
    },
    {
     "output_type": "display_data",
     "data": {
      "text/plain": "<Figure size 1440x720 with 0 Axes>"
     },
     "metadata": {}
    },
    {
     "output_type": "display_data",
     "data": {
      "text/plain": "<Figure size 1440x720 with 0 Axes>"
     },
     "metadata": {}
    },
    {
     "output_type": "display_data",
     "data": {
      "text/plain": "<Figure size 1440x720 with 0 Axes>"
     },
     "metadata": {}
    },
    {
     "output_type": "display_data",
     "data": {
      "text/plain": "<Figure size 1440x720 with 0 Axes>"
     },
     "metadata": {}
    },
    {
     "output_type": "display_data",
     "data": {
      "text/plain": "<Figure size 1440x720 with 0 Axes>"
     },
     "metadata": {}
    },
    {
     "output_type": "display_data",
     "data": {
      "text/plain": "<Figure size 1440x720 with 0 Axes>"
     },
     "metadata": {}
    },
    {
     "output_type": "display_data",
     "data": {
      "text/plain": "<Figure size 1440x720 with 0 Axes>"
     },
     "metadata": {}
    },
    {
     "output_type": "display_data",
     "data": {
      "text/plain": "<Figure size 1440x720 with 0 Axes>"
     },
     "metadata": {}
    },
    {
     "output_type": "display_data",
     "data": {
      "text/plain": "<Figure size 1440x720 with 0 Axes>"
     },
     "metadata": {}
    },
    {
     "output_type": "display_data",
     "data": {
      "text/plain": "<Figure size 1440x720 with 0 Axes>"
     },
     "metadata": {}
    },
    {
     "output_type": "display_data",
     "data": {
      "text/plain": "<Figure size 1440x720 with 0 Axes>"
     },
     "metadata": {}
    },
    {
     "output_type": "display_data",
     "data": {
      "text/plain": "<Figure size 1440x720 with 0 Axes>"
     },
     "metadata": {}
    },
    {
     "output_type": "display_data",
     "data": {
      "text/plain": "<Figure size 1440x720 with 0 Axes>"
     },
     "metadata": {}
    },
    {
     "output_type": "display_data",
     "data": {
      "text/plain": "<Figure size 1440x720 with 0 Axes>"
     },
     "metadata": {}
    },
    {
     "output_type": "display_data",
     "data": {
      "text/plain": "<Figure size 1440x720 with 0 Axes>"
     },
     "metadata": {}
    },
    {
     "output_type": "display_data",
     "data": {
      "text/plain": "<Figure size 1440x720 with 0 Axes>"
     },
     "metadata": {}
    },
    {
     "output_type": "display_data",
     "data": {
      "text/plain": "<Figure size 1440x720 with 0 Axes>"
     },
     "metadata": {}
    },
    {
     "output_type": "display_data",
     "data": {
      "text/plain": "<Figure size 1440x720 with 0 Axes>"
     },
     "metadata": {}
    },
    {
     "output_type": "display_data",
     "data": {
      "text/plain": "<Figure size 1440x720 with 0 Axes>"
     },
     "metadata": {}
    },
    {
     "output_type": "display_data",
     "data": {
      "text/plain": "<Figure size 1440x720 with 0 Axes>"
     },
     "metadata": {}
    },
    {
     "output_type": "display_data",
     "data": {
      "text/plain": "<Figure size 1440x720 with 0 Axes>"
     },
     "metadata": {}
    },
    {
     "output_type": "display_data",
     "data": {
      "text/plain": "<Figure size 1440x720 with 0 Axes>"
     },
     "metadata": {}
    },
    {
     "output_type": "display_data",
     "data": {
      "text/plain": "<Figure size 1440x720 with 0 Axes>"
     },
     "metadata": {}
    },
    {
     "output_type": "display_data",
     "data": {
      "text/plain": "<Figure size 1440x720 with 0 Axes>"
     },
     "metadata": {}
    },
    {
     "output_type": "display_data",
     "data": {
      "text/plain": "<Figure size 1440x720 with 0 Axes>"
     },
     "metadata": {}
    },
    {
     "output_type": "display_data",
     "data": {
      "text/plain": "<Figure size 1440x720 with 0 Axes>"
     },
     "metadata": {}
    },
    {
     "output_type": "display_data",
     "data": {
      "text/plain": "<Figure size 1440x720 with 0 Axes>"
     },
     "metadata": {}
    },
    {
     "output_type": "display_data",
     "data": {
      "text/plain": "<Figure size 1440x720 with 0 Axes>"
     },
     "metadata": {}
    },
    {
     "output_type": "display_data",
     "data": {
      "text/plain": "<Figure size 1440x720 with 0 Axes>"
     },
     "metadata": {}
    },
    {
     "output_type": "display_data",
     "data": {
      "text/plain": "<Figure size 1440x720 with 0 Axes>"
     },
     "metadata": {}
    },
    {
     "output_type": "display_data",
     "data": {
      "text/plain": "<Figure size 1440x720 with 0 Axes>"
     },
     "metadata": {}
    },
    {
     "output_type": "display_data",
     "data": {
      "text/plain": "<Figure size 1440x720 with 0 Axes>"
     },
     "metadata": {}
    },
    {
     "output_type": "display_data",
     "data": {
      "text/plain": "<Figure size 1440x720 with 0 Axes>"
     },
     "metadata": {}
    },
    {
     "output_type": "display_data",
     "data": {
      "text/plain": "<Figure size 1440x720 with 0 Axes>"
     },
     "metadata": {}
    },
    {
     "output_type": "display_data",
     "data": {
      "text/plain": "<Figure size 1440x720 with 0 Axes>"
     },
     "metadata": {}
    },
    {
     "output_type": "display_data",
     "data": {
      "text/plain": "<Figure size 1440x720 with 0 Axes>"
     },
     "metadata": {}
    },
    {
     "output_type": "display_data",
     "data": {
      "text/plain": "<Figure size 1440x720 with 0 Axes>"
     },
     "metadata": {}
    },
    {
     "output_type": "display_data",
     "data": {
      "text/plain": "<Figure size 1440x720 with 0 Axes>"
     },
     "metadata": {}
    },
    {
     "output_type": "display_data",
     "data": {
      "text/plain": "<Figure size 1440x720 with 0 Axes>"
     },
     "metadata": {}
    },
    {
     "output_type": "display_data",
     "data": {
      "text/plain": "<Figure size 1440x720 with 0 Axes>"
     },
     "metadata": {}
    },
    {
     "output_type": "display_data",
     "data": {
      "text/plain": "<Figure size 1440x720 with 0 Axes>"
     },
     "metadata": {}
    },
    {
     "output_type": "display_data",
     "data": {
      "text/plain": "<Figure size 1440x720 with 0 Axes>"
     },
     "metadata": {}
    },
    {
     "output_type": "display_data",
     "data": {
      "text/plain": "<Figure size 1440x720 with 0 Axes>"
     },
     "metadata": {}
    },
    {
     "output_type": "display_data",
     "data": {
      "text/plain": "<Figure size 1440x720 with 0 Axes>"
     },
     "metadata": {}
    },
    {
     "output_type": "display_data",
     "data": {
      "text/plain": "<Figure size 1440x720 with 0 Axes>"
     },
     "metadata": {}
    },
    {
     "output_type": "display_data",
     "data": {
      "text/plain": "<Figure size 1440x720 with 0 Axes>"
     },
     "metadata": {}
    },
    {
     "output_type": "display_data",
     "data": {
      "text/plain": "<Figure size 1440x720 with 0 Axes>"
     },
     "metadata": {}
    },
    {
     "output_type": "display_data",
     "data": {
      "text/plain": "<Figure size 1440x720 with 0 Axes>"
     },
     "metadata": {}
    },
    {
     "output_type": "display_data",
     "data": {
      "text/plain": "<Figure size 1440x720 with 0 Axes>"
     },
     "metadata": {}
    },
    {
     "output_type": "display_data",
     "data": {
      "text/plain": "<Figure size 1440x720 with 0 Axes>"
     },
     "metadata": {}
    },
    {
     "output_type": "display_data",
     "data": {
      "text/plain": "<Figure size 1440x720 with 0 Axes>"
     },
     "metadata": {}
    },
    {
     "output_type": "display_data",
     "data": {
      "text/plain": "<Figure size 1440x720 with 0 Axes>"
     },
     "metadata": {}
    },
    {
     "output_type": "display_data",
     "data": {
      "text/plain": "<Figure size 1440x720 with 0 Axes>"
     },
     "metadata": {}
    },
    {
     "output_type": "display_data",
     "data": {
      "text/plain": "<Figure size 1440x720 with 0 Axes>"
     },
     "metadata": {}
    },
    {
     "output_type": "display_data",
     "data": {
      "text/plain": "<Figure size 1440x720 with 0 Axes>"
     },
     "metadata": {}
    },
    {
     "output_type": "display_data",
     "data": {
      "text/plain": "<Figure size 1440x720 with 0 Axes>"
     },
     "metadata": {}
    },
    {
     "output_type": "display_data",
     "data": {
      "text/plain": "<Figure size 1440x720 with 0 Axes>"
     },
     "metadata": {}
    },
    {
     "output_type": "display_data",
     "data": {
      "text/plain": "<Figure size 1440x720 with 0 Axes>"
     },
     "metadata": {}
    },
    {
     "output_type": "display_data",
     "data": {
      "text/plain": "<Figure size 1440x720 with 0 Axes>"
     },
     "metadata": {}
    },
    {
     "output_type": "display_data",
     "data": {
      "text/plain": "<Figure size 1440x720 with 0 Axes>"
     },
     "metadata": {}
    },
    {
     "output_type": "display_data",
     "data": {
      "text/plain": "<Figure size 1440x720 with 0 Axes>"
     },
     "metadata": {}
    },
    {
     "output_type": "display_data",
     "data": {
      "text/plain": "<Figure size 1440x720 with 0 Axes>"
     },
     "metadata": {}
    },
    {
     "output_type": "display_data",
     "data": {
      "text/plain": "<Figure size 1440x720 with 0 Axes>"
     },
     "metadata": {}
    },
    {
     "output_type": "display_data",
     "data": {
      "text/plain": "<Figure size 1440x720 with 0 Axes>"
     },
     "metadata": {}
    },
    {
     "output_type": "display_data",
     "data": {
      "text/plain": "<Figure size 1440x720 with 0 Axes>"
     },
     "metadata": {}
    },
    {
     "output_type": "display_data",
     "data": {
      "text/plain": "<Figure size 1440x720 with 0 Axes>"
     },
     "metadata": {}
    },
    {
     "output_type": "display_data",
     "data": {
      "text/plain": "<Figure size 1440x720 with 0 Axes>"
     },
     "metadata": {}
    },
    {
     "output_type": "display_data",
     "data": {
      "text/plain": "<Figure size 1440x720 with 0 Axes>"
     },
     "metadata": {}
    },
    {
     "output_type": "display_data",
     "data": {
      "text/plain": "<Figure size 1440x720 with 0 Axes>"
     },
     "metadata": {}
    },
    {
     "output_type": "display_data",
     "data": {
      "text/plain": "<Figure size 1440x720 with 0 Axes>"
     },
     "metadata": {}
    },
    {
     "output_type": "display_data",
     "data": {
      "text/plain": "<Figure size 1440x720 with 0 Axes>"
     },
     "metadata": {}
    },
    {
     "output_type": "display_data",
     "data": {
      "text/plain": "<Figure size 1440x720 with 0 Axes>"
     },
     "metadata": {}
    },
    {
     "output_type": "display_data",
     "data": {
      "text/plain": "<Figure size 1440x720 with 0 Axes>"
     },
     "metadata": {}
    },
    {
     "output_type": "display_data",
     "data": {
      "text/plain": "<Figure size 1440x720 with 0 Axes>"
     },
     "metadata": {}
    },
    {
     "output_type": "display_data",
     "data": {
      "text/plain": "<Figure size 1440x720 with 0 Axes>"
     },
     "metadata": {}
    },
    {
     "output_type": "display_data",
     "data": {
      "text/plain": "<Figure size 1440x720 with 0 Axes>"
     },
     "metadata": {}
    },
    {
     "output_type": "display_data",
     "data": {
      "text/plain": "<Figure size 1440x720 with 0 Axes>"
     },
     "metadata": {}
    },
    {
     "output_type": "display_data",
     "data": {
      "text/plain": "<Figure size 1440x720 with 0 Axes>"
     },
     "metadata": {}
    },
    {
     "output_type": "display_data",
     "data": {
      "text/plain": "<Figure size 1440x720 with 0 Axes>"
     },
     "metadata": {}
    },
    {
     "output_type": "display_data",
     "data": {
      "text/plain": "<Figure size 1440x720 with 0 Axes>"
     },
     "metadata": {}
    },
    {
     "output_type": "display_data",
     "data": {
      "text/plain": "<Figure size 1440x720 with 0 Axes>"
     },
     "metadata": {}
    },
    {
     "output_type": "display_data",
     "data": {
      "text/plain": "<Figure size 1440x720 with 0 Axes>"
     },
     "metadata": {}
    },
    {
     "output_type": "display_data",
     "data": {
      "text/plain": "<Figure size 1440x720 with 0 Axes>"
     },
     "metadata": {}
    },
    {
     "output_type": "display_data",
     "data": {
      "text/plain": "<Figure size 1440x720 with 0 Axes>"
     },
     "metadata": {}
    },
    {
     "output_type": "display_data",
     "data": {
      "text/plain": "<Figure size 1440x720 with 0 Axes>"
     },
     "metadata": {}
    },
    {
     "output_type": "display_data",
     "data": {
      "text/plain": "<Figure size 1440x720 with 0 Axes>"
     },
     "metadata": {}
    },
    {
     "output_type": "display_data",
     "data": {
      "text/plain": "<Figure size 1440x720 with 0 Axes>"
     },
     "metadata": {}
    },
    {
     "output_type": "display_data",
     "data": {
      "text/plain": "<Figure size 1440x720 with 0 Axes>"
     },
     "metadata": {}
    },
    {
     "output_type": "display_data",
     "data": {
      "text/plain": "<Figure size 1440x720 with 0 Axes>"
     },
     "metadata": {}
    },
    {
     "output_type": "display_data",
     "data": {
      "text/plain": "<Figure size 1440x720 with 0 Axes>"
     },
     "metadata": {}
    },
    {
     "output_type": "display_data",
     "data": {
      "text/plain": "<Figure size 1440x720 with 0 Axes>"
     },
     "metadata": {}
    },
    {
     "output_type": "display_data",
     "data": {
      "text/plain": "<Figure size 1440x720 with 0 Axes>"
     },
     "metadata": {}
    },
    {
     "output_type": "display_data",
     "data": {
      "text/plain": "<Figure size 1440x720 with 0 Axes>"
     },
     "metadata": {}
    },
    {
     "output_type": "display_data",
     "data": {
      "text/plain": "<Figure size 1440x720 with 0 Axes>"
     },
     "metadata": {}
    },
    {
     "output_type": "display_data",
     "data": {
      "text/plain": "<Figure size 1440x720 with 0 Axes>"
     },
     "metadata": {}
    },
    {
     "output_type": "display_data",
     "data": {
      "text/plain": "<Figure size 1440x720 with 0 Axes>"
     },
     "metadata": {}
    },
    {
     "output_type": "display_data",
     "data": {
      "text/plain": "<Figure size 1440x720 with 0 Axes>"
     },
     "metadata": {}
    },
    {
     "output_type": "display_data",
     "data": {
      "text/plain": "<Figure size 1440x720 with 0 Axes>"
     },
     "metadata": {}
    },
    {
     "output_type": "display_data",
     "data": {
      "text/plain": "<Figure size 1440x720 with 0 Axes>"
     },
     "metadata": {}
    },
    {
     "output_type": "display_data",
     "data": {
      "text/plain": "<Figure size 1440x720 with 0 Axes>"
     },
     "metadata": {}
    },
    {
     "output_type": "display_data",
     "data": {
      "text/plain": "<Figure size 1440x720 with 0 Axes>"
     },
     "metadata": {}
    },
    {
     "output_type": "display_data",
     "data": {
      "text/plain": "<Figure size 1440x720 with 0 Axes>"
     },
     "metadata": {}
    },
    {
     "output_type": "display_data",
     "data": {
      "text/plain": "<Figure size 1440x720 with 0 Axes>"
     },
     "metadata": {}
    },
    {
     "output_type": "display_data",
     "data": {
      "text/plain": "<Figure size 1440x720 with 0 Axes>"
     },
     "metadata": {}
    },
    {
     "output_type": "display_data",
     "data": {
      "text/plain": "<Figure size 1440x720 with 0 Axes>"
     },
     "metadata": {}
    },
    {
     "output_type": "display_data",
     "data": {
      "text/plain": "<Figure size 1440x720 with 0 Axes>"
     },
     "metadata": {}
    },
    {
     "output_type": "display_data",
     "data": {
      "text/plain": "<Figure size 1440x720 with 0 Axes>"
     },
     "metadata": {}
    },
    {
     "output_type": "display_data",
     "data": {
      "text/plain": "<Figure size 1440x720 with 0 Axes>"
     },
     "metadata": {}
    },
    {
     "output_type": "display_data",
     "data": {
      "text/plain": "<Figure size 1440x720 with 0 Axes>"
     },
     "metadata": {}
    },
    {
     "output_type": "display_data",
     "data": {
      "text/plain": "<Figure size 1440x720 with 0 Axes>"
     },
     "metadata": {}
    },
    {
     "output_type": "display_data",
     "data": {
      "text/plain": "<Figure size 1440x720 with 0 Axes>"
     },
     "metadata": {}
    },
    {
     "output_type": "display_data",
     "data": {
      "text/plain": "<Figure size 1440x720 with 0 Axes>"
     },
     "metadata": {}
    },
    {
     "output_type": "display_data",
     "data": {
      "text/plain": "<Figure size 1440x720 with 0 Axes>"
     },
     "metadata": {}
    },
    {
     "output_type": "display_data",
     "data": {
      "text/plain": "<Figure size 1440x720 with 0 Axes>"
     },
     "metadata": {}
    },
    {
     "output_type": "display_data",
     "data": {
      "text/plain": "<Figure size 1440x720 with 0 Axes>"
     },
     "metadata": {}
    },
    {
     "output_type": "display_data",
     "data": {
      "text/plain": "<Figure size 1440x720 with 0 Axes>"
     },
     "metadata": {}
    },
    {
     "output_type": "display_data",
     "data": {
      "text/plain": "<Figure size 1440x720 with 0 Axes>"
     },
     "metadata": {}
    },
    {
     "output_type": "display_data",
     "data": {
      "text/plain": "<Figure size 1440x720 with 0 Axes>"
     },
     "metadata": {}
    },
    {
     "output_type": "display_data",
     "data": {
      "text/plain": "<Figure size 1440x720 with 0 Axes>"
     },
     "metadata": {}
    },
    {
     "output_type": "display_data",
     "data": {
      "text/plain": "<Figure size 1440x720 with 0 Axes>"
     },
     "metadata": {}
    },
    {
     "output_type": "display_data",
     "data": {
      "text/plain": "<Figure size 1440x720 with 0 Axes>"
     },
     "metadata": {}
    },
    {
     "output_type": "display_data",
     "data": {
      "text/plain": "<Figure size 1440x720 with 0 Axes>"
     },
     "metadata": {}
    },
    {
     "output_type": "display_data",
     "data": {
      "text/plain": "<Figure size 1440x720 with 0 Axes>"
     },
     "metadata": {}
    },
    {
     "output_type": "display_data",
     "data": {
      "text/plain": "<Figure size 1440x720 with 0 Axes>"
     },
     "metadata": {}
    },
    {
     "output_type": "display_data",
     "data": {
      "text/plain": "<Figure size 1440x720 with 0 Axes>"
     },
     "metadata": {}
    },
    {
     "output_type": "display_data",
     "data": {
      "text/plain": "<Figure size 1440x720 with 0 Axes>"
     },
     "metadata": {}
    },
    {
     "output_type": "display_data",
     "data": {
      "text/plain": "<Figure size 1440x720 with 0 Axes>"
     },
     "metadata": {}
    },
    {
     "output_type": "display_data",
     "data": {
      "text/plain": "<Figure size 1440x720 with 0 Axes>"
     },
     "metadata": {}
    },
    {
     "output_type": "display_data",
     "data": {
      "text/plain": "<Figure size 1440x720 with 0 Axes>"
     },
     "metadata": {}
    },
    {
     "output_type": "display_data",
     "data": {
      "text/plain": "<Figure size 1440x720 with 0 Axes>"
     },
     "metadata": {}
    },
    {
     "output_type": "display_data",
     "data": {
      "text/plain": "<Figure size 1440x720 with 0 Axes>"
     },
     "metadata": {}
    },
    {
     "output_type": "display_data",
     "data": {
      "text/plain": "<Figure size 1440x720 with 0 Axes>"
     },
     "metadata": {}
    },
    {
     "output_type": "display_data",
     "data": {
      "text/plain": "<Figure size 1440x720 with 0 Axes>"
     },
     "metadata": {}
    },
    {
     "output_type": "display_data",
     "data": {
      "text/plain": "<Figure size 1440x720 with 0 Axes>"
     },
     "metadata": {}
    },
    {
     "output_type": "display_data",
     "data": {
      "text/plain": "<Figure size 1440x720 with 0 Axes>"
     },
     "metadata": {}
    },
    {
     "output_type": "display_data",
     "data": {
      "text/plain": "<Figure size 1440x720 with 0 Axes>"
     },
     "metadata": {}
    },
    {
     "output_type": "display_data",
     "data": {
      "text/plain": "<Figure size 1440x720 with 0 Axes>"
     },
     "metadata": {}
    },
    {
     "output_type": "display_data",
     "data": {
      "text/plain": "<Figure size 1440x720 with 0 Axes>"
     },
     "metadata": {}
    },
    {
     "output_type": "display_data",
     "data": {
      "text/plain": "<Figure size 1440x720 with 0 Axes>"
     },
     "metadata": {}
    },
    {
     "output_type": "display_data",
     "data": {
      "text/plain": "<Figure size 1440x720 with 0 Axes>"
     },
     "metadata": {}
    },
    {
     "output_type": "display_data",
     "data": {
      "text/plain": "<Figure size 1440x720 with 0 Axes>"
     },
     "metadata": {}
    },
    {
     "output_type": "display_data",
     "data": {
      "text/plain": "<Figure size 1440x720 with 0 Axes>"
     },
     "metadata": {}
    },
    {
     "output_type": "display_data",
     "data": {
      "text/plain": "<Figure size 1440x720 with 0 Axes>"
     },
     "metadata": {}
    },
    {
     "output_type": "display_data",
     "data": {
      "text/plain": "<Figure size 1440x720 with 0 Axes>"
     },
     "metadata": {}
    },
    {
     "output_type": "display_data",
     "data": {
      "text/plain": "<Figure size 1440x720 with 0 Axes>"
     },
     "metadata": {}
    },
    {
     "output_type": "display_data",
     "data": {
      "text/plain": "<Figure size 1440x720 with 0 Axes>"
     },
     "metadata": {}
    },
    {
     "output_type": "display_data",
     "data": {
      "text/plain": "<Figure size 1440x720 with 0 Axes>"
     },
     "metadata": {}
    },
    {
     "output_type": "display_data",
     "data": {
      "text/plain": "<Figure size 1440x720 with 0 Axes>"
     },
     "metadata": {}
    },
    {
     "output_type": "display_data",
     "data": {
      "text/plain": "<Figure size 1440x720 with 0 Axes>"
     },
     "metadata": {}
    },
    {
     "output_type": "display_data",
     "data": {
      "text/plain": "<Figure size 1440x720 with 0 Axes>"
     },
     "metadata": {}
    },
    {
     "output_type": "display_data",
     "data": {
      "text/plain": "<Figure size 1440x720 with 0 Axes>"
     },
     "metadata": {}
    },
    {
     "output_type": "display_data",
     "data": {
      "text/plain": "<Figure size 1440x720 with 0 Axes>"
     },
     "metadata": {}
    },
    {
     "output_type": "display_data",
     "data": {
      "text/plain": "<Figure size 1440x720 with 0 Axes>"
     },
     "metadata": {}
    },
    {
     "output_type": "display_data",
     "data": {
      "text/plain": "<Figure size 1440x720 with 0 Axes>"
     },
     "metadata": {}
    },
    {
     "output_type": "display_data",
     "data": {
      "text/plain": "<Figure size 1440x720 with 0 Axes>"
     },
     "metadata": {}
    },
    {
     "output_type": "display_data",
     "data": {
      "text/plain": "<Figure size 1440x720 with 0 Axes>"
     },
     "metadata": {}
    },
    {
     "output_type": "display_data",
     "data": {
      "text/plain": "<Figure size 1440x720 with 0 Axes>"
     },
     "metadata": {}
    },
    {
     "output_type": "display_data",
     "data": {
      "text/plain": "<Figure size 1440x720 with 0 Axes>"
     },
     "metadata": {}
    },
    {
     "output_type": "display_data",
     "data": {
      "text/plain": "<Figure size 1440x720 with 0 Axes>"
     },
     "metadata": {}
    },
    {
     "output_type": "display_data",
     "data": {
      "text/plain": "<Figure size 1440x720 with 0 Axes>"
     },
     "metadata": {}
    },
    {
     "output_type": "display_data",
     "data": {
      "text/plain": "<Figure size 1440x720 with 0 Axes>"
     },
     "metadata": {}
    },
    {
     "output_type": "display_data",
     "data": {
      "text/plain": "<Figure size 1440x720 with 0 Axes>"
     },
     "metadata": {}
    },
    {
     "output_type": "display_data",
     "data": {
      "text/plain": "<Figure size 1440x720 with 0 Axes>"
     },
     "metadata": {}
    },
    {
     "output_type": "display_data",
     "data": {
      "text/plain": "<Figure size 1440x720 with 0 Axes>"
     },
     "metadata": {}
    },
    {
     "output_type": "display_data",
     "data": {
      "text/plain": "<Figure size 1440x720 with 0 Axes>"
     },
     "metadata": {}
    },
    {
     "output_type": "display_data",
     "data": {
      "text/plain": "<Figure size 1440x720 with 0 Axes>"
     },
     "metadata": {}
    },
    {
     "output_type": "display_data",
     "data": {
      "text/plain": "<Figure size 1440x720 with 0 Axes>"
     },
     "metadata": {}
    },
    {
     "output_type": "display_data",
     "data": {
      "text/plain": "<Figure size 1440x720 with 0 Axes>"
     },
     "metadata": {}
    },
    {
     "output_type": "display_data",
     "data": {
      "text/plain": "<Figure size 1440x720 with 0 Axes>"
     },
     "metadata": {}
    },
    {
     "output_type": "display_data",
     "data": {
      "text/plain": "<Figure size 1440x720 with 0 Axes>"
     },
     "metadata": {}
    },
    {
     "output_type": "display_data",
     "data": {
      "text/plain": "<Figure size 1440x720 with 0 Axes>"
     },
     "metadata": {}
    },
    {
     "output_type": "display_data",
     "data": {
      "text/plain": "<Figure size 1440x720 with 0 Axes>"
     },
     "metadata": {}
    },
    {
     "output_type": "display_data",
     "data": {
      "text/plain": "<Figure size 1440x720 with 0 Axes>"
     },
     "metadata": {}
    },
    {
     "output_type": "display_data",
     "data": {
      "text/plain": "<Figure size 1440x720 with 0 Axes>"
     },
     "metadata": {}
    },
    {
     "output_type": "display_data",
     "data": {
      "text/plain": "<Figure size 1440x720 with 0 Axes>"
     },
     "metadata": {}
    },
    {
     "output_type": "display_data",
     "data": {
      "text/plain": "<Figure size 1440x720 with 0 Axes>"
     },
     "metadata": {}
    },
    {
     "output_type": "display_data",
     "data": {
      "text/plain": "<Figure size 1440x720 with 0 Axes>"
     },
     "metadata": {}
    },
    {
     "output_type": "display_data",
     "data": {
      "text/plain": "<Figure size 1440x720 with 0 Axes>"
     },
     "metadata": {}
    },
    {
     "output_type": "display_data",
     "data": {
      "text/plain": "<Figure size 1440x720 with 0 Axes>"
     },
     "metadata": {}
    }
   ],
   "source": [
    "\n",
    "logStatus1 = pickle.load(open(os.path.join(data_dir,'G_logState1.p'), 'rb'))\n",
    "logStatus3 = pickle.load(open(os.path.join(data_dir,'G_logState3.p'), 'rb'))\n",
    "\n",
    "for t in range(250): \n",
    "    fig, ax = plt.subplots(ncols=2, nrows=1, figsize=(20,10),  sharex='all', sharey='all')\n",
    "    animate(logStatus1, ax[0], t, ['E','I'])\n",
    "    animate(logStatus3, ax[1], t, ['E','I'])\n",
    "    ax[0].set_title('State1')\n",
    "    ax[1].set_title('State3')\n",
    "    fig.suptitle('t= {} days'.format(t), fontsize=15)\n",
    "    fig.legend(['Susceptible','Exposed','Infected','Recovered', 'Died'], loc='lower center', ncol=5, fancybox=True, fontsize=15)\n",
    "    plt.tight_layout(pad=2.0, w_pad=0.0, h_pad=0.0)\n",
    "    plt.savefig(r'C:\\TEMP\\covid\\png3\\Graph_{:04d}.png'.format(t), format=\"PNG\")\n",
    "    fig.clear()"
   ]
  },
  {
   "cell_type": "code",
   "execution_count": 90,
   "metadata": {},
   "outputs": [],
   "source": [
    "import cv2\n",
    "import os\n",
    "\n",
    "image_folder = r'C:\\TEMP\\covid\\png10'\n",
    "video_name=os.path.join(data_dir, 'video_compare_10.mp4')\n",
    "\n",
    "images = [img for img in os.listdir(image_folder) if img.endswith(\".png\")]\n",
    "\n",
    "\n",
    "frame = cv2.imread(os.path.join(image_folder, images[0]))\n",
    "height, width, layers = frame.shape\n",
    "\n",
    "fourcc = cv2.VideoWriter_fourcc('m','p','4','v')\n",
    "video = cv2.VideoWriter(video_name, fourcc, 1, (width,height))\n",
    "\n",
    "for image in images:\n",
    "    video.write(cv2.imread(os.path.join(image_folder, image)))\n",
    "\n",
    "cv2.destroyAllWindows()\n",
    "video.release()\n",
    ""
   ]
  },
  {
   "cell_type": "code",
   "execution_count": 16,
   "metadata": {},
   "outputs": [
    {
     "output_type": "execute_result",
     "data": {
      "text/plain": "250"
     },
     "metadata": {},
     "execution_count": 16
    }
   ],
   "source": [
    "len(logStatus)"
   ]
  },
  {
   "cell_type": "code",
   "execution_count": 20,
   "metadata": {},
   "outputs": [],
   "source": [
    "import cv2\n",
    ""
   ]
  },
  {
   "cell_type": "code",
   "execution_count": 21,
   "metadata": {},
   "outputs": [
    {
     "output_type": "stream",
     "name": "stdout",
     "text": "['COLOR_RGB2BGR', 'COLOR_RGB2BGR555', 'COLOR_RGB2BGR565', 'COLOR_RGB2BGRA', 'COLOR_RGB2GRAY', 'COLOR_RGB2HLS', 'COLOR_RGB2HLS_FULL', 'COLOR_RGB2HSV', 'COLOR_RGB2HSV_FULL', 'COLOR_RGB2LAB', 'COLOR_RGB2LUV', 'COLOR_RGB2Lab', 'COLOR_RGB2Luv', 'COLOR_RGB2RGBA', 'COLOR_RGB2XYZ', 'COLOR_RGB2YCR_CB', 'COLOR_RGB2YCrCb', 'COLOR_RGB2YUV', 'COLOR_RGB2YUV_I420', 'COLOR_RGB2YUV_IYUV', 'COLOR_RGB2YUV_YV12', 'COLOR_RGBA2BGR', 'COLOR_RGBA2BGR555', 'COLOR_RGBA2BGR565', 'COLOR_RGBA2BGRA', 'COLOR_RGBA2GRAY', 'COLOR_RGBA2M_RGBA', 'COLOR_RGBA2RGB', 'COLOR_RGBA2YUV_I420', 'COLOR_RGBA2YUV_IYUV', 'COLOR_RGBA2YUV_YV12', 'COLOR_RGBA2mRGBA']\n"
    }
   ],
   "source": [
    "flags = [i for i in dir(cv2) if i.startswith('COLOR_RGB')]\n",
    "print(flags)"
   ]
  },
  {
   "cell_type": "code",
   "execution_count": 23,
   "metadata": {},
   "outputs": [],
   "source": [
    "def animate(t):\n",
    "    for k, status in enumerate(['S','E','I','R','D']): \n",
    "        nx.draw_networkx_nodes(G,pos,\n",
    "                                nodelist=logStatus[t][status],\n",
    "                                node_color=status_list[status]['node_color'],\n",
    "                                node_size=status_list[status]['node_size'],\n",
    "                                alpha=status_list[status]['alpha'])\n",
    "    nx.draw_networkx_edges(G, pos, edgelist=new_exposed_nodes(t), edge_color='r')\n",
    "        \n",
    "    plt.title('state : {} '.format(stateIdx), loc='center')  \n",
    "    plt.text(-0.04,-0.03, 't= {} days'.format(t), fontsize=12)\n",
    "    plt.legend(['Susceptible','Exposed','Infected','Recovered', 'Died'], loc='lower center', bbox_to_anchor=(0.5, -0.15), ncol=4, fancybox=True)"
   ]
  },
  {
   "cell_type": "code",
   "execution_count": 82,
   "metadata": {},
   "outputs": [],
   "source": [
    "def animate(logStatus, ax, t, state_list=['S','E','I','R','D']):\n",
    "    for k, status in enumerate(state_list): \n",
    "        nx.draw_networkx_nodes(G,pos,\n",
    "                                nodelist=logStatus[t][status],\n",
    "                                node_color=status_list[status]['node_color'],\n",
    "                                node_size=status_list[status]['node_size'],\n",
    "                                alpha=status_list[status]['alpha'] ,ax=ax)\n",
    "    nx.draw_networkx_edges(G, pos, edgelist=new_exposed_nodes(t), edge_color='r', ax=ax)\n",
    "        "
   ]
  },
  {
   "cell_type": "code",
   "execution_count": 75,
   "metadata": {},
   "outputs": [
    {
     "output_type": "display_data",
     "data": {
      "text/plain": "<Figure size 1440x720 with 2 Axes>",
      "image/svg+xml": "<?xml version=\"1.0\" encoding=\"utf-8\" standalone=\"no\"?>\r\n<!DOCTYPE svg PUBLIC \"-//W3C//DTD SVG 1.1//EN\"\r\n  \"http://www.w3.org/Graphics/SVG/1.1/DTD/svg11.dtd\">\r\n<!-- Created with matplotlib (https://matplotlib.org/) -->\r\n<svg height=\"712.5pt\" version=\"1.1\" viewBox=\"0 0 1414.4 712.5\" width=\"1414.4pt\" xmlns=\"http://www.w3.org/2000/svg\" xmlns:xlink=\"http://www.w3.org/1999/xlink\">\r\n <defs>\r\n  <style type=\"text/css\">\r\n*{stroke-linecap:butt;stroke-linejoin:round;}\r\n  </style>\r\n </defs>\r\n <g id=\"figure_1\">\r\n  <g id=\"patch_1\">\r\n   <path d=\"M 0 712.5 \r\nL 1414.4 712.5 \r\nL 1414.4 0 \r\nL 0 0 \r\nz\r\n\" style=\"fill:none;\"/>\r\n  </g>\r\n  <g id=\"axes_1\">\r\n   <g id=\"patch_2\">\r\n    <path d=\"M 7.2 692.8 \r\nL 707.2 692.8 \r\nL 707.2 28.8 \r\nL 7.2 28.8 \r\nz\r\n\" style=\"fill:#ffffff;\"/>\r\n   </g>\r\n   <g id=\"LineCollection_1\">\r\n    <path clip-path=\"url(#p822253284a)\" d=\"M 336.031133 437.423621 \r\nL 495.659631 429.610694 \r\n\" style=\"fill:none;stroke:#ff0000;\"/>\r\n    <path clip-path=\"url(#p822253284a)\" d=\"M 536.023886 535.231982 \r\nL 100.870643 392.090717 \r\n\" style=\"fill:none;stroke:#ff0000;\"/>\r\n    <path clip-path=\"url(#p822253284a)\" d=\"M 474.761569 303.450323 \r\nL 439.796989 78.193189 \r\n\" style=\"fill:none;stroke:#ff0000;\"/>\r\n    <path clip-path=\"url(#p822253284a)\" d=\"M 46.449187 286.323384 \r\nL 135.12276 384.452765 \r\n\" style=\"fill:none;stroke:#ff0000;\"/>\r\n    <path clip-path=\"url(#p822253284a)\" d=\"M 630.920313 259.358642 \r\nL 413.931977 601.801755 \r\n\" style=\"fill:none;stroke:#ff0000;\"/>\r\n    <path clip-path=\"url(#p822253284a)\" d=\"M 604.079686 383.928126 \r\nL 179.810779 232.839292 \r\n\" style=\"fill:none;stroke:#ff0000;\"/>\r\n    <path clip-path=\"url(#p822253284a)\" d=\"M 49.47428 455.73855 \r\nL 529.713449 301.088322 \r\n\" style=\"fill:none;stroke:#ff0000;\"/>\r\n    <path clip-path=\"url(#p822253284a)\" d=\"M 267.615222 500.958756 \r\nL 99.572414 363.232496 \r\n\" style=\"fill:none;stroke:#ff0000;\"/>\r\n    <path clip-path=\"url(#p822253284a)\" d=\"M 373.945232 600.968558 \r\nL 461.443735 89.549803 \r\n\" style=\"fill:none;stroke:#ff0000;\"/>\r\n    <path clip-path=\"url(#p822253284a)\" d=\"M 665.035836 412.307302 \r\nL 288.583716 197.845483 \r\n\" style=\"fill:none;stroke:#ff0000;\"/>\r\n   </g>\r\n   <g id=\"matplotlib.axis_1\">\r\n    <g id=\"xtick_1\"/>\r\n    <g id=\"xtick_2\"/>\r\n    <g id=\"xtick_3\"/>\r\n    <g id=\"xtick_4\"/>\r\n    <g id=\"xtick_5\"/>\r\n    <g id=\"xtick_6\"/>\r\n   </g>\r\n   <g id=\"matplotlib.axis_2\">\r\n    <g id=\"ytick_1\"/>\r\n    <g id=\"ytick_2\"/>\r\n    <g id=\"ytick_3\"/>\r\n    <g id=\"ytick_4\"/>\r\n    <g id=\"ytick_5\"/>\r\n    <g id=\"ytick_6\"/>\r\n   </g>\r\n   <g id=\"PathCollection_1\">\r\n    <defs>\r\n     <path d=\"M 0 1.118034 \r\nC 0.296506 1.118034 0.580908 1.000231 0.790569 0.790569 \r\nC 1.000231 0.580908 1.118034 0.296506 1.118034 0 \r\nC 1.118034 -0.296506 1.000231 -0.580908 0.790569 -0.790569 \r\nC 0.580908 -1.000231 0.296506 -1.118034 0 -1.118034 \r\nC -0.296506 -1.118034 -0.580908 -1.000231 -0.790569 -0.790569 \r\nC -1.000231 -0.580908 -1.118034 -0.296506 -1.118034 0 \r\nC -1.118034 0.296506 -1.000231 0.580908 -0.790569 0.790569 \r\nC -0.580908 1.000231 -0.296506 1.118034 0 1.118034 \r\nz\r\n\" id=\"m996baec9d3\" style=\"stroke:#0000ff;\"/>\r\n    </defs>\r\n    <g clip-path=\"url(#p822253284a)\">\r\n     <use style=\"fill:#0000ff;stroke:#0000ff;\" x=\"259.694426\" xlink:href=\"#m996baec9d3\" y=\"475.029888\"/>\r\n     <use style=\"fill:#0000ff;stroke:#0000ff;\" x=\"40.565666\" xlink:href=\"#m996baec9d3\" y=\"416.058047\"/>\r\n     <use style=\"fill:#0000ff;stroke:#0000ff;\" x=\"519.2211\" xlink:href=\"#m996baec9d3\" y=\"267.645497\"/>\r\n     <use style=\"fill:#0000ff;stroke:#0000ff;\" x=\"65.111514\" xlink:href=\"#m996baec9d3\" y=\"305.506797\"/>\r\n     <use style=\"fill:#0000ff;stroke:#0000ff;\" x=\"348.714128\" xlink:href=\"#m996baec9d3\" y=\"373.490941\"/>\r\n     <use style=\"fill:#0000ff;stroke:#0000ff;\" x=\"42.577068\" xlink:href=\"#m996baec9d3\" y=\"77.72272\"/>\r\n     <use style=\"fill:#0000ff;stroke:#0000ff;\" x=\"407.61228\" xlink:href=\"#m996baec9d3\" y=\"269.975072\"/>\r\n     <use style=\"fill:#0000ff;stroke:#0000ff;\" x=\"95.7921\" xlink:href=\"#m996baec9d3\" y=\"302.173197\"/>\r\n     <use style=\"fill:#0000ff;stroke:#0000ff;\" x=\"170.314205\" xlink:href=\"#m996baec9d3\" y=\"636.440857\"/>\r\n     <use style=\"fill:#0000ff;stroke:#0000ff;\" x=\"84.722627\" xlink:href=\"#m996baec9d3\" y=\"146.483978\"/>\r\n     <use style=\"fill:#0000ff;stroke:#0000ff;\" x=\"544.453172\" xlink:href=\"#m996baec9d3\" y=\"308.296284\"/>\r\n     <use style=\"fill:#0000ff;stroke:#0000ff;\" x=\"634.36504\" xlink:href=\"#m996baec9d3\" y=\"102.758136\"/>\r\n     <use style=\"fill:#0000ff;stroke:#0000ff;\" x=\"176.303551\" xlink:href=\"#m996baec9d3\" y=\"210.49839\"/>\r\n     <use style=\"fill:#0000ff;stroke:#0000ff;\" x=\"311.106652\" xlink:href=\"#m996baec9d3\" y=\"316.110329\"/>\r\n     <use style=\"fill:#0000ff;stroke:#0000ff;\" x=\"378.59148\" xlink:href=\"#m996baec9d3\" y=\"423.224413\"/>\r\n     <use style=\"fill:#0000ff;stroke:#0000ff;\" x=\"170.967676\" xlink:href=\"#m996baec9d3\" y=\"339.416416\"/>\r\n     <use style=\"fill:#0000ff;stroke:#0000ff;\" x=\"253.780853\" xlink:href=\"#m996baec9d3\" y=\"455.823255\"/>\r\n     <use style=\"fill:#0000ff;stroke:#0000ff;\" x=\"351.694898\" xlink:href=\"#m996baec9d3\" y=\"508.530594\"/>\r\n     <use style=\"fill:#0000ff;stroke:#0000ff;\" x=\"522.213444\" xlink:href=\"#m996baec9d3\" y=\"506.906057\"/>\r\n     <use style=\"fill:#0000ff;stroke:#0000ff;\" x=\"646.021608\" xlink:href=\"#m996baec9d3\" y=\"642.305784\"/>\r\n     <use style=\"fill:#0000ff;stroke:#0000ff;\" x=\"412.424287\" xlink:href=\"#m996baec9d3\" y=\"467.143785\"/>\r\n     <use style=\"fill:#0000ff;stroke:#0000ff;\" x=\"255.195512\" xlink:href=\"#m996baec9d3\" y=\"446.032073\"/>\r\n     <use style=\"fill:#0000ff;stroke:#0000ff;\" x=\"172.421726\" xlink:href=\"#m996baec9d3\" y=\"120.774347\"/>\r\n     <use style=\"fill:#0000ff;stroke:#0000ff;\" x=\"341.698648\" xlink:href=\"#m996baec9d3\" y=\"310.080161\"/>\r\n     <use style=\"fill:#0000ff;stroke:#0000ff;\" x=\"639.390052\" xlink:href=\"#m996baec9d3\" y=\"117.098146\"/>\r\n     <use style=\"fill:#0000ff;stroke:#0000ff;\" x=\"123.34417\" xlink:href=\"#m996baec9d3\" y=\"104.173939\"/>\r\n     <use style=\"fill:#0000ff;stroke:#0000ff;\" x=\"307.768617\" xlink:href=\"#m996baec9d3\" y=\"334.094798\"/>\r\n     <use style=\"fill:#0000ff;stroke:#0000ff;\" x=\"371.1602\" xlink:href=\"#m996baec9d3\" y=\"484.522785\"/>\r\n     <use style=\"fill:#0000ff;stroke:#0000ff;\" x=\"661.979132\" xlink:href=\"#m996baec9d3\" y=\"168.568388\"/>\r\n     <use style=\"fill:#0000ff;stroke:#0000ff;\" x=\"239.824215\" xlink:href=\"#m996baec9d3\" y=\"248.631458\"/>\r\n     <use style=\"fill:#0000ff;stroke:#0000ff;\" x=\"666.180549\" xlink:href=\"#m996baec9d3\" y=\"145.171903\"/>\r\n     <use style=\"fill:#0000ff;stroke:#0000ff;\" x=\"394.636741\" xlink:href=\"#m996baec9d3\" y=\"170.102114\"/>\r\n     <use style=\"fill:#0000ff;stroke:#0000ff;\" x=\"44.63302\" xlink:href=\"#m996baec9d3\" y=\"320.002957\"/>\r\n     <use style=\"fill:#0000ff;stroke:#0000ff;\" x=\"629.536677\" xlink:href=\"#m996baec9d3\" y=\"229.638964\"/>\r\n     <use style=\"fill:#0000ff;stroke:#0000ff;\" x=\"516.132178\" xlink:href=\"#m996baec9d3\" y=\"543.144476\"/>\r\n     <use style=\"fill:#0000ff;stroke:#0000ff;\" x=\"667.37801\" xlink:href=\"#m996baec9d3\" y=\"456.77738\"/>\r\n     <use style=\"fill:#0000ff;stroke:#0000ff;\" x=\"632.890669\" xlink:href=\"#m996baec9d3\" y=\"488.576554\"/>\r\n     <use style=\"fill:#0000ff;stroke:#0000ff;\" x=\"477.937735\" xlink:href=\"#m996baec9d3\" y=\"256.916044\"/>\r\n     <use style=\"fill:#0000ff;stroke:#0000ff;\" x=\"184.583623\" xlink:href=\"#m996baec9d3\" y=\"387.091938\"/>\r\n     <use style=\"fill:#0000ff;stroke:#0000ff;\" x=\"240.97037\" xlink:href=\"#m996baec9d3\" y=\"637.264121\"/>\r\n     <use style=\"fill:#0000ff;stroke:#0000ff;\" x=\"470.819756\" xlink:href=\"#m996baec9d3\" y=\"327.398487\"/>\r\n     <use style=\"fill:#0000ff;stroke:#0000ff;\" x=\"325.909615\" xlink:href=\"#m996baec9d3\" y=\"254.888754\"/>\r\n     <use style=\"fill:#0000ff;stroke:#0000ff;\" x=\"239.861139\" xlink:href=\"#m996baec9d3\" y=\"413.266038\"/>\r\n     <use style=\"fill:#0000ff;stroke:#0000ff;\" x=\"304.191963\" xlink:href=\"#m996baec9d3\" y=\"488.228944\"/>\r\n     <use style=\"fill:#0000ff;stroke:#0000ff;\" x=\"545.717915\" xlink:href=\"#m996baec9d3\" y=\"651.58622\"/>\r\n     <use style=\"fill:#0000ff;stroke:#0000ff;\" x=\"415.235845\" xlink:href=\"#m996baec9d3\" y=\"383.161191\"/>\r\n     <use style=\"fill:#0000ff;stroke:#0000ff;\" x=\"602.656925\" xlink:href=\"#m996baec9d3\" y=\"293.660006\"/>\r\n     <use style=\"fill:#0000ff;stroke:#0000ff;\" x=\"365.410564\" xlink:href=\"#m996baec9d3\" y=\"450.447071\"/>\r\n     <use style=\"fill:#0000ff;stroke:#0000ff;\" x=\"542.646297\" xlink:href=\"#m996baec9d3\" y=\"531.601654\"/>\r\n     <use style=\"fill:#0000ff;stroke:#0000ff;\" x=\"141.137893\" xlink:href=\"#m996baec9d3\" y=\"325.663285\"/>\r\n     <use style=\"fill:#0000ff;stroke:#0000ff;\" x=\"394.650061\" xlink:href=\"#m996baec9d3\" y=\"372.811809\"/>\r\n     <use style=\"fill:#0000ff;stroke:#0000ff;\" x=\"621.890229\" xlink:href=\"#m996baec9d3\" y=\"83.611005\"/>\r\n     <use style=\"fill:#0000ff;stroke:#0000ff;\" x=\"637.824529\" xlink:href=\"#m996baec9d3\" y=\"286.459503\"/>\r\n     <use style=\"fill:#0000ff;stroke:#0000ff;\" x=\"46.456606\" xlink:href=\"#m996baec9d3\" y=\"546.828153\"/>\r\n     <use style=\"fill:#0000ff;stroke:#0000ff;\" x=\"630.107535\" xlink:href=\"#m996baec9d3\" y=\"326.816075\"/>\r\n     <use style=\"fill:#0000ff;stroke:#0000ff;\" x=\"625.447132\" xlink:href=\"#m996baec9d3\" y=\"520.068957\"/>\r\n     <use style=\"fill:#0000ff;stroke:#0000ff;\" x=\"97.259493\" xlink:href=\"#m996baec9d3\" y=\"541.755191\"/>\r\n     <use style=\"fill:#0000ff;stroke:#0000ff;\" x=\"113.062368\" xlink:href=\"#m996baec9d3\" y=\"157.202983\"/>\r\n     <use style=\"fill:#0000ff;stroke:#0000ff;\" x=\"283.978338\" xlink:href=\"#m996baec9d3\" y=\"477.749731\"/>\r\n     <use style=\"fill:#0000ff;stroke:#0000ff;\" x=\"262.629943\" xlink:href=\"#m996baec9d3\" y=\"342.647369\"/>\r\n     <use style=\"fill:#0000ff;stroke:#0000ff;\" x=\"107.45779\" xlink:href=\"#m996baec9d3\" y=\"583.633456\"/>\r\n     <use style=\"fill:#0000ff;stroke:#0000ff;\" x=\"106.817093\" xlink:href=\"#m996baec9d3\" y=\"87.26948\"/>\r\n     <use style=\"fill:#0000ff;stroke:#0000ff;\" x=\"328.918543\" xlink:href=\"#m996baec9d3\" y=\"363.469803\"/>\r\n     <use style=\"fill:#0000ff;stroke:#0000ff;\" x=\"322.888051\" xlink:href=\"#m996baec9d3\" y=\"250.409138\"/>\r\n     <use style=\"fill:#0000ff;stroke:#0000ff;\" x=\"157.917511\" xlink:href=\"#m996baec9d3\" y=\"334.041691\"/>\r\n     <use style=\"fill:#0000ff;stroke:#0000ff;\" x=\"234.109359\" xlink:href=\"#m996baec9d3\" y=\"183.372453\"/>\r\n     <use style=\"fill:#0000ff;stroke:#0000ff;\" x=\"634.063464\" xlink:href=\"#m996baec9d3\" y=\"191.903803\"/>\r\n     <use style=\"fill:#0000ff;stroke:#0000ff;\" x=\"246.879408\" xlink:href=\"#m996baec9d3\" y=\"92.267628\"/>\r\n     <use style=\"fill:#0000ff;stroke:#0000ff;\" x=\"79.852574\" xlink:href=\"#m996baec9d3\" y=\"172.878558\"/>\r\n     <use style=\"fill:#0000ff;stroke:#0000ff;\" x=\"573.513666\" xlink:href=\"#m996baec9d3\" y=\"506.036817\"/>\r\n     <use style=\"fill:#0000ff;stroke:#0000ff;\" x=\"61.240833\" xlink:href=\"#m996baec9d3\" y=\"407.025712\"/>\r\n     <use style=\"fill:#0000ff;stroke:#0000ff;\" x=\"86.286537\" xlink:href=\"#m996baec9d3\" y=\"269.530544\"/>\r\n     <use style=\"fill:#0000ff;stroke:#0000ff;\" x=\"157.75736\" xlink:href=\"#m996baec9d3\" y=\"148.657654\"/>\r\n     <use style=\"fill:#0000ff;stroke:#0000ff;\" x=\"531.068359\" xlink:href=\"#m996baec9d3\" y=\"662.618182\"/>\r\n     <use style=\"fill:#0000ff;stroke:#0000ff;\" x=\"287.392725\" xlink:href=\"#m996baec9d3\" y=\"66.11556\"/>\r\n     <use style=\"fill:#0000ff;stroke:#0000ff;\" x=\"327.427114\" xlink:href=\"#m996baec9d3\" y=\"191.046128\"/>\r\n     <use style=\"fill:#0000ff;stroke:#0000ff;\" x=\"541.462421\" xlink:href=\"#m996baec9d3\" y=\"139.325592\"/>\r\n     <use style=\"fill:#0000ff;stroke:#0000ff;\" x=\"546.048028\" xlink:href=\"#m996baec9d3\" y=\"476.09673\"/>\r\n     <use style=\"fill:#0000ff;stroke:#0000ff;\" x=\"630.79626\" xlink:href=\"#m996baec9d3\" y=\"562.975144\"/>\r\n     <use style=\"fill:#0000ff;stroke:#0000ff;\" x=\"379.427673\" xlink:href=\"#m996baec9d3\" y=\"123.364053\"/>\r\n     <use style=\"fill:#0000ff;stroke:#0000ff;\" x=\"127.02892\" xlink:href=\"#m996baec9d3\" y=\"242.644345\"/>\r\n     <use style=\"fill:#0000ff;stroke:#0000ff;\" x=\"671.625915\" xlink:href=\"#m996baec9d3\" y=\"221.826217\"/>\r\n     <use style=\"fill:#0000ff;stroke:#0000ff;\" x=\"330.846985\" xlink:href=\"#m996baec9d3\" y=\"80.317866\"/>\r\n     <use style=\"fill:#0000ff;stroke:#0000ff;\" x=\"367.362553\" xlink:href=\"#m996baec9d3\" y=\"344.811461\"/>\r\n     <use style=\"fill:#0000ff;stroke:#0000ff;\" x=\"93.362336\" xlink:href=\"#m996baec9d3\" y=\"637.731343\"/>\r\n     <use style=\"fill:#0000ff;stroke:#0000ff;\" x=\"400.954843\" xlink:href=\"#m996baec9d3\" y=\"616.782017\"/>\r\n     <use style=\"fill:#0000ff;stroke:#0000ff;\" x=\"99.971958\" xlink:href=\"#m996baec9d3\" y=\"475.332191\"/>\r\n     <use style=\"fill:#0000ff;stroke:#0000ff;\" x=\"176.833709\" xlink:href=\"#m996baec9d3\" y=\"154.266965\"/>\r\n     <use style=\"fill:#0000ff;stroke:#0000ff;\" x=\"519.592767\" xlink:href=\"#m996baec9d3\" y=\"102.612867\"/>\r\n     <use style=\"fill:#0000ff;stroke:#0000ff;\" x=\"345.928167\" xlink:href=\"#m996baec9d3\" y=\"152.827059\"/>\r\n     <use style=\"fill:#0000ff;stroke:#0000ff;\" x=\"226.483688\" xlink:href=\"#m996baec9d3\" y=\"260.319864\"/>\r\n     <use style=\"fill:#0000ff;stroke:#0000ff;\" x=\"63.735946\" xlink:href=\"#m996baec9d3\" y=\"422.405056\"/>\r\n     <use style=\"fill:#0000ff;stroke:#0000ff;\" x=\"187.000964\" xlink:href=\"#m996baec9d3\" y=\"589.494664\"/>\r\n     <use style=\"fill:#0000ff;stroke:#0000ff;\" x=\"299.7587\" xlink:href=\"#m996baec9d3\" y=\"247.387911\"/>\r\n     <use style=\"fill:#0000ff;stroke:#0000ff;\" x=\"664.293148\" xlink:href=\"#m996baec9d3\" y=\"423.721094\"/>\r\n     <use style=\"fill:#0000ff;stroke:#0000ff;\" x=\"364.254466\" xlink:href=\"#m996baec9d3\" y=\"223.688277\"/>\r\n     <use style=\"fill:#0000ff;stroke:#0000ff;\" x=\"593.354448\" xlink:href=\"#m996baec9d3\" y=\"288.740474\"/>\r\n     <use style=\"fill:#0000ff;stroke:#0000ff;\" x=\"180.263873\" xlink:href=\"#m996baec9d3\" y=\"370.12369\"/>\r\n     <use style=\"fill:#0000ff;stroke:#0000ff;\" x=\"333.573102\" xlink:href=\"#m996baec9d3\" y=\"600.899881\"/>\r\n     <use style=\"fill:#0000ff;stroke:#0000ff;\" x=\"669.092291\" xlink:href=\"#m996baec9d3\" y=\"210.536905\"/>\r\n     <use style=\"fill:#0000ff;stroke:#0000ff;\" x=\"515.947976\" xlink:href=\"#m996baec9d3\" y=\"535.862078\"/>\r\n     <use style=\"fill:#0000ff;stroke:#0000ff;\" x=\"511.731721\" xlink:href=\"#m996baec9d3\" y=\"462.068337\"/>\r\n     <use style=\"fill:#0000ff;stroke:#0000ff;\" x=\"385.632386\" xlink:href=\"#m996baec9d3\" y=\"139.020497\"/>\r\n     <use style=\"fill:#0000ff;stroke:#0000ff;\" x=\"464.228957\" xlink:href=\"#m996baec9d3\" y=\"634.267617\"/>\r\n     <use style=\"fill:#0000ff;stroke:#0000ff;\" x=\"499.847842\" xlink:href=\"#m996baec9d3\" y=\"613.724833\"/>\r\n     <use style=\"fill:#0000ff;stroke:#0000ff;\" x=\"461.916534\" xlink:href=\"#m996baec9d3\" y=\"353.238038\"/>\r\n     <use style=\"fill:#0000ff;stroke:#0000ff;\" x=\"630.69194\" xlink:href=\"#m996baec9d3\" y=\"136.199016\"/>\r\n     <use style=\"fill:#0000ff;stroke:#0000ff;\" x=\"128.138882\" xlink:href=\"#m996baec9d3\" y=\"617.321207\"/>\r\n     <use style=\"fill:#0000ff;stroke:#0000ff;\" x=\"586.140915\" xlink:href=\"#m996baec9d3\" y=\"254.42776\"/>\r\n     <use style=\"fill:#0000ff;stroke:#0000ff;\" x=\"459.31392\" xlink:href=\"#m996baec9d3\" y=\"427.934652\"/>\r\n     <use style=\"fill:#0000ff;stroke:#0000ff;\" x=\"487.566341\" xlink:href=\"#m996baec9d3\" y=\"445.303023\"/>\r\n     <use style=\"fill:#0000ff;stroke:#0000ff;\" x=\"295.145618\" xlink:href=\"#m996baec9d3\" y=\"474.3137\"/>\r\n     <use style=\"fill:#0000ff;stroke:#0000ff;\" x=\"589.712389\" xlink:href=\"#m996baec9d3\" y=\"96.697416\"/>\r\n     <use style=\"fill:#0000ff;stroke:#0000ff;\" x=\"69.767551\" xlink:href=\"#m996baec9d3\" y=\"108.727667\"/>\r\n     <use style=\"fill:#0000ff;stroke:#0000ff;\" x=\"137.478757\" xlink:href=\"#m996baec9d3\" y=\"460.094712\"/>\r\n     <use style=\"fill:#0000ff;stroke:#0000ff;\" x=\"404.066953\" xlink:href=\"#m996baec9d3\" y=\"166.912703\"/>\r\n     <use style=\"fill:#0000ff;stroke:#0000ff;\" x=\"547.352125\" xlink:href=\"#m996baec9d3\" y=\"498.043923\"/>\r\n     <use style=\"fill:#0000ff;stroke:#0000ff;\" x=\"253.217244\" xlink:href=\"#m996baec9d3\" y=\"641.698723\"/>\r\n     <use style=\"fill:#0000ff;stroke:#0000ff;\" x=\"216.328928\" xlink:href=\"#m996baec9d3\" y=\"556.849066\"/>\r\n     <use style=\"fill:#0000ff;stroke:#0000ff;\" x=\"324.870607\" xlink:href=\"#m996baec9d3\" y=\"628.744213\"/>\r\n     <use style=\"fill:#0000ff;stroke:#0000ff;\" x=\"556.44581\" xlink:href=\"#m996baec9d3\" y=\"413.646434\"/>\r\n     <use style=\"fill:#0000ff;stroke:#0000ff;\" x=\"397.118224\" xlink:href=\"#m996baec9d3\" y=\"226.853764\"/>\r\n     <use style=\"fill:#0000ff;stroke:#0000ff;\" x=\"590.012675\" xlink:href=\"#m996baec9d3\" y=\"156.061758\"/>\r\n     <use style=\"fill:#0000ff;stroke:#0000ff;\" x=\"444.30298\" xlink:href=\"#m996baec9d3\" y=\"234.893207\"/>\r\n     <use style=\"fill:#0000ff;stroke:#0000ff;\" x=\"247.967825\" xlink:href=\"#m996baec9d3\" y=\"412.855738\"/>\r\n     <use style=\"fill:#0000ff;stroke:#0000ff;\" x=\"429.179183\" xlink:href=\"#m996baec9d3\" y=\"120.581952\"/>\r\n     <use style=\"fill:#0000ff;stroke:#0000ff;\" x=\"477.648416\" xlink:href=\"#m996baec9d3\" y=\"655.364376\"/>\r\n     <use style=\"fill:#0000ff;stroke:#0000ff;\" x=\"664.524747\" xlink:href=\"#m996baec9d3\" y=\"505.026054\"/>\r\n     <use style=\"fill:#0000ff;stroke:#0000ff;\" x=\"207.188547\" xlink:href=\"#m996baec9d3\" y=\"408.307685\"/>\r\n     <use style=\"fill:#0000ff;stroke:#0000ff;\" x=\"539.470397\" xlink:href=\"#m996baec9d3\" y=\"219.425196\"/>\r\n     <use style=\"fill:#0000ff;stroke:#0000ff;\" x=\"184.11776\" xlink:href=\"#m996baec9d3\" y=\"516.463445\"/>\r\n     <use style=\"fill:#0000ff;stroke:#0000ff;\" x=\"150.040109\" xlink:href=\"#m996baec9d3\" y=\"472.434905\"/>\r\n     <use style=\"fill:#0000ff;stroke:#0000ff;\" x=\"106.680906\" xlink:href=\"#m996baec9d3\" y=\"548.19701\"/>\r\n     <use style=\"fill:#0000ff;stroke:#0000ff;\" x=\"411.046495\" xlink:href=\"#m996baec9d3\" y=\"162.413883\"/>\r\n     <use style=\"fill:#0000ff;stroke:#0000ff;\" x=\"528.768876\" xlink:href=\"#m996baec9d3\" y=\"463.259876\"/>\r\n     <use style=\"fill:#0000ff;stroke:#0000ff;\" x=\"342.053769\" xlink:href=\"#m996baec9d3\" y=\"190.058352\"/>\r\n     <use style=\"fill:#0000ff;stroke:#0000ff;\" x=\"433.019825\" xlink:href=\"#m996baec9d3\" y=\"143.07414\"/>\r\n     <use style=\"fill:#0000ff;stroke:#0000ff;\" x=\"130.353673\" xlink:href=\"#m996baec9d3\" y=\"165.376022\"/>\r\n     <use style=\"fill:#0000ff;stroke:#0000ff;\" x=\"501.229695\" xlink:href=\"#m996baec9d3\" y=\"250.028742\"/>\r\n     <use style=\"fill:#0000ff;stroke:#0000ff;\" x=\"528.347573\" xlink:href=\"#m996baec9d3\" y=\"435.063602\"/>\r\n     <use style=\"fill:#0000ff;stroke:#0000ff;\" x=\"466.865686\" xlink:href=\"#m996baec9d3\" y=\"357.457127\"/>\r\n     <use style=\"fill:#0000ff;stroke:#0000ff;\" x=\"273.604084\" xlink:href=\"#m996baec9d3\" y=\"146.435843\"/>\r\n     <use style=\"fill:#0000ff;stroke:#0000ff;\" x=\"449.255966\" xlink:href=\"#m996baec9d3\" y=\"465.90013\"/>\r\n     <use style=\"fill:#0000ff;stroke:#0000ff;\" x=\"567.403255\" xlink:href=\"#m996baec9d3\" y=\"217.984713\"/>\r\n     <use style=\"fill:#0000ff;stroke:#0000ff;\" x=\"544.554797\" xlink:href=\"#m996baec9d3\" y=\"176.257267\"/>\r\n     <use style=\"fill:#0000ff;stroke:#0000ff;\" x=\"411.35938\" xlink:href=\"#m996baec9d3\" y=\"428.132579\"/>\r\n     <use style=\"fill:#0000ff;stroke:#0000ff;\" x=\"368.945001\" xlink:href=\"#m996baec9d3\" y=\"209.941199\"/>\r\n     <use style=\"fill:#0000ff;stroke:#0000ff;\" x=\"158.650351\" xlink:href=\"#m996baec9d3\" y=\"102.722792\"/>\r\n     <use style=\"fill:#0000ff;stroke:#0000ff;\" x=\"289.703326\" xlink:href=\"#m996baec9d3\" y=\"221.440632\"/>\r\n     <use style=\"fill:#0000ff;stroke:#0000ff;\" x=\"166.027053\" xlink:href=\"#m996baec9d3\" y=\"377.316627\"/>\r\n     <use style=\"fill:#0000ff;stroke:#0000ff;\" x=\"321.918963\" xlink:href=\"#m996baec9d3\" y=\"574.703245\"/>\r\n     <use style=\"fill:#0000ff;stroke:#0000ff;\" x=\"505.033679\" xlink:href=\"#m996baec9d3\" y=\"189.53665\"/>\r\n     <use style=\"fill:#0000ff;stroke:#0000ff;\" x=\"86.190922\" xlink:href=\"#m996baec9d3\" y=\"76.019585\"/>\r\n     <use style=\"fill:#0000ff;stroke:#0000ff;\" x=\"509.35581\" xlink:href=\"#m996baec9d3\" y=\"560.914328\"/>\r\n     <use style=\"fill:#0000ff;stroke:#0000ff;\" x=\"571.081819\" xlink:href=\"#m996baec9d3\" y=\"319.571652\"/>\r\n     <use style=\"fill:#0000ff;stroke:#0000ff;\" x=\"609.175851\" xlink:href=\"#m996baec9d3\" y=\"633.465745\"/>\r\n     <use style=\"fill:#0000ff;stroke:#0000ff;\" x=\"550.42473\" xlink:href=\"#m996baec9d3\" y=\"147.60117\"/>\r\n     <use style=\"fill:#0000ff;stroke:#0000ff;\" x=\"549.817138\" xlink:href=\"#m996baec9d3\" y=\"284.731723\"/>\r\n     <use style=\"fill:#0000ff;stroke:#0000ff;\" x=\"85.907087\" xlink:href=\"#m996baec9d3\" y=\"207.163457\"/>\r\n     <use style=\"fill:#0000ff;stroke:#0000ff;\" x=\"183.525072\" xlink:href=\"#m996baec9d3\" y=\"537.227043\"/>\r\n     <use style=\"fill:#0000ff;stroke:#0000ff;\" x=\"86.685337\" xlink:href=\"#m996baec9d3\" y=\"91.191689\"/>\r\n     <use style=\"fill:#0000ff;stroke:#0000ff;\" x=\"655.5147\" xlink:href=\"#m996baec9d3\" y=\"294.367908\"/>\r\n     <use style=\"fill:#0000ff;stroke:#0000ff;\" x=\"648.450153\" xlink:href=\"#m996baec9d3\" y=\"616.714854\"/>\r\n     <use style=\"fill:#0000ff;stroke:#0000ff;\" x=\"272.554128\" xlink:href=\"#m996baec9d3\" y=\"254.624768\"/>\r\n     <use style=\"fill:#0000ff;stroke:#0000ff;\" x=\"269.149267\" xlink:href=\"#m996baec9d3\" y=\"360.201542\"/>\r\n     <use style=\"fill:#0000ff;stroke:#0000ff;\" x=\"369.596954\" xlink:href=\"#m996baec9d3\" y=\"397.483762\"/>\r\n     <use style=\"fill:#0000ff;stroke:#0000ff;\" x=\"354.03083\" xlink:href=\"#m996baec9d3\" y=\"268.082135\"/>\r\n     <use style=\"fill:#0000ff;stroke:#0000ff;\" x=\"245.657755\" xlink:href=\"#m996baec9d3\" y=\"130.343265\"/>\r\n     <use style=\"fill:#0000ff;stroke:#0000ff;\" x=\"286.727016\" xlink:href=\"#m996baec9d3\" y=\"63.809044\"/>\r\n     <use style=\"fill:#0000ff;stroke:#0000ff;\" x=\"317.991533\" xlink:href=\"#m996baec9d3\" y=\"258.264255\"/>\r\n     <use style=\"fill:#0000ff;stroke:#0000ff;\" x=\"330.182509\" xlink:href=\"#m996baec9d3\" y=\"265.692752\"/>\r\n     <use style=\"fill:#0000ff;stroke:#0000ff;\" x=\"488.564156\" xlink:href=\"#m996baec9d3\" y=\"602.854401\"/>\r\n     <use style=\"fill:#0000ff;stroke:#0000ff;\" x=\"278.122959\" xlink:href=\"#m996baec9d3\" y=\"605.902619\"/>\r\n     <use style=\"fill:#0000ff;stroke:#0000ff;\" x=\"660.009193\" xlink:href=\"#m996baec9d3\" y=\"601.566741\"/>\r\n     <use style=\"fill:#0000ff;stroke:#0000ff;\" x=\"537.639311\" xlink:href=\"#m996baec9d3\" y=\"88.631815\"/>\r\n     <use style=\"fill:#0000ff;stroke:#0000ff;\" x=\"72.343006\" xlink:href=\"#m996baec9d3\" y=\"563.592837\"/>\r\n     <use style=\"fill:#0000ff;stroke:#0000ff;\" x=\"256.645919\" xlink:href=\"#m996baec9d3\" y=\"119.501004\"/>\r\n     <use style=\"fill:#0000ff;stroke:#0000ff;\" x=\"128.019553\" xlink:href=\"#m996baec9d3\" y=\"110.676377\"/>\r\n     <use style=\"fill:#0000ff;stroke:#0000ff;\" x=\"55.416547\" xlink:href=\"#m996baec9d3\" y=\"269.788405\"/>\r\n     <use style=\"fill:#0000ff;stroke:#0000ff;\" x=\"489.299899\" xlink:href=\"#m996baec9d3\" y=\"198.781377\"/>\r\n     <use style=\"fill:#0000ff;stroke:#0000ff;\" x=\"335.947286\" xlink:href=\"#m996baec9d3\" y=\"353.173942\"/>\r\n     <use style=\"fill:#0000ff;stroke:#0000ff;\" x=\"112.07997\" xlink:href=\"#m996baec9d3\" y=\"432.691657\"/>\r\n     <use style=\"fill:#0000ff;stroke:#0000ff;\" x=\"564.86428\" xlink:href=\"#m996baec9d3\" y=\"631.836033\"/>\r\n     <use style=\"fill:#0000ff;stroke:#0000ff;\" x=\"62.2584\" xlink:href=\"#m996baec9d3\" y=\"530.71884\"/>\r\n     <use style=\"fill:#0000ff;stroke:#0000ff;\" x=\"373.995665\" xlink:href=\"#m996baec9d3\" y=\"113.419747\"/>\r\n     <use style=\"fill:#0000ff;stroke:#0000ff;\" x=\"162.370944\" xlink:href=\"#m996baec9d3\" y=\"104.560964\"/>\r\n     <use style=\"fill:#0000ff;stroke:#0000ff;\" x=\"71.766707\" xlink:href=\"#m996baec9d3\" y=\"96.173407\"/>\r\n     <use style=\"fill:#0000ff;stroke:#0000ff;\" x=\"129.229177\" xlink:href=\"#m996baec9d3\" y=\"540.367121\"/>\r\n     <use style=\"fill:#0000ff;stroke:#0000ff;\" x=\"288.07369\" xlink:href=\"#m996baec9d3\" y=\"195.702179\"/>\r\n     <use style=\"fill:#0000ff;stroke:#0000ff;\" x=\"134.82479\" xlink:href=\"#m996baec9d3\" y=\"501.36576\"/>\r\n     <use style=\"fill:#0000ff;stroke:#0000ff;\" x=\"157.384735\" xlink:href=\"#m996baec9d3\" y=\"369.382335\"/>\r\n     <use style=\"fill:#0000ff;stroke:#0000ff;\" x=\"229.999891\" xlink:href=\"#m996baec9d3\" y=\"120.573233\"/>\r\n     <use style=\"fill:#0000ff;stroke:#0000ff;\" x=\"476.563055\" xlink:href=\"#m996baec9d3\" y=\"527.97829\"/>\r\n     <use style=\"fill:#0000ff;stroke:#0000ff;\" x=\"650.5372\" xlink:href=\"#m996baec9d3\" y=\"616.496157\"/>\r\n     <use style=\"fill:#0000ff;stroke:#0000ff;\" x=\"253.710706\" xlink:href=\"#m996baec9d3\" y=\"590.289211\"/>\r\n     <use style=\"fill:#0000ff;stroke:#0000ff;\" x=\"661.143774\" xlink:href=\"#m996baec9d3\" y=\"635.396565\"/>\r\n     <use style=\"fill:#0000ff;stroke:#0000ff;\" x=\"334.967743\" xlink:href=\"#m996baec9d3\" y=\"614.347552\"/>\r\n     <use style=\"fill:#0000ff;stroke:#0000ff;\" x=\"608.843081\" xlink:href=\"#m996baec9d3\" y=\"81.440715\"/>\r\n     <use style=\"fill:#0000ff;stroke:#0000ff;\" x=\"77.242016\" xlink:href=\"#m996baec9d3\" y=\"140.756203\"/>\r\n     <use style=\"fill:#0000ff;stroke:#0000ff;\" x=\"279.449597\" xlink:href=\"#m996baec9d3\" y=\"238.04468\"/>\r\n     <use style=\"fill:#0000ff;stroke:#0000ff;\" x=\"67.181781\" xlink:href=\"#m996baec9d3\" y=\"296.847868\"/>\r\n     <use style=\"fill:#0000ff;stroke:#0000ff;\" x=\"243.869153\" xlink:href=\"#m996baec9d3\" y=\"543.964347\"/>\r\n     <use style=\"fill:#0000ff;stroke:#0000ff;\" x=\"378.387166\" xlink:href=\"#m996baec9d3\" y=\"586.00404\"/>\r\n     <use style=\"fill:#0000ff;stroke:#0000ff;\" x=\"431.174129\" xlink:href=\"#m996baec9d3\" y=\"458.351441\"/>\r\n     <use style=\"fill:#0000ff;stroke:#0000ff;\" x=\"463.174826\" xlink:href=\"#m996baec9d3\" y=\"87.462669\"/>\r\n     <use style=\"fill:#0000ff;stroke:#0000ff;\" x=\"322.392028\" xlink:href=\"#m996baec9d3\" y=\"173.649222\"/>\r\n     <use style=\"fill:#0000ff;stroke:#0000ff;\" x=\"169.352916\" xlink:href=\"#m996baec9d3\" y=\"648.659536\"/>\r\n     <use style=\"fill:#0000ff;stroke:#0000ff;\" x=\"421.285235\" xlink:href=\"#m996baec9d3\" y=\"476.103486\"/>\r\n     <use style=\"fill:#0000ff;stroke:#0000ff;\" x=\"90.288688\" xlink:href=\"#m996baec9d3\" y=\"599.888939\"/>\r\n     <use style=\"fill:#0000ff;stroke:#0000ff;\" x=\"663.20107\" xlink:href=\"#m996baec9d3\" y=\"522.194958\"/>\r\n     <use style=\"fill:#0000ff;stroke:#0000ff;\" x=\"349.687675\" xlink:href=\"#m996baec9d3\" y=\"336.406214\"/>\r\n     <use style=\"fill:#0000ff;stroke:#0000ff;\" x=\"332.92593\" xlink:href=\"#m996baec9d3\" y=\"317.943169\"/>\r\n     <use style=\"fill:#0000ff;stroke:#0000ff;\" x=\"576.54578\" xlink:href=\"#m996baec9d3\" y=\"185.834976\"/>\r\n     <use style=\"fill:#0000ff;stroke:#0000ff;\" x=\"624.400629\" xlink:href=\"#m996baec9d3\" y=\"184.007504\"/>\r\n     <use style=\"fill:#0000ff;stroke:#0000ff;\" x=\"664.183174\" xlink:href=\"#m996baec9d3\" y=\"186.177361\"/>\r\n     <use style=\"fill:#0000ff;stroke:#0000ff;\" x=\"84.69937\" xlink:href=\"#m996baec9d3\" y=\"63.82677\"/>\r\n     <use style=\"fill:#0000ff;stroke:#0000ff;\" x=\"289.941756\" xlink:href=\"#m996baec9d3\" y=\"626.91405\"/>\r\n     <use style=\"fill:#0000ff;stroke:#0000ff;\" x=\"484.153453\" xlink:href=\"#m996baec9d3\" y=\"459.302287\"/>\r\n     <use style=\"fill:#0000ff;stroke:#0000ff;\" x=\"153.195262\" xlink:href=\"#m996baec9d3\" y=\"199.662578\"/>\r\n     <use style=\"fill:#0000ff;stroke:#0000ff;\" x=\"484.64811\" xlink:href=\"#m996baec9d3\" y=\"63.704991\"/>\r\n     <use style=\"fill:#0000ff;stroke:#0000ff;\" x=\"171.266197\" xlink:href=\"#m996baec9d3\" y=\"263.796464\"/>\r\n     <use style=\"fill:#0000ff;stroke:#0000ff;\" x=\"482.104164\" xlink:href=\"#m996baec9d3\" y=\"267.237359\"/>\r\n     <use style=\"fill:#0000ff;stroke:#0000ff;\" x=\"42.966548\" xlink:href=\"#m996baec9d3\" y=\"152.150179\"/>\r\n     <use style=\"fill:#0000ff;stroke:#0000ff;\" x=\"69.222896\" xlink:href=\"#m996baec9d3\" y=\"291.622016\"/>\r\n     <use style=\"fill:#0000ff;stroke:#0000ff;\" x=\"91.501689\" xlink:href=\"#m996baec9d3\" y=\"545.885594\"/>\r\n     <use style=\"fill:#0000ff;stroke:#0000ff;\" x=\"674.563196\" xlink:href=\"#m996baec9d3\" y=\"467.624307\"/>\r\n     <use style=\"fill:#0000ff;stroke:#0000ff;\" x=\"623.734559\" xlink:href=\"#m996baec9d3\" y=\"275.692579\"/>\r\n     <use style=\"fill:#0000ff;stroke:#0000ff;\" x=\"521.805651\" xlink:href=\"#m996baec9d3\" y=\"185.245502\"/>\r\n     <use style=\"fill:#0000ff;stroke:#0000ff;\" x=\"234.245935\" xlink:href=\"#m996baec9d3\" y=\"224.892336\"/>\r\n     <use style=\"fill:#0000ff;stroke:#0000ff;\" x=\"497.710058\" xlink:href=\"#m996baec9d3\" y=\"189.625642\"/>\r\n     <use style=\"fill:#0000ff;stroke:#0000ff;\" x=\"590.578258\" xlink:href=\"#m996baec9d3\" y=\"510.842965\"/>\r\n     <use style=\"fill:#0000ff;stroke:#0000ff;\" x=\"260.001163\" xlink:href=\"#m996baec9d3\" y=\"371.928409\"/>\r\n     <use style=\"fill:#0000ff;stroke:#0000ff;\" x=\"346.775099\" xlink:href=\"#m996baec9d3\" y=\"397.378989\"/>\r\n     <use style=\"fill:#0000ff;stroke:#0000ff;\" x=\"244.890818\" xlink:href=\"#m996baec9d3\" y=\"99.709455\"/>\r\n     <use style=\"fill:#0000ff;stroke:#0000ff;\" x=\"91.149647\" xlink:href=\"#m996baec9d3\" y=\"194.128641\"/>\r\n     <use style=\"fill:#0000ff;stroke:#0000ff;\" x=\"423.326745\" xlink:href=\"#m996baec9d3\" y=\"383.658465\"/>\r\n     <use style=\"fill:#0000ff;stroke:#0000ff;\" x=\"592.117824\" xlink:href=\"#m996baec9d3\" y=\"444.054287\"/>\r\n     <use style=\"fill:#0000ff;stroke:#0000ff;\" x=\"214.299979\" xlink:href=\"#m996baec9d3\" y=\"111.30977\"/>\r\n     <use style=\"fill:#0000ff;stroke:#0000ff;\" x=\"659.063329\" xlink:href=\"#m996baec9d3\" y=\"630.935949\"/>\r\n     <use style=\"fill:#0000ff;stroke:#0000ff;\" x=\"198.942515\" xlink:href=\"#m996baec9d3\" y=\"645.007998\"/>\r\n     <use style=\"fill:#0000ff;stroke:#0000ff;\" x=\"196.525895\" xlink:href=\"#m996baec9d3\" y=\"426.162323\"/>\r\n     <use style=\"fill:#0000ff;stroke:#0000ff;\" x=\"299.662747\" xlink:href=\"#m996baec9d3\" y=\"482.857696\"/>\r\n     <use style=\"fill:#0000ff;stroke:#0000ff;\" x=\"456.493596\" xlink:href=\"#m996baec9d3\" y=\"325.865373\"/>\r\n     <use style=\"fill:#0000ff;stroke:#0000ff;\" x=\"212.33782\" xlink:href=\"#m996baec9d3\" y=\"63.554389\"/>\r\n     <use style=\"fill:#0000ff;stroke:#0000ff;\" x=\"501.085795\" xlink:href=\"#m996baec9d3\" y=\"621.660111\"/>\r\n     <use style=\"fill:#0000ff;stroke:#0000ff;\" x=\"563.829314\" xlink:href=\"#m996baec9d3\" y=\"276.419323\"/>\r\n     <use style=\"fill:#0000ff;stroke:#0000ff;\" x=\"488.314455\" xlink:href=\"#m996baec9d3\" y=\"604.36406\"/>\r\n     <use style=\"fill:#0000ff;stroke:#0000ff;\" x=\"542.457883\" xlink:href=\"#m996baec9d3\" y=\"129.852872\"/>\r\n     <use style=\"fill:#0000ff;stroke:#0000ff;\" x=\"429.293294\" xlink:href=\"#m996baec9d3\" y=\"317.036495\"/>\r\n     <use style=\"fill:#0000ff;stroke:#0000ff;\" x=\"66.580674\" xlink:href=\"#m996baec9d3\" y=\"128.074868\"/>\r\n     <use style=\"fill:#0000ff;stroke:#0000ff;\" x=\"364.919436\" xlink:href=\"#m996baec9d3\" y=\"322.784266\"/>\r\n     <use style=\"fill:#0000ff;stroke:#0000ff;\" x=\"256.419613\" xlink:href=\"#m996baec9d3\" y=\"176.471064\"/>\r\n     <use style=\"fill:#0000ff;stroke:#0000ff;\" x=\"342.403805\" xlink:href=\"#m996baec9d3\" y=\"613.559896\"/>\r\n     <use style=\"fill:#0000ff;stroke:#0000ff;\" x=\"469.043165\" xlink:href=\"#m996baec9d3\" y=\"490.440019\"/>\r\n     <use style=\"fill:#0000ff;stroke:#0000ff;\" x=\"460.829616\" xlink:href=\"#m996baec9d3\" y=\"483.686872\"/>\r\n     <use style=\"fill:#0000ff;stroke:#0000ff;\" x=\"613.582797\" xlink:href=\"#m996baec9d3\" y=\"474.230725\"/>\r\n     <use style=\"fill:#0000ff;stroke:#0000ff;\" x=\"645.705801\" xlink:href=\"#m996baec9d3\" y=\"406.271964\"/>\r\n     <use style=\"fill:#0000ff;stroke:#0000ff;\" x=\"185.087037\" xlink:href=\"#m996baec9d3\" y=\"92.859155\"/>\r\n     <use style=\"fill:#0000ff;stroke:#0000ff;\" x=\"479.951732\" xlink:href=\"#m996baec9d3\" y=\"70.494834\"/>\r\n     <use style=\"fill:#0000ff;stroke:#0000ff;\" x=\"572.592658\" xlink:href=\"#m996baec9d3\" y=\"284.97683\"/>\r\n     <use style=\"fill:#0000ff;stroke:#0000ff;\" x=\"430.912475\" xlink:href=\"#m996baec9d3\" y=\"436.701182\"/>\r\n     <use style=\"fill:#0000ff;stroke:#0000ff;\" x=\"659.029062\" xlink:href=\"#m996baec9d3\" y=\"501.897082\"/>\r\n     <use style=\"fill:#0000ff;stroke:#0000ff;\" x=\"175.200098\" xlink:href=\"#m996baec9d3\" y=\"425.351955\"/>\r\n     <use style=\"fill:#0000ff;stroke:#0000ff;\" x=\"444.014573\" xlink:href=\"#m996baec9d3\" y=\"284.023786\"/>\r\n     <use style=\"fill:#0000ff;stroke:#0000ff;\" x=\"287.435834\" xlink:href=\"#m996baec9d3\" y=\"510.154988\"/>\r\n     <use style=\"fill:#0000ff;stroke:#0000ff;\" x=\"252.602765\" xlink:href=\"#m996baec9d3\" y=\"602.134187\"/>\r\n     <use style=\"fill:#0000ff;stroke:#0000ff;\" x=\"241.976951\" xlink:href=\"#m996baec9d3\" y=\"176.054098\"/>\r\n     <use style=\"fill:#0000ff;stroke:#0000ff;\" x=\"518.874708\" xlink:href=\"#m996baec9d3\" y=\"659.322654\"/>\r\n     <use style=\"fill:#0000ff;stroke:#0000ff;\" x=\"63.054941\" xlink:href=\"#m996baec9d3\" y=\"621.37199\"/>\r\n     <use style=\"fill:#0000ff;stroke:#0000ff;\" x=\"514.5747\" xlink:href=\"#m996baec9d3\" y=\"596.054277\"/>\r\n     <use style=\"fill:#0000ff;stroke:#0000ff;\" x=\"308.377082\" xlink:href=\"#m996baec9d3\" y=\"552.806295\"/>\r\n     <use style=\"fill:#0000ff;stroke:#0000ff;\" x=\"503.856824\" xlink:href=\"#m996baec9d3\" y=\"384.735828\"/>\r\n     <use style=\"fill:#0000ff;stroke:#0000ff;\" x=\"624.143946\" xlink:href=\"#m996baec9d3\" y=\"636.079079\"/>\r\n     <use style=\"fill:#0000ff;stroke:#0000ff;\" x=\"52.160093\" xlink:href=\"#m996baec9d3\" y=\"635.146524\"/>\r\n     <use style=\"fill:#0000ff;stroke:#0000ff;\" x=\"142.373226\" xlink:href=\"#m996baec9d3\" y=\"372.099566\"/>\r\n     <use style=\"fill:#0000ff;stroke:#0000ff;\" x=\"193.325319\" xlink:href=\"#m996baec9d3\" y=\"354.478631\"/>\r\n     <use style=\"fill:#0000ff;stroke:#0000ff;\" x=\"242.022129\" xlink:href=\"#m996baec9d3\" y=\"170.073434\"/>\r\n     <use style=\"fill:#0000ff;stroke:#0000ff;\" x=\"395.042826\" xlink:href=\"#m996baec9d3\" y=\"322.980337\"/>\r\n     <use style=\"fill:#0000ff;stroke:#0000ff;\" x=\"374.560375\" xlink:href=\"#m996baec9d3\" y=\"497.308568\"/>\r\n     <use style=\"fill:#0000ff;stroke:#0000ff;\" x=\"91.285786\" xlink:href=\"#m996baec9d3\" y=\"158.133148\"/>\r\n     <use style=\"fill:#0000ff;stroke:#0000ff;\" x=\"116.306424\" xlink:href=\"#m996baec9d3\" y=\"254.843249\"/>\r\n     <use style=\"fill:#0000ff;stroke:#0000ff;\" x=\"290.482179\" xlink:href=\"#m996baec9d3\" y=\"612.499048\"/>\r\n     <use style=\"fill:#0000ff;stroke:#0000ff;\" x=\"224.05613\" xlink:href=\"#m996baec9d3\" y=\"556.018233\"/>\r\n     <use style=\"fill:#0000ff;stroke:#0000ff;\" x=\"216.731295\" xlink:href=\"#m996baec9d3\" y=\"131.967857\"/>\r\n     <use style=\"fill:#0000ff;stroke:#0000ff;\" x=\"275.708873\" xlink:href=\"#m996baec9d3\" y=\"199.814081\"/>\r\n     <use style=\"fill:#0000ff;stroke:#0000ff;\" x=\"308.029342\" xlink:href=\"#m996baec9d3\" y=\"274.306896\"/>\r\n     <use style=\"fill:#0000ff;stroke:#0000ff;\" x=\"82.094313\" xlink:href=\"#m996baec9d3\" y=\"536.111003\"/>\r\n     <use style=\"fill:#0000ff;stroke:#0000ff;\" x=\"661.776791\" xlink:href=\"#m996baec9d3\" y=\"135.156007\"/>\r\n     <use style=\"fill:#0000ff;stroke:#0000ff;\" x=\"500.455738\" xlink:href=\"#m996baec9d3\" y=\"552.730796\"/>\r\n     <use style=\"fill:#0000ff;stroke:#0000ff;\" x=\"242.688502\" xlink:href=\"#m996baec9d3\" y=\"445.094756\"/>\r\n     <use style=\"fill:#0000ff;stroke:#0000ff;\" x=\"589.843463\" xlink:href=\"#m996baec9d3\" y=\"220.040502\"/>\r\n     <use style=\"fill:#0000ff;stroke:#0000ff;\" x=\"233.313563\" xlink:href=\"#m996baec9d3\" y=\"658.434623\"/>\r\n     <use style=\"fill:#0000ff;stroke:#0000ff;\" x=\"540.277028\" xlink:href=\"#m996baec9d3\" y=\"614.344809\"/>\r\n     <use style=\"fill:#0000ff;stroke:#0000ff;\" x=\"312.944568\" xlink:href=\"#m996baec9d3\" y=\"262.876279\"/>\r\n     <use style=\"fill:#0000ff;stroke:#0000ff;\" x=\"405.608985\" xlink:href=\"#m996baec9d3\" y=\"277.132737\"/>\r\n     <use style=\"fill:#0000ff;stroke:#0000ff;\" x=\"39.177319\" xlink:href=\"#m996baec9d3\" y=\"96.89727\"/>\r\n     <use style=\"fill:#0000ff;stroke:#0000ff;\" x=\"193.544651\" xlink:href=\"#m996baec9d3\" y=\"421.76752\"/>\r\n     <use style=\"fill:#0000ff;stroke:#0000ff;\" x=\"98.206258\" xlink:href=\"#m996baec9d3\" y=\"276.99561\"/>\r\n     <use style=\"fill:#0000ff;stroke:#0000ff;\" x=\"606.136982\" xlink:href=\"#m996baec9d3\" y=\"635.434701\"/>\r\n     <use style=\"fill:#0000ff;stroke:#0000ff;\" x=\"124.982411\" xlink:href=\"#m996baec9d3\" y=\"318.694954\"/>\r\n     <use style=\"fill:#0000ff;stroke:#0000ff;\" x=\"503.571528\" xlink:href=\"#m996baec9d3\" y=\"129.136432\"/>\r\n     <use style=\"fill:#0000ff;stroke:#0000ff;\" x=\"94.481444\" xlink:href=\"#m996baec9d3\" y=\"528.320279\"/>\r\n     <use style=\"fill:#0000ff;stroke:#0000ff;\" x=\"462.944594\" xlink:href=\"#m996baec9d3\" y=\"177.68323\"/>\r\n     <use style=\"fill:#0000ff;stroke:#0000ff;\" x=\"592.56292\" xlink:href=\"#m996baec9d3\" y=\"269.078846\"/>\r\n     <use style=\"fill:#0000ff;stroke:#0000ff;\" x=\"46.029425\" xlink:href=\"#m996baec9d3\" y=\"454.293726\"/>\r\n     <use style=\"fill:#0000ff;stroke:#0000ff;\" x=\"589.169538\" xlink:href=\"#m996baec9d3\" y=\"86.79512\"/>\r\n     <use style=\"fill:#0000ff;stroke:#0000ff;\" x=\"173.352021\" xlink:href=\"#m996baec9d3\" y=\"355.259707\"/>\r\n     <use style=\"fill:#0000ff;stroke:#0000ff;\" x=\"463.810727\" xlink:href=\"#m996baec9d3\" y=\"86.871574\"/>\r\n     <use style=\"fill:#0000ff;stroke:#0000ff;\" x=\"515.232346\" xlink:href=\"#m996baec9d3\" y=\"478.430719\"/>\r\n     <use style=\"fill:#0000ff;stroke:#0000ff;\" x=\"645.721778\" xlink:href=\"#m996baec9d3\" y=\"310.473311\"/>\r\n     <use style=\"fill:#0000ff;stroke:#0000ff;\" x=\"216.983689\" xlink:href=\"#m996baec9d3\" y=\"428.589663\"/>\r\n     <use style=\"fill:#0000ff;stroke:#0000ff;\" x=\"267.412767\" xlink:href=\"#m996baec9d3\" y=\"372.207545\"/>\r\n     <use style=\"fill:#0000ff;stroke:#0000ff;\" x=\"226.227707\" xlink:href=\"#m996baec9d3\" y=\"397.979722\"/>\r\n     <use style=\"fill:#0000ff;stroke:#0000ff;\" x=\"99.57055\" xlink:href=\"#m996baec9d3\" y=\"379.739283\"/>\r\n     <use style=\"fill:#0000ff;stroke:#0000ff;\" x=\"576.542782\" xlink:href=\"#m996baec9d3\" y=\"553.402389\"/>\r\n     <use style=\"fill:#0000ff;stroke:#0000ff;\" x=\"417.809391\" xlink:href=\"#m996baec9d3\" y=\"394.587395\"/>\r\n     <use style=\"fill:#0000ff;stroke:#0000ff;\" x=\"626.441341\" xlink:href=\"#m996baec9d3\" y=\"438.02974\"/>\r\n     <use style=\"fill:#0000ff;stroke:#0000ff;\" x=\"659.093271\" xlink:href=\"#m996baec9d3\" y=\"482.10429\"/>\r\n     <use style=\"fill:#0000ff;stroke:#0000ff;\" x=\"268.894955\" xlink:href=\"#m996baec9d3\" y=\"327.336192\"/>\r\n     <use style=\"fill:#0000ff;stroke:#0000ff;\" x=\"632.3759\" xlink:href=\"#m996baec9d3\" y=\"178.425899\"/>\r\n     <use style=\"fill:#0000ff;stroke:#0000ff;\" x=\"98.876028\" xlink:href=\"#m996baec9d3\" y=\"622.592537\"/>\r\n     <use style=\"fill:#0000ff;stroke:#0000ff;\" x=\"369.324523\" xlink:href=\"#m996baec9d3\" y=\"630.907651\"/>\r\n     <use style=\"fill:#0000ff;stroke:#0000ff;\" x=\"106.211721\" xlink:href=\"#m996baec9d3\" y=\"418.388577\"/>\r\n     <use style=\"fill:#0000ff;stroke:#0000ff;\" x=\"427.350905\" xlink:href=\"#m996baec9d3\" y=\"378.475344\"/>\r\n     <use style=\"fill:#0000ff;stroke:#0000ff;\" x=\"168.426017\" xlink:href=\"#m996baec9d3\" y=\"290.601705\"/>\r\n     <use style=\"fill:#0000ff;stroke:#0000ff;\" x=\"120.936677\" xlink:href=\"#m996baec9d3\" y=\"118.697914\"/>\r\n     <use style=\"fill:#0000ff;stroke:#0000ff;\" x=\"623.695586\" xlink:href=\"#m996baec9d3\" y=\"348.445617\"/>\r\n     <use style=\"fill:#0000ff;stroke:#0000ff;\" x=\"675.381818\" xlink:href=\"#m996baec9d3\" y=\"298.566604\"/>\r\n     <use style=\"fill:#0000ff;stroke:#0000ff;\" x=\"298.825397\" xlink:href=\"#m996baec9d3\" y=\"69.446638\"/>\r\n     <use style=\"fill:#0000ff;stroke:#0000ff;\" x=\"520.632666\" xlink:href=\"#m996baec9d3\" y=\"249.65411\"/>\r\n     <use style=\"fill:#0000ff;stroke:#0000ff;\" x=\"157.805193\" xlink:href=\"#m996baec9d3\" y=\"291.553164\"/>\r\n     <use style=\"fill:#0000ff;stroke:#0000ff;\" x=\"308.534909\" xlink:href=\"#m996baec9d3\" y=\"408.860823\"/>\r\n     <use style=\"fill:#0000ff;stroke:#0000ff;\" x=\"407.562985\" xlink:href=\"#m996baec9d3\" y=\"519.945827\"/>\r\n     <use style=\"fill:#0000ff;stroke:#0000ff;\" x=\"494.838656\" xlink:href=\"#m996baec9d3\" y=\"438.792856\"/>\r\n     <use style=\"fill:#0000ff;stroke:#0000ff;\" x=\"457.474296\" xlink:href=\"#m996baec9d3\" y=\"315.270596\"/>\r\n     <use style=\"fill:#0000ff;stroke:#0000ff;\" x=\"470.797025\" xlink:href=\"#m996baec9d3\" y=\"633.298248\"/>\r\n     <use style=\"fill:#0000ff;stroke:#0000ff;\" x=\"439.605388\" xlink:href=\"#m996baec9d3\" y=\"111.421389\"/>\r\n     <use style=\"fill:#0000ff;stroke:#0000ff;\" x=\"606.072052\" xlink:href=\"#m996baec9d3\" y=\"305.869034\"/>\r\n     <use style=\"fill:#0000ff;stroke:#0000ff;\" x=\"553.201299\" xlink:href=\"#m996baec9d3\" y=\"78.992353\"/>\r\n     <use style=\"fill:#0000ff;stroke:#0000ff;\" x=\"220.279943\" xlink:href=\"#m996baec9d3\" y=\"353.712759\"/>\r\n     <use style=\"fill:#0000ff;stroke:#0000ff;\" x=\"208.349711\" xlink:href=\"#m996baec9d3\" y=\"411.73732\"/>\r\n     <use style=\"fill:#0000ff;stroke:#0000ff;\" x=\"333.407154\" xlink:href=\"#m996baec9d3\" y=\"362.696995\"/>\r\n     <use style=\"fill:#0000ff;stroke:#0000ff;\" x=\"249.880424\" xlink:href=\"#m996baec9d3\" y=\"592.838456\"/>\r\n     <use style=\"fill:#0000ff;stroke:#0000ff;\" x=\"669.229664\" xlink:href=\"#m996baec9d3\" y=\"361.349287\"/>\r\n     <use style=\"fill:#0000ff;stroke:#0000ff;\" x=\"265.542956\" xlink:href=\"#m996baec9d3\" y=\"548.459419\"/>\r\n     <use style=\"fill:#0000ff;stroke:#0000ff;\" x=\"369.911584\" xlink:href=\"#m996baec9d3\" y=\"465.282428\"/>\r\n     <use style=\"fill:#0000ff;stroke:#0000ff;\" x=\"110.802276\" xlink:href=\"#m996baec9d3\" y=\"414.165957\"/>\r\n     <use style=\"fill:#0000ff;stroke:#0000ff;\" x=\"336.874213\" xlink:href=\"#m996baec9d3\" y=\"631.907848\"/>\r\n     <use style=\"fill:#0000ff;stroke:#0000ff;\" x=\"430.019891\" xlink:href=\"#m996baec9d3\" y=\"69.90374\"/>\r\n     <use style=\"fill:#0000ff;stroke:#0000ff;\" x=\"500.905047\" xlink:href=\"#m996baec9d3\" y=\"585.235493\"/>\r\n     <use style=\"fill:#0000ff;stroke:#0000ff;\" x=\"89.69841\" xlink:href=\"#m996baec9d3\" y=\"125.941761\"/>\r\n     <use style=\"fill:#0000ff;stroke:#0000ff;\" x=\"187.730066\" xlink:href=\"#m996baec9d3\" y=\"120.072355\"/>\r\n     <use style=\"fill:#0000ff;stroke:#0000ff;\" x=\"559.762878\" xlink:href=\"#m996baec9d3\" y=\"120.919221\"/>\r\n     <use style=\"fill:#0000ff;stroke:#0000ff;\" x=\"519.809718\" xlink:href=\"#m996baec9d3\" y=\"222.070675\"/>\r\n     <use style=\"fill:#0000ff;stroke:#0000ff;\" x=\"658.578691\" xlink:href=\"#m996baec9d3\" y=\"504.003852\"/>\r\n     <use style=\"fill:#0000ff;stroke:#0000ff;\" x=\"641.139852\" xlink:href=\"#m996baec9d3\" y=\"472.702349\"/>\r\n     <use style=\"fill:#0000ff;stroke:#0000ff;\" x=\"482.422513\" xlink:href=\"#m996baec9d3\" y=\"661.578228\"/>\r\n     <use style=\"fill:#0000ff;stroke:#0000ff;\" x=\"633.336487\" xlink:href=\"#m996baec9d3\" y=\"85.047344\"/>\r\n     <use style=\"fill:#0000ff;stroke:#0000ff;\" x=\"636.671126\" xlink:href=\"#m996baec9d3\" y=\"76.514698\"/>\r\n     <use style=\"fill:#0000ff;stroke:#0000ff;\" x=\"190.681692\" xlink:href=\"#m996baec9d3\" y=\"303.881016\"/>\r\n     <use style=\"fill:#0000ff;stroke:#0000ff;\" x=\"576.977329\" xlink:href=\"#m996baec9d3\" y=\"429.530961\"/>\r\n     <use style=\"fill:#0000ff;stroke:#0000ff;\" x=\"542.625881\" xlink:href=\"#m996baec9d3\" y=\"448.592469\"/>\r\n     <use style=\"fill:#0000ff;stroke:#0000ff;\" x=\"291.621219\" xlink:href=\"#m996baec9d3\" y=\"121.79228\"/>\r\n     <use style=\"fill:#0000ff;stroke:#0000ff;\" x=\"206.685845\" xlink:href=\"#m996baec9d3\" y=\"177.602812\"/>\r\n     <use style=\"fill:#0000ff;stroke:#0000ff;\" x=\"648.786717\" xlink:href=\"#m996baec9d3\" y=\"462.064374\"/>\r\n     <use style=\"fill:#0000ff;stroke:#0000ff;\" x=\"46.922068\" xlink:href=\"#m996baec9d3\" y=\"312.45034\"/>\r\n     <use style=\"fill:#0000ff;stroke:#0000ff;\" x=\"544.279102\" xlink:href=\"#m996baec9d3\" y=\"208.595942\"/>\r\n     <use style=\"fill:#0000ff;stroke:#0000ff;\" x=\"465.647923\" xlink:href=\"#m996baec9d3\" y=\"170.713745\"/>\r\n     <use style=\"fill:#0000ff;stroke:#0000ff;\" x=\"178.069309\" xlink:href=\"#m996baec9d3\" y=\"203.417035\"/>\r\n     <use style=\"fill:#0000ff;stroke:#0000ff;\" x=\"256.222225\" xlink:href=\"#m996baec9d3\" y=\"148.350397\"/>\r\n     <use style=\"fill:#0000ff;stroke:#0000ff;\" x=\"90.73202\" xlink:href=\"#m996baec9d3\" y=\"386.846633\"/>\r\n     <use style=\"fill:#0000ff;stroke:#0000ff;\" x=\"415.323924\" xlink:href=\"#m996baec9d3\" y=\"548.668974\"/>\r\n     <use style=\"fill:#0000ff;stroke:#0000ff;\" x=\"322.62245\" xlink:href=\"#m996baec9d3\" y=\"414.280638\"/>\r\n     <use style=\"fill:#0000ff;stroke:#0000ff;\" x=\"657.510823\" xlink:href=\"#m996baec9d3\" y=\"410.593141\"/>\r\n     <use style=\"fill:#0000ff;stroke:#0000ff;\" x=\"384.915769\" xlink:href=\"#m996baec9d3\" y=\"186.489518\"/>\r\n     <use style=\"fill:#0000ff;stroke:#0000ff;\" x=\"391.964378\" xlink:href=\"#m996baec9d3\" y=\"244.738649\"/>\r\n     <use style=\"fill:#0000ff;stroke:#0000ff;\" x=\"50.115645\" xlink:href=\"#m996baec9d3\" y=\"299.575529\"/>\r\n     <use style=\"fill:#0000ff;stroke:#0000ff;\" x=\"39.018182\" xlink:href=\"#m996baec9d3\" y=\"264.402331\"/>\r\n     <use style=\"fill:#0000ff;stroke:#0000ff;\" x=\"119.329572\" xlink:href=\"#m996baec9d3\" y=\"349.533194\"/>\r\n     <use style=\"fill:#0000ff;stroke:#0000ff;\" x=\"540.466921\" xlink:href=\"#m996baec9d3\" y=\"479.104266\"/>\r\n     <use style=\"fill:#0000ff;stroke:#0000ff;\" x=\"357.084043\" xlink:href=\"#m996baec9d3\" y=\"367.820146\"/>\r\n     <use style=\"fill:#0000ff;stroke:#0000ff;\" x=\"202.832452\" xlink:href=\"#m996baec9d3\" y=\"364.935452\"/>\r\n     <use style=\"fill:#0000ff;stroke:#0000ff;\" x=\"58.693858\" xlink:href=\"#m996baec9d3\" y=\"555.194633\"/>\r\n     <use style=\"fill:#0000ff;stroke:#0000ff;\" x=\"518.991854\" xlink:href=\"#m996baec9d3\" y=\"440.422456\"/>\r\n     <use style=\"fill:#0000ff;stroke:#0000ff;\" x=\"589.981026\" xlink:href=\"#m996baec9d3\" y=\"651.092825\"/>\r\n     <use style=\"fill:#0000ff;stroke:#0000ff;\" x=\"303.610195\" xlink:href=\"#m996baec9d3\" y=\"481.295885\"/>\r\n     <use style=\"fill:#0000ff;stroke:#0000ff;\" x=\"113.912526\" xlink:href=\"#m996baec9d3\" y=\"542.873041\"/>\r\n     <use style=\"fill:#0000ff;stroke:#0000ff;\" x=\"438.597782\" xlink:href=\"#m996baec9d3\" y=\"120.330252\"/>\r\n     <use style=\"fill:#0000ff;stroke:#0000ff;\" x=\"541.973776\" xlink:href=\"#m996baec9d3\" y=\"618.622567\"/>\r\n     <use style=\"fill:#0000ff;stroke:#0000ff;\" x=\"372.893986\" xlink:href=\"#m996baec9d3\" y=\"293.869984\"/>\r\n     <use style=\"fill:#0000ff;stroke:#0000ff;\" x=\"652.388284\" xlink:href=\"#m996baec9d3\" y=\"578.578318\"/>\r\n     <use style=\"fill:#0000ff;stroke:#0000ff;\" x=\"147.590503\" xlink:href=\"#m996baec9d3\" y=\"371.95154\"/>\r\n     <use style=\"fill:#0000ff;stroke:#0000ff;\" x=\"517.607307\" xlink:href=\"#m996baec9d3\" y=\"181.284995\"/>\r\n     <use style=\"fill:#0000ff;stroke:#0000ff;\" x=\"310.20276\" xlink:href=\"#m996baec9d3\" y=\"174.491837\"/>\r\n     <use style=\"fill:#0000ff;stroke:#0000ff;\" x=\"221.927909\" xlink:href=\"#m996baec9d3\" y=\"237.50208\"/>\r\n     <use style=\"fill:#0000ff;stroke:#0000ff;\" x=\"589.577217\" xlink:href=\"#m996baec9d3\" y=\"390.57097\"/>\r\n     <use style=\"fill:#0000ff;stroke:#0000ff;\" x=\"423.185729\" xlink:href=\"#m996baec9d3\" y=\"453.5817\"/>\r\n     <use style=\"fill:#0000ff;stroke:#0000ff;\" x=\"198.965682\" xlink:href=\"#m996baec9d3\" y=\"364.681878\"/>\r\n     <use style=\"fill:#0000ff;stroke:#0000ff;\" x=\"580.722113\" xlink:href=\"#m996baec9d3\" y=\"215.278814\"/>\r\n     <use style=\"fill:#0000ff;stroke:#0000ff;\" x=\"118.844421\" xlink:href=\"#m996baec9d3\" y=\"649.528277\"/>\r\n     <use style=\"fill:#0000ff;stroke:#0000ff;\" x=\"76.081818\" xlink:href=\"#m996baec9d3\" y=\"227.939396\"/>\r\n     <use style=\"fill:#0000ff;stroke:#0000ff;\" x=\"56.142142\" xlink:href=\"#m996baec9d3\" y=\"128.262076\"/>\r\n     <use style=\"fill:#0000ff;stroke:#0000ff;\" x=\"106.564641\" xlink:href=\"#m996baec9d3\" y=\"112.227794\"/>\r\n     <use style=\"fill:#0000ff;stroke:#0000ff;\" x=\"629.554285\" xlink:href=\"#m996baec9d3\" y=\"636.639292\"/>\r\n     <use style=\"fill:#0000ff;stroke:#0000ff;\" x=\"604.980163\" xlink:href=\"#m996baec9d3\" y=\"533.584619\"/>\r\n     <use style=\"fill:#0000ff;stroke:#0000ff;\" x=\"95.360826\" xlink:href=\"#m996baec9d3\" y=\"112.743443\"/>\r\n     <use style=\"fill:#0000ff;stroke:#0000ff;\" x=\"380.46245\" xlink:href=\"#m996baec9d3\" y=\"382.674454\"/>\r\n     <use style=\"fill:#0000ff;stroke:#0000ff;\" x=\"648.931831\" xlink:href=\"#m996baec9d3\" y=\"619.677632\"/>\r\n     <use style=\"fill:#0000ff;stroke:#0000ff;\" x=\"303.109865\" xlink:href=\"#m996baec9d3\" y=\"257.160934\"/>\r\n     <use style=\"fill:#0000ff;stroke:#0000ff;\" x=\"607.682278\" xlink:href=\"#m996baec9d3\" y=\"596.803251\"/>\r\n     <use style=\"fill:#0000ff;stroke:#0000ff;\" x=\"506.221426\" xlink:href=\"#m996baec9d3\" y=\"83.528174\"/>\r\n     <use style=\"fill:#0000ff;stroke:#0000ff;\" x=\"81.245934\" xlink:href=\"#m996baec9d3\" y=\"597.553275\"/>\r\n     <use style=\"fill:#0000ff;stroke:#0000ff;\" x=\"487.589679\" xlink:href=\"#m996baec9d3\" y=\"646.647956\"/>\r\n     <use style=\"fill:#0000ff;stroke:#0000ff;\" x=\"657.58672\" xlink:href=\"#m996baec9d3\" y=\"278.19113\"/>\r\n     <use style=\"fill:#0000ff;stroke:#0000ff;\" x=\"169.468544\" xlink:href=\"#m996baec9d3\" y=\"315.082632\"/>\r\n     <use style=\"fill:#0000ff;stroke:#0000ff;\" x=\"207.407187\" xlink:href=\"#m996baec9d3\" y=\"502.09454\"/>\r\n     <use style=\"fill:#0000ff;stroke:#0000ff;\" x=\"170.804119\" xlink:href=\"#m996baec9d3\" y=\"85.067088\"/>\r\n     <use style=\"fill:#0000ff;stroke:#0000ff;\" x=\"251.886148\" xlink:href=\"#m996baec9d3\" y=\"361.893526\"/>\r\n     <use style=\"fill:#0000ff;stroke:#0000ff;\" x=\"624.014656\" xlink:href=\"#m996baec9d3\" y=\"60.518499\"/>\r\n     <use style=\"fill:#0000ff;stroke:#0000ff;\" x=\"572.111435\" xlink:href=\"#m996baec9d3\" y=\"596.971318\"/>\r\n     <use style=\"fill:#0000ff;stroke:#0000ff;\" x=\"615.23173\" xlink:href=\"#m996baec9d3\" y=\"256.823304\"/>\r\n     <use style=\"fill:#0000ff;stroke:#0000ff;\" x=\"619.960023\" xlink:href=\"#m996baec9d3\" y=\"499.292713\"/>\r\n     <use style=\"fill:#0000ff;stroke:#0000ff;\" x=\"444.489573\" xlink:href=\"#m996baec9d3\" y=\"237.586461\"/>\r\n     <use style=\"fill:#0000ff;stroke:#0000ff;\" x=\"251.930813\" xlink:href=\"#m996baec9d3\" y=\"501.570603\"/>\r\n     <use style=\"fill:#0000ff;stroke:#0000ff;\" x=\"51.379704\" xlink:href=\"#m996baec9d3\" y=\"607.900919\"/>\r\n     <use style=\"fill:#0000ff;stroke:#0000ff;\" x=\"448.198951\" xlink:href=\"#m996baec9d3\" y=\"571.474652\"/>\r\n     <use style=\"fill:#0000ff;stroke:#0000ff;\" x=\"44.874323\" xlink:href=\"#m996baec9d3\" y=\"179.282024\"/>\r\n     <use style=\"fill:#0000ff;stroke:#0000ff;\" x=\"89.352326\" xlink:href=\"#m996baec9d3\" y=\"147.261307\"/>\r\n     <use style=\"fill:#0000ff;stroke:#0000ff;\" x=\"263.896128\" xlink:href=\"#m996baec9d3\" y=\"525.860801\"/>\r\n     <use style=\"fill:#0000ff;stroke:#0000ff;\" x=\"628.948401\" xlink:href=\"#m996baec9d3\" y=\"478.575988\"/>\r\n     <use style=\"fill:#0000ff;stroke:#0000ff;\" x=\"420.389805\" xlink:href=\"#m996baec9d3\" y=\"420.050261\"/>\r\n     <use style=\"fill:#0000ff;stroke:#0000ff;\" x=\"569.539331\" xlink:href=\"#m996baec9d3\" y=\"657.189639\"/>\r\n     <use style=\"fill:#0000ff;stroke:#0000ff;\" x=\"458.778582\" xlink:href=\"#m996baec9d3\" y=\"313.252746\"/>\r\n     <use style=\"fill:#0000ff;stroke:#0000ff;\" x=\"567.327282\" xlink:href=\"#m996baec9d3\" y=\"508.196982\"/>\r\n     <use style=\"fill:#0000ff;stroke:#0000ff;\" x=\"54.15235\" xlink:href=\"#m996baec9d3\" y=\"447.833226\"/>\r\n     <use style=\"fill:#0000ff;stroke:#0000ff;\" x=\"352.943495\" xlink:href=\"#m996baec9d3\" y=\"380.81969\"/>\r\n     <use style=\"fill:#0000ff;stroke:#0000ff;\" x=\"287.014854\" xlink:href=\"#m996baec9d3\" y=\"284.683516\"/>\r\n     <use style=\"fill:#0000ff;stroke:#0000ff;\" x=\"467.979433\" xlink:href=\"#m996baec9d3\" y=\"647.685488\"/>\r\n     <use style=\"fill:#0000ff;stroke:#0000ff;\" x=\"528.71332\" xlink:href=\"#m996baec9d3\" y=\"375.857553\"/>\r\n     <use style=\"fill:#0000ff;stroke:#0000ff;\" x=\"51.275123\" xlink:href=\"#m996baec9d3\" y=\"475.06417\"/>\r\n     <use style=\"fill:#0000ff;stroke:#0000ff;\" x=\"463.089784\" xlink:href=\"#m996baec9d3\" y=\"327.301388\"/>\r\n     <use style=\"fill:#0000ff;stroke:#0000ff;\" x=\"89.699207\" xlink:href=\"#m996baec9d3\" y=\"465.821767\"/>\r\n     <use style=\"fill:#0000ff;stroke:#0000ff;\" x=\"59.188712\" xlink:href=\"#m996baec9d3\" y=\"457.229276\"/>\r\n     <use style=\"fill:#0000ff;stroke:#0000ff;\" x=\"295.816451\" xlink:href=\"#m996baec9d3\" y=\"376.683288\"/>\r\n     <use style=\"fill:#0000ff;stroke:#0000ff;\" x=\"418.494511\" xlink:href=\"#m996baec9d3\" y=\"206.579424\"/>\r\n     <use style=\"fill:#0000ff;stroke:#0000ff;\" x=\"529.412215\" xlink:href=\"#m996baec9d3\" y=\"274.057574\"/>\r\n     <use style=\"fill:#0000ff;stroke:#0000ff;\" x=\"411.657502\" xlink:href=\"#m996baec9d3\" y=\"380.327225\"/>\r\n     <use style=\"fill:#0000ff;stroke:#0000ff;\" x=\"486.381896\" xlink:href=\"#m996baec9d3\" y=\"590.741896\"/>\r\n     <use style=\"fill:#0000ff;stroke:#0000ff;\" x=\"269.720845\" xlink:href=\"#m996baec9d3\" y=\"75.210694\"/>\r\n     <use style=\"fill:#0000ff;stroke:#0000ff;\" x=\"460.229083\" xlink:href=\"#m996baec9d3\" y=\"193.59231\"/>\r\n     <use style=\"fill:#0000ff;stroke:#0000ff;\" x=\"652.984757\" xlink:href=\"#m996baec9d3\" y=\"416.653268\"/>\r\n     <use style=\"fill:#0000ff;stroke:#0000ff;\" x=\"63.506162\" xlink:href=\"#m996baec9d3\" y=\"661.203754\"/>\r\n     <use style=\"fill:#0000ff;stroke:#0000ff;\" x=\"289.765676\" xlink:href=\"#m996baec9d3\" y=\"354.884283\"/>\r\n     <use style=\"fill:#0000ff;stroke:#0000ff;\" x=\"463.593169\" xlink:href=\"#m996baec9d3\" y=\"303.989068\"/>\r\n     <use style=\"fill:#0000ff;stroke:#0000ff;\" x=\"179.350114\" xlink:href=\"#m996baec9d3\" y=\"312.476534\"/>\r\n     <use style=\"fill:#0000ff;stroke:#0000ff;\" x=\"41.894254\" xlink:href=\"#m996baec9d3\" y=\"325.668654\"/>\r\n     <use style=\"fill:#0000ff;stroke:#0000ff;\" x=\"462.15485\" xlink:href=\"#m996baec9d3\" y=\"436.156025\"/>\r\n     <use style=\"fill:#0000ff;stroke:#0000ff;\" x=\"471.416229\" xlink:href=\"#m996baec9d3\" y=\"327.131078\"/>\r\n     <use style=\"fill:#0000ff;stroke:#0000ff;\" x=\"627.564348\" xlink:href=\"#m996baec9d3\" y=\"556.308151\"/>\r\n     <use style=\"fill:#0000ff;stroke:#0000ff;\" x=\"506.959673\" xlink:href=\"#m996baec9d3\" y=\"309.390887\"/>\r\n     <use style=\"fill:#0000ff;stroke:#0000ff;\" x=\"121.201822\" xlink:href=\"#m996baec9d3\" y=\"290.649336\"/>\r\n     <use style=\"fill:#0000ff;stroke:#0000ff;\" x=\"99.279846\" xlink:href=\"#m996baec9d3\" y=\"566.313823\"/>\r\n     <use style=\"fill:#0000ff;stroke:#0000ff;\" x=\"326.87229\" xlink:href=\"#m996baec9d3\" y=\"139.474356\"/>\r\n     <use style=\"fill:#0000ff;stroke:#0000ff;\" x=\"229.27149\" xlink:href=\"#m996baec9d3\" y=\"382.273972\"/>\r\n     <use style=\"fill:#0000ff;stroke:#0000ff;\" x=\"519.357715\" xlink:href=\"#m996baec9d3\" y=\"89.893954\"/>\r\n     <use style=\"fill:#0000ff;stroke:#0000ff;\" x=\"602.599282\" xlink:href=\"#m996baec9d3\" y=\"584.392014\"/>\r\n     <use style=\"fill:#0000ff;stroke:#0000ff;\" x=\"414.049389\" xlink:href=\"#m996baec9d3\" y=\"280.603248\"/>\r\n     <use style=\"fill:#0000ff;stroke:#0000ff;\" x=\"633.176307\" xlink:href=\"#m996baec9d3\" y=\"492.256844\"/>\r\n     <use style=\"fill:#0000ff;stroke:#0000ff;\" x=\"274.456955\" xlink:href=\"#m996baec9d3\" y=\"205.467708\"/>\r\n     <use style=\"fill:#0000ff;stroke:#0000ff;\" x=\"311.783651\" xlink:href=\"#m996baec9d3\" y=\"476.147856\"/>\r\n     <use style=\"fill:#0000ff;stroke:#0000ff;\" x=\"318.863093\" xlink:href=\"#m996baec9d3\" y=\"285.761762\"/>\r\n     <use style=\"fill:#0000ff;stroke:#0000ff;\" x=\"495.135222\" xlink:href=\"#m996baec9d3\" y=\"326.299957\"/>\r\n     <use style=\"fill:#0000ff;stroke:#0000ff;\" x=\"105.967267\" xlink:href=\"#m996baec9d3\" y=\"651.170796\"/>\r\n     <use style=\"fill:#0000ff;stroke:#0000ff;\" x=\"605.084332\" xlink:href=\"#m996baec9d3\" y=\"593.561616\"/>\r\n     <use style=\"fill:#0000ff;stroke:#0000ff;\" x=\"219.037778\" xlink:href=\"#m996baec9d3\" y=\"469.351942\"/>\r\n     <use style=\"fill:#0000ff;stroke:#0000ff;\" x=\"115.218661\" xlink:href=\"#m996baec9d3\" y=\"431.631318\"/>\r\n     <use style=\"fill:#0000ff;stroke:#0000ff;\" x=\"639.194048\" xlink:href=\"#m996baec9d3\" y=\"578.922568\"/>\r\n     <use style=\"fill:#0000ff;stroke:#0000ff;\" x=\"404.406932\" xlink:href=\"#m996baec9d3\" y=\"62.622207\"/>\r\n     <use style=\"fill:#0000ff;stroke:#0000ff;\" x=\"175.762208\" xlink:href=\"#m996baec9d3\" y=\"585.893611\"/>\r\n     <use style=\"fill:#0000ff;stroke:#0000ff;\" x=\"282.41217\" xlink:href=\"#m996baec9d3\" y=\"76.137725\"/>\r\n     <use style=\"fill:#0000ff;stroke:#0000ff;\" x=\"586.880529\" xlink:href=\"#m996baec9d3\" y=\"526.242431\"/>\r\n     <use style=\"fill:#0000ff;stroke:#0000ff;\" x=\"82.845596\" xlink:href=\"#m996baec9d3\" y=\"529.286455\"/>\r\n     <use style=\"fill:#0000ff;stroke:#0000ff;\" x=\"159.020158\" xlink:href=\"#m996baec9d3\" y=\"249.642149\"/>\r\n     <use style=\"fill:#0000ff;stroke:#0000ff;\" x=\"360.656201\" xlink:href=\"#m996baec9d3\" y=\"561.845386\"/>\r\n     <use style=\"fill:#0000ff;stroke:#0000ff;\" x=\"161.030019\" xlink:href=\"#m996baec9d3\" y=\"72.24978\"/>\r\n     <use style=\"fill:#0000ff;stroke:#0000ff;\" x=\"674.115556\" xlink:href=\"#m996baec9d3\" y=\"180.807536\"/>\r\n     <use style=\"fill:#0000ff;stroke:#0000ff;\" x=\"588.916156\" xlink:href=\"#m996baec9d3\" y=\"442.473435\"/>\r\n     <use style=\"fill:#0000ff;stroke:#0000ff;\" x=\"552.411176\" xlink:href=\"#m996baec9d3\" y=\"252.913238\"/>\r\n     <use style=\"fill:#0000ff;stroke:#0000ff;\" x=\"461.145764\" xlink:href=\"#m996baec9d3\" y=\"323.27873\"/>\r\n     <use style=\"fill:#0000ff;stroke:#0000ff;\" x=\"268.406617\" xlink:href=\"#m996baec9d3\" y=\"238.711688\"/>\r\n     <use style=\"fill:#0000ff;stroke:#0000ff;\" x=\"200.264371\" xlink:href=\"#m996baec9d3\" y=\"206.258729\"/>\r\n     <use style=\"fill:#0000ff;stroke:#0000ff;\" x=\"666.075508\" xlink:href=\"#m996baec9d3\" y=\"486.749622\"/>\r\n     <use style=\"fill:#0000ff;stroke:#0000ff;\" x=\"133.132851\" xlink:href=\"#m996baec9d3\" y=\"82.116983\"/>\r\n     <use style=\"fill:#0000ff;stroke:#0000ff;\" x=\"48.87539\" xlink:href=\"#m996baec9d3\" y=\"522.936276\"/>\r\n     <use style=\"fill:#0000ff;stroke:#0000ff;\" x=\"562.218556\" xlink:href=\"#m996baec9d3\" y=\"135.873456\"/>\r\n     <use style=\"fill:#0000ff;stroke:#0000ff;\" x=\"105.762479\" xlink:href=\"#m996baec9d3\" y=\"450.21652\"/>\r\n     <use style=\"fill:#0000ff;stroke:#0000ff;\" x=\"331.327089\" xlink:href=\"#m996baec9d3\" y=\"141.14766\"/>\r\n     <use style=\"fill:#0000ff;stroke:#0000ff;\" x=\"639.530688\" xlink:href=\"#m996baec9d3\" y=\"256.451736\"/>\r\n     <use style=\"fill:#0000ff;stroke:#0000ff;\" x=\"479.784493\" xlink:href=\"#m996baec9d3\" y=\"439.758654\"/>\r\n     <use style=\"fill:#0000ff;stroke:#0000ff;\" x=\"441.428163\" xlink:href=\"#m996baec9d3\" y=\"397.939874\"/>\r\n     <use style=\"fill:#0000ff;stroke:#0000ff;\" x=\"414.153026\" xlink:href=\"#m996baec9d3\" y=\"350.900501\"/>\r\n     <use style=\"fill:#0000ff;stroke:#0000ff;\" x=\"348.075059\" xlink:href=\"#m996baec9d3\" y=\"533.715288\"/>\r\n     <use style=\"fill:#0000ff;stroke:#0000ff;\" x=\"571.419408\" xlink:href=\"#m996baec9d3\" y=\"287.724739\"/>\r\n     <use style=\"fill:#0000ff;stroke:#0000ff;\" x=\"469.112079\" xlink:href=\"#m996baec9d3\" y=\"474.648682\"/>\r\n     <use style=\"fill:#0000ff;stroke:#0000ff;\" x=\"344.443664\" xlink:href=\"#m996baec9d3\" y=\"580.44717\"/>\r\n     <use style=\"fill:#0000ff;stroke:#0000ff;\" x=\"185.882284\" xlink:href=\"#m996baec9d3\" y=\"483.371004\"/>\r\n     <use style=\"fill:#0000ff;stroke:#0000ff;\" x=\"558.318145\" xlink:href=\"#m996baec9d3\" y=\"462.453237\"/>\r\n     <use style=\"fill:#0000ff;stroke:#0000ff;\" x=\"579.147407\" xlink:href=\"#m996baec9d3\" y=\"551.959087\"/>\r\n     <use style=\"fill:#0000ff;stroke:#0000ff;\" x=\"424.106736\" xlink:href=\"#m996baec9d3\" y=\"321.600095\"/>\r\n     <use style=\"fill:#0000ff;stroke:#0000ff;\" x=\"135.128225\" xlink:href=\"#m996baec9d3\" y=\"96.048674\"/>\r\n     <use style=\"fill:#0000ff;stroke:#0000ff;\" x=\"396.677263\" xlink:href=\"#m996baec9d3\" y=\"534.387881\"/>\r\n     <use style=\"fill:#0000ff;stroke:#0000ff;\" x=\"347.983318\" xlink:href=\"#m996baec9d3\" y=\"468.945605\"/>\r\n     <use style=\"fill:#0000ff;stroke:#0000ff;\" x=\"68.413232\" xlink:href=\"#m996baec9d3\" y=\"287.730252\"/>\r\n     <use style=\"fill:#0000ff;stroke:#0000ff;\" x=\"182.106438\" xlink:href=\"#m996baec9d3\" y=\"316.213552\"/>\r\n     <use style=\"fill:#0000ff;stroke:#0000ff;\" x=\"338.085601\" xlink:href=\"#m996baec9d3\" y=\"287.975899\"/>\r\n     <use style=\"fill:#0000ff;stroke:#0000ff;\" x=\"363.59185\" xlink:href=\"#m996baec9d3\" y=\"661.596873\"/>\r\n     <use style=\"fill:#0000ff;stroke:#0000ff;\" x=\"401.459557\" xlink:href=\"#m996baec9d3\" y=\"317.689488\"/>\r\n     <use style=\"fill:#0000ff;stroke:#0000ff;\" x=\"653.813132\" xlink:href=\"#m996baec9d3\" y=\"243.534626\"/>\r\n     <use style=\"fill:#0000ff;stroke:#0000ff;\" x=\"651.659296\" xlink:href=\"#m996baec9d3\" y=\"577.857185\"/>\r\n     <use style=\"fill:#0000ff;stroke:#0000ff;\" x=\"66.104723\" xlink:href=\"#m996baec9d3\" y=\"623.453864\"/>\r\n     <use style=\"fill:#0000ff;stroke:#0000ff;\" x=\"587.598892\" xlink:href=\"#m996baec9d3\" y=\"225.731419\"/>\r\n     <use style=\"fill:#0000ff;stroke:#0000ff;\" x=\"348.752437\" xlink:href=\"#m996baec9d3\" y=\"272.205747\"/>\r\n     <use style=\"fill:#0000ff;stroke:#0000ff;\" x=\"374.448769\" xlink:href=\"#m996baec9d3\" y=\"156.38249\"/>\r\n     <use style=\"fill:#0000ff;stroke:#0000ff;\" x=\"376.454417\" xlink:href=\"#m996baec9d3\" y=\"155.575148\"/>\r\n     <use style=\"fill:#0000ff;stroke:#0000ff;\" x=\"477.900432\" xlink:href=\"#m996baec9d3\" y=\"601.322405\"/>\r\n     <use style=\"fill:#0000ff;stroke:#0000ff;\" x=\"456.320741\" xlink:href=\"#m996baec9d3\" y=\"349.756286\"/>\r\n     <use style=\"fill:#0000ff;stroke:#0000ff;\" x=\"376.424438\" xlink:href=\"#m996baec9d3\" y=\"625.80441\"/>\r\n     <use style=\"fill:#0000ff;stroke:#0000ff;\" x=\"261.595356\" xlink:href=\"#m996baec9d3\" y=\"340.0733\"/>\r\n     <use style=\"fill:#0000ff;stroke:#0000ff;\" x=\"506.177823\" xlink:href=\"#m996baec9d3\" y=\"201.39515\"/>\r\n     <use style=\"fill:#0000ff;stroke:#0000ff;\" x=\"77.081471\" xlink:href=\"#m996baec9d3\" y=\"274.539501\"/>\r\n     <use style=\"fill:#0000ff;stroke:#0000ff;\" x=\"364.255112\" xlink:href=\"#m996baec9d3\" y=\"632.777477\"/>\r\n     <use style=\"fill:#0000ff;stroke:#0000ff;\" x=\"594.357234\" xlink:href=\"#m996baec9d3\" y=\"191.715082\"/>\r\n     <use style=\"fill:#0000ff;stroke:#0000ff;\" x=\"641.332478\" xlink:href=\"#m996baec9d3\" y=\"123.851167\"/>\r\n     <use style=\"fill:#0000ff;stroke:#0000ff;\" x=\"519.599749\" xlink:href=\"#m996baec9d3\" y=\"341.902213\"/>\r\n     <use style=\"fill:#0000ff;stroke:#0000ff;\" x=\"531.44993\" xlink:href=\"#m996baec9d3\" y=\"493.544617\"/>\r\n     <use style=\"fill:#0000ff;stroke:#0000ff;\" x=\"429.556276\" xlink:href=\"#m996baec9d3\" y=\"150.823728\"/>\r\n     <use style=\"fill:#0000ff;stroke:#0000ff;\" x=\"176.654024\" xlink:href=\"#m996baec9d3\" y=\"597.470624\"/>\r\n     <use style=\"fill:#0000ff;stroke:#0000ff;\" x=\"232.946374\" xlink:href=\"#m996baec9d3\" y=\"279.978394\"/>\r\n     <use style=\"fill:#0000ff;stroke:#0000ff;\" x=\"187.511873\" xlink:href=\"#m996baec9d3\" y=\"88.281648\"/>\r\n     <use style=\"fill:#0000ff;stroke:#0000ff;\" x=\"411.609194\" xlink:href=\"#m996baec9d3\" y=\"233.556417\"/>\r\n     <use style=\"fill:#0000ff;stroke:#0000ff;\" x=\"624.290579\" xlink:href=\"#m996baec9d3\" y=\"98.696999\"/>\r\n     <use style=\"fill:#0000ff;stroke:#0000ff;\" x=\"108.724957\" xlink:href=\"#m996baec9d3\" y=\"330.16823\"/>\r\n     <use style=\"fill:#0000ff;stroke:#0000ff;\" x=\"54.385617\" xlink:href=\"#m996baec9d3\" y=\"201.260437\"/>\r\n     <use style=\"fill:#0000ff;stroke:#0000ff;\" x=\"262.075175\" xlink:href=\"#m996baec9d3\" y=\"286.182114\"/>\r\n     <use style=\"fill:#0000ff;stroke:#0000ff;\" x=\"171.228268\" xlink:href=\"#m996baec9d3\" y=\"496.925433\"/>\r\n     <use style=\"fill:#0000ff;stroke:#0000ff;\" x=\"136.863007\" xlink:href=\"#m996baec9d3\" y=\"461.812602\"/>\r\n     <use style=\"fill:#0000ff;stroke:#0000ff;\" x=\"295.195729\" xlink:href=\"#m996baec9d3\" y=\"584.976975\"/>\r\n     <use style=\"fill:#0000ff;stroke:#0000ff;\" x=\"531.210703\" xlink:href=\"#m996baec9d3\" y=\"493.385548\"/>\r\n     <use style=\"fill:#0000ff;stroke:#0000ff;\" x=\"256.519247\" xlink:href=\"#m996baec9d3\" y=\"597.778975\"/>\r\n     <use style=\"fill:#0000ff;stroke:#0000ff;\" x=\"180.143273\" xlink:href=\"#m996baec9d3\" y=\"174.630117\"/>\r\n     <use style=\"fill:#0000ff;stroke:#0000ff;\" x=\"303.52502\" xlink:href=\"#m996baec9d3\" y=\"482.18323\"/>\r\n     <use style=\"fill:#0000ff;stroke:#0000ff;\" x=\"330.555731\" xlink:href=\"#m996baec9d3\" y=\"257.525693\"/>\r\n     <use style=\"fill:#0000ff;stroke:#0000ff;\" x=\"449.624331\" xlink:href=\"#m996baec9d3\" y=\"155.267819\"/>\r\n     <use style=\"fill:#0000ff;stroke:#0000ff;\" x=\"503.76366\" xlink:href=\"#m996baec9d3\" y=\"242.567531\"/>\r\n     <use style=\"fill:#0000ff;stroke:#0000ff;\" x=\"373.39813\" xlink:href=\"#m996baec9d3\" y=\"258.585636\"/>\r\n     <use style=\"fill:#0000ff;stroke:#0000ff;\" x=\"598.66411\" xlink:href=\"#m996baec9d3\" y=\"280.579072\"/>\r\n     <use style=\"fill:#0000ff;stroke:#0000ff;\" x=\"183.037606\" xlink:href=\"#m996baec9d3\" y=\"171.165155\"/>\r\n     <use style=\"fill:#0000ff;stroke:#0000ff;\" x=\"114.077658\" xlink:href=\"#m996baec9d3\" y=\"526.622746\"/>\r\n     <use style=\"fill:#0000ff;stroke:#0000ff;\" x=\"127.158305\" xlink:href=\"#m996baec9d3\" y=\"199.465283\"/>\r\n     <use style=\"fill:#0000ff;stroke:#0000ff;\" x=\"193.7104\" xlink:href=\"#m996baec9d3\" y=\"320.431272\"/>\r\n     <use style=\"fill:#0000ff;stroke:#0000ff;\" x=\"551.116415\" xlink:href=\"#m996baec9d3\" y=\"128.133668\"/>\r\n     <use style=\"fill:#0000ff;stroke:#0000ff;\" x=\"579.731243\" xlink:href=\"#m996baec9d3\" y=\"381.833425\"/>\r\n     <use style=\"fill:#0000ff;stroke:#0000ff;\" x=\"145.342877\" xlink:href=\"#m996baec9d3\" y=\"543.406336\"/>\r\n     <use style=\"fill:#0000ff;stroke:#0000ff;\" x=\"55.687422\" xlink:href=\"#m996baec9d3\" y=\"479.094953\"/>\r\n     <use style=\"fill:#0000ff;stroke:#0000ff;\" x=\"555.013676\" xlink:href=\"#m996baec9d3\" y=\"425.481786\"/>\r\n     <use style=\"fill:#0000ff;stroke:#0000ff;\" x=\"511.359789\" xlink:href=\"#m996baec9d3\" y=\"237.373348\"/>\r\n     <use style=\"fill:#0000ff;stroke:#0000ff;\" x=\"461.0282\" xlink:href=\"#m996baec9d3\" y=\"544.172271\"/>\r\n     <use style=\"fill:#0000ff;stroke:#0000ff;\" x=\"662.095861\" xlink:href=\"#m996baec9d3\" y=\"642.157213\"/>\r\n     <use style=\"fill:#0000ff;stroke:#0000ff;\" x=\"374.820549\" xlink:href=\"#m996baec9d3\" y=\"239.472552\"/>\r\n     <use style=\"fill:#0000ff;stroke:#0000ff;\" x=\"203.49245\" xlink:href=\"#m996baec9d3\" y=\"80.549354\"/>\r\n     <use style=\"fill:#0000ff;stroke:#0000ff;\" x=\"404.892216\" xlink:href=\"#m996baec9d3\" y=\"524.402493\"/>\r\n     <use style=\"fill:#0000ff;stroke:#0000ff;\" x=\"318.128128\" xlink:href=\"#m996baec9d3\" y=\"427.086633\"/>\r\n     <use style=\"fill:#0000ff;stroke:#0000ff;\" x=\"522.067419\" xlink:href=\"#m996baec9d3\" y=\"126.473623\"/>\r\n     <use style=\"fill:#0000ff;stroke:#0000ff;\" x=\"532.309764\" xlink:href=\"#m996baec9d3\" y=\"278.711572\"/>\r\n     <use style=\"fill:#0000ff;stroke:#0000ff;\" x=\"323.773577\" xlink:href=\"#m996baec9d3\" y=\"259.535221\"/>\r\n     <use style=\"fill:#0000ff;stroke:#0000ff;\" x=\"401.843746\" xlink:href=\"#m996baec9d3\" y=\"499.628811\"/>\r\n     <use style=\"fill:#0000ff;stroke:#0000ff;\" x=\"245.603887\" xlink:href=\"#m996baec9d3\" y=\"227.414054\"/>\r\n     <use style=\"fill:#0000ff;stroke:#0000ff;\" x=\"400.319398\" xlink:href=\"#m996baec9d3\" y=\"521.792017\"/>\r\n     <use style=\"fill:#0000ff;stroke:#0000ff;\" x=\"406.971788\" xlink:href=\"#m996baec9d3\" y=\"91.78617\"/>\r\n     <use style=\"fill:#0000ff;stroke:#0000ff;\" x=\"444.011157\" xlink:href=\"#m996baec9d3\" y=\"488.884477\"/>\r\n     <use style=\"fill:#0000ff;stroke:#0000ff;\" x=\"286.915259\" xlink:href=\"#m996baec9d3\" y=\"98.975108\"/>\r\n     <use style=\"fill:#0000ff;stroke:#0000ff;\" x=\"366.935027\" xlink:href=\"#m996baec9d3\" y=\"558.292602\"/>\r\n     <use style=\"fill:#0000ff;stroke:#0000ff;\" x=\"293.883796\" xlink:href=\"#m996baec9d3\" y=\"651.576804\"/>\r\n     <use style=\"fill:#0000ff;stroke:#0000ff;\" x=\"85.240357\" xlink:href=\"#m996baec9d3\" y=\"474.739439\"/>\r\n     <use style=\"fill:#0000ff;stroke:#0000ff;\" x=\"345.343723\" xlink:href=\"#m996baec9d3\" y=\"524.278426\"/>\r\n     <use style=\"fill:#0000ff;stroke:#0000ff;\" x=\"633.055631\" xlink:href=\"#m996baec9d3\" y=\"634.271574\"/>\r\n     <use style=\"fill:#0000ff;stroke:#0000ff;\" x=\"142.797357\" xlink:href=\"#m996baec9d3\" y=\"299.266795\"/>\r\n     <use style=\"fill:#0000ff;stroke:#0000ff;\" x=\"103.333052\" xlink:href=\"#m996baec9d3\" y=\"135.285568\"/>\r\n     <use style=\"fill:#0000ff;stroke:#0000ff;\" x=\"380.176357\" xlink:href=\"#m996baec9d3\" y=\"148.770641\"/>\r\n     <use style=\"fill:#0000ff;stroke:#0000ff;\" x=\"145.555322\" xlink:href=\"#m996baec9d3\" y=\"98.269405\"/>\r\n     <use style=\"fill:#0000ff;stroke:#0000ff;\" x=\"86.894067\" xlink:href=\"#m996baec9d3\" y=\"190.619002\"/>\r\n     <use style=\"fill:#0000ff;stroke:#0000ff;\" x=\"235.226768\" xlink:href=\"#m996baec9d3\" y=\"550.923248\"/>\r\n     <use style=\"fill:#0000ff;stroke:#0000ff;\" x=\"639.571824\" xlink:href=\"#m996baec9d3\" y=\"529.826299\"/>\r\n     <use style=\"fill:#0000ff;stroke:#0000ff;\" x=\"491.751327\" xlink:href=\"#m996baec9d3\" y=\"585.474303\"/>\r\n     <use style=\"fill:#0000ff;stroke:#0000ff;\" x=\"368.759281\" xlink:href=\"#m996baec9d3\" y=\"243.268587\"/>\r\n     <use style=\"fill:#0000ff;stroke:#0000ff;\" x=\"198.172978\" xlink:href=\"#m996baec9d3\" y=\"240.865981\"/>\r\n     <use style=\"fill:#0000ff;stroke:#0000ff;\" x=\"173.815665\" xlink:href=\"#m996baec9d3\" y=\"342.080125\"/>\r\n     <use style=\"fill:#0000ff;stroke:#0000ff;\" x=\"316.701876\" xlink:href=\"#m996baec9d3\" y=\"81.744514\"/>\r\n     <use style=\"fill:#0000ff;stroke:#0000ff;\" x=\"180.378885\" xlink:href=\"#m996baec9d3\" y=\"257.092551\"/>\r\n     <use style=\"fill:#0000ff;stroke:#0000ff;\" x=\"283.413021\" xlink:href=\"#m996baec9d3\" y=\"345.299585\"/>\r\n     <use style=\"fill:#0000ff;stroke:#0000ff;\" x=\"303.77011\" xlink:href=\"#m996baec9d3\" y=\"375.874145\"/>\r\n     <use style=\"fill:#0000ff;stroke:#0000ff;\" x=\"484.664048\" xlink:href=\"#m996baec9d3\" y=\"573.642195\"/>\r\n     <use style=\"fill:#0000ff;stroke:#0000ff;\" x=\"288.948571\" xlink:href=\"#m996baec9d3\" y=\"140.967478\"/>\r\n     <use style=\"fill:#0000ff;stroke:#0000ff;\" x=\"528.535304\" xlink:href=\"#m996baec9d3\" y=\"414.25866\"/>\r\n     <use style=\"fill:#0000ff;stroke:#0000ff;\" x=\"352.467413\" xlink:href=\"#m996baec9d3\" y=\"352.836709\"/>\r\n     <use style=\"fill:#0000ff;stroke:#0000ff;\" x=\"673.676532\" xlink:href=\"#m996baec9d3\" y=\"656.847077\"/>\r\n     <use style=\"fill:#0000ff;stroke:#0000ff;\" x=\"658.193476\" xlink:href=\"#m996baec9d3\" y=\"610.733677\"/>\r\n     <use style=\"fill:#0000ff;stroke:#0000ff;\" x=\"122.995614\" xlink:href=\"#m996baec9d3\" y=\"638.862319\"/>\r\n     <use style=\"fill:#0000ff;stroke:#0000ff;\" x=\"113.190738\" xlink:href=\"#m996baec9d3\" y=\"524.041417\"/>\r\n     <use style=\"fill:#0000ff;stroke:#0000ff;\" x=\"98.44853\" xlink:href=\"#m996baec9d3\" y=\"224.073825\"/>\r\n     <use style=\"fill:#0000ff;stroke:#0000ff;\" x=\"376.860541\" xlink:href=\"#m996baec9d3\" y=\"62.43399\"/>\r\n     <use style=\"fill:#0000ff;stroke:#0000ff;\" x=\"645.449194\" xlink:href=\"#m996baec9d3\" y=\"453.6835\"/>\r\n     <use style=\"fill:#0000ff;stroke:#0000ff;\" x=\"521.674577\" xlink:href=\"#m996baec9d3\" y=\"551.042189\"/>\r\n     <use style=\"fill:#0000ff;stroke:#0000ff;\" x=\"211.161743\" xlink:href=\"#m996baec9d3\" y=\"594.742598\"/>\r\n     <use style=\"fill:#0000ff;stroke:#0000ff;\" x=\"119.811355\" xlink:href=\"#m996baec9d3\" y=\"85.130536\"/>\r\n     <use style=\"fill:#0000ff;stroke:#0000ff;\" x=\"360.62015\" xlink:href=\"#m996baec9d3\" y=\"605.606797\"/>\r\n     <use style=\"fill:#0000ff;stroke:#0000ff;\" x=\"399.087214\" xlink:href=\"#m996baec9d3\" y=\"633.909922\"/>\r\n     <use style=\"fill:#0000ff;stroke:#0000ff;\" x=\"615.819285\" xlink:href=\"#m996baec9d3\" y=\"327.989618\"/>\r\n     <use style=\"fill:#0000ff;stroke:#0000ff;\" x=\"409.577855\" xlink:href=\"#m996baec9d3\" y=\"97.408848\"/>\r\n     <use style=\"fill:#0000ff;stroke:#0000ff;\" x=\"496.113114\" xlink:href=\"#m996baec9d3\" y=\"510.189071\"/>\r\n     <use style=\"fill:#0000ff;stroke:#0000ff;\" x=\"580.778429\" xlink:href=\"#m996baec9d3\" y=\"83.76521\"/>\r\n     <use style=\"fill:#0000ff;stroke:#0000ff;\" x=\"289.771956\" xlink:href=\"#m996baec9d3\" y=\"113.876669\"/>\r\n     <use style=\"fill:#0000ff;stroke:#0000ff;\" x=\"275.62827\" xlink:href=\"#m996baec9d3\" y=\"106.961408\"/>\r\n     <use style=\"fill:#0000ff;stroke:#0000ff;\" x=\"521.534434\" xlink:href=\"#m996baec9d3\" y=\"518.29751\"/>\r\n     <use style=\"fill:#0000ff;stroke:#0000ff;\" x=\"469.063619\" xlink:href=\"#m996baec9d3\" y=\"154.83165\"/>\r\n     <use style=\"fill:#0000ff;stroke:#0000ff;\" x=\"236.891185\" xlink:href=\"#m996baec9d3\" y=\"623.72552\"/>\r\n     <use style=\"fill:#0000ff;stroke:#0000ff;\" x=\"657.723865\" xlink:href=\"#m996baec9d3\" y=\"307.27165\"/>\r\n     <use style=\"fill:#0000ff;stroke:#0000ff;\" x=\"475.065763\" xlink:href=\"#m996baec9d3\" y=\"637.831412\"/>\r\n     <use style=\"fill:#0000ff;stroke:#0000ff;\" x=\"87.944009\" xlink:href=\"#m996baec9d3\" y=\"272.554905\"/>\r\n     <use style=\"fill:#0000ff;stroke:#0000ff;\" x=\"159.349019\" xlink:href=\"#m996baec9d3\" y=\"478.520503\"/>\r\n     <use style=\"fill:#0000ff;stroke:#0000ff;\" x=\"78.559013\" xlink:href=\"#m996baec9d3\" y=\"380.025355\"/>\r\n     <use style=\"fill:#0000ff;stroke:#0000ff;\" x=\"423.932705\" xlink:href=\"#m996baec9d3\" y=\"458.426381\"/>\r\n     <use style=\"fill:#0000ff;stroke:#0000ff;\" x=\"164.242644\" xlink:href=\"#m996baec9d3\" y=\"624.2031\"/>\r\n     <use style=\"fill:#0000ff;stroke:#0000ff;\" x=\"113.942566\" xlink:href=\"#m996baec9d3\" y=\"125.303684\"/>\r\n     <use style=\"fill:#0000ff;stroke:#0000ff;\" x=\"427.821997\" xlink:href=\"#m996baec9d3\" y=\"610.763851\"/>\r\n     <use style=\"fill:#0000ff;stroke:#0000ff;\" x=\"442.430379\" xlink:href=\"#m996baec9d3\" y=\"465.950175\"/>\r\n     <use style=\"fill:#0000ff;stroke:#0000ff;\" x=\"418.379376\" xlink:href=\"#m996baec9d3\" y=\"647.701851\"/>\r\n     <use style=\"fill:#0000ff;stroke:#0000ff;\" x=\"213.889814\" xlink:href=\"#m996baec9d3\" y=\"506.37241\"/>\r\n     <use style=\"fill:#0000ff;stroke:#0000ff;\" x=\"550.735565\" xlink:href=\"#m996baec9d3\" y=\"244.98671\"/>\r\n     <use style=\"fill:#0000ff;stroke:#0000ff;\" x=\"211.005433\" xlink:href=\"#m996baec9d3\" y=\"140.457701\"/>\r\n     <use style=\"fill:#0000ff;stroke:#0000ff;\" x=\"463.290873\" xlink:href=\"#m996baec9d3\" y=\"620.630257\"/>\r\n     <use style=\"fill:#0000ff;stroke:#0000ff;\" x=\"144.279364\" xlink:href=\"#m996baec9d3\" y=\"101.119277\"/>\r\n     <use style=\"fill:#0000ff;stroke:#0000ff;\" x=\"107.313501\" xlink:href=\"#m996baec9d3\" y=\"654.618882\"/>\r\n     <use style=\"fill:#0000ff;stroke:#0000ff;\" x=\"268.378857\" xlink:href=\"#m996baec9d3\" y=\"299.062546\"/>\r\n     <use style=\"fill:#0000ff;stroke:#0000ff;\" x=\"637.18525\" xlink:href=\"#m996baec9d3\" y=\"594.126774\"/>\r\n     <use style=\"fill:#0000ff;stroke:#0000ff;\" x=\"448.31329\" xlink:href=\"#m996baec9d3\" y=\"502.736003\"/>\r\n     <use style=\"fill:#0000ff;stroke:#0000ff;\" x=\"505.185852\" xlink:href=\"#m996baec9d3\" y=\"485.504255\"/>\r\n     <use style=\"fill:#0000ff;stroke:#0000ff;\" x=\"161.811708\" xlink:href=\"#m996baec9d3\" y=\"316.390275\"/>\r\n     <use style=\"fill:#0000ff;stroke:#0000ff;\" x=\"531.498086\" xlink:href=\"#m996baec9d3\" y=\"370.262618\"/>\r\n     <use style=\"fill:#0000ff;stroke:#0000ff;\" x=\"668.219933\" xlink:href=\"#m996baec9d3\" y=\"457.564797\"/>\r\n     <use style=\"fill:#0000ff;stroke:#0000ff;\" x=\"354.036731\" xlink:href=\"#m996baec9d3\" y=\"292.408172\"/>\r\n     <use style=\"fill:#0000ff;stroke:#0000ff;\" x=\"179.174413\" xlink:href=\"#m996baec9d3\" y=\"239.664588\"/>\r\n     <use style=\"fill:#0000ff;stroke:#0000ff;\" x=\"243.320571\" xlink:href=\"#m996baec9d3\" y=\"78.580863\"/>\r\n     <use style=\"fill:#0000ff;stroke:#0000ff;\" x=\"265.630901\" xlink:href=\"#m996baec9d3\" y=\"85.251522\"/>\r\n     <use style=\"fill:#0000ff;stroke:#0000ff;\" x=\"458.073691\" xlink:href=\"#m996baec9d3\" y=\"360.95965\"/>\r\n     <use style=\"fill:#0000ff;stroke:#0000ff;\" x=\"106.306127\" xlink:href=\"#m996baec9d3\" y=\"133.759804\"/>\r\n     <use style=\"fill:#0000ff;stroke:#0000ff;\" x=\"543.893167\" xlink:href=\"#m996baec9d3\" y=\"625.079496\"/>\r\n     <use style=\"fill:#0000ff;stroke:#0000ff;\" x=\"310.875736\" xlink:href=\"#m996baec9d3\" y=\"145.297969\"/>\r\n     <use style=\"fill:#0000ff;stroke:#0000ff;\" x=\"443.312034\" xlink:href=\"#m996baec9d3\" y=\"344.632144\"/>\r\n     <use style=\"fill:#0000ff;stroke:#0000ff;\" x=\"101.106729\" xlink:href=\"#m996baec9d3\" y=\"196.297705\"/>\r\n     <use style=\"fill:#0000ff;stroke:#0000ff;\" x=\"269.407202\" xlink:href=\"#m996baec9d3\" y=\"361.034374\"/>\r\n     <use style=\"fill:#0000ff;stroke:#0000ff;\" x=\"158.589226\" xlink:href=\"#m996baec9d3\" y=\"385.45434\"/>\r\n     <use style=\"fill:#0000ff;stroke:#0000ff;\" x=\"54.326247\" xlink:href=\"#m996baec9d3\" y=\"413.842883\"/>\r\n     <use style=\"fill:#0000ff;stroke:#0000ff;\" x=\"367.69297\" xlink:href=\"#m996baec9d3\" y=\"418.028033\"/>\r\n     <use style=\"fill:#0000ff;stroke:#0000ff;\" x=\"62.770845\" xlink:href=\"#m996baec9d3\" y=\"119.533791\"/>\r\n     <use style=\"fill:#0000ff;stroke:#0000ff;\" x=\"610.100653\" xlink:href=\"#m996baec9d3\" y=\"478.657504\"/>\r\n     <use style=\"fill:#0000ff;stroke:#0000ff;\" x=\"519.836358\" xlink:href=\"#m996baec9d3\" y=\"548.491089\"/>\r\n     <use style=\"fill:#0000ff;stroke:#0000ff;\" x=\"307.908913\" xlink:href=\"#m996baec9d3\" y=\"271.017144\"/>\r\n     <use style=\"fill:#0000ff;stroke:#0000ff;\" x=\"379.382021\" xlink:href=\"#m996baec9d3\" y=\"620.589761\"/>\r\n     <use style=\"fill:#0000ff;stroke:#0000ff;\" x=\"580.93747\" xlink:href=\"#m996baec9d3\" y=\"413.20133\"/>\r\n     <use style=\"fill:#0000ff;stroke:#0000ff;\" x=\"90.705508\" xlink:href=\"#m996baec9d3\" y=\"577.636444\"/>\r\n     <use style=\"fill:#0000ff;stroke:#0000ff;\" x=\"371.665407\" xlink:href=\"#m996baec9d3\" y=\"278.217467\"/>\r\n     <use style=\"fill:#0000ff;stroke:#0000ff;\" x=\"172.592806\" xlink:href=\"#m996baec9d3\" y=\"287.581415\"/>\r\n     <use style=\"fill:#0000ff;stroke:#0000ff;\" x=\"323.302846\" xlink:href=\"#m996baec9d3\" y=\"505.454873\"/>\r\n     <use style=\"fill:#0000ff;stroke:#0000ff;\" x=\"160.793686\" xlink:href=\"#m996baec9d3\" y=\"506.893176\"/>\r\n     <use style=\"fill:#0000ff;stroke:#0000ff;\" x=\"652.248444\" xlink:href=\"#m996baec9d3\" y=\"396.77424\"/>\r\n     <use style=\"fill:#0000ff;stroke:#0000ff;\" x=\"415.579885\" xlink:href=\"#m996baec9d3\" y=\"649.416814\"/>\r\n     <use style=\"fill:#0000ff;stroke:#0000ff;\" x=\"524.274156\" xlink:href=\"#m996baec9d3\" y=\"499.591611\"/>\r\n     <use style=\"fill:#0000ff;stroke:#0000ff;\" x=\"108.799341\" xlink:href=\"#m996baec9d3\" y=\"639.888327\"/>\r\n     <use style=\"fill:#0000ff;stroke:#0000ff;\" x=\"434.108792\" xlink:href=\"#m996baec9d3\" y=\"282.714377\"/>\r\n     <use style=\"fill:#0000ff;stroke:#0000ff;\" x=\"568.630847\" xlink:href=\"#m996baec9d3\" y=\"140.387372\"/>\r\n     <use style=\"fill:#0000ff;stroke:#0000ff;\" x=\"443.814395\" xlink:href=\"#m996baec9d3\" y=\"178.143358\"/>\r\n     <use style=\"fill:#0000ff;stroke:#0000ff;\" x=\"235.821249\" xlink:href=\"#m996baec9d3\" y=\"382.531725\"/>\r\n     <use style=\"fill:#0000ff;stroke:#0000ff;\" x=\"379.563035\" xlink:href=\"#m996baec9d3\" y=\"638.947896\"/>\r\n     <use style=\"fill:#0000ff;stroke:#0000ff;\" x=\"597.282789\" xlink:href=\"#m996baec9d3\" y=\"403.690437\"/>\r\n     <use style=\"fill:#0000ff;stroke:#0000ff;\" x=\"355.201082\" xlink:href=\"#m996baec9d3\" y=\"132.702456\"/>\r\n     <use style=\"fill:#0000ff;stroke:#0000ff;\" x=\"674.720226\" xlink:href=\"#m996baec9d3\" y=\"540.069313\"/>\r\n     <use style=\"fill:#0000ff;stroke:#0000ff;\" x=\"545.812597\" xlink:href=\"#m996baec9d3\" y=\"240.238388\"/>\r\n     <use style=\"fill:#0000ff;stroke:#0000ff;\" x=\"53.087361\" xlink:href=\"#m996baec9d3\" y=\"591.591995\"/>\r\n     <use style=\"fill:#0000ff;stroke:#0000ff;\" x=\"131.808159\" xlink:href=\"#m996baec9d3\" y=\"203.545191\"/>\r\n     <use style=\"fill:#0000ff;stroke:#0000ff;\" x=\"228.243924\" xlink:href=\"#m996baec9d3\" y=\"382.224162\"/>\r\n     <use style=\"fill:#0000ff;stroke:#0000ff;\" x=\"599.506488\" xlink:href=\"#m996baec9d3\" y=\"630.598018\"/>\r\n     <use style=\"fill:#0000ff;stroke:#0000ff;\" x=\"633.246322\" xlink:href=\"#m996baec9d3\" y=\"577.191312\"/>\r\n     <use style=\"fill:#0000ff;stroke:#0000ff;\" x=\"275.189701\" xlink:href=\"#m996baec9d3\" y=\"564.267204\"/>\r\n     <use style=\"fill:#0000ff;stroke:#0000ff;\" x=\"250.687491\" xlink:href=\"#m996baec9d3\" y=\"140.848329\"/>\r\n     <use style=\"fill:#0000ff;stroke:#0000ff;\" x=\"644.632317\" xlink:href=\"#m996baec9d3\" y=\"636.941667\"/>\r\n     <use style=\"fill:#0000ff;stroke:#0000ff;\" x=\"479.625945\" xlink:href=\"#m996baec9d3\" y=\"317.679399\"/>\r\n     <use style=\"fill:#0000ff;stroke:#0000ff;\" x=\"673.298414\" xlink:href=\"#m996baec9d3\" y=\"420.408535\"/>\r\n     <use style=\"fill:#0000ff;stroke:#0000ff;\" x=\"101.856001\" xlink:href=\"#m996baec9d3\" y=\"619.973139\"/>\r\n     <use style=\"fill:#0000ff;stroke:#0000ff;\" x=\"519.464767\" xlink:href=\"#m996baec9d3\" y=\"362.702111\"/>\r\n     <use style=\"fill:#0000ff;stroke:#0000ff;\" x=\"566.440011\" xlink:href=\"#m996baec9d3\" y=\"153.442113\"/>\r\n     <use style=\"fill:#0000ff;stroke:#0000ff;\" x=\"638.722274\" xlink:href=\"#m996baec9d3\" y=\"139.489345\"/>\r\n     <use style=\"fill:#0000ff;stroke:#0000ff;\" x=\"241.021885\" xlink:href=\"#m996baec9d3\" y=\"645.554888\"/>\r\n     <use style=\"fill:#0000ff;stroke:#0000ff;\" x=\"246.726495\" xlink:href=\"#m996baec9d3\" y=\"385.126744\"/>\r\n     <use style=\"fill:#0000ff;stroke:#0000ff;\" x=\"144.845545\" xlink:href=\"#m996baec9d3\" y=\"146.283367\"/>\r\n     <use style=\"fill:#0000ff;stroke:#0000ff;\" x=\"247.195727\" xlink:href=\"#m996baec9d3\" y=\"474.79959\"/>\r\n     <use style=\"fill:#0000ff;stroke:#0000ff;\" x=\"518.030887\" xlink:href=\"#m996baec9d3\" y=\"650.870812\"/>\r\n     <use style=\"fill:#0000ff;stroke:#0000ff;\" x=\"58.794135\" xlink:href=\"#m996baec9d3\" y=\"473.727524\"/>\r\n     <use style=\"fill:#0000ff;stroke:#0000ff;\" x=\"403.354054\" xlink:href=\"#m996baec9d3\" y=\"300.070534\"/>\r\n     <use style=\"fill:#0000ff;stroke:#0000ff;\" x=\"112.59973\" xlink:href=\"#m996baec9d3\" y=\"260.828813\"/>\r\n     <use style=\"fill:#0000ff;stroke:#0000ff;\" x=\"386.972609\" xlink:href=\"#m996baec9d3\" y=\"654.867349\"/>\r\n     <use style=\"fill:#0000ff;stroke:#0000ff;\" x=\"122.97164\" xlink:href=\"#m996baec9d3\" y=\"275.801855\"/>\r\n     <use style=\"fill:#0000ff;stroke:#0000ff;\" x=\"509.610862\" xlink:href=\"#m996baec9d3\" y=\"424.83245\"/>\r\n     <use style=\"fill:#0000ff;stroke:#0000ff;\" x=\"575.015966\" xlink:href=\"#m996baec9d3\" y=\"423.8272\"/>\r\n     <use style=\"fill:#0000ff;stroke:#0000ff;\" x=\"183.174714\" xlink:href=\"#m996baec9d3\" y=\"209.425657\"/>\r\n     <use style=\"fill:#0000ff;stroke:#0000ff;\" x=\"396.689824\" xlink:href=\"#m996baec9d3\" y=\"411.566416\"/>\r\n     <use style=\"fill:#0000ff;stroke:#0000ff;\" x=\"138.005604\" xlink:href=\"#m996baec9d3\" y=\"576.349229\"/>\r\n     <use style=\"fill:#0000ff;stroke:#0000ff;\" x=\"161.199591\" xlink:href=\"#m996baec9d3\" y=\"90.710519\"/>\r\n     <use style=\"fill:#0000ff;stroke:#0000ff;\" x=\"173.087103\" xlink:href=\"#m996baec9d3\" y=\"363.888174\"/>\r\n     <use style=\"fill:#0000ff;stroke:#0000ff;\" x=\"335.067244\" xlink:href=\"#m996baec9d3\" y=\"492.26605\"/>\r\n     <use style=\"fill:#0000ff;stroke:#0000ff;\" x=\"546.100132\" xlink:href=\"#m996baec9d3\" y=\"64.863077\"/>\r\n     <use style=\"fill:#0000ff;stroke:#0000ff;\" x=\"394.207507\" xlink:href=\"#m996baec9d3\" y=\"165.928782\"/>\r\n     <use style=\"fill:#0000ff;stroke:#0000ff;\" x=\"582.954427\" xlink:href=\"#m996baec9d3\" y=\"224.392035\"/>\r\n     <use style=\"fill:#0000ff;stroke:#0000ff;\" x=\"191.394182\" xlink:href=\"#m996baec9d3\" y=\"476.332253\"/>\r\n     <use style=\"fill:#0000ff;stroke:#0000ff;\" x=\"272.253122\" xlink:href=\"#m996baec9d3\" y=\"303.781143\"/>\r\n     <use style=\"fill:#0000ff;stroke:#0000ff;\" x=\"673.129164\" xlink:href=\"#m996baec9d3\" y=\"305.980833\"/>\r\n     <use style=\"fill:#0000ff;stroke:#0000ff;\" x=\"159.205954\" xlink:href=\"#m996baec9d3\" y=\"505.113587\"/>\r\n     <use style=\"fill:#0000ff;stroke:#0000ff;\" x=\"51.998873\" xlink:href=\"#m996baec9d3\" y=\"443.53608\"/>\r\n     <use style=\"fill:#0000ff;stroke:#0000ff;\" x=\"65.941734\" xlink:href=\"#m996baec9d3\" y=\"75.327789\"/>\r\n     <use style=\"fill:#0000ff;stroke:#0000ff;\" x=\"530.178127\" xlink:href=\"#m996baec9d3\" y=\"462.523385\"/>\r\n     <use style=\"fill:#0000ff;stroke:#0000ff;\" x=\"642.7996\" xlink:href=\"#m996baec9d3\" y=\"561.43931\"/>\r\n     <use style=\"fill:#0000ff;stroke:#0000ff;\" x=\"594.799522\" xlink:href=\"#m996baec9d3\" y=\"422.810961\"/>\r\n     <use style=\"fill:#0000ff;stroke:#0000ff;\" x=\"101.867471\" xlink:href=\"#m996baec9d3\" y=\"559.74501\"/>\r\n     <use style=\"fill:#0000ff;stroke:#0000ff;\" x=\"466.673022\" xlink:href=\"#m996baec9d3\" y=\"417.291074\"/>\r\n     <use style=\"fill:#0000ff;stroke:#0000ff;\" x=\"307.013084\" xlink:href=\"#m996baec9d3\" y=\"248.555905\"/>\r\n     <use style=\"fill:#0000ff;stroke:#0000ff;\" x=\"177.932372\" xlink:href=\"#m996baec9d3\" y=\"155.433842\"/>\r\n     <use style=\"fill:#0000ff;stroke:#0000ff;\" x=\"590.394853\" xlink:href=\"#m996baec9d3\" y=\"437.645741\"/>\r\n     <use style=\"fill:#0000ff;stroke:#0000ff;\" x=\"519.696366\" xlink:href=\"#m996baec9d3\" y=\"425.270168\"/>\r\n     <use style=\"fill:#0000ff;stroke:#0000ff;\" x=\"538.848764\" xlink:href=\"#m996baec9d3\" y=\"351.870082\"/>\r\n     <use style=\"fill:#0000ff;stroke:#0000ff;\" x=\"456.947155\" xlink:href=\"#m996baec9d3\" y=\"360.557654\"/>\r\n     <use style=\"fill:#0000ff;stroke:#0000ff;\" x=\"55.520831\" xlink:href=\"#m996baec9d3\" y=\"59.224511\"/>\r\n     <use style=\"fill:#0000ff;stroke:#0000ff;\" x=\"222.667238\" xlink:href=\"#m996baec9d3\" y=\"148.163153\"/>\r\n     <use style=\"fill:#0000ff;stroke:#0000ff;\" x=\"414.395213\" xlink:href=\"#m996baec9d3\" y=\"137.114049\"/>\r\n     <use style=\"fill:#0000ff;stroke:#0000ff;\" x=\"251.839775\" xlink:href=\"#m996baec9d3\" y=\"158.006902\"/>\r\n     <use style=\"fill:#0000ff;stroke:#0000ff;\" x=\"75.332665\" xlink:href=\"#m996baec9d3\" y=\"604.555524\"/>\r\n     <use style=\"fill:#0000ff;stroke:#0000ff;\" x=\"287.070297\" xlink:href=\"#m996baec9d3\" y=\"555.07634\"/>\r\n     <use style=\"fill:#0000ff;stroke:#0000ff;\" x=\"208.604249\" xlink:href=\"#m996baec9d3\" y=\"490.272609\"/>\r\n     <use style=\"fill:#0000ff;stroke:#0000ff;\" x=\"534.287179\" xlink:href=\"#m996baec9d3\" y=\"325.695532\"/>\r\n     <use style=\"fill:#0000ff;stroke:#0000ff;\" x=\"374.654032\" xlink:href=\"#m996baec9d3\" y=\"400.667481\"/>\r\n     <use style=\"fill:#0000ff;stroke:#0000ff;\" x=\"273.761532\" xlink:href=\"#m996baec9d3\" y=\"93.238038\"/>\r\n     <use style=\"fill:#0000ff;stroke:#0000ff;\" x=\"134.079683\" xlink:href=\"#m996baec9d3\" y=\"592.613107\"/>\r\n     <use style=\"fill:#0000ff;stroke:#0000ff;\" x=\"262.775323\" xlink:href=\"#m996baec9d3\" y=\"639.461647\"/>\r\n     <use style=\"fill:#0000ff;stroke:#0000ff;\" x=\"457.583018\" xlink:href=\"#m996baec9d3\" y=\"325.033856\"/>\r\n     <use style=\"fill:#0000ff;stroke:#0000ff;\" x=\"105.403753\" xlink:href=\"#m996baec9d3\" y=\"312.818919\"/>\r\n     <use style=\"fill:#0000ff;stroke:#0000ff;\" x=\"670.220306\" xlink:href=\"#m996baec9d3\" y=\"184.905747\"/>\r\n     <use style=\"fill:#0000ff;stroke:#0000ff;\" x=\"442.420627\" xlink:href=\"#m996baec9d3\" y=\"510.954944\"/>\r\n     <use style=\"fill:#0000ff;stroke:#0000ff;\" x=\"290.42315\" xlink:href=\"#m996baec9d3\" y=\"431.87057\"/>\r\n     <use style=\"fill:#0000ff;stroke:#0000ff;\" x=\"234.447916\" xlink:href=\"#m996baec9d3\" y=\"108.625056\"/>\r\n     <use style=\"fill:#0000ff;stroke:#0000ff;\" x=\"283.704692\" xlink:href=\"#m996baec9d3\" y=\"597.691632\"/>\r\n     <use style=\"fill:#0000ff;stroke:#0000ff;\" x=\"528.322793\" xlink:href=\"#m996baec9d3\" y=\"538.278636\"/>\r\n     <use style=\"fill:#0000ff;stroke:#0000ff;\" x=\"612.623575\" xlink:href=\"#m996baec9d3\" y=\"579.410088\"/>\r\n     <use style=\"fill:#0000ff;stroke:#0000ff;\" x=\"477.604017\" xlink:href=\"#m996baec9d3\" y=\"407.170333\"/>\r\n     <use style=\"fill:#0000ff;stroke:#0000ff;\" x=\"213.073696\" xlink:href=\"#m996baec9d3\" y=\"559.200015\"/>\r\n     <use style=\"fill:#0000ff;stroke:#0000ff;\" x=\"604.673464\" xlink:href=\"#m996baec9d3\" y=\"562.120099\"/>\r\n     <use style=\"fill:#0000ff;stroke:#0000ff;\" x=\"550.291531\" xlink:href=\"#m996baec9d3\" y=\"349.386843\"/>\r\n     <use style=\"fill:#0000ff;stroke:#0000ff;\" x=\"64.392926\" xlink:href=\"#m996baec9d3\" y=\"554.390723\"/>\r\n     <use style=\"fill:#0000ff;stroke:#0000ff;\" x=\"379.107275\" xlink:href=\"#m996baec9d3\" y=\"654.901236\"/>\r\n     <use style=\"fill:#0000ff;stroke:#0000ff;\" x=\"570.279932\" xlink:href=\"#m996baec9d3\" y=\"363.06887\"/>\r\n     <use style=\"fill:#0000ff;stroke:#0000ff;\" x=\"353.654553\" xlink:href=\"#m996baec9d3\" y=\"557.595555\"/>\r\n     <use style=\"fill:#0000ff;stroke:#0000ff;\" x=\"166.455936\" xlink:href=\"#m996baec9d3\" y=\"148.761094\"/>\r\n     <use style=\"fill:#0000ff;stroke:#0000ff;\" x=\"119.477267\" xlink:href=\"#m996baec9d3\" y=\"191.675918\"/>\r\n     <use style=\"fill:#0000ff;stroke:#0000ff;\" x=\"510.187297\" xlink:href=\"#m996baec9d3\" y=\"626.250267\"/>\r\n     <use style=\"fill:#0000ff;stroke:#0000ff;\" x=\"486.345048\" xlink:href=\"#m996baec9d3\" y=\"302.892916\"/>\r\n     <use style=\"fill:#0000ff;stroke:#0000ff;\" x=\"599.463303\" xlink:href=\"#m996baec9d3\" y=\"246.916649\"/>\r\n     <use style=\"fill:#0000ff;stroke:#0000ff;\" x=\"112.90667\" xlink:href=\"#m996baec9d3\" y=\"641.084642\"/>\r\n     <use style=\"fill:#0000ff;stroke:#0000ff;\" x=\"621.40191\" xlink:href=\"#m996baec9d3\" y=\"258.662198\"/>\r\n     <use style=\"fill:#0000ff;stroke:#0000ff;\" x=\"342.120027\" xlink:href=\"#m996baec9d3\" y=\"475.900227\"/>\r\n     <use style=\"fill:#0000ff;stroke:#0000ff;\" x=\"529.310248\" xlink:href=\"#m996baec9d3\" y=\"336.480722\"/>\r\n     <use style=\"fill:#0000ff;stroke:#0000ff;\" x=\"396.243096\" xlink:href=\"#m996baec9d3\" y=\"234.440321\"/>\r\n     <use style=\"fill:#0000ff;stroke:#0000ff;\" x=\"370.349736\" xlink:href=\"#m996baec9d3\" y=\"311.222142\"/>\r\n     <use style=\"fill:#0000ff;stroke:#0000ff;\" x=\"532.489298\" xlink:href=\"#m996baec9d3\" y=\"234.327838\"/>\r\n     <use style=\"fill:#0000ff;stroke:#0000ff;\" x=\"300.108546\" xlink:href=\"#m996baec9d3\" y=\"467.674315\"/>\r\n     <use style=\"fill:#0000ff;stroke:#0000ff;\" x=\"79.309817\" xlink:href=\"#m996baec9d3\" y=\"103.416353\"/>\r\n     <use style=\"fill:#0000ff;stroke:#0000ff;\" x=\"515.748292\" xlink:href=\"#m996baec9d3\" y=\"99.242805\"/>\r\n     <use style=\"fill:#0000ff;stroke:#0000ff;\" x=\"262.315123\" xlink:href=\"#m996baec9d3\" y=\"209.911367\"/>\r\n     <use style=\"fill:#0000ff;stroke:#0000ff;\" x=\"158.531488\" xlink:href=\"#m996baec9d3\" y=\"58.981818\"/>\r\n     <use style=\"fill:#0000ff;stroke:#0000ff;\" x=\"89.514968\" xlink:href=\"#m996baec9d3\" y=\"519.144205\"/>\r\n     <use style=\"fill:#0000ff;stroke:#0000ff;\" x=\"276.034508\" xlink:href=\"#m996baec9d3\" y=\"364.529169\"/>\r\n     <use style=\"fill:#0000ff;stroke:#0000ff;\" x=\"64.069904\" xlink:href=\"#m996baec9d3\" y=\"463.92883\"/>\r\n     <use style=\"fill:#0000ff;stroke:#0000ff;\" x=\"481.290019\" xlink:href=\"#m996baec9d3\" y=\"269.689397\"/>\r\n     <use style=\"fill:#0000ff;stroke:#0000ff;\" x=\"44.591853\" xlink:href=\"#m996baec9d3\" y=\"328.847292\"/>\r\n     <use style=\"fill:#0000ff;stroke:#0000ff;\" x=\"545.757723\" xlink:href=\"#m996baec9d3\" y=\"80.093152\"/>\r\n     <use style=\"fill:#0000ff;stroke:#0000ff;\" x=\"284.744307\" xlink:href=\"#m996baec9d3\" y=\"546.185221\"/>\r\n     <use style=\"fill:#0000ff;stroke:#0000ff;\" x=\"231.700225\" xlink:href=\"#m996baec9d3\" y=\"189.87853\"/>\r\n     <use style=\"fill:#0000ff;stroke:#0000ff;\" x=\"562.57455\" xlink:href=\"#m996baec9d3\" y=\"251.952015\"/>\r\n     <use style=\"fill:#0000ff;stroke:#0000ff;\" x=\"589.241222\" xlink:href=\"#m996baec9d3\" y=\"315.77868\"/>\r\n     <use style=\"fill:#0000ff;stroke:#0000ff;\" x=\"662.898166\" xlink:href=\"#m996baec9d3\" y=\"646.462602\"/>\r\n     <use style=\"fill:#0000ff;stroke:#0000ff;\" x=\"411.777989\" xlink:href=\"#m996baec9d3\" y=\"483.822035\"/>\r\n     <use style=\"fill:#0000ff;stroke:#0000ff;\" x=\"140.683575\" xlink:href=\"#m996baec9d3\" y=\"518.45458\"/>\r\n     <use style=\"fill:#0000ff;stroke:#0000ff;\" x=\"244.998535\" xlink:href=\"#m996baec9d3\" y=\"563.948148\"/>\r\n     <use style=\"fill:#0000ff;stroke:#0000ff;\" x=\"580.319139\" xlink:href=\"#m996baec9d3\" y=\"575.809737\"/>\r\n     <use style=\"fill:#0000ff;stroke:#0000ff;\" x=\"556.740328\" xlink:href=\"#m996baec9d3\" y=\"227.778129\"/>\r\n     <use style=\"fill:#0000ff;stroke:#0000ff;\" x=\"130.7122\" xlink:href=\"#m996baec9d3\" y=\"457.675966\"/>\r\n     <use style=\"fill:#0000ff;stroke:#0000ff;\" x=\"506.973601\" xlink:href=\"#m996baec9d3\" y=\"488.721553\"/>\r\n     <use style=\"fill:#0000ff;stroke:#0000ff;\" x=\"482.629522\" xlink:href=\"#m996baec9d3\" y=\"125.281634\"/>\r\n     <use style=\"fill:#0000ff;stroke:#0000ff;\" x=\"674.821093\" xlink:href=\"#m996baec9d3\" y=\"71.617432\"/>\r\n     <use style=\"fill:#0000ff;stroke:#0000ff;\" x=\"348.979691\" xlink:href=\"#m996baec9d3\" y=\"103.653173\"/>\r\n     <use style=\"fill:#0000ff;stroke:#0000ff;\" x=\"162.752031\" xlink:href=\"#m996baec9d3\" y=\"395.57908\"/>\r\n     <use style=\"fill:#0000ff;stroke:#0000ff;\" x=\"228.006879\" xlink:href=\"#m996baec9d3\" y=\"298.328163\"/>\r\n     <use style=\"fill:#0000ff;stroke:#0000ff;\" x=\"575.790721\" xlink:href=\"#m996baec9d3\" y=\"393.363357\"/>\r\n     <use style=\"fill:#0000ff;stroke:#0000ff;\" x=\"469.077015\" xlink:href=\"#m996baec9d3\" y=\"318.029711\"/>\r\n     <use style=\"fill:#0000ff;stroke:#0000ff;\" x=\"56.888716\" xlink:href=\"#m996baec9d3\" y=\"444.923852\"/>\r\n     <use style=\"fill:#0000ff;stroke:#0000ff;\" x=\"93.618474\" xlink:href=\"#m996baec9d3\" y=\"628.47165\"/>\r\n     <use style=\"fill:#0000ff;stroke:#0000ff;\" x=\"648.800264\" xlink:href=\"#m996baec9d3\" y=\"211.978577\"/>\r\n     <use style=\"fill:#0000ff;stroke:#0000ff;\" x=\"374.487628\" xlink:href=\"#m996baec9d3\" y=\"141.575975\"/>\r\n     <use style=\"fill:#0000ff;stroke:#0000ff;\" x=\"312.922217\" xlink:href=\"#m996baec9d3\" y=\"634.755011\"/>\r\n     <use style=\"fill:#0000ff;stroke:#0000ff;\" x=\"549.124011\" xlink:href=\"#m996baec9d3\" y=\"588.390523\"/>\r\n     <use style=\"fill:#0000ff;stroke:#0000ff;\" x=\"179.109787\" xlink:href=\"#m996baec9d3\" y=\"224.323903\"/>\r\n     <use style=\"fill:#0000ff;stroke:#0000ff;\" x=\"184.288736\" xlink:href=\"#m996baec9d3\" y=\"158.762686\"/>\r\n     <use style=\"fill:#0000ff;stroke:#0000ff;\" x=\"318.246432\" xlink:href=\"#m996baec9d3\" y=\"259.55619\"/>\r\n     <use style=\"fill:#0000ff;stroke:#0000ff;\" x=\"511.073316\" xlink:href=\"#m996baec9d3\" y=\"511.217632\"/>\r\n     <use style=\"fill:#0000ff;stroke:#0000ff;\" x=\"594.391729\" xlink:href=\"#m996baec9d3\" y=\"532.611444\"/>\r\n     <use style=\"fill:#0000ff;stroke:#0000ff;\" x=\"496.650539\" xlink:href=\"#m996baec9d3\" y=\"632.290602\"/>\r\n     <use style=\"fill:#0000ff;stroke:#0000ff;\" x=\"516.557959\" xlink:href=\"#m996baec9d3\" y=\"477.18346\"/>\r\n     <use style=\"fill:#0000ff;stroke:#0000ff;\" x=\"346.189783\" xlink:href=\"#m996baec9d3\" y=\"290.422388\"/>\r\n     <use style=\"fill:#0000ff;stroke:#0000ff;\" x=\"355.598952\" xlink:href=\"#m996baec9d3\" y=\"372.757765\"/>\r\n     <use style=\"fill:#0000ff;stroke:#0000ff;\" x=\"281.200611\" xlink:href=\"#m996baec9d3\" y=\"132.41552\"/>\r\n     <use style=\"fill:#0000ff;stroke:#0000ff;\" x=\"200.166786\" xlink:href=\"#m996baec9d3\" y=\"585.817337\"/>\r\n     <use style=\"fill:#0000ff;stroke:#0000ff;\" x=\"216.785124\" xlink:href=\"#m996baec9d3\" y=\"424.790638\"/>\r\n     <use style=\"fill:#0000ff;stroke:#0000ff;\" x=\"155.004612\" xlink:href=\"#m996baec9d3\" y=\"327.102039\"/>\r\n     <use style=\"fill:#0000ff;stroke:#0000ff;\" x=\"347.175739\" xlink:href=\"#m996baec9d3\" y=\"422.808132\"/>\r\n     <use style=\"fill:#0000ff;stroke:#0000ff;\" x=\"590.420962\" xlink:href=\"#m996baec9d3\" y=\"578.581219\"/>\r\n     <use style=\"fill:#0000ff;stroke:#0000ff;\" x=\"60.956154\" xlink:href=\"#m996baec9d3\" y=\"119.270814\"/>\r\n     <use style=\"fill:#0000ff;stroke:#0000ff;\" x=\"96.070551\" xlink:href=\"#m996baec9d3\" y=\"234.617152\"/>\r\n     <use style=\"fill:#0000ff;stroke:#0000ff;\" x=\"307.654412\" xlink:href=\"#m996baec9d3\" y=\"358.000519\"/>\r\n     <use style=\"fill:#0000ff;stroke:#0000ff;\" x=\"486.01448\" xlink:href=\"#m996baec9d3\" y=\"130.584913\"/>\r\n     <use style=\"fill:#0000ff;stroke:#0000ff;\" x=\"561.067848\" xlink:href=\"#m996baec9d3\" y=\"496.06684\"/>\r\n     <use style=\"fill:#0000ff;stroke:#0000ff;\" x=\"465.769016\" xlink:href=\"#m996baec9d3\" y=\"578.304839\"/>\r\n     <use style=\"fill:#0000ff;stroke:#0000ff;\" x=\"263.877344\" xlink:href=\"#m996baec9d3\" y=\"125.256558\"/>\r\n     <use style=\"fill:#0000ff;stroke:#0000ff;\" x=\"405.282136\" xlink:href=\"#m996baec9d3\" y=\"172.861769\"/>\r\n     <use style=\"fill:#0000ff;stroke:#0000ff;\" x=\"225.047038\" xlink:href=\"#m996baec9d3\" y=\"252.158895\"/>\r\n     <use style=\"fill:#0000ff;stroke:#0000ff;\" x=\"217.843087\" xlink:href=\"#m996baec9d3\" y=\"94.498159\"/>\r\n     <use style=\"fill:#0000ff;stroke:#0000ff;\" x=\"554.679996\" xlink:href=\"#m996baec9d3\" y=\"558.762936\"/>\r\n     <use style=\"fill:#0000ff;stroke:#0000ff;\" x=\"164.093573\" xlink:href=\"#m996baec9d3\" y=\"325.217388\"/>\r\n     <use style=\"fill:#0000ff;stroke:#0000ff;\" x=\"672.106341\" xlink:href=\"#m996baec9d3\" y=\"245.529814\"/>\r\n     <use style=\"fill:#0000ff;stroke:#0000ff;\" x=\"124.497725\" xlink:href=\"#m996baec9d3\" y=\"576.727427\"/>\r\n     <use style=\"fill:#0000ff;stroke:#0000ff;\" x=\"546.134513\" xlink:href=\"#m996baec9d3\" y=\"495.018841\"/>\r\n     <use style=\"fill:#0000ff;stroke:#0000ff;\" x=\"73.645534\" xlink:href=\"#m996baec9d3\" y=\"71.908439\"/>\r\n     <use style=\"fill:#0000ff;stroke:#0000ff;\" x=\"381.287561\" xlink:href=\"#m996baec9d3\" y=\"537.148869\"/>\r\n     <use style=\"fill:#0000ff;stroke:#0000ff;\" x=\"618.027919\" xlink:href=\"#m996baec9d3\" y=\"129.381682\"/>\r\n     <use style=\"fill:#0000ff;stroke:#0000ff;\" x=\"190.654796\" xlink:href=\"#m996baec9d3\" y=\"221.796168\"/>\r\n     <use style=\"fill:#0000ff;stroke:#0000ff;\" x=\"95.612353\" xlink:href=\"#m996baec9d3\" y=\"581.83278\"/>\r\n     <use style=\"fill:#0000ff;stroke:#0000ff;\" x=\"297.315792\" xlink:href=\"#m996baec9d3\" y=\"316.200942\"/>\r\n     <use style=\"fill:#0000ff;stroke:#0000ff;\" x=\"268.313302\" xlink:href=\"#m996baec9d3\" y=\"109.786997\"/>\r\n     <use style=\"fill:#0000ff;stroke:#0000ff;\" x=\"179.196167\" xlink:href=\"#m996baec9d3\" y=\"328.790726\"/>\r\n     <use style=\"fill:#0000ff;stroke:#0000ff;\" x=\"675.007647\" xlink:href=\"#m996baec9d3\" y=\"495.412172\"/>\r\n     <use style=\"fill:#0000ff;stroke:#0000ff;\" x=\"225.480769\" xlink:href=\"#m996baec9d3\" y=\"59.040762\"/>\r\n     <use style=\"fill:#0000ff;stroke:#0000ff;\" x=\"284.260352\" xlink:href=\"#m996baec9d3\" y=\"261.650458\"/>\r\n     <use style=\"fill:#0000ff;stroke:#0000ff;\" x=\"428.970922\" xlink:href=\"#m996baec9d3\" y=\"211.93718\"/>\r\n     <use style=\"fill:#0000ff;stroke:#0000ff;\" x=\"367.724998\" xlink:href=\"#m996baec9d3\" y=\"268.465017\"/>\r\n     <use style=\"fill:#0000ff;stroke:#0000ff;\" x=\"395.15652\" xlink:href=\"#m996baec9d3\" y=\"85.344297\"/>\r\n     <use style=\"fill:#0000ff;stroke:#0000ff;\" x=\"330.863208\" xlink:href=\"#m996baec9d3\" y=\"501.828464\"/>\r\n     <use style=\"fill:#0000ff;stroke:#0000ff;\" x=\"531.669006\" xlink:href=\"#m996baec9d3\" y=\"654.600324\"/>\r\n     <use style=\"fill:#0000ff;stroke:#0000ff;\" x=\"233.15084\" xlink:href=\"#m996baec9d3\" y=\"360.173547\"/>\r\n     <use style=\"fill:#0000ff;stroke:#0000ff;\" x=\"664.002919\" xlink:href=\"#m996baec9d3\" y=\"497.037808\"/>\r\n     <use style=\"fill:#0000ff;stroke:#0000ff;\" x=\"592.372268\" xlink:href=\"#m996baec9d3\" y=\"340.808692\"/>\r\n     <use style=\"fill:#0000ff;stroke:#0000ff;\" x=\"122.412442\" xlink:href=\"#m996baec9d3\" y=\"358.474771\"/>\r\n     <use style=\"fill:#0000ff;stroke:#0000ff;\" x=\"427.401604\" xlink:href=\"#m996baec9d3\" y=\"80.523557\"/>\r\n     <use style=\"fill:#0000ff;stroke:#0000ff;\" x=\"418.871832\" xlink:href=\"#m996baec9d3\" y=\"86.339063\"/>\r\n     <use style=\"fill:#0000ff;stroke:#0000ff;\" x=\"561.138697\" xlink:href=\"#m996baec9d3\" y=\"659.909782\"/>\r\n     <use style=\"fill:#0000ff;stroke:#0000ff;\" x=\"59.277993\" xlink:href=\"#m996baec9d3\" y=\"381.050709\"/>\r\n     <use style=\"fill:#0000ff;stroke:#0000ff;\" x=\"330.81359\" xlink:href=\"#m996baec9d3\" y=\"86.398907\"/>\r\n     <use style=\"fill:#0000ff;stroke:#0000ff;\" x=\"563.703553\" xlink:href=\"#m996baec9d3\" y=\"124.753194\"/>\r\n     <use style=\"fill:#0000ff;stroke:#0000ff;\" x=\"365.235584\" xlink:href=\"#m996baec9d3\" y=\"363.329649\"/>\r\n     <use style=\"fill:#0000ff;stroke:#0000ff;\" x=\"497.154911\" xlink:href=\"#m996baec9d3\" y=\"233.493186\"/>\r\n     <use style=\"fill:#0000ff;stroke:#0000ff;\" x=\"472.444934\" xlink:href=\"#m996baec9d3\" y=\"555.266908\"/>\r\n     <use style=\"fill:#0000ff;stroke:#0000ff;\" x=\"173.954167\" xlink:href=\"#m996baec9d3\" y=\"285.279007\"/>\r\n     <use style=\"fill:#0000ff;stroke:#0000ff;\" x=\"371.239132\" xlink:href=\"#m996baec9d3\" y=\"198.72301\"/>\r\n     <use style=\"fill:#0000ff;stroke:#0000ff;\" x=\"667.184284\" xlink:href=\"#m996baec9d3\" y=\"318.85586\"/>\r\n     <use style=\"fill:#0000ff;stroke:#0000ff;\" x=\"567.997412\" xlink:href=\"#m996baec9d3\" y=\"216.443673\"/>\r\n     <use style=\"fill:#0000ff;stroke:#0000ff;\" x=\"545.156962\" xlink:href=\"#m996baec9d3\" y=\"416.318268\"/>\r\n     <use style=\"fill:#0000ff;stroke:#0000ff;\" x=\"503.82563\" xlink:href=\"#m996baec9d3\" y=\"608.058974\"/>\r\n     <use style=\"fill:#0000ff;stroke:#0000ff;\" x=\"100.453922\" xlink:href=\"#m996baec9d3\" y=\"304.568921\"/>\r\n     <use style=\"fill:#0000ff;stroke:#0000ff;\" x=\"57.664614\" xlink:href=\"#m996baec9d3\" y=\"545.395039\"/>\r\n     <use style=\"fill:#0000ff;stroke:#0000ff;\" x=\"136.735462\" xlink:href=\"#m996baec9d3\" y=\"513.212289\"/>\r\n     <use style=\"fill:#0000ff;stroke:#0000ff;\" x=\"266.420227\" xlink:href=\"#m996baec9d3\" y=\"543.759881\"/>\r\n     <use style=\"fill:#0000ff;stroke:#0000ff;\" x=\"277.097594\" xlink:href=\"#m996baec9d3\" y=\"487.415639\"/>\r\n     <use style=\"fill:#0000ff;stroke:#0000ff;\" x=\"311.453425\" xlink:href=\"#m996baec9d3\" y=\"600.321901\"/>\r\n     <use style=\"fill:#0000ff;stroke:#0000ff;\" x=\"615.214995\" xlink:href=\"#m996baec9d3\" y=\"549.988849\"/>\r\n     <use style=\"fill:#0000ff;stroke:#0000ff;\" x=\"368.057274\" xlink:href=\"#m996baec9d3\" y=\"375.634371\"/>\r\n     <use style=\"fill:#0000ff;stroke:#0000ff;\" x=\"169.654226\" xlink:href=\"#m996baec9d3\" y=\"238.623561\"/>\r\n     <use style=\"fill:#0000ff;stroke:#0000ff;\" x=\"242.888453\" xlink:href=\"#m996baec9d3\" y=\"592.63068\"/>\r\n     <use style=\"fill:#0000ff;stroke:#0000ff;\" x=\"153.537698\" xlink:href=\"#m996baec9d3\" y=\"142.775998\"/>\r\n     <use style=\"fill:#0000ff;stroke:#0000ff;\" x=\"433.779248\" xlink:href=\"#m996baec9d3\" y=\"89.345013\"/>\r\n     <use style=\"fill:#0000ff;stroke:#0000ff;\" x=\"323.406445\" xlink:href=\"#m996baec9d3\" y=\"575.791614\"/>\r\n     <use style=\"fill:#0000ff;stroke:#0000ff;\" x=\"576.664254\" xlink:href=\"#m996baec9d3\" y=\"128.762449\"/>\r\n     <use style=\"fill:#0000ff;stroke:#0000ff;\" x=\"99.221747\" xlink:href=\"#m996baec9d3\" y=\"131.255884\"/>\r\n     <use style=\"fill:#0000ff;stroke:#0000ff;\" x=\"320.261681\" xlink:href=\"#m996baec9d3\" y=\"95.546067\"/>\r\n     <use style=\"fill:#0000ff;stroke:#0000ff;\" x=\"459.334222\" xlink:href=\"#m996baec9d3\" y=\"95.721097\"/>\r\n     <use style=\"fill:#0000ff;stroke:#0000ff;\" x=\"578.424718\" xlink:href=\"#m996baec9d3\" y=\"150.651761\"/>\r\n     <use style=\"fill:#0000ff;stroke:#0000ff;\" x=\"444.210007\" xlink:href=\"#m996baec9d3\" y=\"177.70546\"/>\r\n     <use style=\"fill:#0000ff;stroke:#0000ff;\" x=\"51.243026\" xlink:href=\"#m996baec9d3\" y=\"451.64133\"/>\r\n     <use style=\"fill:#0000ff;stroke:#0000ff;\" x=\"132.131877\" xlink:href=\"#m996baec9d3\" y=\"353.162233\"/>\r\n     <use style=\"fill:#0000ff;stroke:#0000ff;\" x=\"643.133053\" xlink:href=\"#m996baec9d3\" y=\"231.513887\"/>\r\n     <use style=\"fill:#0000ff;stroke:#0000ff;\" x=\"544.367522\" xlink:href=\"#m996baec9d3\" y=\"125.117953\"/>\r\n     <use style=\"fill:#0000ff;stroke:#0000ff;\" x=\"341.913986\" xlink:href=\"#m996baec9d3\" y=\"548.363447\"/>\r\n     <use style=\"fill:#0000ff;stroke:#0000ff;\" x=\"302.946895\" xlink:href=\"#m996baec9d3\" y=\"557.68497\"/>\r\n     <use style=\"fill:#0000ff;stroke:#0000ff;\" x=\"73.070191\" xlink:href=\"#m996baec9d3\" y=\"269.076937\"/>\r\n     <use style=\"fill:#0000ff;stroke:#0000ff;\" x=\"594.175613\" xlink:href=\"#m996baec9d3\" y=\"415.949131\"/>\r\n     <use style=\"fill:#0000ff;stroke:#0000ff;\" x=\"357.615169\" xlink:href=\"#m996baec9d3\" y=\"557.300241\"/>\r\n     <use style=\"fill:#0000ff;stroke:#0000ff;\" x=\"214.508164\" xlink:href=\"#m996baec9d3\" y=\"106.349597\"/>\r\n     <use style=\"fill:#0000ff;stroke:#0000ff;\" x=\"285.861052\" xlink:href=\"#m996baec9d3\" y=\"541.027176\"/>\r\n     <use style=\"fill:#0000ff;stroke:#0000ff;\" x=\"562.356689\" xlink:href=\"#m996baec9d3\" y=\"543.124894\"/>\r\n     <use style=\"fill:#0000ff;stroke:#0000ff;\" x=\"356.686173\" xlink:href=\"#m996baec9d3\" y=\"192.346169\"/>\r\n     <use style=\"fill:#0000ff;stroke:#0000ff;\" x=\"226.920227\" xlink:href=\"#m996baec9d3\" y=\"297.302592\"/>\r\n     <use style=\"fill:#0000ff;stroke:#0000ff;\" x=\"46.235081\" xlink:href=\"#m996baec9d3\" y=\"475.932275\"/>\r\n     <use style=\"fill:#0000ff;stroke:#0000ff;\" x=\"628.720218\" xlink:href=\"#m996baec9d3\" y=\"291.427782\"/>\r\n     <use style=\"fill:#0000ff;stroke:#0000ff;\" x=\"262.761832\" xlink:href=\"#m996baec9d3\" y=\"255.742645\"/>\r\n     <use style=\"fill:#0000ff;stroke:#0000ff;\" x=\"627.003774\" xlink:href=\"#m996baec9d3\" y=\"106.385914\"/>\r\n     <use style=\"fill:#0000ff;stroke:#0000ff;\" x=\"229.907942\" xlink:href=\"#m996baec9d3\" y=\"355.962529\"/>\r\n     <use style=\"fill:#0000ff;stroke:#0000ff;\" x=\"122.409729\" xlink:href=\"#m996baec9d3\" y=\"636.631674\"/>\r\n     <use style=\"fill:#0000ff;stroke:#0000ff;\" x=\"246.504668\" xlink:href=\"#m996baec9d3\" y=\"300.982072\"/>\r\n     <use style=\"fill:#0000ff;stroke:#0000ff;\" x=\"201.196535\" xlink:href=\"#m996baec9d3\" y=\"155.871632\"/>\r\n     <use style=\"fill:#0000ff;stroke:#0000ff;\" x=\"178.549972\" xlink:href=\"#m996baec9d3\" y=\"572.955442\"/>\r\n     <use style=\"fill:#0000ff;stroke:#0000ff;\" x=\"168.114394\" xlink:href=\"#m996baec9d3\" y=\"75.506205\"/>\r\n     <use style=\"fill:#0000ff;stroke:#0000ff;\" x=\"627.035879\" xlink:href=\"#m996baec9d3\" y=\"488.186844\"/>\r\n     <use style=\"fill:#0000ff;stroke:#0000ff;\" x=\"239.498201\" xlink:href=\"#m996baec9d3\" y=\"576.30966\"/>\r\n     <use style=\"fill:#0000ff;stroke:#0000ff;\" x=\"134.089644\" xlink:href=\"#m996baec9d3\" y=\"64.240241\"/>\r\n     <use style=\"fill:#0000ff;stroke:#0000ff;\" x=\"156.199246\" xlink:href=\"#m996baec9d3\" y=\"158.319563\"/>\r\n     <use style=\"fill:#0000ff;stroke:#0000ff;\" x=\"57.895643\" xlink:href=\"#m996baec9d3\" y=\"350.253741\"/>\r\n     <use style=\"fill:#0000ff;stroke:#0000ff;\" x=\"265.705185\" xlink:href=\"#m996baec9d3\" y=\"313.357519\"/>\r\n     <use style=\"fill:#0000ff;stroke:#0000ff;\" x=\"150.486809\" xlink:href=\"#m996baec9d3\" y=\"447.112462\"/>\r\n     <use style=\"fill:#0000ff;stroke:#0000ff;\" x=\"406.398084\" xlink:href=\"#m996baec9d3\" y=\"91.561168\"/>\r\n     <use style=\"fill:#0000ff;stroke:#0000ff;\" x=\"116.891279\" xlink:href=\"#m996baec9d3\" y=\"292.928001\"/>\r\n     <use style=\"fill:#0000ff;stroke:#0000ff;\" x=\"491.81933\" xlink:href=\"#m996baec9d3\" y=\"543.845874\"/>\r\n     <use style=\"fill:#0000ff;stroke:#0000ff;\" x=\"67.286307\" xlink:href=\"#m996baec9d3\" y=\"585.406551\"/>\r\n     <use style=\"fill:#0000ff;stroke:#0000ff;\" x=\"526.831573\" xlink:href=\"#m996baec9d3\" y=\"603.722583\"/>\r\n     <use style=\"fill:#0000ff;stroke:#0000ff;\" x=\"428.685588\" xlink:href=\"#m996baec9d3\" y=\"92.578776\"/>\r\n     <use style=\"fill:#0000ff;stroke:#0000ff;\" x=\"193.368333\" xlink:href=\"#m996baec9d3\" y=\"594.08875\"/>\r\n     <use style=\"fill:#0000ff;stroke:#0000ff;\" x=\"660.418011\" xlink:href=\"#m996baec9d3\" y=\"452.852757\"/>\r\n     <use style=\"fill:#0000ff;stroke:#0000ff;\" x=\"665.421657\" xlink:href=\"#m996baec9d3\" y=\"433.802022\"/>\r\n     <use style=\"fill:#0000ff;stroke:#0000ff;\" x=\"80.382964\" xlink:href=\"#m996baec9d3\" y=\"327.319907\"/>\r\n     <use style=\"fill:#0000ff;stroke:#0000ff;\" x=\"190.036446\" xlink:href=\"#m996baec9d3\" y=\"366.853375\"/>\r\n     <use style=\"fill:#0000ff;stroke:#0000ff;\" x=\"255.253535\" xlink:href=\"#m996baec9d3\" y=\"298.499518\"/>\r\n     <use style=\"fill:#0000ff;stroke:#0000ff;\" x=\"431.997761\" xlink:href=\"#m996baec9d3\" y=\"253.852014\"/>\r\n     <use style=\"fill:#0000ff;stroke:#0000ff;\" x=\"548.404357\" xlink:href=\"#m996baec9d3\" y=\"360.345622\"/>\r\n     <use style=\"fill:#0000ff;stroke:#0000ff;\" x=\"602.710243\" xlink:href=\"#m996baec9d3\" y=\"218.02521\"/>\r\n     <use style=\"fill:#0000ff;stroke:#0000ff;\" x=\"652.402363\" xlink:href=\"#m996baec9d3\" y=\"92.099768\"/>\r\n     <use style=\"fill:#0000ff;stroke:#0000ff;\" x=\"213.63556\" xlink:href=\"#m996baec9d3\" y=\"590.421033\"/>\r\n     <use style=\"fill:#0000ff;stroke:#0000ff;\" x=\"611.89102\" xlink:href=\"#m996baec9d3\" y=\"554.283086\"/>\r\n    </g>\r\n   </g>\r\n   <g id=\"PathCollection_2\">\r\n    <defs>\r\n     <path d=\"M 0 2.236068 \r\nC 0.593012 2.236068 1.161816 2.000462 1.581139 1.581139 \r\nC 2.000462 1.161816 2.236068 0.593012 2.236068 0 \r\nC 2.236068 -0.593012 2.000462 -1.161816 1.581139 -1.581139 \r\nC 1.161816 -2.000462 0.593012 -2.236068 0 -2.236068 \r\nC -0.593012 -2.236068 -1.161816 -2.000462 -1.581139 -1.581139 \r\nC -2.000462 -1.161816 -2.236068 -0.593012 -2.236068 0 \r\nC -2.236068 0.593012 -2.000462 1.161816 -1.581139 1.581139 \r\nC -1.161816 2.000462 -0.593012 2.236068 0 2.236068 \r\nz\r\n\" id=\"ma771f674b6\" style=\"stroke:#ffa500;\"/>\r\n    </defs>\r\n    <g clip-path=\"url(#p822253284a)\">\r\n     <use style=\"fill:#ffa500;stroke:#ffa500;\" x=\"267.615222\" xlink:href=\"#ma771f674b6\" y=\"500.958756\"/>\r\n     <use style=\"fill:#ffa500;stroke:#ffa500;\" x=\"39.276145\" xlink:href=\"#ma771f674b6\" y=\"562.473347\"/>\r\n     <use style=\"fill:#ffa500;stroke:#ffa500;\" x=\"455.197013\" xlink:href=\"#ma771f674b6\" y=\"331.882715\"/>\r\n     <use style=\"fill:#ffa500;stroke:#ffa500;\" x=\"439.796989\" xlink:href=\"#ma771f674b6\" y=\"78.193189\"/>\r\n     <use style=\"fill:#ffa500;stroke:#ffa500;\" x=\"665.035836\" xlink:href=\"#ma771f674b6\" y=\"412.307302\"/>\r\n     <use style=\"fill:#ffa500;stroke:#ffa500;\" x=\"180.389587\" xlink:href=\"#ma771f674b6\" y=\"109.858407\"/>\r\n     <use style=\"fill:#ffa500;stroke:#ffa500;\" x=\"402.584006\" xlink:href=\"#ma771f674b6\" y=\"210.9302\"/>\r\n     <use style=\"fill:#ffa500;stroke:#ffa500;\" x=\"102.54956\" xlink:href=\"#ma771f674b6\" y=\"269.480463\"/>\r\n     <use style=\"fill:#ffa500;stroke:#ffa500;\" x=\"179.810779\" xlink:href=\"#ma771f674b6\" y=\"232.839292\"/>\r\n     <use style=\"fill:#ffa500;stroke:#ffa500;\" x=\"396.155283\" xlink:href=\"#ma771f674b6\" y=\"658.511818\"/>\r\n     <use style=\"fill:#ffa500;stroke:#ffa500;\" x=\"288.583716\" xlink:href=\"#ma771f674b6\" y=\"197.845483\"/>\r\n     <use style=\"fill:#ffa500;stroke:#ffa500;\" x=\"304.746863\" xlink:href=\"#ma771f674b6\" y=\"506.380607\"/>\r\n     <use style=\"fill:#ffa500;stroke:#ffa500;\" x=\"523.575791\" xlink:href=\"#ma771f674b6\" y=\"619.080197\"/>\r\n     <use style=\"fill:#ffa500;stroke:#ffa500;\" x=\"135.12276\" xlink:href=\"#ma771f674b6\" y=\"384.452765\"/>\r\n     <use style=\"fill:#ffa500;stroke:#ffa500;\" x=\"630.920313\" xlink:href=\"#ma771f674b6\" y=\"259.358642\"/>\r\n     <use style=\"fill:#ffa500;stroke:#ffa500;\" x=\"536.023886\" xlink:href=\"#ma771f674b6\" y=\"535.231982\"/>\r\n     <use style=\"fill:#ffa500;stroke:#ffa500;\" x=\"413.931977\" xlink:href=\"#ma771f674b6\" y=\"601.801755\"/>\r\n     <use style=\"fill:#ffa500;stroke:#ffa500;\" x=\"78.078842\" xlink:href=\"#ma771f674b6\" y=\"322.971762\"/>\r\n     <use style=\"fill:#ffa500;stroke:#ffa500;\" x=\"89.216238\" xlink:href=\"#ma771f674b6\" y=\"60.781332\"/>\r\n     <use style=\"fill:#ffa500;stroke:#ffa500;\" x=\"46.449187\" xlink:href=\"#ma771f674b6\" y=\"286.323384\"/>\r\n     <use style=\"fill:#ffa500;stroke:#ffa500;\" x=\"373.945232\" xlink:href=\"#ma771f674b6\" y=\"600.968558\"/>\r\n     <use style=\"fill:#ffa500;stroke:#ffa500;\" x=\"345.89037\" xlink:href=\"#ma771f674b6\" y=\"156.078656\"/>\r\n     <use style=\"fill:#ffa500;stroke:#ffa500;\" x=\"542.348023\" xlink:href=\"#ma771f674b6\" y=\"263.801076\"/>\r\n     <use style=\"fill:#ffa500;stroke:#ffa500;\" x=\"461.443735\" xlink:href=\"#ma771f674b6\" y=\"89.549803\"/>\r\n     <use style=\"fill:#ffa500;stroke:#ffa500;\" x=\"232.951839\" xlink:href=\"#ma771f674b6\" y=\"355.177957\"/>\r\n     <use style=\"fill:#ffa500;stroke:#ffa500;\" x=\"99.572414\" xlink:href=\"#ma771f674b6\" y=\"363.232496\"/>\r\n     <use style=\"fill:#ffa500;stroke:#ffa500;\" x=\"145.402779\" xlink:href=\"#ma771f674b6\" y=\"340.692534\"/>\r\n     <use style=\"fill:#ffa500;stroke:#ffa500;\" x=\"252.294017\" xlink:href=\"#ma771f674b6\" y=\"74.850186\"/>\r\n     <use style=\"fill:#ffa500;stroke:#ffa500;\" x=\"311.261861\" xlink:href=\"#ma771f674b6\" y=\"326.470627\"/>\r\n     <use style=\"fill:#ffa500;stroke:#ffa500;\" x=\"102.376819\" xlink:href=\"#ma771f674b6\" y=\"567.518909\"/>\r\n     <use style=\"fill:#ffa500;stroke:#ffa500;\" x=\"100.870643\" xlink:href=\"#ma771f674b6\" y=\"392.090717\"/>\r\n     <use style=\"fill:#ffa500;stroke:#ffa500;\" x=\"117.609201\" xlink:href=\"#ma771f674b6\" y=\"645.767096\"/>\r\n     <use style=\"fill:#ffa500;stroke:#ffa500;\" x=\"604.079686\" xlink:href=\"#ma771f674b6\" y=\"383.928126\"/>\r\n     <use style=\"fill:#ffa500;stroke:#ffa500;\" x=\"627.186154\" xlink:href=\"#ma771f674b6\" y=\"366.235493\"/>\r\n     <use style=\"fill:#ffa500;stroke:#ffa500;\" x=\"336.031133\" xlink:href=\"#ma771f674b6\" y=\"437.423621\"/>\r\n     <use style=\"fill:#ffa500;stroke:#ffa500;\" x=\"49.47428\" xlink:href=\"#ma771f674b6\" y=\"455.73855\"/>\r\n     <use style=\"fill:#ffa500;stroke:#ffa500;\" x=\"529.713449\" xlink:href=\"#ma771f674b6\" y=\"301.088322\"/>\r\n     <use style=\"fill:#ffa500;stroke:#ffa500;\" x=\"495.659631\" xlink:href=\"#ma771f674b6\" y=\"429.610694\"/>\r\n     <use style=\"fill:#ffa500;stroke:#ffa500;\" x=\"106.337245\" xlink:href=\"#ma771f674b6\" y=\"180.606745\"/>\r\n     <use style=\"fill:#ffa500;stroke:#ffa500;\" x=\"474.761569\" xlink:href=\"#ma771f674b6\" y=\"303.450323\"/>\r\n     <use style=\"fill:#ffa500;stroke:#ffa500;\" x=\"130.293705\" xlink:href=\"#ma771f674b6\" y=\"422.463621\"/>\r\n    </g>\r\n   </g>\r\n   <g id=\"PathCollection_3\">\r\n    <defs>\r\n     <path d=\"M 0 2.236068 \r\nC 0.593012 2.236068 1.161816 2.000462 1.581139 1.581139 \r\nC 2.000462 1.161816 2.236068 0.593012 2.236068 0 \r\nC 2.236068 -0.593012 2.000462 -1.161816 1.581139 -1.581139 \r\nC 1.161816 -2.000462 0.593012 -2.236068 0 -2.236068 \r\nC -0.593012 -2.236068 -1.161816 -2.000462 -1.581139 -1.581139 \r\nC -2.000462 -1.161816 -2.236068 -0.593012 -2.236068 0 \r\nC -2.236068 0.593012 -2.000462 1.161816 -1.581139 1.581139 \r\nC -1.161816 2.000462 -0.593012 2.236068 0 2.236068 \r\nz\r\n\" id=\"m5495811549\" style=\"stroke:#ff0000;\"/>\r\n    </defs>\r\n    <g clip-path=\"url(#p822253284a)\">\r\n     <use style=\"fill:#ff0000;stroke:#ff0000;\" x=\"335.733029\" xlink:href=\"#m5495811549\" y=\"158.913144\"/>\r\n     <use style=\"fill:#ff0000;stroke:#ff0000;\" x=\"515.846009\" xlink:href=\"#m5495811549\" y=\"660.418957\"/>\r\n     <use style=\"fill:#ff0000;stroke:#ff0000;\" x=\"406.110815\" xlink:href=\"#m5495811549\" y=\"159.294945\"/>\r\n     <use style=\"fill:#ff0000;stroke:#ff0000;\" x=\"225.057246\" xlink:href=\"#m5495811549\" y=\"655.433219\"/>\r\n     <use style=\"fill:#ff0000;stroke:#ff0000;\" x=\"410.134748\" xlink:href=\"#m5495811549\" y=\"242.288016\"/>\r\n     <use style=\"fill:#ff0000;stroke:#ff0000;\" x=\"509.999719\" xlink:href=\"#m5495811549\" y=\"428.962403\"/>\r\n    </g>\r\n   </g>\r\n   <g id=\"PathCollection_4\">\r\n    <defs>\r\n     <path d=\"M 0 1.118034 \r\nC 0.296506 1.118034 0.580908 1.000231 0.790569 0.790569 \r\nC 1.000231 0.580908 1.118034 0.296506 1.118034 0 \r\nC 1.118034 -0.296506 1.000231 -0.580908 0.790569 -0.790569 \r\nC 0.580908 -1.000231 0.296506 -1.118034 0 -1.118034 \r\nC -0.296506 -1.118034 -0.580908 -1.000231 -0.790569 -0.790569 \r\nC -1.000231 -0.580908 -1.118034 -0.296506 -1.118034 0 \r\nC -1.118034 0.296506 -1.000231 0.580908 -0.790569 0.790569 \r\nC -0.580908 1.000231 -0.296506 1.118034 0 1.118034 \r\nz\r\n\" id=\"m4c1a72403c\" style=\"stroke:#808080;\"/>\r\n    </defs>\r\n    <g clip-path=\"url(#p822253284a)\">\r\n     <use style=\"fill:#808080;stroke:#808080;\" x=\"439.782227\" xlink:href=\"#m4c1a72403c\" y=\"296.668227\"/>\r\n     <use style=\"fill:#808080;stroke:#808080;\" x=\"521.537849\" xlink:href=\"#m4c1a72403c\" y=\"133.887816\"/>\r\n     <use style=\"fill:#808080;stroke:#808080;\" x=\"62.339861\" xlink:href=\"#m4c1a72403c\" y=\"190.690268\"/>\r\n    </g>\r\n   </g>\r\n   <g id=\"patch_3\">\r\n    <path d=\"M 7.2 692.8 \r\nL 7.2 28.8 \r\n\" style=\"fill:none;stroke:#000000;stroke-linecap:square;stroke-linejoin:miter;stroke-width:0.8;\"/>\r\n   </g>\r\n   <g id=\"patch_4\">\r\n    <path d=\"M 707.2 692.8 \r\nL 707.2 28.8 \r\n\" style=\"fill:none;stroke:#000000;stroke-linecap:square;stroke-linejoin:miter;stroke-width:0.8;\"/>\r\n   </g>\r\n   <g id=\"patch_5\">\r\n    <path d=\"M 7.2 692.8 \r\nL 707.2 692.8 \r\n\" style=\"fill:none;stroke:#000000;stroke-linecap:square;stroke-linejoin:miter;stroke-width:0.8;\"/>\r\n   </g>\r\n   <g id=\"patch_6\">\r\n    <path d=\"M 7.2 28.8 \r\nL 707.2 28.8 \r\n\" style=\"fill:none;stroke:#000000;stroke-linecap:square;stroke-linejoin:miter;stroke-width:0.8;\"/>\r\n   </g>\r\n   <g id=\"text_1\">\r\n    <!-- test -->\r\n    <defs>\r\n     <path d=\"M 18.3125 70.21875 \r\nL 18.3125 54.6875 \r\nL 36.8125 54.6875 \r\nL 36.8125 47.703125 \r\nL 18.3125 47.703125 \r\nL 18.3125 18.015625 \r\nQ 18.3125 11.328125 20.140625 9.421875 \r\nQ 21.96875 7.515625 27.59375 7.515625 \r\nL 36.8125 7.515625 \r\nL 36.8125 0 \r\nL 27.59375 0 \r\nQ 17.1875 0 13.234375 3.875 \r\nQ 9.28125 7.765625 9.28125 18.015625 \r\nL 9.28125 47.703125 \r\nL 2.6875 47.703125 \r\nL 2.6875 54.6875 \r\nL 9.28125 54.6875 \r\nL 9.28125 70.21875 \r\nz\r\n\" id=\"DejaVuSans-116\"/>\r\n     <path d=\"M 56.203125 29.59375 \r\nL 56.203125 25.203125 \r\nL 14.890625 25.203125 \r\nQ 15.484375 15.921875 20.484375 11.0625 \r\nQ 25.484375 6.203125 34.421875 6.203125 \r\nQ 39.59375 6.203125 44.453125 7.46875 \r\nQ 49.3125 8.734375 54.109375 11.28125 \r\nL 54.109375 2.78125 \r\nQ 49.265625 0.734375 44.1875 -0.34375 \r\nQ 39.109375 -1.421875 33.890625 -1.421875 \r\nQ 20.796875 -1.421875 13.15625 6.1875 \r\nQ 5.515625 13.8125 5.515625 26.8125 \r\nQ 5.515625 40.234375 12.765625 48.109375 \r\nQ 20.015625 56 32.328125 56 \r\nQ 43.359375 56 49.78125 48.890625 \r\nQ 56.203125 41.796875 56.203125 29.59375 \r\nz\r\nM 47.21875 32.234375 \r\nQ 47.125 39.59375 43.09375 43.984375 \r\nQ 39.0625 48.390625 32.421875 48.390625 \r\nQ 24.90625 48.390625 20.390625 44.140625 \r\nQ 15.875 39.890625 15.1875 32.171875 \r\nz\r\n\" id=\"DejaVuSans-101\"/>\r\n     <path d=\"M 44.28125 53.078125 \r\nL 44.28125 44.578125 \r\nQ 40.484375 46.53125 36.375 47.5 \r\nQ 32.28125 48.484375 27.875 48.484375 \r\nQ 21.1875 48.484375 17.84375 46.4375 \r\nQ 14.5 44.390625 14.5 40.28125 \r\nQ 14.5 37.15625 16.890625 35.375 \r\nQ 19.28125 33.59375 26.515625 31.984375 \r\nL 29.59375 31.296875 \r\nQ 39.15625 29.25 43.1875 25.515625 \r\nQ 47.21875 21.78125 47.21875 15.09375 \r\nQ 47.21875 7.46875 41.1875 3.015625 \r\nQ 35.15625 -1.421875 24.609375 -1.421875 \r\nQ 20.21875 -1.421875 15.453125 -0.5625 \r\nQ 10.6875 0.296875 5.421875 2 \r\nL 5.421875 11.28125 \r\nQ 10.40625 8.6875 15.234375 7.390625 \r\nQ 20.0625 6.109375 24.8125 6.109375 \r\nQ 31.15625 6.109375 34.5625 8.28125 \r\nQ 37.984375 10.453125 37.984375 14.40625 \r\nQ 37.984375 18.0625 35.515625 20.015625 \r\nQ 33.0625 21.96875 24.703125 23.78125 \r\nL 21.578125 24.515625 \r\nQ 13.234375 26.265625 9.515625 29.90625 \r\nQ 5.8125 33.546875 5.8125 39.890625 \r\nQ 5.8125 47.609375 11.28125 51.796875 \r\nQ 16.75 56 26.8125 56 \r\nQ 31.78125 56 36.171875 55.265625 \r\nQ 40.578125 54.546875 44.28125 53.078125 \r\nz\r\n\" id=\"DejaVuSans-115\"/>\r\n    </defs>\r\n    <g transform=\"translate(345.678125 22.8)scale(0.12 -0.12)\">\r\n     <use xlink:href=\"#DejaVuSans-116\"/>\r\n     <use x=\"39.208984\" xlink:href=\"#DejaVuSans-101\"/>\r\n     <use x=\"100.732422\" xlink:href=\"#DejaVuSans-115\"/>\r\n     <use x=\"152.832031\" xlink:href=\"#DejaVuSans-116\"/>\r\n    </g>\r\n   </g>\r\n  </g>\r\n  <g id=\"axes_2\">\r\n   <g id=\"patch_7\">\r\n    <path d=\"M 707.2 692.8 \r\nL 1407.2 692.8 \r\nL 1407.2 28.8 \r\nL 707.2 28.8 \r\nz\r\n\" style=\"fill:#ffffff;\"/>\r\n   </g>\r\n   <g id=\"LineCollection_2\">\r\n    <path clip-path=\"url(#p5334f52ade)\" d=\"M 812.07997 432.691657 \r\nL 1328.948401 478.575988 \r\n\" style=\"fill:none;stroke:#ff0000;\"/>\r\n    <path clip-path=\"url(#p5334f52ade)\" d=\"M 1138.597782 120.330252 \r\nL 1307.682278 596.803251 \r\n\" style=\"fill:none;stroke:#ff0000;\"/>\r\n    <path clip-path=\"url(#p5334f52ade)\" d=\"M 1107.61228 269.975072 \r\nL 983.413021 345.299585 \r\n\" style=\"fill:none;stroke:#ff0000;\"/>\r\n    <path clip-path=\"url(#p5334f52ade)\" d=\"M 1275.015966 423.8272 \r\nL 1107.562985 519.945827 \r\n\" style=\"fill:none;stroke:#ff0000;\"/>\r\n    <path clip-path=\"url(#p5334f52ade)\" d=\"M 857.805193 291.553164 \r\nL 1196.113114 510.189071 \r\n\" style=\"fill:none;stroke:#ff0000;\"/>\r\n    <path clip-path=\"url(#p5334f52ade)\" d=\"M 759.277993 381.050709 \r\nL 913.889814 506.37241 \r\n\" style=\"fill:none;stroke:#ff0000;\"/>\r\n    <path clip-path=\"url(#p5334f52ade)\" d=\"M 1128.685588 92.578776 \r\nL 878.069309 203.417035 \r\n\" style=\"fill:none;stroke:#ff0000;\"/>\r\n    <path clip-path=\"url(#p5334f52ade)\" d=\"M 759.277993 381.050709 \r\nL 842.373226 372.099566 \r\n\" style=\"fill:none;stroke:#ff0000;\"/>\r\n    <path clip-path=\"url(#p5334f52ade)\" d=\"M 758.693858 555.194633 \r\nL 972.554128 254.624768 \r\n\" style=\"fill:none;stroke:#ff0000;\"/>\r\n    <path clip-path=\"url(#p5334f52ade)\" d=\"M 914.299979 111.30977 \r\nL 772.343006 563.592837 \r\n\" style=\"fill:none;stroke:#ff0000;\"/>\r\n    <path clip-path=\"url(#p5334f52ade)\" d=\"M 1359.029062 501.897082 \r\nL 1100.954843 616.782017 \r\n\" style=\"fill:none;stroke:#ff0000;\"/>\r\n    <path clip-path=\"url(#p5334f52ade)\" d=\"M 816.891279 292.928001 \r\nL 1172.444934 555.266908 \r\n\" style=\"fill:none;stroke:#ff0000;\"/>\r\n    <path clip-path=\"url(#p5334f52ade)\" d=\"M 803.333052 135.285568 \r\nL 758.794135 473.727524 \r\n\" style=\"fill:none;stroke:#ff0000;\"/>\r\n    <path clip-path=\"url(#p5334f52ade)\" d=\"M 1128.685588 92.578776 \r\nL 855.004612 327.102039 \r\n\" style=\"fill:none;stroke:#ff0000;\"/>\r\n    <path clip-path=\"url(#p5334f52ade)\" d=\"M 1352.388284 578.578318 \r\nL 1242.457883 129.852872 \r\n\" style=\"fill:none;stroke:#ff0000;\"/>\r\n    <path clip-path=\"url(#p5334f52ade)\" d=\"M 840.683575 518.45458 \r\nL 789.352326 147.261307 \r\n\" style=\"fill:none;stroke:#ff0000;\"/>\r\n    <path clip-path=\"url(#p5334f52ade)\" d=\"M 1011.453425 600.321901 \r\nL 1169.063619 154.83165 \r\n\" style=\"fill:none;stroke:#ff0000;\"/>\r\n    <path clip-path=\"url(#p5334f52ade)\" d=\"M 822.995614 638.862319 \r\nL 1337.18525 594.126774 \r\n\" style=\"fill:none;stroke:#ff0000;\"/>\r\n    <path clip-path=\"url(#p5334f52ade)\" d=\"M 1038.085601 287.975899 \r\nL 1209.610862 424.83245 \r\n\" style=\"fill:none;stroke:#ff0000;\"/>\r\n    <path clip-path=\"url(#p5334f52ade)\" d=\"M 1327.003774 106.385914 \r\nL 933.15084 360.173547 \r\n\" style=\"fill:none;stroke:#ff0000;\"/>\r\n    <path clip-path=\"url(#p5334f52ade)\" d=\"M 741.894254 325.668654 \r\nL 1218.991854 440.422456 \r\n\" style=\"fill:none;stroke:#ff0000;\"/>\r\n    <path clip-path=\"url(#p5334f52ade)\" d=\"M 1076.454417 155.575148 \r\nL 1158.073691 360.95965 \r\n\" style=\"fill:none;stroke:#ff0000;\"/>\r\n    <path clip-path=\"url(#p5334f52ade)\" d=\"M 767.286307 585.406551 \r\nL 1333.176307 492.256844 \r\n\" style=\"fill:none;stroke:#ff0000;\"/>\r\n    <path clip-path=\"url(#p5334f52ade)\" d=\"M 1069.911584 465.282428 \r\nL 1171.416229 327.131078 \r\n\" style=\"fill:none;stroke:#ff0000;\"/>\r\n    <path clip-path=\"url(#p5334f52ade)\" d=\"M 1128.970922 211.93718 \r\nL 873.954167 285.279007 \r\n\" style=\"fill:none;stroke:#ff0000;\"/>\r\n    <path clip-path=\"url(#p5334f52ade)\" d=\"M 1279.731243 381.833425 \r\nL 1361.776791 135.156007 \r\n\" style=\"fill:none;stroke:#ff0000;\"/>\r\n    <path clip-path=\"url(#p5334f52ade)\" d=\"M 1011.453425 600.321901 \r\nL 1367.37801 456.77738 \r\n\" style=\"fill:none;stroke:#ff0000;\"/>\r\n    <path clip-path=\"url(#p5334f52ade)\" d=\"M 1329.536677 229.638964 \r\nL 947.195727 474.79959 \r\n\" style=\"fill:none;stroke:#ff0000;\"/>\r\n    <path clip-path=\"url(#p5334f52ade)\" d=\"M 962.761832 255.742645 \r\nL 1160.829616 483.686872 \r\n\" style=\"fill:none;stroke:#ff0000;\"/>\r\n    <path clip-path=\"url(#p5334f52ade)\" d=\"M 841.137893 325.663285 \r\nL 968.894955 327.336192 \r\n\" style=\"fill:none;stroke:#ff0000;\"/>\r\n    <path clip-path=\"url(#p5334f52ade)\" d=\"M 1309.175851 633.465745 \r\nL 946.504668 300.982072 \r\n\" style=\"fill:none;stroke:#ff0000;\"/>\r\n    <path clip-path=\"url(#p5334f52ade)\" d=\"M 969.149267 360.201542 \r\nL 1339.390052 117.098146 \r\n\" style=\"fill:none;stroke:#ff0000;\"/>\r\n   </g>\r\n   <g id=\"matplotlib.axis_3\">\r\n    <g id=\"xtick_7\"/>\r\n    <g id=\"xtick_8\"/>\r\n    <g id=\"xtick_9\"/>\r\n    <g id=\"xtick_10\"/>\r\n    <g id=\"xtick_11\"/>\r\n    <g id=\"xtick_12\"/>\r\n   </g>\r\n   <g id=\"matplotlib.axis_4\">\r\n    <g id=\"ytick_7\"/>\r\n    <g id=\"ytick_8\"/>\r\n    <g id=\"ytick_9\"/>\r\n    <g id=\"ytick_10\"/>\r\n    <g id=\"ytick_11\"/>\r\n    <g id=\"ytick_12\"/>\r\n   </g>\r\n   <g id=\"PathCollection_5\">\r\n    <g clip-path=\"url(#p5334f52ade)\">\r\n     <use style=\"fill:#0000ff;stroke:#0000ff;\" x=\"959.694426\" xlink:href=\"#m996baec9d3\" y=\"475.029888\"/>\r\n     <use style=\"fill:#0000ff;stroke:#0000ff;\" x=\"1219.2211\" xlink:href=\"#m996baec9d3\" y=\"267.645497\"/>\r\n     <use style=\"fill:#0000ff;stroke:#0000ff;\" x=\"765.111514\" xlink:href=\"#m996baec9d3\" y=\"305.506797\"/>\r\n     <use style=\"fill:#0000ff;stroke:#0000ff;\" x=\"1048.714128\" xlink:href=\"#m996baec9d3\" y=\"373.490941\"/>\r\n     <use style=\"fill:#0000ff;stroke:#0000ff;\" x=\"795.7921\" xlink:href=\"#m996baec9d3\" y=\"302.173197\"/>\r\n     <use style=\"fill:#0000ff;stroke:#0000ff;\" x=\"870.314205\" xlink:href=\"#m996baec9d3\" y=\"636.440857\"/>\r\n     <use style=\"fill:#0000ff;stroke:#0000ff;\" x=\"1334.36504\" xlink:href=\"#m996baec9d3\" y=\"102.758136\"/>\r\n     <use style=\"fill:#0000ff;stroke:#0000ff;\" x=\"876.303551\" xlink:href=\"#m996baec9d3\" y=\"210.49839\"/>\r\n     <use style=\"fill:#0000ff;stroke:#0000ff;\" x=\"1011.106652\" xlink:href=\"#m996baec9d3\" y=\"316.110329\"/>\r\n     <use style=\"fill:#0000ff;stroke:#0000ff;\" x=\"1078.59148\" xlink:href=\"#m996baec9d3\" y=\"423.224413\"/>\r\n     <use style=\"fill:#0000ff;stroke:#0000ff;\" x=\"870.967676\" xlink:href=\"#m996baec9d3\" y=\"339.416416\"/>\r\n     <use style=\"fill:#0000ff;stroke:#0000ff;\" x=\"953.780853\" xlink:href=\"#m996baec9d3\" y=\"455.823255\"/>\r\n     <use style=\"fill:#0000ff;stroke:#0000ff;\" x=\"1051.694898\" xlink:href=\"#m996baec9d3\" y=\"508.530594\"/>\r\n     <use style=\"fill:#0000ff;stroke:#0000ff;\" x=\"1222.213444\" xlink:href=\"#m996baec9d3\" y=\"506.906057\"/>\r\n     <use style=\"fill:#0000ff;stroke:#0000ff;\" x=\"1112.424287\" xlink:href=\"#m996baec9d3\" y=\"467.143785\"/>\r\n     <use style=\"fill:#0000ff;stroke:#0000ff;\" x=\"955.195512\" xlink:href=\"#m996baec9d3\" y=\"446.032073\"/>\r\n     <use style=\"fill:#0000ff;stroke:#0000ff;\" x=\"872.421726\" xlink:href=\"#m996baec9d3\" y=\"120.774347\"/>\r\n     <use style=\"fill:#0000ff;stroke:#0000ff;\" x=\"823.34417\" xlink:href=\"#m996baec9d3\" y=\"104.173939\"/>\r\n     <use style=\"fill:#0000ff;stroke:#0000ff;\" x=\"1007.768617\" xlink:href=\"#m996baec9d3\" y=\"334.094798\"/>\r\n     <use style=\"fill:#0000ff;stroke:#0000ff;\" x=\"1071.1602\" xlink:href=\"#m996baec9d3\" y=\"484.522785\"/>\r\n     <use style=\"fill:#0000ff;stroke:#0000ff;\" x=\"1361.979132\" xlink:href=\"#m996baec9d3\" y=\"168.568388\"/>\r\n     <use style=\"fill:#0000ff;stroke:#0000ff;\" x=\"1366.180549\" xlink:href=\"#m996baec9d3\" y=\"145.171903\"/>\r\n     <use style=\"fill:#0000ff;stroke:#0000ff;\" x=\"1094.636741\" xlink:href=\"#m996baec9d3\" y=\"170.102114\"/>\r\n     <use style=\"fill:#0000ff;stroke:#0000ff;\" x=\"744.63302\" xlink:href=\"#m996baec9d3\" y=\"320.002957\"/>\r\n     <use style=\"fill:#0000ff;stroke:#0000ff;\" x=\"1216.132178\" xlink:href=\"#m996baec9d3\" y=\"543.144476\"/>\r\n     <use style=\"fill:#0000ff;stroke:#0000ff;\" x=\"1332.890669\" xlink:href=\"#m996baec9d3\" y=\"488.576554\"/>\r\n     <use style=\"fill:#0000ff;stroke:#0000ff;\" x=\"1177.937735\" xlink:href=\"#m996baec9d3\" y=\"256.916044\"/>\r\n     <use style=\"fill:#0000ff;stroke:#0000ff;\" x=\"940.97037\" xlink:href=\"#m996baec9d3\" y=\"637.264121\"/>\r\n     <use style=\"fill:#0000ff;stroke:#0000ff;\" x=\"1170.819756\" xlink:href=\"#m996baec9d3\" y=\"327.398487\"/>\r\n     <use style=\"fill:#0000ff;stroke:#0000ff;\" x=\"1025.909615\" xlink:href=\"#m996baec9d3\" y=\"254.888754\"/>\r\n     <use style=\"fill:#0000ff;stroke:#0000ff;\" x=\"939.861139\" xlink:href=\"#m996baec9d3\" y=\"413.266038\"/>\r\n     <use style=\"fill:#0000ff;stroke:#0000ff;\" x=\"1004.191963\" xlink:href=\"#m996baec9d3\" y=\"488.228944\"/>\r\n     <use style=\"fill:#0000ff;stroke:#0000ff;\" x=\"1245.717915\" xlink:href=\"#m996baec9d3\" y=\"651.58622\"/>\r\n     <use style=\"fill:#0000ff;stroke:#0000ff;\" x=\"1302.656925\" xlink:href=\"#m996baec9d3\" y=\"293.660006\"/>\r\n     <use style=\"fill:#0000ff;stroke:#0000ff;\" x=\"1065.410564\" xlink:href=\"#m996baec9d3\" y=\"450.447071\"/>\r\n     <use style=\"fill:#0000ff;stroke:#0000ff;\" x=\"1242.646297\" xlink:href=\"#m996baec9d3\" y=\"531.601654\"/>\r\n     <use style=\"fill:#0000ff;stroke:#0000ff;\" x=\"1094.650061\" xlink:href=\"#m996baec9d3\" y=\"372.811809\"/>\r\n     <use style=\"fill:#0000ff;stroke:#0000ff;\" x=\"1321.890229\" xlink:href=\"#m996baec9d3\" y=\"83.611005\"/>\r\n     <use style=\"fill:#0000ff;stroke:#0000ff;\" x=\"1337.824529\" xlink:href=\"#m996baec9d3\" y=\"286.459503\"/>\r\n     <use style=\"fill:#0000ff;stroke:#0000ff;\" x=\"746.456606\" xlink:href=\"#m996baec9d3\" y=\"546.828153\"/>\r\n     <use style=\"fill:#0000ff;stroke:#0000ff;\" x=\"1330.107535\" xlink:href=\"#m996baec9d3\" y=\"326.816075\"/>\r\n     <use style=\"fill:#0000ff;stroke:#0000ff;\" x=\"1325.447132\" xlink:href=\"#m996baec9d3\" y=\"520.068957\"/>\r\n     <use style=\"fill:#0000ff;stroke:#0000ff;\" x=\"813.062368\" xlink:href=\"#m996baec9d3\" y=\"157.202983\"/>\r\n     <use style=\"fill:#0000ff;stroke:#0000ff;\" x=\"962.629943\" xlink:href=\"#m996baec9d3\" y=\"342.647369\"/>\r\n     <use style=\"fill:#0000ff;stroke:#0000ff;\" x=\"807.45779\" xlink:href=\"#m996baec9d3\" y=\"583.633456\"/>\r\n     <use style=\"fill:#0000ff;stroke:#0000ff;\" x=\"806.817093\" xlink:href=\"#m996baec9d3\" y=\"87.26948\"/>\r\n     <use style=\"fill:#0000ff;stroke:#0000ff;\" x=\"1028.918543\" xlink:href=\"#m996baec9d3\" y=\"363.469803\"/>\r\n     <use style=\"fill:#0000ff;stroke:#0000ff;\" x=\"1022.888051\" xlink:href=\"#m996baec9d3\" y=\"250.409138\"/>\r\n     <use style=\"fill:#0000ff;stroke:#0000ff;\" x=\"857.917511\" xlink:href=\"#m996baec9d3\" y=\"334.041691\"/>\r\n     <use style=\"fill:#0000ff;stroke:#0000ff;\" x=\"1334.063464\" xlink:href=\"#m996baec9d3\" y=\"191.903803\"/>\r\n     <use style=\"fill:#0000ff;stroke:#0000ff;\" x=\"946.879408\" xlink:href=\"#m996baec9d3\" y=\"92.267628\"/>\r\n     <use style=\"fill:#0000ff;stroke:#0000ff;\" x=\"779.852574\" xlink:href=\"#m996baec9d3\" y=\"172.878558\"/>\r\n     <use style=\"fill:#0000ff;stroke:#0000ff;\" x=\"1273.513666\" xlink:href=\"#m996baec9d3\" y=\"506.036817\"/>\r\n     <use style=\"fill:#0000ff;stroke:#0000ff;\" x=\"761.240833\" xlink:href=\"#m996baec9d3\" y=\"407.025712\"/>\r\n     <use style=\"fill:#0000ff;stroke:#0000ff;\" x=\"786.286537\" xlink:href=\"#m996baec9d3\" y=\"269.530544\"/>\r\n     <use style=\"fill:#0000ff;stroke:#0000ff;\" x=\"857.75736\" xlink:href=\"#m996baec9d3\" y=\"148.657654\"/>\r\n     <use style=\"fill:#0000ff;stroke:#0000ff;\" x=\"1231.068359\" xlink:href=\"#m996baec9d3\" y=\"662.618182\"/>\r\n     <use style=\"fill:#0000ff;stroke:#0000ff;\" x=\"987.392725\" xlink:href=\"#m996baec9d3\" y=\"66.11556\"/>\r\n     <use style=\"fill:#0000ff;stroke:#0000ff;\" x=\"1027.427114\" xlink:href=\"#m996baec9d3\" y=\"191.046128\"/>\r\n     <use style=\"fill:#0000ff;stroke:#0000ff;\" x=\"1241.462421\" xlink:href=\"#m996baec9d3\" y=\"139.325592\"/>\r\n     <use style=\"fill:#0000ff;stroke:#0000ff;\" x=\"1246.048028\" xlink:href=\"#m996baec9d3\" y=\"476.09673\"/>\r\n     <use style=\"fill:#0000ff;stroke:#0000ff;\" x=\"1330.79626\" xlink:href=\"#m996baec9d3\" y=\"562.975144\"/>\r\n     <use style=\"fill:#0000ff;stroke:#0000ff;\" x=\"1079.427673\" xlink:href=\"#m996baec9d3\" y=\"123.364053\"/>\r\n     <use style=\"fill:#0000ff;stroke:#0000ff;\" x=\"827.02892\" xlink:href=\"#m996baec9d3\" y=\"242.644345\"/>\r\n     <use style=\"fill:#0000ff;stroke:#0000ff;\" x=\"1371.625915\" xlink:href=\"#m996baec9d3\" y=\"221.826217\"/>\r\n     <use style=\"fill:#0000ff;stroke:#0000ff;\" x=\"1030.846985\" xlink:href=\"#m996baec9d3\" y=\"80.317866\"/>\r\n     <use style=\"fill:#0000ff;stroke:#0000ff;\" x=\"1067.362553\" xlink:href=\"#m996baec9d3\" y=\"344.811461\"/>\r\n     <use style=\"fill:#0000ff;stroke:#0000ff;\" x=\"793.362336\" xlink:href=\"#m996baec9d3\" y=\"637.731343\"/>\r\n     <use style=\"fill:#0000ff;stroke:#0000ff;\" x=\"876.833709\" xlink:href=\"#m996baec9d3\" y=\"154.266965\"/>\r\n     <use style=\"fill:#0000ff;stroke:#0000ff;\" x=\"1219.592767\" xlink:href=\"#m996baec9d3\" y=\"102.612867\"/>\r\n     <use style=\"fill:#0000ff;stroke:#0000ff;\" x=\"1045.928167\" xlink:href=\"#m996baec9d3\" y=\"152.827059\"/>\r\n     <use style=\"fill:#0000ff;stroke:#0000ff;\" x=\"926.483688\" xlink:href=\"#m996baec9d3\" y=\"260.319864\"/>\r\n     <use style=\"fill:#0000ff;stroke:#0000ff;\" x=\"763.735946\" xlink:href=\"#m996baec9d3\" y=\"422.405056\"/>\r\n     <use style=\"fill:#0000ff;stroke:#0000ff;\" x=\"887.000964\" xlink:href=\"#m996baec9d3\" y=\"589.494664\"/>\r\n     <use style=\"fill:#0000ff;stroke:#0000ff;\" x=\"999.7587\" xlink:href=\"#m996baec9d3\" y=\"247.387911\"/>\r\n     <use style=\"fill:#0000ff;stroke:#0000ff;\" x=\"1364.293148\" xlink:href=\"#m996baec9d3\" y=\"423.721094\"/>\r\n     <use style=\"fill:#0000ff;stroke:#0000ff;\" x=\"1064.254466\" xlink:href=\"#m996baec9d3\" y=\"223.688277\"/>\r\n     <use style=\"fill:#0000ff;stroke:#0000ff;\" x=\"1293.354448\" xlink:href=\"#m996baec9d3\" y=\"288.740474\"/>\r\n     <use style=\"fill:#0000ff;stroke:#0000ff;\" x=\"880.263873\" xlink:href=\"#m996baec9d3\" y=\"370.12369\"/>\r\n     <use style=\"fill:#0000ff;stroke:#0000ff;\" x=\"1033.573102\" xlink:href=\"#m996baec9d3\" y=\"600.899881\"/>\r\n     <use style=\"fill:#0000ff;stroke:#0000ff;\" x=\"1215.947976\" xlink:href=\"#m996baec9d3\" y=\"535.862078\"/>\r\n     <use style=\"fill:#0000ff;stroke:#0000ff;\" x=\"1211.731721\" xlink:href=\"#m996baec9d3\" y=\"462.068337\"/>\r\n     <use style=\"fill:#0000ff;stroke:#0000ff;\" x=\"1085.632386\" xlink:href=\"#m996baec9d3\" y=\"139.020497\"/>\r\n     <use style=\"fill:#0000ff;stroke:#0000ff;\" x=\"1199.847842\" xlink:href=\"#m996baec9d3\" y=\"613.724833\"/>\r\n     <use style=\"fill:#0000ff;stroke:#0000ff;\" x=\"1161.916534\" xlink:href=\"#m996baec9d3\" y=\"353.238038\"/>\r\n     <use style=\"fill:#0000ff;stroke:#0000ff;\" x=\"1330.69194\" xlink:href=\"#m996baec9d3\" y=\"136.199016\"/>\r\n     <use style=\"fill:#0000ff;stroke:#0000ff;\" x=\"828.138882\" xlink:href=\"#m996baec9d3\" y=\"617.321207\"/>\r\n     <use style=\"fill:#0000ff;stroke:#0000ff;\" x=\"1286.140915\" xlink:href=\"#m996baec9d3\" y=\"254.42776\"/>\r\n     <use style=\"fill:#0000ff;stroke:#0000ff;\" x=\"1159.31392\" xlink:href=\"#m996baec9d3\" y=\"427.934652\"/>\r\n     <use style=\"fill:#0000ff;stroke:#0000ff;\" x=\"1187.566341\" xlink:href=\"#m996baec9d3\" y=\"445.303023\"/>\r\n     <use style=\"fill:#0000ff;stroke:#0000ff;\" x=\"995.145618\" xlink:href=\"#m996baec9d3\" y=\"474.3137\"/>\r\n     <use style=\"fill:#0000ff;stroke:#0000ff;\" x=\"1289.712389\" xlink:href=\"#m996baec9d3\" y=\"96.697416\"/>\r\n     <use style=\"fill:#0000ff;stroke:#0000ff;\" x=\"769.767551\" xlink:href=\"#m996baec9d3\" y=\"108.727667\"/>\r\n     <use style=\"fill:#0000ff;stroke:#0000ff;\" x=\"837.478757\" xlink:href=\"#m996baec9d3\" y=\"460.094712\"/>\r\n     <use style=\"fill:#0000ff;stroke:#0000ff;\" x=\"1104.066953\" xlink:href=\"#m996baec9d3\" y=\"166.912703\"/>\r\n     <use style=\"fill:#0000ff;stroke:#0000ff;\" x=\"1247.352125\" xlink:href=\"#m996baec9d3\" y=\"498.043923\"/>\r\n     <use style=\"fill:#0000ff;stroke:#0000ff;\" x=\"1024.870607\" xlink:href=\"#m996baec9d3\" y=\"628.744213\"/>\r\n     <use style=\"fill:#0000ff;stroke:#0000ff;\" x=\"1256.44581\" xlink:href=\"#m996baec9d3\" y=\"413.646434\"/>\r\n     <use style=\"fill:#0000ff;stroke:#0000ff;\" x=\"1290.012675\" xlink:href=\"#m996baec9d3\" y=\"156.061758\"/>\r\n     <use style=\"fill:#0000ff;stroke:#0000ff;\" x=\"1144.30298\" xlink:href=\"#m996baec9d3\" y=\"234.893207\"/>\r\n     <use style=\"fill:#0000ff;stroke:#0000ff;\" x=\"947.967825\" xlink:href=\"#m996baec9d3\" y=\"412.855738\"/>\r\n     <use style=\"fill:#0000ff;stroke:#0000ff;\" x=\"1129.179183\" xlink:href=\"#m996baec9d3\" y=\"120.581952\"/>\r\n     <use style=\"fill:#0000ff;stroke:#0000ff;\" x=\"1177.648416\" xlink:href=\"#m996baec9d3\" y=\"655.364376\"/>\r\n     <use style=\"fill:#0000ff;stroke:#0000ff;\" x=\"907.188547\" xlink:href=\"#m996baec9d3\" y=\"408.307685\"/>\r\n     <use style=\"fill:#0000ff;stroke:#0000ff;\" x=\"1239.470397\" xlink:href=\"#m996baec9d3\" y=\"219.425196\"/>\r\n     <use style=\"fill:#0000ff;stroke:#0000ff;\" x=\"884.11776\" xlink:href=\"#m996baec9d3\" y=\"516.463445\"/>\r\n     <use style=\"fill:#0000ff;stroke:#0000ff;\" x=\"850.040109\" xlink:href=\"#m996baec9d3\" y=\"472.434905\"/>\r\n     <use style=\"fill:#0000ff;stroke:#0000ff;\" x=\"806.680906\" xlink:href=\"#m996baec9d3\" y=\"548.19701\"/>\r\n     <use style=\"fill:#0000ff;stroke:#0000ff;\" x=\"1111.046495\" xlink:href=\"#m996baec9d3\" y=\"162.413883\"/>\r\n     <use style=\"fill:#0000ff;stroke:#0000ff;\" x=\"1228.768876\" xlink:href=\"#m996baec9d3\" y=\"463.259876\"/>\r\n     <use style=\"fill:#0000ff;stroke:#0000ff;\" x=\"1042.053769\" xlink:href=\"#m996baec9d3\" y=\"190.058352\"/>\r\n     <use style=\"fill:#0000ff;stroke:#0000ff;\" x=\"830.353673\" xlink:href=\"#m996baec9d3\" y=\"165.376022\"/>\r\n     <use style=\"fill:#0000ff;stroke:#0000ff;\" x=\"1228.347573\" xlink:href=\"#m996baec9d3\" y=\"435.063602\"/>\r\n     <use style=\"fill:#0000ff;stroke:#0000ff;\" x=\"973.604084\" xlink:href=\"#m996baec9d3\" y=\"146.435843\"/>\r\n     <use style=\"fill:#0000ff;stroke:#0000ff;\" x=\"1244.554797\" xlink:href=\"#m996baec9d3\" y=\"176.257267\"/>\r\n     <use style=\"fill:#0000ff;stroke:#0000ff;\" x=\"1068.945001\" xlink:href=\"#m996baec9d3\" y=\"209.941199\"/>\r\n     <use style=\"fill:#0000ff;stroke:#0000ff;\" x=\"858.650351\" xlink:href=\"#m996baec9d3\" y=\"102.722792\"/>\r\n     <use style=\"fill:#0000ff;stroke:#0000ff;\" x=\"989.703326\" xlink:href=\"#m996baec9d3\" y=\"221.440632\"/>\r\n     <use style=\"fill:#0000ff;stroke:#0000ff;\" x=\"866.027053\" xlink:href=\"#m996baec9d3\" y=\"377.316627\"/>\r\n     <use style=\"fill:#0000ff;stroke:#0000ff;\" x=\"1021.918963\" xlink:href=\"#m996baec9d3\" y=\"574.703245\"/>\r\n     <use style=\"fill:#0000ff;stroke:#0000ff;\" x=\"1205.033679\" xlink:href=\"#m996baec9d3\" y=\"189.53665\"/>\r\n     <use style=\"fill:#0000ff;stroke:#0000ff;\" x=\"786.190922\" xlink:href=\"#m996baec9d3\" y=\"76.019585\"/>\r\n     <use style=\"fill:#0000ff;stroke:#0000ff;\" x=\"1209.35581\" xlink:href=\"#m996baec9d3\" y=\"560.914328\"/>\r\n     <use style=\"fill:#0000ff;stroke:#0000ff;\" x=\"1271.081819\" xlink:href=\"#m996baec9d3\" y=\"319.571652\"/>\r\n     <use style=\"fill:#0000ff;stroke:#0000ff;\" x=\"1250.42473\" xlink:href=\"#m996baec9d3\" y=\"147.60117\"/>\r\n     <use style=\"fill:#0000ff;stroke:#0000ff;\" x=\"1249.817138\" xlink:href=\"#m996baec9d3\" y=\"284.731723\"/>\r\n     <use style=\"fill:#0000ff;stroke:#0000ff;\" x=\"785.907087\" xlink:href=\"#m996baec9d3\" y=\"207.163457\"/>\r\n     <use style=\"fill:#0000ff;stroke:#0000ff;\" x=\"883.525072\" xlink:href=\"#m996baec9d3\" y=\"537.227043\"/>\r\n     <use style=\"fill:#0000ff;stroke:#0000ff;\" x=\"1355.5147\" xlink:href=\"#m996baec9d3\" y=\"294.367908\"/>\r\n     <use style=\"fill:#0000ff;stroke:#0000ff;\" x=\"1348.450153\" xlink:href=\"#m996baec9d3\" y=\"616.714854\"/>\r\n     <use style=\"fill:#0000ff;stroke:#0000ff;\" x=\"1069.596954\" xlink:href=\"#m996baec9d3\" y=\"397.483762\"/>\r\n     <use style=\"fill:#0000ff;stroke:#0000ff;\" x=\"1054.03083\" xlink:href=\"#m996baec9d3\" y=\"268.082135\"/>\r\n     <use style=\"fill:#0000ff;stroke:#0000ff;\" x=\"945.657755\" xlink:href=\"#m996baec9d3\" y=\"130.343265\"/>\r\n     <use style=\"fill:#0000ff;stroke:#0000ff;\" x=\"1017.991533\" xlink:href=\"#m996baec9d3\" y=\"258.264255\"/>\r\n     <use style=\"fill:#0000ff;stroke:#0000ff;\" x=\"1030.182509\" xlink:href=\"#m996baec9d3\" y=\"265.692752\"/>\r\n     <use style=\"fill:#0000ff;stroke:#0000ff;\" x=\"1188.564156\" xlink:href=\"#m996baec9d3\" y=\"602.854401\"/>\r\n     <use style=\"fill:#0000ff;stroke:#0000ff;\" x=\"978.122959\" xlink:href=\"#m996baec9d3\" y=\"605.902619\"/>\r\n     <use style=\"fill:#0000ff;stroke:#0000ff;\" x=\"1360.009193\" xlink:href=\"#m996baec9d3\" y=\"601.566741\"/>\r\n     <use style=\"fill:#0000ff;stroke:#0000ff;\" x=\"956.645919\" xlink:href=\"#m996baec9d3\" y=\"119.501004\"/>\r\n     <use style=\"fill:#0000ff;stroke:#0000ff;\" x=\"755.416547\" xlink:href=\"#m996baec9d3\" y=\"269.788405\"/>\r\n     <use style=\"fill:#0000ff;stroke:#0000ff;\" x=\"1189.299899\" xlink:href=\"#m996baec9d3\" y=\"198.781377\"/>\r\n     <use style=\"fill:#0000ff;stroke:#0000ff;\" x=\"1035.947286\" xlink:href=\"#m996baec9d3\" y=\"353.173942\"/>\r\n     <use style=\"fill:#0000ff;stroke:#0000ff;\" x=\"1264.86428\" xlink:href=\"#m996baec9d3\" y=\"631.836033\"/>\r\n     <use style=\"fill:#0000ff;stroke:#0000ff;\" x=\"762.2584\" xlink:href=\"#m996baec9d3\" y=\"530.71884\"/>\r\n     <use style=\"fill:#0000ff;stroke:#0000ff;\" x=\"1073.995665\" xlink:href=\"#m996baec9d3\" y=\"113.419747\"/>\r\n     <use style=\"fill:#0000ff;stroke:#0000ff;\" x=\"862.370944\" xlink:href=\"#m996baec9d3\" y=\"104.560964\"/>\r\n     <use style=\"fill:#0000ff;stroke:#0000ff;\" x=\"771.766707\" xlink:href=\"#m996baec9d3\" y=\"96.173407\"/>\r\n     <use style=\"fill:#0000ff;stroke:#0000ff;\" x=\"829.229177\" xlink:href=\"#m996baec9d3\" y=\"540.367121\"/>\r\n     <use style=\"fill:#0000ff;stroke:#0000ff;\" x=\"988.07369\" xlink:href=\"#m996baec9d3\" y=\"195.702179\"/>\r\n     <use style=\"fill:#0000ff;stroke:#0000ff;\" x=\"834.82479\" xlink:href=\"#m996baec9d3\" y=\"501.36576\"/>\r\n     <use style=\"fill:#0000ff;stroke:#0000ff;\" x=\"929.999891\" xlink:href=\"#m996baec9d3\" y=\"120.573233\"/>\r\n     <use style=\"fill:#0000ff;stroke:#0000ff;\" x=\"1176.563055\" xlink:href=\"#m996baec9d3\" y=\"527.97829\"/>\r\n     <use style=\"fill:#0000ff;stroke:#0000ff;\" x=\"1350.5372\" xlink:href=\"#m996baec9d3\" y=\"616.496157\"/>\r\n     <use style=\"fill:#0000ff;stroke:#0000ff;\" x=\"953.710706\" xlink:href=\"#m996baec9d3\" y=\"590.289211\"/>\r\n     <use style=\"fill:#0000ff;stroke:#0000ff;\" x=\"1361.143774\" xlink:href=\"#m996baec9d3\" y=\"635.396565\"/>\r\n     <use style=\"fill:#0000ff;stroke:#0000ff;\" x=\"1034.967743\" xlink:href=\"#m996baec9d3\" y=\"614.347552\"/>\r\n     <use style=\"fill:#0000ff;stroke:#0000ff;\" x=\"1308.843081\" xlink:href=\"#m996baec9d3\" y=\"81.440715\"/>\r\n     <use style=\"fill:#0000ff;stroke:#0000ff;\" x=\"777.242016\" xlink:href=\"#m996baec9d3\" y=\"140.756203\"/>\r\n     <use style=\"fill:#0000ff;stroke:#0000ff;\" x=\"979.449597\" xlink:href=\"#m996baec9d3\" y=\"238.04468\"/>\r\n     <use style=\"fill:#0000ff;stroke:#0000ff;\" x=\"767.181781\" xlink:href=\"#m996baec9d3\" y=\"296.847868\"/>\r\n     <use style=\"fill:#0000ff;stroke:#0000ff;\" x=\"943.869153\" xlink:href=\"#m996baec9d3\" y=\"543.964347\"/>\r\n     <use style=\"fill:#0000ff;stroke:#0000ff;\" x=\"1022.392028\" xlink:href=\"#m996baec9d3\" y=\"173.649222\"/>\r\n     <use style=\"fill:#0000ff;stroke:#0000ff;\" x=\"869.352916\" xlink:href=\"#m996baec9d3\" y=\"648.659536\"/>\r\n     <use style=\"fill:#0000ff;stroke:#0000ff;\" x=\"1121.285235\" xlink:href=\"#m996baec9d3\" y=\"476.103486\"/>\r\n     <use style=\"fill:#0000ff;stroke:#0000ff;\" x=\"790.288688\" xlink:href=\"#m996baec9d3\" y=\"599.888939\"/>\r\n     <use style=\"fill:#0000ff;stroke:#0000ff;\" x=\"1363.20107\" xlink:href=\"#m996baec9d3\" y=\"522.194958\"/>\r\n     <use style=\"fill:#0000ff;stroke:#0000ff;\" x=\"1049.687675\" xlink:href=\"#m996baec9d3\" y=\"336.406214\"/>\r\n     <use style=\"fill:#0000ff;stroke:#0000ff;\" x=\"1276.54578\" xlink:href=\"#m996baec9d3\" y=\"185.834976\"/>\r\n     <use style=\"fill:#0000ff;stroke:#0000ff;\" x=\"1324.400629\" xlink:href=\"#m996baec9d3\" y=\"184.007504\"/>\r\n     <use style=\"fill:#0000ff;stroke:#0000ff;\" x=\"1364.183174\" xlink:href=\"#m996baec9d3\" y=\"186.177361\"/>\r\n     <use style=\"fill:#0000ff;stroke:#0000ff;\" x=\"784.69937\" xlink:href=\"#m996baec9d3\" y=\"63.82677\"/>\r\n     <use style=\"fill:#0000ff;stroke:#0000ff;\" x=\"989.941756\" xlink:href=\"#m996baec9d3\" y=\"626.91405\"/>\r\n     <use style=\"fill:#0000ff;stroke:#0000ff;\" x=\"1184.153453\" xlink:href=\"#m996baec9d3\" y=\"459.302287\"/>\r\n     <use style=\"fill:#0000ff;stroke:#0000ff;\" x=\"1184.64811\" xlink:href=\"#m996baec9d3\" y=\"63.704991\"/>\r\n     <use style=\"fill:#0000ff;stroke:#0000ff;\" x=\"871.266197\" xlink:href=\"#m996baec9d3\" y=\"263.796464\"/>\r\n     <use style=\"fill:#0000ff;stroke:#0000ff;\" x=\"1182.104164\" xlink:href=\"#m996baec9d3\" y=\"267.237359\"/>\r\n     <use style=\"fill:#0000ff;stroke:#0000ff;\" x=\"742.966548\" xlink:href=\"#m996baec9d3\" y=\"152.150179\"/>\r\n     <use style=\"fill:#0000ff;stroke:#0000ff;\" x=\"769.222896\" xlink:href=\"#m996baec9d3\" y=\"291.622016\"/>\r\n     <use style=\"fill:#0000ff;stroke:#0000ff;\" x=\"791.501689\" xlink:href=\"#m996baec9d3\" y=\"545.885594\"/>\r\n     <use style=\"fill:#0000ff;stroke:#0000ff;\" x=\"1374.563196\" xlink:href=\"#m996baec9d3\" y=\"467.624307\"/>\r\n     <use style=\"fill:#0000ff;stroke:#0000ff;\" x=\"1323.734559\" xlink:href=\"#m996baec9d3\" y=\"275.692579\"/>\r\n     <use style=\"fill:#0000ff;stroke:#0000ff;\" x=\"1221.805651\" xlink:href=\"#m996baec9d3\" y=\"185.245502\"/>\r\n     <use style=\"fill:#0000ff;stroke:#0000ff;\" x=\"934.245935\" xlink:href=\"#m996baec9d3\" y=\"224.892336\"/>\r\n     <use style=\"fill:#0000ff;stroke:#0000ff;\" x=\"1197.710058\" xlink:href=\"#m996baec9d3\" y=\"189.625642\"/>\r\n     <use style=\"fill:#0000ff;stroke:#0000ff;\" x=\"960.001163\" xlink:href=\"#m996baec9d3\" y=\"371.928409\"/>\r\n     <use style=\"fill:#0000ff;stroke:#0000ff;\" x=\"944.890818\" xlink:href=\"#m996baec9d3\" y=\"99.709455\"/>\r\n     <use style=\"fill:#0000ff;stroke:#0000ff;\" x=\"791.149647\" xlink:href=\"#m996baec9d3\" y=\"194.128641\"/>\r\n     <use style=\"fill:#0000ff;stroke:#0000ff;\" x=\"1123.326745\" xlink:href=\"#m996baec9d3\" y=\"383.658465\"/>\r\n     <use style=\"fill:#0000ff;stroke:#0000ff;\" x=\"1359.063329\" xlink:href=\"#m996baec9d3\" y=\"630.935949\"/>\r\n     <use style=\"fill:#0000ff;stroke:#0000ff;\" x=\"898.942515\" xlink:href=\"#m996baec9d3\" y=\"645.007998\"/>\r\n     <use style=\"fill:#0000ff;stroke:#0000ff;\" x=\"999.662747\" xlink:href=\"#m996baec9d3\" y=\"482.857696\"/>\r\n     <use style=\"fill:#0000ff;stroke:#0000ff;\" x=\"1156.493596\" xlink:href=\"#m996baec9d3\" y=\"325.865373\"/>\r\n     <use style=\"fill:#0000ff;stroke:#0000ff;\" x=\"912.33782\" xlink:href=\"#m996baec9d3\" y=\"63.554389\"/>\r\n     <use style=\"fill:#0000ff;stroke:#0000ff;\" x=\"1263.829314\" xlink:href=\"#m996baec9d3\" y=\"276.419323\"/>\r\n     <use style=\"fill:#0000ff;stroke:#0000ff;\" x=\"1188.314455\" xlink:href=\"#m996baec9d3\" y=\"604.36406\"/>\r\n     <use style=\"fill:#0000ff;stroke:#0000ff;\" x=\"1129.293294\" xlink:href=\"#m996baec9d3\" y=\"317.036495\"/>\r\n     <use style=\"fill:#0000ff;stroke:#0000ff;\" x=\"766.580674\" xlink:href=\"#m996baec9d3\" y=\"128.074868\"/>\r\n     <use style=\"fill:#0000ff;stroke:#0000ff;\" x=\"1064.919436\" xlink:href=\"#m996baec9d3\" y=\"322.784266\"/>\r\n     <use style=\"fill:#0000ff;stroke:#0000ff;\" x=\"956.419613\" xlink:href=\"#m996baec9d3\" y=\"176.471064\"/>\r\n     <use style=\"fill:#0000ff;stroke:#0000ff;\" x=\"1042.403805\" xlink:href=\"#m996baec9d3\" y=\"613.559896\"/>\r\n     <use style=\"fill:#0000ff;stroke:#0000ff;\" x=\"1169.043165\" xlink:href=\"#m996baec9d3\" y=\"490.440019\"/>\r\n     <use style=\"fill:#0000ff;stroke:#0000ff;\" x=\"1313.582797\" xlink:href=\"#m996baec9d3\" y=\"474.230725\"/>\r\n     <use style=\"fill:#0000ff;stroke:#0000ff;\" x=\"885.087037\" xlink:href=\"#m996baec9d3\" y=\"92.859155\"/>\r\n     <use style=\"fill:#0000ff;stroke:#0000ff;\" x=\"1179.951732\" xlink:href=\"#m996baec9d3\" y=\"70.494834\"/>\r\n     <use style=\"fill:#0000ff;stroke:#0000ff;\" x=\"1272.592658\" xlink:href=\"#m996baec9d3\" y=\"284.97683\"/>\r\n     <use style=\"fill:#0000ff;stroke:#0000ff;\" x=\"1130.912475\" xlink:href=\"#m996baec9d3\" y=\"436.701182\"/>\r\n     <use style=\"fill:#0000ff;stroke:#0000ff;\" x=\"875.200098\" xlink:href=\"#m996baec9d3\" y=\"425.351955\"/>\r\n     <use style=\"fill:#0000ff;stroke:#0000ff;\" x=\"987.435834\" xlink:href=\"#m996baec9d3\" y=\"510.154988\"/>\r\n     <use style=\"fill:#0000ff;stroke:#0000ff;\" x=\"952.602765\" xlink:href=\"#m996baec9d3\" y=\"602.134187\"/>\r\n     <use style=\"fill:#0000ff;stroke:#0000ff;\" x=\"1218.874708\" xlink:href=\"#m996baec9d3\" y=\"659.322654\"/>\r\n     <use style=\"fill:#0000ff;stroke:#0000ff;\" x=\"1214.5747\" xlink:href=\"#m996baec9d3\" y=\"596.054277\"/>\r\n     <use style=\"fill:#0000ff;stroke:#0000ff;\" x=\"1324.143946\" xlink:href=\"#m996baec9d3\" y=\"636.079079\"/>\r\n     <use style=\"fill:#0000ff;stroke:#0000ff;\" x=\"752.160093\" xlink:href=\"#m996baec9d3\" y=\"635.146524\"/>\r\n     <use style=\"fill:#0000ff;stroke:#0000ff;\" x=\"893.325319\" xlink:href=\"#m996baec9d3\" y=\"354.478631\"/>\r\n     <use style=\"fill:#0000ff;stroke:#0000ff;\" x=\"942.022129\" xlink:href=\"#m996baec9d3\" y=\"170.073434\"/>\r\n     <use style=\"fill:#0000ff;stroke:#0000ff;\" x=\"1095.042826\" xlink:href=\"#m996baec9d3\" y=\"322.980337\"/>\r\n     <use style=\"fill:#0000ff;stroke:#0000ff;\" x=\"1074.560375\" xlink:href=\"#m996baec9d3\" y=\"497.308568\"/>\r\n     <use style=\"fill:#0000ff;stroke:#0000ff;\" x=\"791.285786\" xlink:href=\"#m996baec9d3\" y=\"158.133148\"/>\r\n     <use style=\"fill:#0000ff;stroke:#0000ff;\" x=\"816.306424\" xlink:href=\"#m996baec9d3\" y=\"254.843249\"/>\r\n     <use style=\"fill:#0000ff;stroke:#0000ff;\" x=\"990.482179\" xlink:href=\"#m996baec9d3\" y=\"612.499048\"/>\r\n     <use style=\"fill:#0000ff;stroke:#0000ff;\" x=\"916.731295\" xlink:href=\"#m996baec9d3\" y=\"131.967857\"/>\r\n     <use style=\"fill:#0000ff;stroke:#0000ff;\" x=\"975.708873\" xlink:href=\"#m996baec9d3\" y=\"199.814081\"/>\r\n     <use style=\"fill:#0000ff;stroke:#0000ff;\" x=\"1008.029342\" xlink:href=\"#m996baec9d3\" y=\"274.306896\"/>\r\n     <use style=\"fill:#0000ff;stroke:#0000ff;\" x=\"782.094313\" xlink:href=\"#m996baec9d3\" y=\"536.111003\"/>\r\n     <use style=\"fill:#0000ff;stroke:#0000ff;\" x=\"1200.455738\" xlink:href=\"#m996baec9d3\" y=\"552.730796\"/>\r\n     <use style=\"fill:#0000ff;stroke:#0000ff;\" x=\"1289.843463\" xlink:href=\"#m996baec9d3\" y=\"220.040502\"/>\r\n     <use style=\"fill:#0000ff;stroke:#0000ff;\" x=\"1240.277028\" xlink:href=\"#m996baec9d3\" y=\"614.344809\"/>\r\n     <use style=\"fill:#0000ff;stroke:#0000ff;\" x=\"1012.944568\" xlink:href=\"#m996baec9d3\" y=\"262.876279\"/>\r\n     <use style=\"fill:#0000ff;stroke:#0000ff;\" x=\"1105.608985\" xlink:href=\"#m996baec9d3\" y=\"277.132737\"/>\r\n     <use style=\"fill:#0000ff;stroke:#0000ff;\" x=\"739.177319\" xlink:href=\"#m996baec9d3\" y=\"96.89727\"/>\r\n     <use style=\"fill:#0000ff;stroke:#0000ff;\" x=\"893.544651\" xlink:href=\"#m996baec9d3\" y=\"421.76752\"/>\r\n     <use style=\"fill:#0000ff;stroke:#0000ff;\" x=\"798.206258\" xlink:href=\"#m996baec9d3\" y=\"276.99561\"/>\r\n     <use style=\"fill:#0000ff;stroke:#0000ff;\" x=\"1306.136982\" xlink:href=\"#m996baec9d3\" y=\"635.434701\"/>\r\n     <use style=\"fill:#0000ff;stroke:#0000ff;\" x=\"824.982411\" xlink:href=\"#m996baec9d3\" y=\"318.694954\"/>\r\n     <use style=\"fill:#0000ff;stroke:#0000ff;\" x=\"1203.571528\" xlink:href=\"#m996baec9d3\" y=\"129.136432\"/>\r\n     <use style=\"fill:#0000ff;stroke:#0000ff;\" x=\"794.481444\" xlink:href=\"#m996baec9d3\" y=\"528.320279\"/>\r\n     <use style=\"fill:#0000ff;stroke:#0000ff;\" x=\"1292.56292\" xlink:href=\"#m996baec9d3\" y=\"269.078846\"/>\r\n     <use style=\"fill:#0000ff;stroke:#0000ff;\" x=\"1289.169538\" xlink:href=\"#m996baec9d3\" y=\"86.79512\"/>\r\n     <use style=\"fill:#0000ff;stroke:#0000ff;\" x=\"873.352021\" xlink:href=\"#m996baec9d3\" y=\"355.259707\"/>\r\n     <use style=\"fill:#0000ff;stroke:#0000ff;\" x=\"1163.810727\" xlink:href=\"#m996baec9d3\" y=\"86.871574\"/>\r\n     <use style=\"fill:#0000ff;stroke:#0000ff;\" x=\"1215.232346\" xlink:href=\"#m996baec9d3\" y=\"478.430719\"/>\r\n     <use style=\"fill:#0000ff;stroke:#0000ff;\" x=\"1345.721778\" xlink:href=\"#m996baec9d3\" y=\"310.473311\"/>\r\n     <use style=\"fill:#0000ff;stroke:#0000ff;\" x=\"916.983689\" xlink:href=\"#m996baec9d3\" y=\"428.589663\"/>\r\n     <use style=\"fill:#0000ff;stroke:#0000ff;\" x=\"967.412767\" xlink:href=\"#m996baec9d3\" y=\"372.207545\"/>\r\n     <use style=\"fill:#0000ff;stroke:#0000ff;\" x=\"926.227707\" xlink:href=\"#m996baec9d3\" y=\"397.979722\"/>\r\n     <use style=\"fill:#0000ff;stroke:#0000ff;\" x=\"799.57055\" xlink:href=\"#m996baec9d3\" y=\"379.739283\"/>\r\n     <use style=\"fill:#0000ff;stroke:#0000ff;\" x=\"1276.542782\" xlink:href=\"#m996baec9d3\" y=\"553.402389\"/>\r\n     <use style=\"fill:#0000ff;stroke:#0000ff;\" x=\"1117.809391\" xlink:href=\"#m996baec9d3\" y=\"394.587395\"/>\r\n     <use style=\"fill:#0000ff;stroke:#0000ff;\" x=\"1326.441341\" xlink:href=\"#m996baec9d3\" y=\"438.02974\"/>\r\n     <use style=\"fill:#0000ff;stroke:#0000ff;\" x=\"1359.093271\" xlink:href=\"#m996baec9d3\" y=\"482.10429\"/>\r\n     <use style=\"fill:#0000ff;stroke:#0000ff;\" x=\"1332.3759\" xlink:href=\"#m996baec9d3\" y=\"178.425899\"/>\r\n     <use style=\"fill:#0000ff;stroke:#0000ff;\" x=\"806.211721\" xlink:href=\"#m996baec9d3\" y=\"418.388577\"/>\r\n     <use style=\"fill:#0000ff;stroke:#0000ff;\" x=\"1127.350905\" xlink:href=\"#m996baec9d3\" y=\"378.475344\"/>\r\n     <use style=\"fill:#0000ff;stroke:#0000ff;\" x=\"868.426017\" xlink:href=\"#m996baec9d3\" y=\"290.601705\"/>\r\n     <use style=\"fill:#0000ff;stroke:#0000ff;\" x=\"820.936677\" xlink:href=\"#m996baec9d3\" y=\"118.697914\"/>\r\n     <use style=\"fill:#0000ff;stroke:#0000ff;\" x=\"1375.381818\" xlink:href=\"#m996baec9d3\" y=\"298.566604\"/>\r\n     <use style=\"fill:#0000ff;stroke:#0000ff;\" x=\"998.825397\" xlink:href=\"#m996baec9d3\" y=\"69.446638\"/>\r\n     <use style=\"fill:#0000ff;stroke:#0000ff;\" x=\"1220.632666\" xlink:href=\"#m996baec9d3\" y=\"249.65411\"/>\r\n     <use style=\"fill:#0000ff;stroke:#0000ff;\" x=\"1008.534909\" xlink:href=\"#m996baec9d3\" y=\"408.860823\"/>\r\n     <use style=\"fill:#0000ff;stroke:#0000ff;\" x=\"1194.838656\" xlink:href=\"#m996baec9d3\" y=\"438.792856\"/>\r\n     <use style=\"fill:#0000ff;stroke:#0000ff;\" x=\"1157.474296\" xlink:href=\"#m996baec9d3\" y=\"315.270596\"/>\r\n     <use style=\"fill:#0000ff;stroke:#0000ff;\" x=\"1170.797025\" xlink:href=\"#m996baec9d3\" y=\"633.298248\"/>\r\n     <use style=\"fill:#0000ff;stroke:#0000ff;\" x=\"1139.605388\" xlink:href=\"#m996baec9d3\" y=\"111.421389\"/>\r\n     <use style=\"fill:#0000ff;stroke:#0000ff;\" x=\"920.279943\" xlink:href=\"#m996baec9d3\" y=\"353.712759\"/>\r\n     <use style=\"fill:#0000ff;stroke:#0000ff;\" x=\"908.349711\" xlink:href=\"#m996baec9d3\" y=\"411.73732\"/>\r\n     <use style=\"fill:#0000ff;stroke:#0000ff;\" x=\"949.880424\" xlink:href=\"#m996baec9d3\" y=\"592.838456\"/>\r\n     <use style=\"fill:#0000ff;stroke:#0000ff;\" x=\"1369.229664\" xlink:href=\"#m996baec9d3\" y=\"361.349287\"/>\r\n     <use style=\"fill:#0000ff;stroke:#0000ff;\" x=\"965.542956\" xlink:href=\"#m996baec9d3\" y=\"548.459419\"/>\r\n     <use style=\"fill:#0000ff;stroke:#0000ff;\" x=\"810.802276\" xlink:href=\"#m996baec9d3\" y=\"414.165957\"/>\r\n     <use style=\"fill:#0000ff;stroke:#0000ff;\" x=\"1036.874213\" xlink:href=\"#m996baec9d3\" y=\"631.907848\"/>\r\n     <use style=\"fill:#0000ff;stroke:#0000ff;\" x=\"1130.019891\" xlink:href=\"#m996baec9d3\" y=\"69.90374\"/>\r\n     <use style=\"fill:#0000ff;stroke:#0000ff;\" x=\"1200.905047\" xlink:href=\"#m996baec9d3\" y=\"585.235493\"/>\r\n     <use style=\"fill:#0000ff;stroke:#0000ff;\" x=\"789.69841\" xlink:href=\"#m996baec9d3\" y=\"125.941761\"/>\r\n     <use style=\"fill:#0000ff;stroke:#0000ff;\" x=\"887.730066\" xlink:href=\"#m996baec9d3\" y=\"120.072355\"/>\r\n     <use style=\"fill:#0000ff;stroke:#0000ff;\" x=\"1219.809718\" xlink:href=\"#m996baec9d3\" y=\"222.070675\"/>\r\n     <use style=\"fill:#0000ff;stroke:#0000ff;\" x=\"1358.578691\" xlink:href=\"#m996baec9d3\" y=\"504.003852\"/>\r\n     <use style=\"fill:#0000ff;stroke:#0000ff;\" x=\"1341.139852\" xlink:href=\"#m996baec9d3\" y=\"472.702349\"/>\r\n     <use style=\"fill:#0000ff;stroke:#0000ff;\" x=\"1182.422513\" xlink:href=\"#m996baec9d3\" y=\"661.578228\"/>\r\n     <use style=\"fill:#0000ff;stroke:#0000ff;\" x=\"1333.336487\" xlink:href=\"#m996baec9d3\" y=\"85.047344\"/>\r\n     <use style=\"fill:#0000ff;stroke:#0000ff;\" x=\"890.681692\" xlink:href=\"#m996baec9d3\" y=\"303.881016\"/>\r\n     <use style=\"fill:#0000ff;stroke:#0000ff;\" x=\"1276.977329\" xlink:href=\"#m996baec9d3\" y=\"429.530961\"/>\r\n     <use style=\"fill:#0000ff;stroke:#0000ff;\" x=\"1242.625881\" xlink:href=\"#m996baec9d3\" y=\"448.592469\"/>\r\n     <use style=\"fill:#0000ff;stroke:#0000ff;\" x=\"991.621219\" xlink:href=\"#m996baec9d3\" y=\"121.79228\"/>\r\n     <use style=\"fill:#0000ff;stroke:#0000ff;\" x=\"906.685845\" xlink:href=\"#m996baec9d3\" y=\"177.602812\"/>\r\n     <use style=\"fill:#0000ff;stroke:#0000ff;\" x=\"1348.786717\" xlink:href=\"#m996baec9d3\" y=\"462.064374\"/>\r\n     <use style=\"fill:#0000ff;stroke:#0000ff;\" x=\"746.922068\" xlink:href=\"#m996baec9d3\" y=\"312.45034\"/>\r\n     <use style=\"fill:#0000ff;stroke:#0000ff;\" x=\"1244.279102\" xlink:href=\"#m996baec9d3\" y=\"208.595942\"/>\r\n     <use style=\"fill:#0000ff;stroke:#0000ff;\" x=\"1165.647923\" xlink:href=\"#m996baec9d3\" y=\"170.713745\"/>\r\n     <use style=\"fill:#0000ff;stroke:#0000ff;\" x=\"956.222225\" xlink:href=\"#m996baec9d3\" y=\"148.350397\"/>\r\n     <use style=\"fill:#0000ff;stroke:#0000ff;\" x=\"790.73202\" xlink:href=\"#m996baec9d3\" y=\"386.846633\"/>\r\n     <use style=\"fill:#0000ff;stroke:#0000ff;\" x=\"1022.62245\" xlink:href=\"#m996baec9d3\" y=\"414.280638\"/>\r\n     <use style=\"fill:#0000ff;stroke:#0000ff;\" x=\"1357.510823\" xlink:href=\"#m996baec9d3\" y=\"410.593141\"/>\r\n     <use style=\"fill:#0000ff;stroke:#0000ff;\" x=\"1084.915769\" xlink:href=\"#m996baec9d3\" y=\"186.489518\"/>\r\n     <use style=\"fill:#0000ff;stroke:#0000ff;\" x=\"750.115645\" xlink:href=\"#m996baec9d3\" y=\"299.575529\"/>\r\n     <use style=\"fill:#0000ff;stroke:#0000ff;\" x=\"739.018182\" xlink:href=\"#m996baec9d3\" y=\"264.402331\"/>\r\n     <use style=\"fill:#0000ff;stroke:#0000ff;\" x=\"819.329572\" xlink:href=\"#m996baec9d3\" y=\"349.533194\"/>\r\n     <use style=\"fill:#0000ff;stroke:#0000ff;\" x=\"1057.084043\" xlink:href=\"#m996baec9d3\" y=\"367.820146\"/>\r\n     <use style=\"fill:#0000ff;stroke:#0000ff;\" x=\"1289.981026\" xlink:href=\"#m996baec9d3\" y=\"651.092825\"/>\r\n     <use style=\"fill:#0000ff;stroke:#0000ff;\" x=\"813.912526\" xlink:href=\"#m996baec9d3\" y=\"542.873041\"/>\r\n     <use style=\"fill:#0000ff;stroke:#0000ff;\" x=\"1072.893986\" xlink:href=\"#m996baec9d3\" y=\"293.869984\"/>\r\n     <use style=\"fill:#0000ff;stroke:#0000ff;\" x=\"847.590503\" xlink:href=\"#m996baec9d3\" y=\"371.95154\"/>\r\n     <use style=\"fill:#0000ff;stroke:#0000ff;\" x=\"1010.20276\" xlink:href=\"#m996baec9d3\" y=\"174.491837\"/>\r\n     <use style=\"fill:#0000ff;stroke:#0000ff;\" x=\"921.927909\" xlink:href=\"#m996baec9d3\" y=\"237.50208\"/>\r\n     <use style=\"fill:#0000ff;stroke:#0000ff;\" x=\"1289.577217\" xlink:href=\"#m996baec9d3\" y=\"390.57097\"/>\r\n     <use style=\"fill:#0000ff;stroke:#0000ff;\" x=\"898.965682\" xlink:href=\"#m996baec9d3\" y=\"364.681878\"/>\r\n     <use style=\"fill:#0000ff;stroke:#0000ff;\" x=\"1280.722113\" xlink:href=\"#m996baec9d3\" y=\"215.278814\"/>\r\n     <use style=\"fill:#0000ff;stroke:#0000ff;\" x=\"818.844421\" xlink:href=\"#m996baec9d3\" y=\"649.528277\"/>\r\n     <use style=\"fill:#0000ff;stroke:#0000ff;\" x=\"776.081818\" xlink:href=\"#m996baec9d3\" y=\"227.939396\"/>\r\n     <use style=\"fill:#0000ff;stroke:#0000ff;\" x=\"756.142142\" xlink:href=\"#m996baec9d3\" y=\"128.262076\"/>\r\n     <use style=\"fill:#0000ff;stroke:#0000ff;\" x=\"806.564641\" xlink:href=\"#m996baec9d3\" y=\"112.227794\"/>\r\n     <use style=\"fill:#0000ff;stroke:#0000ff;\" x=\"1329.554285\" xlink:href=\"#m996baec9d3\" y=\"636.639292\"/>\r\n     <use style=\"fill:#0000ff;stroke:#0000ff;\" x=\"1304.980163\" xlink:href=\"#m996baec9d3\" y=\"533.584619\"/>\r\n     <use style=\"fill:#0000ff;stroke:#0000ff;\" x=\"795.360826\" xlink:href=\"#m996baec9d3\" y=\"112.743443\"/>\r\n     <use style=\"fill:#0000ff;stroke:#0000ff;\" x=\"1080.46245\" xlink:href=\"#m996baec9d3\" y=\"382.674454\"/>\r\n     <use style=\"fill:#0000ff;stroke:#0000ff;\" x=\"1348.931831\" xlink:href=\"#m996baec9d3\" y=\"619.677632\"/>\r\n     <use style=\"fill:#0000ff;stroke:#0000ff;\" x=\"1206.221426\" xlink:href=\"#m996baec9d3\" y=\"83.528174\"/>\r\n     <use style=\"fill:#0000ff;stroke:#0000ff;\" x=\"781.245934\" xlink:href=\"#m996baec9d3\" y=\"597.553275\"/>\r\n     <use style=\"fill:#0000ff;stroke:#0000ff;\" x=\"1187.589679\" xlink:href=\"#m996baec9d3\" y=\"646.647956\"/>\r\n     <use style=\"fill:#0000ff;stroke:#0000ff;\" x=\"1357.58672\" xlink:href=\"#m996baec9d3\" y=\"278.19113\"/>\r\n     <use style=\"fill:#0000ff;stroke:#0000ff;\" x=\"907.407187\" xlink:href=\"#m996baec9d3\" y=\"502.09454\"/>\r\n     <use style=\"fill:#0000ff;stroke:#0000ff;\" x=\"951.886148\" xlink:href=\"#m996baec9d3\" y=\"361.893526\"/>\r\n     <use style=\"fill:#0000ff;stroke:#0000ff;\" x=\"1324.014656\" xlink:href=\"#m996baec9d3\" y=\"60.518499\"/>\r\n     <use style=\"fill:#0000ff;stroke:#0000ff;\" x=\"1272.111435\" xlink:href=\"#m996baec9d3\" y=\"596.971318\"/>\r\n     <use style=\"fill:#0000ff;stroke:#0000ff;\" x=\"1315.23173\" xlink:href=\"#m996baec9d3\" y=\"256.823304\"/>\r\n     <use style=\"fill:#0000ff;stroke:#0000ff;\" x=\"1319.960023\" xlink:href=\"#m996baec9d3\" y=\"499.292713\"/>\r\n     <use style=\"fill:#0000ff;stroke:#0000ff;\" x=\"1144.489573\" xlink:href=\"#m996baec9d3\" y=\"237.586461\"/>\r\n     <use style=\"fill:#0000ff;stroke:#0000ff;\" x=\"951.930813\" xlink:href=\"#m996baec9d3\" y=\"501.570603\"/>\r\n     <use style=\"fill:#0000ff;stroke:#0000ff;\" x=\"1148.198951\" xlink:href=\"#m996baec9d3\" y=\"571.474652\"/>\r\n     <use style=\"fill:#0000ff;stroke:#0000ff;\" x=\"744.874323\" xlink:href=\"#m996baec9d3\" y=\"179.282024\"/>\r\n     <use style=\"fill:#0000ff;stroke:#0000ff;\" x=\"1120.389805\" xlink:href=\"#m996baec9d3\" y=\"420.050261\"/>\r\n     <use style=\"fill:#0000ff;stroke:#0000ff;\" x=\"1269.539331\" xlink:href=\"#m996baec9d3\" y=\"657.189639\"/>\r\n     <use style=\"fill:#0000ff;stroke:#0000ff;\" x=\"1267.327282\" xlink:href=\"#m996baec9d3\" y=\"508.196982\"/>\r\n     <use style=\"fill:#0000ff;stroke:#0000ff;\" x=\"754.15235\" xlink:href=\"#m996baec9d3\" y=\"447.833226\"/>\r\n     <use style=\"fill:#0000ff;stroke:#0000ff;\" x=\"1052.943495\" xlink:href=\"#m996baec9d3\" y=\"380.81969\"/>\r\n     <use style=\"fill:#0000ff;stroke:#0000ff;\" x=\"1228.71332\" xlink:href=\"#m996baec9d3\" y=\"375.857553\"/>\r\n     <use style=\"fill:#0000ff;stroke:#0000ff;\" x=\"1163.089784\" xlink:href=\"#m996baec9d3\" y=\"327.301388\"/>\r\n     <use style=\"fill:#0000ff;stroke:#0000ff;\" x=\"789.699207\" xlink:href=\"#m996baec9d3\" y=\"465.821767\"/>\r\n     <use style=\"fill:#0000ff;stroke:#0000ff;\" x=\"759.188712\" xlink:href=\"#m996baec9d3\" y=\"457.229276\"/>\r\n     <use style=\"fill:#0000ff;stroke:#0000ff;\" x=\"995.816451\" xlink:href=\"#m996baec9d3\" y=\"376.683288\"/>\r\n     <use style=\"fill:#0000ff;stroke:#0000ff;\" x=\"1118.494511\" xlink:href=\"#m996baec9d3\" y=\"206.579424\"/>\r\n     <use style=\"fill:#0000ff;stroke:#0000ff;\" x=\"1229.412215\" xlink:href=\"#m996baec9d3\" y=\"274.057574\"/>\r\n     <use style=\"fill:#0000ff;stroke:#0000ff;\" x=\"1111.657502\" xlink:href=\"#m996baec9d3\" y=\"380.327225\"/>\r\n     <use style=\"fill:#0000ff;stroke:#0000ff;\" x=\"1186.381896\" xlink:href=\"#m996baec9d3\" y=\"590.741896\"/>\r\n     <use style=\"fill:#0000ff;stroke:#0000ff;\" x=\"969.720845\" xlink:href=\"#m996baec9d3\" y=\"75.210694\"/>\r\n     <use style=\"fill:#0000ff;stroke:#0000ff;\" x=\"1160.229083\" xlink:href=\"#m996baec9d3\" y=\"193.59231\"/>\r\n     <use style=\"fill:#0000ff;stroke:#0000ff;\" x=\"1352.984757\" xlink:href=\"#m996baec9d3\" y=\"416.653268\"/>\r\n     <use style=\"fill:#0000ff;stroke:#0000ff;\" x=\"763.506162\" xlink:href=\"#m996baec9d3\" y=\"661.203754\"/>\r\n     <use style=\"fill:#0000ff;stroke:#0000ff;\" x=\"989.765676\" xlink:href=\"#m996baec9d3\" y=\"354.884283\"/>\r\n     <use style=\"fill:#0000ff;stroke:#0000ff;\" x=\"879.350114\" xlink:href=\"#m996baec9d3\" y=\"312.476534\"/>\r\n     <use style=\"fill:#0000ff;stroke:#0000ff;\" x=\"1162.15485\" xlink:href=\"#m996baec9d3\" y=\"436.156025\"/>\r\n     <use style=\"fill:#0000ff;stroke:#0000ff;\" x=\"1327.564348\" xlink:href=\"#m996baec9d3\" y=\"556.308151\"/>\r\n     <use style=\"fill:#0000ff;stroke:#0000ff;\" x=\"1206.959673\" xlink:href=\"#m996baec9d3\" y=\"309.390887\"/>\r\n     <use style=\"fill:#0000ff;stroke:#0000ff;\" x=\"821.201822\" xlink:href=\"#m996baec9d3\" y=\"290.649336\"/>\r\n     <use style=\"fill:#0000ff;stroke:#0000ff;\" x=\"799.279846\" xlink:href=\"#m996baec9d3\" y=\"566.313823\"/>\r\n     <use style=\"fill:#0000ff;stroke:#0000ff;\" x=\"1026.87229\" xlink:href=\"#m996baec9d3\" y=\"139.474356\"/>\r\n     <use style=\"fill:#0000ff;stroke:#0000ff;\" x=\"1302.599282\" xlink:href=\"#m996baec9d3\" y=\"584.392014\"/>\r\n     <use style=\"fill:#0000ff;stroke:#0000ff;\" x=\"1114.049389\" xlink:href=\"#m996baec9d3\" y=\"280.603248\"/>\r\n     <use style=\"fill:#0000ff;stroke:#0000ff;\" x=\"974.456955\" xlink:href=\"#m996baec9d3\" y=\"205.467708\"/>\r\n     <use style=\"fill:#0000ff;stroke:#0000ff;\" x=\"1011.783651\" xlink:href=\"#m996baec9d3\" y=\"476.147856\"/>\r\n     <use style=\"fill:#0000ff;stroke:#0000ff;\" x=\"1018.863093\" xlink:href=\"#m996baec9d3\" y=\"285.761762\"/>\r\n     <use style=\"fill:#0000ff;stroke:#0000ff;\" x=\"1195.135222\" xlink:href=\"#m996baec9d3\" y=\"326.299957\"/>\r\n     <use style=\"fill:#0000ff;stroke:#0000ff;\" x=\"805.967267\" xlink:href=\"#m996baec9d3\" y=\"651.170796\"/>\r\n     <use style=\"fill:#0000ff;stroke:#0000ff;\" x=\"1305.084332\" xlink:href=\"#m996baec9d3\" y=\"593.561616\"/>\r\n     <use style=\"fill:#0000ff;stroke:#0000ff;\" x=\"919.037778\" xlink:href=\"#m996baec9d3\" y=\"469.351942\"/>\r\n     <use style=\"fill:#0000ff;stroke:#0000ff;\" x=\"815.218661\" xlink:href=\"#m996baec9d3\" y=\"431.631318\"/>\r\n     <use style=\"fill:#0000ff;stroke:#0000ff;\" x=\"1339.194048\" xlink:href=\"#m996baec9d3\" y=\"578.922568\"/>\r\n     <use style=\"fill:#0000ff;stroke:#0000ff;\" x=\"1104.406932\" xlink:href=\"#m996baec9d3\" y=\"62.622207\"/>\r\n     <use style=\"fill:#0000ff;stroke:#0000ff;\" x=\"875.762208\" xlink:href=\"#m996baec9d3\" y=\"585.893611\"/>\r\n     <use style=\"fill:#0000ff;stroke:#0000ff;\" x=\"982.41217\" xlink:href=\"#m996baec9d3\" y=\"76.137725\"/>\r\n     <use style=\"fill:#0000ff;stroke:#0000ff;\" x=\"1286.880529\" xlink:href=\"#m996baec9d3\" y=\"526.242431\"/>\r\n     <use style=\"fill:#0000ff;stroke:#0000ff;\" x=\"859.020158\" xlink:href=\"#m996baec9d3\" y=\"249.642149\"/>\r\n     <use style=\"fill:#0000ff;stroke:#0000ff;\" x=\"861.030019\" xlink:href=\"#m996baec9d3\" y=\"72.24978\"/>\r\n     <use style=\"fill:#0000ff;stroke:#0000ff;\" x=\"1374.115556\" xlink:href=\"#m996baec9d3\" y=\"180.807536\"/>\r\n     <use style=\"fill:#0000ff;stroke:#0000ff;\" x=\"1288.916156\" xlink:href=\"#m996baec9d3\" y=\"442.473435\"/>\r\n     <use style=\"fill:#0000ff;stroke:#0000ff;\" x=\"1252.411176\" xlink:href=\"#m996baec9d3\" y=\"252.913238\"/>\r\n     <use style=\"fill:#0000ff;stroke:#0000ff;\" x=\"1161.145764\" xlink:href=\"#m996baec9d3\" y=\"323.27873\"/>\r\n     <use style=\"fill:#0000ff;stroke:#0000ff;\" x=\"900.264371\" xlink:href=\"#m996baec9d3\" y=\"206.258729\"/>\r\n     <use style=\"fill:#0000ff;stroke:#0000ff;\" x=\"1366.075508\" xlink:href=\"#m996baec9d3\" y=\"486.749622\"/>\r\n     <use style=\"fill:#0000ff;stroke:#0000ff;\" x=\"748.87539\" xlink:href=\"#m996baec9d3\" y=\"522.936276\"/>\r\n     <use style=\"fill:#0000ff;stroke:#0000ff;\" x=\"805.762479\" xlink:href=\"#m996baec9d3\" y=\"450.21652\"/>\r\n     <use style=\"fill:#0000ff;stroke:#0000ff;\" x=\"1339.530688\" xlink:href=\"#m996baec9d3\" y=\"256.451736\"/>\r\n     <use style=\"fill:#0000ff;stroke:#0000ff;\" x=\"1179.784493\" xlink:href=\"#m996baec9d3\" y=\"439.758654\"/>\r\n     <use style=\"fill:#0000ff;stroke:#0000ff;\" x=\"1141.428163\" xlink:href=\"#m996baec9d3\" y=\"397.939874\"/>\r\n     <use style=\"fill:#0000ff;stroke:#0000ff;\" x=\"1114.153026\" xlink:href=\"#m996baec9d3\" y=\"350.900501\"/>\r\n     <use style=\"fill:#0000ff;stroke:#0000ff;\" x=\"1048.075059\" xlink:href=\"#m996baec9d3\" y=\"533.715288\"/>\r\n     <use style=\"fill:#0000ff;stroke:#0000ff;\" x=\"1271.419408\" xlink:href=\"#m996baec9d3\" y=\"287.724739\"/>\r\n     <use style=\"fill:#0000ff;stroke:#0000ff;\" x=\"1169.112079\" xlink:href=\"#m996baec9d3\" y=\"474.648682\"/>\r\n     <use style=\"fill:#0000ff;stroke:#0000ff;\" x=\"1044.443664\" xlink:href=\"#m996baec9d3\" y=\"580.44717\"/>\r\n     <use style=\"fill:#0000ff;stroke:#0000ff;\" x=\"885.882284\" xlink:href=\"#m996baec9d3\" y=\"483.371004\"/>\r\n     <use style=\"fill:#0000ff;stroke:#0000ff;\" x=\"1258.318145\" xlink:href=\"#m996baec9d3\" y=\"462.453237\"/>\r\n     <use style=\"fill:#0000ff;stroke:#0000ff;\" x=\"1279.147407\" xlink:href=\"#m996baec9d3\" y=\"551.959087\"/>\r\n     <use style=\"fill:#0000ff;stroke:#0000ff;\" x=\"1124.106736\" xlink:href=\"#m996baec9d3\" y=\"321.600095\"/>\r\n     <use style=\"fill:#0000ff;stroke:#0000ff;\" x=\"835.128225\" xlink:href=\"#m996baec9d3\" y=\"96.048674\"/>\r\n     <use style=\"fill:#0000ff;stroke:#0000ff;\" x=\"1096.677263\" xlink:href=\"#m996baec9d3\" y=\"534.387881\"/>\r\n     <use style=\"fill:#0000ff;stroke:#0000ff;\" x=\"1047.983318\" xlink:href=\"#m996baec9d3\" y=\"468.945605\"/>\r\n     <use style=\"fill:#0000ff;stroke:#0000ff;\" x=\"768.413232\" xlink:href=\"#m996baec9d3\" y=\"287.730252\"/>\r\n     <use style=\"fill:#0000ff;stroke:#0000ff;\" x=\"882.106438\" xlink:href=\"#m996baec9d3\" y=\"316.213552\"/>\r\n     <use style=\"fill:#0000ff;stroke:#0000ff;\" x=\"1063.59185\" xlink:href=\"#m996baec9d3\" y=\"661.596873\"/>\r\n     <use style=\"fill:#0000ff;stroke:#0000ff;\" x=\"1101.459557\" xlink:href=\"#m996baec9d3\" y=\"317.689488\"/>\r\n     <use style=\"fill:#0000ff;stroke:#0000ff;\" x=\"1353.813132\" xlink:href=\"#m996baec9d3\" y=\"243.534626\"/>\r\n     <use style=\"fill:#0000ff;stroke:#0000ff;\" x=\"1351.659296\" xlink:href=\"#m996baec9d3\" y=\"577.857185\"/>\r\n     <use style=\"fill:#0000ff;stroke:#0000ff;\" x=\"1048.752437\" xlink:href=\"#m996baec9d3\" y=\"272.205747\"/>\r\n     <use style=\"fill:#0000ff;stroke:#0000ff;\" x=\"1177.900432\" xlink:href=\"#m996baec9d3\" y=\"601.322405\"/>\r\n     <use style=\"fill:#0000ff;stroke:#0000ff;\" x=\"1156.320741\" xlink:href=\"#m996baec9d3\" y=\"349.756286\"/>\r\n     <use style=\"fill:#0000ff;stroke:#0000ff;\" x=\"1076.424438\" xlink:href=\"#m996baec9d3\" y=\"625.80441\"/>\r\n     <use style=\"fill:#0000ff;stroke:#0000ff;\" x=\"1206.177823\" xlink:href=\"#m996baec9d3\" y=\"201.39515\"/>\r\n     <use style=\"fill:#0000ff;stroke:#0000ff;\" x=\"1064.255112\" xlink:href=\"#m996baec9d3\" y=\"632.777477\"/>\r\n     <use style=\"fill:#0000ff;stroke:#0000ff;\" x=\"1294.357234\" xlink:href=\"#m996baec9d3\" y=\"191.715082\"/>\r\n     <use style=\"fill:#0000ff;stroke:#0000ff;\" x=\"1341.332478\" xlink:href=\"#m996baec9d3\" y=\"123.851167\"/>\r\n     <use style=\"fill:#0000ff;stroke:#0000ff;\" x=\"1219.599749\" xlink:href=\"#m996baec9d3\" y=\"341.902213\"/>\r\n     <use style=\"fill:#0000ff;stroke:#0000ff;\" x=\"1231.44993\" xlink:href=\"#m996baec9d3\" y=\"493.544617\"/>\r\n     <use style=\"fill:#0000ff;stroke:#0000ff;\" x=\"1129.556276\" xlink:href=\"#m996baec9d3\" y=\"150.823728\"/>\r\n     <use style=\"fill:#0000ff;stroke:#0000ff;\" x=\"876.654024\" xlink:href=\"#m996baec9d3\" y=\"597.470624\"/>\r\n     <use style=\"fill:#0000ff;stroke:#0000ff;\" x=\"932.946374\" xlink:href=\"#m996baec9d3\" y=\"279.978394\"/>\r\n     <use style=\"fill:#0000ff;stroke:#0000ff;\" x=\"887.511873\" xlink:href=\"#m996baec9d3\" y=\"88.281648\"/>\r\n     <use style=\"fill:#0000ff;stroke:#0000ff;\" x=\"1111.609194\" xlink:href=\"#m996baec9d3\" y=\"233.556417\"/>\r\n     <use style=\"fill:#0000ff;stroke:#0000ff;\" x=\"1324.290579\" xlink:href=\"#m996baec9d3\" y=\"98.696999\"/>\r\n     <use style=\"fill:#0000ff;stroke:#0000ff;\" x=\"754.385617\" xlink:href=\"#m996baec9d3\" y=\"201.260437\"/>\r\n     <use style=\"fill:#0000ff;stroke:#0000ff;\" x=\"962.075175\" xlink:href=\"#m996baec9d3\" y=\"286.182114\"/>\r\n     <use style=\"fill:#0000ff;stroke:#0000ff;\" x=\"871.228268\" xlink:href=\"#m996baec9d3\" y=\"496.925433\"/>\r\n     <use style=\"fill:#0000ff;stroke:#0000ff;\" x=\"836.863007\" xlink:href=\"#m996baec9d3\" y=\"461.812602\"/>\r\n     <use style=\"fill:#0000ff;stroke:#0000ff;\" x=\"995.195729\" xlink:href=\"#m996baec9d3\" y=\"584.976975\"/>\r\n     <use style=\"fill:#0000ff;stroke:#0000ff;\" x=\"956.519247\" xlink:href=\"#m996baec9d3\" y=\"597.778975\"/>\r\n     <use style=\"fill:#0000ff;stroke:#0000ff;\" x=\"880.143273\" xlink:href=\"#m996baec9d3\" y=\"174.630117\"/>\r\n     <use style=\"fill:#0000ff;stroke:#0000ff;\" x=\"1149.624331\" xlink:href=\"#m996baec9d3\" y=\"155.267819\"/>\r\n     <use style=\"fill:#0000ff;stroke:#0000ff;\" x=\"1203.76366\" xlink:href=\"#m996baec9d3\" y=\"242.567531\"/>\r\n     <use style=\"fill:#0000ff;stroke:#0000ff;\" x=\"1298.66411\" xlink:href=\"#m996baec9d3\" y=\"280.579072\"/>\r\n     <use style=\"fill:#0000ff;stroke:#0000ff;\" x=\"883.037606\" xlink:href=\"#m996baec9d3\" y=\"171.165155\"/>\r\n     <use style=\"fill:#0000ff;stroke:#0000ff;\" x=\"814.077658\" xlink:href=\"#m996baec9d3\" y=\"526.622746\"/>\r\n     <use style=\"fill:#0000ff;stroke:#0000ff;\" x=\"1251.116415\" xlink:href=\"#m996baec9d3\" y=\"128.133668\"/>\r\n     <use style=\"fill:#0000ff;stroke:#0000ff;\" x=\"845.342877\" xlink:href=\"#m996baec9d3\" y=\"543.406336\"/>\r\n     <use style=\"fill:#0000ff;stroke:#0000ff;\" x=\"755.687422\" xlink:href=\"#m996baec9d3\" y=\"479.094953\"/>\r\n     <use style=\"fill:#0000ff;stroke:#0000ff;\" x=\"1255.013676\" xlink:href=\"#m996baec9d3\" y=\"425.481786\"/>\r\n     <use style=\"fill:#0000ff;stroke:#0000ff;\" x=\"1211.359789\" xlink:href=\"#m996baec9d3\" y=\"237.373348\"/>\r\n     <use style=\"fill:#0000ff;stroke:#0000ff;\" x=\"1161.0282\" xlink:href=\"#m996baec9d3\" y=\"544.172271\"/>\r\n     <use style=\"fill:#0000ff;stroke:#0000ff;\" x=\"1362.095861\" xlink:href=\"#m996baec9d3\" y=\"642.157213\"/>\r\n     <use style=\"fill:#0000ff;stroke:#0000ff;\" x=\"1074.820549\" xlink:href=\"#m996baec9d3\" y=\"239.472552\"/>\r\n     <use style=\"fill:#0000ff;stroke:#0000ff;\" x=\"903.49245\" xlink:href=\"#m996baec9d3\" y=\"80.549354\"/>\r\n     <use style=\"fill:#0000ff;stroke:#0000ff;\" x=\"1104.892216\" xlink:href=\"#m996baec9d3\" y=\"524.402493\"/>\r\n     <use style=\"fill:#0000ff;stroke:#0000ff;\" x=\"1018.128128\" xlink:href=\"#m996baec9d3\" y=\"427.086633\"/>\r\n     <use style=\"fill:#0000ff;stroke:#0000ff;\" x=\"1232.309764\" xlink:href=\"#m996baec9d3\" y=\"278.711572\"/>\r\n     <use style=\"fill:#0000ff;stroke:#0000ff;\" x=\"1023.773577\" xlink:href=\"#m996baec9d3\" y=\"259.535221\"/>\r\n     <use style=\"fill:#0000ff;stroke:#0000ff;\" x=\"1101.843746\" xlink:href=\"#m996baec9d3\" y=\"499.628811\"/>\r\n     <use style=\"fill:#0000ff;stroke:#0000ff;\" x=\"945.603887\" xlink:href=\"#m996baec9d3\" y=\"227.414054\"/>\r\n     <use style=\"fill:#0000ff;stroke:#0000ff;\" x=\"1100.319398\" xlink:href=\"#m996baec9d3\" y=\"521.792017\"/>\r\n     <use style=\"fill:#0000ff;stroke:#0000ff;\" x=\"1106.971788\" xlink:href=\"#m996baec9d3\" y=\"91.78617\"/>\r\n     <use style=\"fill:#0000ff;stroke:#0000ff;\" x=\"1144.011157\" xlink:href=\"#m996baec9d3\" y=\"488.884477\"/>\r\n     <use style=\"fill:#0000ff;stroke:#0000ff;\" x=\"1066.935027\" xlink:href=\"#m996baec9d3\" y=\"558.292602\"/>\r\n     <use style=\"fill:#0000ff;stroke:#0000ff;\" x=\"993.883796\" xlink:href=\"#m996baec9d3\" y=\"651.576804\"/>\r\n     <use style=\"fill:#0000ff;stroke:#0000ff;\" x=\"1045.343723\" xlink:href=\"#m996baec9d3\" y=\"524.278426\"/>\r\n     <use style=\"fill:#0000ff;stroke:#0000ff;\" x=\"1333.055631\" xlink:href=\"#m996baec9d3\" y=\"634.271574\"/>\r\n     <use style=\"fill:#0000ff;stroke:#0000ff;\" x=\"842.797357\" xlink:href=\"#m996baec9d3\" y=\"299.266795\"/>\r\n     <use style=\"fill:#0000ff;stroke:#0000ff;\" x=\"1080.176357\" xlink:href=\"#m996baec9d3\" y=\"148.770641\"/>\r\n     <use style=\"fill:#0000ff;stroke:#0000ff;\" x=\"845.555322\" xlink:href=\"#m996baec9d3\" y=\"98.269405\"/>\r\n     <use style=\"fill:#0000ff;stroke:#0000ff;\" x=\"786.894067\" xlink:href=\"#m996baec9d3\" y=\"190.619002\"/>\r\n     <use style=\"fill:#0000ff;stroke:#0000ff;\" x=\"935.226768\" xlink:href=\"#m996baec9d3\" y=\"550.923248\"/>\r\n     <use style=\"fill:#0000ff;stroke:#0000ff;\" x=\"1339.571824\" xlink:href=\"#m996baec9d3\" y=\"529.826299\"/>\r\n     <use style=\"fill:#0000ff;stroke:#0000ff;\" x=\"1191.751327\" xlink:href=\"#m996baec9d3\" y=\"585.474303\"/>\r\n     <use style=\"fill:#0000ff;stroke:#0000ff;\" x=\"898.172978\" xlink:href=\"#m996baec9d3\" y=\"240.865981\"/>\r\n     <use style=\"fill:#0000ff;stroke:#0000ff;\" x=\"873.815665\" xlink:href=\"#m996baec9d3\" y=\"342.080125\"/>\r\n     <use style=\"fill:#0000ff;stroke:#0000ff;\" x=\"1016.701876\" xlink:href=\"#m996baec9d3\" y=\"81.744514\"/>\r\n     <use style=\"fill:#0000ff;stroke:#0000ff;\" x=\"880.378885\" xlink:href=\"#m996baec9d3\" y=\"257.092551\"/>\r\n     <use style=\"fill:#0000ff;stroke:#0000ff;\" x=\"1003.77011\" xlink:href=\"#m996baec9d3\" y=\"375.874145\"/>\r\n     <use style=\"fill:#0000ff;stroke:#0000ff;\" x=\"1184.664048\" xlink:href=\"#m996baec9d3\" y=\"573.642195\"/>\r\n     <use style=\"fill:#0000ff;stroke:#0000ff;\" x=\"988.948571\" xlink:href=\"#m996baec9d3\" y=\"140.967478\"/>\r\n     <use style=\"fill:#0000ff;stroke:#0000ff;\" x=\"1228.535304\" xlink:href=\"#m996baec9d3\" y=\"414.25866\"/>\r\n     <use style=\"fill:#0000ff;stroke:#0000ff;\" x=\"1052.467413\" xlink:href=\"#m996baec9d3\" y=\"352.836709\"/>\r\n     <use style=\"fill:#0000ff;stroke:#0000ff;\" x=\"1358.193476\" xlink:href=\"#m996baec9d3\" y=\"610.733677\"/>\r\n     <use style=\"fill:#0000ff;stroke:#0000ff;\" x=\"813.190738\" xlink:href=\"#m996baec9d3\" y=\"524.041417\"/>\r\n     <use style=\"fill:#0000ff;stroke:#0000ff;\" x=\"798.44853\" xlink:href=\"#m996baec9d3\" y=\"224.073825\"/>\r\n     <use style=\"fill:#0000ff;stroke:#0000ff;\" x=\"1345.449194\" xlink:href=\"#m996baec9d3\" y=\"453.6835\"/>\r\n     <use style=\"fill:#0000ff;stroke:#0000ff;\" x=\"911.161743\" xlink:href=\"#m996baec9d3\" y=\"594.742598\"/>\r\n     <use style=\"fill:#0000ff;stroke:#0000ff;\" x=\"819.811355\" xlink:href=\"#m996baec9d3\" y=\"85.130536\"/>\r\n     <use style=\"fill:#0000ff;stroke:#0000ff;\" x=\"1060.62015\" xlink:href=\"#m996baec9d3\" y=\"605.606797\"/>\r\n     <use style=\"fill:#0000ff;stroke:#0000ff;\" x=\"1099.087214\" xlink:href=\"#m996baec9d3\" y=\"633.909922\"/>\r\n     <use style=\"fill:#0000ff;stroke:#0000ff;\" x=\"1109.577855\" xlink:href=\"#m996baec9d3\" y=\"97.408848\"/>\r\n     <use style=\"fill:#0000ff;stroke:#0000ff;\" x=\"1280.778429\" xlink:href=\"#m996baec9d3\" y=\"83.76521\"/>\r\n     <use style=\"fill:#0000ff;stroke:#0000ff;\" x=\"989.771956\" xlink:href=\"#m996baec9d3\" y=\"113.876669\"/>\r\n     <use style=\"fill:#0000ff;stroke:#0000ff;\" x=\"936.891185\" xlink:href=\"#m996baec9d3\" y=\"623.72552\"/>\r\n     <use style=\"fill:#0000ff;stroke:#0000ff;\" x=\"1175.065763\" xlink:href=\"#m996baec9d3\" y=\"637.831412\"/>\r\n     <use style=\"fill:#0000ff;stroke:#0000ff;\" x=\"787.944009\" xlink:href=\"#m996baec9d3\" y=\"272.554905\"/>\r\n     <use style=\"fill:#0000ff;stroke:#0000ff;\" x=\"859.349019\" xlink:href=\"#m996baec9d3\" y=\"478.520503\"/>\r\n     <use style=\"fill:#0000ff;stroke:#0000ff;\" x=\"1123.932705\" xlink:href=\"#m996baec9d3\" y=\"458.426381\"/>\r\n     <use style=\"fill:#0000ff;stroke:#0000ff;\" x=\"864.242644\" xlink:href=\"#m996baec9d3\" y=\"624.2031\"/>\r\n     <use style=\"fill:#0000ff;stroke:#0000ff;\" x=\"1127.821997\" xlink:href=\"#m996baec9d3\" y=\"610.763851\"/>\r\n     <use style=\"fill:#0000ff;stroke:#0000ff;\" x=\"1142.430379\" xlink:href=\"#m996baec9d3\" y=\"465.950175\"/>\r\n     <use style=\"fill:#0000ff;stroke:#0000ff;\" x=\"1118.379376\" xlink:href=\"#m996baec9d3\" y=\"647.701851\"/>\r\n     <use style=\"fill:#0000ff;stroke:#0000ff;\" x=\"1250.735565\" xlink:href=\"#m996baec9d3\" y=\"244.98671\"/>\r\n     <use style=\"fill:#0000ff;stroke:#0000ff;\" x=\"911.005433\" xlink:href=\"#m996baec9d3\" y=\"140.457701\"/>\r\n     <use style=\"fill:#0000ff;stroke:#0000ff;\" x=\"844.279364\" xlink:href=\"#m996baec9d3\" y=\"101.119277\"/>\r\n     <use style=\"fill:#0000ff;stroke:#0000ff;\" x=\"807.313501\" xlink:href=\"#m996baec9d3\" y=\"654.618882\"/>\r\n     <use style=\"fill:#0000ff;stroke:#0000ff;\" x=\"1148.31329\" xlink:href=\"#m996baec9d3\" y=\"502.736003\"/>\r\n     <use style=\"fill:#0000ff;stroke:#0000ff;\" x=\"1205.185852\" xlink:href=\"#m996baec9d3\" y=\"485.504255\"/>\r\n     <use style=\"fill:#0000ff;stroke:#0000ff;\" x=\"1368.219933\" xlink:href=\"#m996baec9d3\" y=\"457.564797\"/>\r\n     <use style=\"fill:#0000ff;stroke:#0000ff;\" x=\"1054.036731\" xlink:href=\"#m996baec9d3\" y=\"292.408172\"/>\r\n     <use style=\"fill:#0000ff;stroke:#0000ff;\" x=\"879.174413\" xlink:href=\"#m996baec9d3\" y=\"239.664588\"/>\r\n     <use style=\"fill:#0000ff;stroke:#0000ff;\" x=\"943.320571\" xlink:href=\"#m996baec9d3\" y=\"78.580863\"/>\r\n     <use style=\"fill:#0000ff;stroke:#0000ff;\" x=\"965.630901\" xlink:href=\"#m996baec9d3\" y=\"85.251522\"/>\r\n     <use style=\"fill:#0000ff;stroke:#0000ff;\" x=\"806.306127\" xlink:href=\"#m996baec9d3\" y=\"133.759804\"/>\r\n     <use style=\"fill:#0000ff;stroke:#0000ff;\" x=\"1243.893167\" xlink:href=\"#m996baec9d3\" y=\"625.079496\"/>\r\n     <use style=\"fill:#0000ff;stroke:#0000ff;\" x=\"1010.875736\" xlink:href=\"#m996baec9d3\" y=\"145.297969\"/>\r\n     <use style=\"fill:#0000ff;stroke:#0000ff;\" x=\"1143.312034\" xlink:href=\"#m996baec9d3\" y=\"344.632144\"/>\r\n     <use style=\"fill:#0000ff;stroke:#0000ff;\" x=\"801.106729\" xlink:href=\"#m996baec9d3\" y=\"196.297705\"/>\r\n     <use style=\"fill:#0000ff;stroke:#0000ff;\" x=\"969.407202\" xlink:href=\"#m996baec9d3\" y=\"361.034374\"/>\r\n     <use style=\"fill:#0000ff;stroke:#0000ff;\" x=\"858.589226\" xlink:href=\"#m996baec9d3\" y=\"385.45434\"/>\r\n     <use style=\"fill:#0000ff;stroke:#0000ff;\" x=\"754.326247\" xlink:href=\"#m996baec9d3\" y=\"413.842883\"/>\r\n     <use style=\"fill:#0000ff;stroke:#0000ff;\" x=\"762.770845\" xlink:href=\"#m996baec9d3\" y=\"119.533791\"/>\r\n     <use style=\"fill:#0000ff;stroke:#0000ff;\" x=\"1310.100653\" xlink:href=\"#m996baec9d3\" y=\"478.657504\"/>\r\n     <use style=\"fill:#0000ff;stroke:#0000ff;\" x=\"1219.836358\" xlink:href=\"#m996baec9d3\" y=\"548.491089\"/>\r\n     <use style=\"fill:#0000ff;stroke:#0000ff;\" x=\"1007.908913\" xlink:href=\"#m996baec9d3\" y=\"271.017144\"/>\r\n     <use style=\"fill:#0000ff;stroke:#0000ff;\" x=\"1079.382021\" xlink:href=\"#m996baec9d3\" y=\"620.589761\"/>\r\n     <use style=\"fill:#0000ff;stroke:#0000ff;\" x=\"1280.93747\" xlink:href=\"#m996baec9d3\" y=\"413.20133\"/>\r\n     <use style=\"fill:#0000ff;stroke:#0000ff;\" x=\"790.705508\" xlink:href=\"#m996baec9d3\" y=\"577.636444\"/>\r\n     <use style=\"fill:#0000ff;stroke:#0000ff;\" x=\"1071.665407\" xlink:href=\"#m996baec9d3\" y=\"278.217467\"/>\r\n     <use style=\"fill:#0000ff;stroke:#0000ff;\" x=\"872.592806\" xlink:href=\"#m996baec9d3\" y=\"287.581415\"/>\r\n     <use style=\"fill:#0000ff;stroke:#0000ff;\" x=\"1023.302846\" xlink:href=\"#m996baec9d3\" y=\"505.454873\"/>\r\n     <use style=\"fill:#0000ff;stroke:#0000ff;\" x=\"860.793686\" xlink:href=\"#m996baec9d3\" y=\"506.893176\"/>\r\n     <use style=\"fill:#0000ff;stroke:#0000ff;\" x=\"1352.248444\" xlink:href=\"#m996baec9d3\" y=\"396.77424\"/>\r\n     <use style=\"fill:#0000ff;stroke:#0000ff;\" x=\"1115.579885\" xlink:href=\"#m996baec9d3\" y=\"649.416814\"/>\r\n     <use style=\"fill:#0000ff;stroke:#0000ff;\" x=\"808.799341\" xlink:href=\"#m996baec9d3\" y=\"639.888327\"/>\r\n     <use style=\"fill:#0000ff;stroke:#0000ff;\" x=\"1268.630847\" xlink:href=\"#m996baec9d3\" y=\"140.387372\"/>\r\n     <use style=\"fill:#0000ff;stroke:#0000ff;\" x=\"1143.814395\" xlink:href=\"#m996baec9d3\" y=\"178.143358\"/>\r\n     <use style=\"fill:#0000ff;stroke:#0000ff;\" x=\"935.821249\" xlink:href=\"#m996baec9d3\" y=\"382.531725\"/>\r\n     <use style=\"fill:#0000ff;stroke:#0000ff;\" x=\"1079.563035\" xlink:href=\"#m996baec9d3\" y=\"638.947896\"/>\r\n     <use style=\"fill:#0000ff;stroke:#0000ff;\" x=\"1297.282789\" xlink:href=\"#m996baec9d3\" y=\"403.690437\"/>\r\n     <use style=\"fill:#0000ff;stroke:#0000ff;\" x=\"1055.201082\" xlink:href=\"#m996baec9d3\" y=\"132.702456\"/>\r\n     <use style=\"fill:#0000ff;stroke:#0000ff;\" x=\"1374.720226\" xlink:href=\"#m996baec9d3\" y=\"540.069313\"/>\r\n     <use style=\"fill:#0000ff;stroke:#0000ff;\" x=\"1245.812597\" xlink:href=\"#m996baec9d3\" y=\"240.238388\"/>\r\n     <use style=\"fill:#0000ff;stroke:#0000ff;\" x=\"753.087361\" xlink:href=\"#m996baec9d3\" y=\"591.591995\"/>\r\n     <use style=\"fill:#0000ff;stroke:#0000ff;\" x=\"831.808159\" xlink:href=\"#m996baec9d3\" y=\"203.545191\"/>\r\n     <use style=\"fill:#0000ff;stroke:#0000ff;\" x=\"1299.506488\" xlink:href=\"#m996baec9d3\" y=\"630.598018\"/>\r\n     <use style=\"fill:#0000ff;stroke:#0000ff;\" x=\"1333.246322\" xlink:href=\"#m996baec9d3\" y=\"577.191312\"/>\r\n     <use style=\"fill:#0000ff;stroke:#0000ff;\" x=\"975.189701\" xlink:href=\"#m996baec9d3\" y=\"564.267204\"/>\r\n     <use style=\"fill:#0000ff;stroke:#0000ff;\" x=\"950.687491\" xlink:href=\"#m996baec9d3\" y=\"140.848329\"/>\r\n     <use style=\"fill:#0000ff;stroke:#0000ff;\" x=\"1179.625945\" xlink:href=\"#m996baec9d3\" y=\"317.679399\"/>\r\n     <use style=\"fill:#0000ff;stroke:#0000ff;\" x=\"801.856001\" xlink:href=\"#m996baec9d3\" y=\"619.973139\"/>\r\n     <use style=\"fill:#0000ff;stroke:#0000ff;\" x=\"1219.464767\" xlink:href=\"#m996baec9d3\" y=\"362.702111\"/>\r\n     <use style=\"fill:#0000ff;stroke:#0000ff;\" x=\"1266.440011\" xlink:href=\"#m996baec9d3\" y=\"153.442113\"/>\r\n     <use style=\"fill:#0000ff;stroke:#0000ff;\" x=\"1338.722274\" xlink:href=\"#m996baec9d3\" y=\"139.489345\"/>\r\n     <use style=\"fill:#0000ff;stroke:#0000ff;\" x=\"941.021885\" xlink:href=\"#m996baec9d3\" y=\"645.554888\"/>\r\n     <use style=\"fill:#0000ff;stroke:#0000ff;\" x=\"946.726495\" xlink:href=\"#m996baec9d3\" y=\"385.126744\"/>\r\n     <use style=\"fill:#0000ff;stroke:#0000ff;\" x=\"1218.030887\" xlink:href=\"#m996baec9d3\" y=\"650.870812\"/>\r\n     <use style=\"fill:#0000ff;stroke:#0000ff;\" x=\"1103.354054\" xlink:href=\"#m996baec9d3\" y=\"300.070534\"/>\r\n     <use style=\"fill:#0000ff;stroke:#0000ff;\" x=\"1086.972609\" xlink:href=\"#m996baec9d3\" y=\"654.867349\"/>\r\n     <use style=\"fill:#0000ff;stroke:#0000ff;\" x=\"822.97164\" xlink:href=\"#m996baec9d3\" y=\"275.801855\"/>\r\n     <use style=\"fill:#0000ff;stroke:#0000ff;\" x=\"1096.689824\" xlink:href=\"#m996baec9d3\" y=\"411.566416\"/>\r\n     <use style=\"fill:#0000ff;stroke:#0000ff;\" x=\"838.005604\" xlink:href=\"#m996baec9d3\" y=\"576.349229\"/>\r\n     <use style=\"fill:#0000ff;stroke:#0000ff;\" x=\"861.199591\" xlink:href=\"#m996baec9d3\" y=\"90.710519\"/>\r\n     <use style=\"fill:#0000ff;stroke:#0000ff;\" x=\"873.087103\" xlink:href=\"#m996baec9d3\" y=\"363.888174\"/>\r\n     <use style=\"fill:#0000ff;stroke:#0000ff;\" x=\"1035.067244\" xlink:href=\"#m996baec9d3\" y=\"492.26605\"/>\r\n     <use style=\"fill:#0000ff;stroke:#0000ff;\" x=\"1246.100132\" xlink:href=\"#m996baec9d3\" y=\"64.863077\"/>\r\n     <use style=\"fill:#0000ff;stroke:#0000ff;\" x=\"1094.207507\" xlink:href=\"#m996baec9d3\" y=\"165.928782\"/>\r\n     <use style=\"fill:#0000ff;stroke:#0000ff;\" x=\"1282.954427\" xlink:href=\"#m996baec9d3\" y=\"224.392035\"/>\r\n     <use style=\"fill:#0000ff;stroke:#0000ff;\" x=\"972.253122\" xlink:href=\"#m996baec9d3\" y=\"303.781143\"/>\r\n     <use style=\"fill:#0000ff;stroke:#0000ff;\" x=\"1373.129164\" xlink:href=\"#m996baec9d3\" y=\"305.980833\"/>\r\n     <use style=\"fill:#0000ff;stroke:#0000ff;\" x=\"859.205954\" xlink:href=\"#m996baec9d3\" y=\"505.113587\"/>\r\n     <use style=\"fill:#0000ff;stroke:#0000ff;\" x=\"751.998873\" xlink:href=\"#m996baec9d3\" y=\"443.53608\"/>\r\n     <use style=\"fill:#0000ff;stroke:#0000ff;\" x=\"765.941734\" xlink:href=\"#m996baec9d3\" y=\"75.327789\"/>\r\n     <use style=\"fill:#0000ff;stroke:#0000ff;\" x=\"1230.178127\" xlink:href=\"#m996baec9d3\" y=\"462.523385\"/>\r\n     <use style=\"fill:#0000ff;stroke:#0000ff;\" x=\"1342.7996\" xlink:href=\"#m996baec9d3\" y=\"561.43931\"/>\r\n     <use style=\"fill:#0000ff;stroke:#0000ff;\" x=\"1294.799522\" xlink:href=\"#m996baec9d3\" y=\"422.810961\"/>\r\n     <use style=\"fill:#0000ff;stroke:#0000ff;\" x=\"801.867471\" xlink:href=\"#m996baec9d3\" y=\"559.74501\"/>\r\n     <use style=\"fill:#0000ff;stroke:#0000ff;\" x=\"1166.673022\" xlink:href=\"#m996baec9d3\" y=\"417.291074\"/>\r\n     <use style=\"fill:#0000ff;stroke:#0000ff;\" x=\"1007.013084\" xlink:href=\"#m996baec9d3\" y=\"248.555905\"/>\r\n     <use style=\"fill:#0000ff;stroke:#0000ff;\" x=\"1219.696366\" xlink:href=\"#m996baec9d3\" y=\"425.270168\"/>\r\n     <use style=\"fill:#0000ff;stroke:#0000ff;\" x=\"1238.848764\" xlink:href=\"#m996baec9d3\" y=\"351.870082\"/>\r\n     <use style=\"fill:#0000ff;stroke:#0000ff;\" x=\"1156.947155\" xlink:href=\"#m996baec9d3\" y=\"360.557654\"/>\r\n     <use style=\"fill:#0000ff;stroke:#0000ff;\" x=\"755.520831\" xlink:href=\"#m996baec9d3\" y=\"59.224511\"/>\r\n     <use style=\"fill:#0000ff;stroke:#0000ff;\" x=\"922.667238\" xlink:href=\"#m996baec9d3\" y=\"148.163153\"/>\r\n     <use style=\"fill:#0000ff;stroke:#0000ff;\" x=\"1114.395213\" xlink:href=\"#m996baec9d3\" y=\"137.114049\"/>\r\n     <use style=\"fill:#0000ff;stroke:#0000ff;\" x=\"951.839775\" xlink:href=\"#m996baec9d3\" y=\"158.006902\"/>\r\n     <use style=\"fill:#0000ff;stroke:#0000ff;\" x=\"775.332665\" xlink:href=\"#m996baec9d3\" y=\"604.555524\"/>\r\n     <use style=\"fill:#0000ff;stroke:#0000ff;\" x=\"987.070297\" xlink:href=\"#m996baec9d3\" y=\"555.07634\"/>\r\n     <use style=\"fill:#0000ff;stroke:#0000ff;\" x=\"908.604249\" xlink:href=\"#m996baec9d3\" y=\"490.272609\"/>\r\n     <use style=\"fill:#0000ff;stroke:#0000ff;\" x=\"1234.287179\" xlink:href=\"#m996baec9d3\" y=\"325.695532\"/>\r\n     <use style=\"fill:#0000ff;stroke:#0000ff;\" x=\"1074.654032\" xlink:href=\"#m996baec9d3\" y=\"400.667481\"/>\r\n     <use style=\"fill:#0000ff;stroke:#0000ff;\" x=\"973.761532\" xlink:href=\"#m996baec9d3\" y=\"93.238038\"/>\r\n     <use style=\"fill:#0000ff;stroke:#0000ff;\" x=\"962.775323\" xlink:href=\"#m996baec9d3\" y=\"639.461647\"/>\r\n     <use style=\"fill:#0000ff;stroke:#0000ff;\" x=\"1157.583018\" xlink:href=\"#m996baec9d3\" y=\"325.033856\"/>\r\n     <use style=\"fill:#0000ff;stroke:#0000ff;\" x=\"805.403753\" xlink:href=\"#m996baec9d3\" y=\"312.818919\"/>\r\n     <use style=\"fill:#0000ff;stroke:#0000ff;\" x=\"1142.420627\" xlink:href=\"#m996baec9d3\" y=\"510.954944\"/>\r\n     <use style=\"fill:#0000ff;stroke:#0000ff;\" x=\"990.42315\" xlink:href=\"#m996baec9d3\" y=\"431.87057\"/>\r\n     <use style=\"fill:#0000ff;stroke:#0000ff;\" x=\"934.447916\" xlink:href=\"#m996baec9d3\" y=\"108.625056\"/>\r\n     <use style=\"fill:#0000ff;stroke:#0000ff;\" x=\"983.704692\" xlink:href=\"#m996baec9d3\" y=\"597.691632\"/>\r\n     <use style=\"fill:#0000ff;stroke:#0000ff;\" x=\"1312.623575\" xlink:href=\"#m996baec9d3\" y=\"579.410088\"/>\r\n     <use style=\"fill:#0000ff;stroke:#0000ff;\" x=\"1177.604017\" xlink:href=\"#m996baec9d3\" y=\"407.170333\"/>\r\n     <use style=\"fill:#0000ff;stroke:#0000ff;\" x=\"1304.673464\" xlink:href=\"#m996baec9d3\" y=\"562.120099\"/>\r\n     <use style=\"fill:#0000ff;stroke:#0000ff;\" x=\"1250.291531\" xlink:href=\"#m996baec9d3\" y=\"349.386843\"/>\r\n     <use style=\"fill:#0000ff;stroke:#0000ff;\" x=\"764.392926\" xlink:href=\"#m996baec9d3\" y=\"554.390723\"/>\r\n     <use style=\"fill:#0000ff;stroke:#0000ff;\" x=\"1079.107275\" xlink:href=\"#m996baec9d3\" y=\"654.901236\"/>\r\n     <use style=\"fill:#0000ff;stroke:#0000ff;\" x=\"1270.279932\" xlink:href=\"#m996baec9d3\" y=\"363.06887\"/>\r\n     <use style=\"fill:#0000ff;stroke:#0000ff;\" x=\"1053.654553\" xlink:href=\"#m996baec9d3\" y=\"557.595555\"/>\r\n     <use style=\"fill:#0000ff;stroke:#0000ff;\" x=\"866.455936\" xlink:href=\"#m996baec9d3\" y=\"148.761094\"/>\r\n     <use style=\"fill:#0000ff;stroke:#0000ff;\" x=\"819.477267\" xlink:href=\"#m996baec9d3\" y=\"191.675918\"/>\r\n     <use style=\"fill:#0000ff;stroke:#0000ff;\" x=\"1210.187297\" xlink:href=\"#m996baec9d3\" y=\"626.250267\"/>\r\n     <use style=\"fill:#0000ff;stroke:#0000ff;\" x=\"1186.345048\" xlink:href=\"#m996baec9d3\" y=\"302.892916\"/>\r\n     <use style=\"fill:#0000ff;stroke:#0000ff;\" x=\"1299.463303\" xlink:href=\"#m996baec9d3\" y=\"246.916649\"/>\r\n     <use style=\"fill:#0000ff;stroke:#0000ff;\" x=\"1321.40191\" xlink:href=\"#m996baec9d3\" y=\"258.662198\"/>\r\n     <use style=\"fill:#0000ff;stroke:#0000ff;\" x=\"1042.120027\" xlink:href=\"#m996baec9d3\" y=\"475.900227\"/>\r\n     <use style=\"fill:#0000ff;stroke:#0000ff;\" x=\"1229.310248\" xlink:href=\"#m996baec9d3\" y=\"336.480722\"/>\r\n     <use style=\"fill:#0000ff;stroke:#0000ff;\" x=\"1096.243096\" xlink:href=\"#m996baec9d3\" y=\"234.440321\"/>\r\n     <use style=\"fill:#0000ff;stroke:#0000ff;\" x=\"1070.349736\" xlink:href=\"#m996baec9d3\" y=\"311.222142\"/>\r\n     <use style=\"fill:#0000ff;stroke:#0000ff;\" x=\"1000.108546\" xlink:href=\"#m996baec9d3\" y=\"467.674315\"/>\r\n     <use style=\"fill:#0000ff;stroke:#0000ff;\" x=\"779.309817\" xlink:href=\"#m996baec9d3\" y=\"103.416353\"/>\r\n     <use style=\"fill:#0000ff;stroke:#0000ff;\" x=\"1215.748292\" xlink:href=\"#m996baec9d3\" y=\"99.242805\"/>\r\n     <use style=\"fill:#0000ff;stroke:#0000ff;\" x=\"962.315123\" xlink:href=\"#m996baec9d3\" y=\"209.911367\"/>\r\n     <use style=\"fill:#0000ff;stroke:#0000ff;\" x=\"789.514968\" xlink:href=\"#m996baec9d3\" y=\"519.144205\"/>\r\n     <use style=\"fill:#0000ff;stroke:#0000ff;\" x=\"976.034508\" xlink:href=\"#m996baec9d3\" y=\"364.529169\"/>\r\n     <use style=\"fill:#0000ff;stroke:#0000ff;\" x=\"764.069904\" xlink:href=\"#m996baec9d3\" y=\"463.92883\"/>\r\n     <use style=\"fill:#0000ff;stroke:#0000ff;\" x=\"1181.290019\" xlink:href=\"#m996baec9d3\" y=\"269.689397\"/>\r\n     <use style=\"fill:#0000ff;stroke:#0000ff;\" x=\"744.591853\" xlink:href=\"#m996baec9d3\" y=\"328.847292\"/>\r\n     <use style=\"fill:#0000ff;stroke:#0000ff;\" x=\"1245.757723\" xlink:href=\"#m996baec9d3\" y=\"80.093152\"/>\r\n     <use style=\"fill:#0000ff;stroke:#0000ff;\" x=\"984.744307\" xlink:href=\"#m996baec9d3\" y=\"546.185221\"/>\r\n     <use style=\"fill:#0000ff;stroke:#0000ff;\" x=\"931.700225\" xlink:href=\"#m996baec9d3\" y=\"189.87853\"/>\r\n     <use style=\"fill:#0000ff;stroke:#0000ff;\" x=\"1262.57455\" xlink:href=\"#m996baec9d3\" y=\"251.952015\"/>\r\n     <use style=\"fill:#0000ff;stroke:#0000ff;\" x=\"1362.898166\" xlink:href=\"#m996baec9d3\" y=\"646.462602\"/>\r\n     <use style=\"fill:#0000ff;stroke:#0000ff;\" x=\"944.998535\" xlink:href=\"#m996baec9d3\" y=\"563.948148\"/>\r\n     <use style=\"fill:#0000ff;stroke:#0000ff;\" x=\"1280.319139\" xlink:href=\"#m996baec9d3\" y=\"575.809737\"/>\r\n     <use style=\"fill:#0000ff;stroke:#0000ff;\" x=\"1256.740328\" xlink:href=\"#m996baec9d3\" y=\"227.778129\"/>\r\n     <use style=\"fill:#0000ff;stroke:#0000ff;\" x=\"830.7122\" xlink:href=\"#m996baec9d3\" y=\"457.675966\"/>\r\n     <use style=\"fill:#0000ff;stroke:#0000ff;\" x=\"1206.973601\" xlink:href=\"#m996baec9d3\" y=\"488.721553\"/>\r\n     <use style=\"fill:#0000ff;stroke:#0000ff;\" x=\"1182.629522\" xlink:href=\"#m996baec9d3\" y=\"125.281634\"/>\r\n     <use style=\"fill:#0000ff;stroke:#0000ff;\" x=\"1374.821093\" xlink:href=\"#m996baec9d3\" y=\"71.617432\"/>\r\n     <use style=\"fill:#0000ff;stroke:#0000ff;\" x=\"1048.979691\" xlink:href=\"#m996baec9d3\" y=\"103.653173\"/>\r\n     <use style=\"fill:#0000ff;stroke:#0000ff;\" x=\"862.752031\" xlink:href=\"#m996baec9d3\" y=\"395.57908\"/>\r\n     <use style=\"fill:#0000ff;stroke:#0000ff;\" x=\"928.006879\" xlink:href=\"#m996baec9d3\" y=\"298.328163\"/>\r\n     <use style=\"fill:#0000ff;stroke:#0000ff;\" x=\"1275.790721\" xlink:href=\"#m996baec9d3\" y=\"393.363357\"/>\r\n     <use style=\"fill:#0000ff;stroke:#0000ff;\" x=\"1169.077015\" xlink:href=\"#m996baec9d3\" y=\"318.029711\"/>\r\n     <use style=\"fill:#0000ff;stroke:#0000ff;\" x=\"756.888716\" xlink:href=\"#m996baec9d3\" y=\"444.923852\"/>\r\n     <use style=\"fill:#0000ff;stroke:#0000ff;\" x=\"1348.800264\" xlink:href=\"#m996baec9d3\" y=\"211.978577\"/>\r\n     <use style=\"fill:#0000ff;stroke:#0000ff;\" x=\"1012.922217\" xlink:href=\"#m996baec9d3\" y=\"634.755011\"/>\r\n     <use style=\"fill:#0000ff;stroke:#0000ff;\" x=\"1249.124011\" xlink:href=\"#m996baec9d3\" y=\"588.390523\"/>\r\n     <use style=\"fill:#0000ff;stroke:#0000ff;\" x=\"879.109787\" xlink:href=\"#m996baec9d3\" y=\"224.323903\"/>\r\n     <use style=\"fill:#0000ff;stroke:#0000ff;\" x=\"884.288736\" xlink:href=\"#m996baec9d3\" y=\"158.762686\"/>\r\n     <use style=\"fill:#0000ff;stroke:#0000ff;\" x=\"1018.246432\" xlink:href=\"#m996baec9d3\" y=\"259.55619\"/>\r\n     <use style=\"fill:#0000ff;stroke:#0000ff;\" x=\"1211.073316\" xlink:href=\"#m996baec9d3\" y=\"511.217632\"/>\r\n     <use style=\"fill:#0000ff;stroke:#0000ff;\" x=\"1294.391729\" xlink:href=\"#m996baec9d3\" y=\"532.611444\"/>\r\n     <use style=\"fill:#0000ff;stroke:#0000ff;\" x=\"1196.650539\" xlink:href=\"#m996baec9d3\" y=\"632.290602\"/>\r\n     <use style=\"fill:#0000ff;stroke:#0000ff;\" x=\"1216.557959\" xlink:href=\"#m996baec9d3\" y=\"477.18346\"/>\r\n     <use style=\"fill:#0000ff;stroke:#0000ff;\" x=\"1046.189783\" xlink:href=\"#m996baec9d3\" y=\"290.422388\"/>\r\n     <use style=\"fill:#0000ff;stroke:#0000ff;\" x=\"1055.598952\" xlink:href=\"#m996baec9d3\" y=\"372.757765\"/>\r\n     <use style=\"fill:#0000ff;stroke:#0000ff;\" x=\"981.200611\" xlink:href=\"#m996baec9d3\" y=\"132.41552\"/>\r\n     <use style=\"fill:#0000ff;stroke:#0000ff;\" x=\"900.166786\" xlink:href=\"#m996baec9d3\" y=\"585.817337\"/>\r\n     <use style=\"fill:#0000ff;stroke:#0000ff;\" x=\"916.785124\" xlink:href=\"#m996baec9d3\" y=\"424.790638\"/>\r\n     <use style=\"fill:#0000ff;stroke:#0000ff;\" x=\"1047.175739\" xlink:href=\"#m996baec9d3\" y=\"422.808132\"/>\r\n     <use style=\"fill:#0000ff;stroke:#0000ff;\" x=\"1290.420962\" xlink:href=\"#m996baec9d3\" y=\"578.581219\"/>\r\n     <use style=\"fill:#0000ff;stroke:#0000ff;\" x=\"760.956154\" xlink:href=\"#m996baec9d3\" y=\"119.270814\"/>\r\n     <use style=\"fill:#0000ff;stroke:#0000ff;\" x=\"796.070551\" xlink:href=\"#m996baec9d3\" y=\"234.617152\"/>\r\n     <use style=\"fill:#0000ff;stroke:#0000ff;\" x=\"1186.01448\" xlink:href=\"#m996baec9d3\" y=\"130.584913\"/>\r\n     <use style=\"fill:#0000ff;stroke:#0000ff;\" x=\"1261.067848\" xlink:href=\"#m996baec9d3\" y=\"496.06684\"/>\r\n     <use style=\"fill:#0000ff;stroke:#0000ff;\" x=\"1165.769016\" xlink:href=\"#m996baec9d3\" y=\"578.304839\"/>\r\n     <use style=\"fill:#0000ff;stroke:#0000ff;\" x=\"963.877344\" xlink:href=\"#m996baec9d3\" y=\"125.256558\"/>\r\n     <use style=\"fill:#0000ff;stroke:#0000ff;\" x=\"1105.282136\" xlink:href=\"#m996baec9d3\" y=\"172.861769\"/>\r\n     <use style=\"fill:#0000ff;stroke:#0000ff;\" x=\"925.047038\" xlink:href=\"#m996baec9d3\" y=\"252.158895\"/>\r\n     <use style=\"fill:#0000ff;stroke:#0000ff;\" x=\"917.843087\" xlink:href=\"#m996baec9d3\" y=\"94.498159\"/>\r\n     <use style=\"fill:#0000ff;stroke:#0000ff;\" x=\"1254.679996\" xlink:href=\"#m996baec9d3\" y=\"558.762936\"/>\r\n     <use style=\"fill:#0000ff;stroke:#0000ff;\" x=\"864.093573\" xlink:href=\"#m996baec9d3\" y=\"325.217388\"/>\r\n     <use style=\"fill:#0000ff;stroke:#0000ff;\" x=\"1372.106341\" xlink:href=\"#m996baec9d3\" y=\"245.529814\"/>\r\n     <use style=\"fill:#0000ff;stroke:#0000ff;\" x=\"824.497725\" xlink:href=\"#m996baec9d3\" y=\"576.727427\"/>\r\n     <use style=\"fill:#0000ff;stroke:#0000ff;\" x=\"773.645534\" xlink:href=\"#m996baec9d3\" y=\"71.908439\"/>\r\n     <use style=\"fill:#0000ff;stroke:#0000ff;\" x=\"1081.287561\" xlink:href=\"#m996baec9d3\" y=\"537.148869\"/>\r\n     <use style=\"fill:#0000ff;stroke:#0000ff;\" x=\"890.654796\" xlink:href=\"#m996baec9d3\" y=\"221.796168\"/>\r\n     <use style=\"fill:#0000ff;stroke:#0000ff;\" x=\"997.315792\" xlink:href=\"#m996baec9d3\" y=\"316.200942\"/>\r\n     <use style=\"fill:#0000ff;stroke:#0000ff;\" x=\"968.313302\" xlink:href=\"#m996baec9d3\" y=\"109.786997\"/>\r\n     <use style=\"fill:#0000ff;stroke:#0000ff;\" x=\"1375.007647\" xlink:href=\"#m996baec9d3\" y=\"495.412172\"/>\r\n     <use style=\"fill:#0000ff;stroke:#0000ff;\" x=\"925.480769\" xlink:href=\"#m996baec9d3\" y=\"59.040762\"/>\r\n     <use style=\"fill:#0000ff;stroke:#0000ff;\" x=\"984.260352\" xlink:href=\"#m996baec9d3\" y=\"261.650458\"/>\r\n     <use style=\"fill:#0000ff;stroke:#0000ff;\" x=\"1067.724998\" xlink:href=\"#m996baec9d3\" y=\"268.465017\"/>\r\n     <use style=\"fill:#0000ff;stroke:#0000ff;\" x=\"1095.15652\" xlink:href=\"#m996baec9d3\" y=\"85.344297\"/>\r\n     <use style=\"fill:#0000ff;stroke:#0000ff;\" x=\"1030.863208\" xlink:href=\"#m996baec9d3\" y=\"501.828464\"/>\r\n     <use style=\"fill:#0000ff;stroke:#0000ff;\" x=\"1231.669006\" xlink:href=\"#m996baec9d3\" y=\"654.600324\"/>\r\n     <use style=\"fill:#0000ff;stroke:#0000ff;\" x=\"1364.002919\" xlink:href=\"#m996baec9d3\" y=\"497.037808\"/>\r\n     <use style=\"fill:#0000ff;stroke:#0000ff;\" x=\"1292.372268\" xlink:href=\"#m996baec9d3\" y=\"340.808692\"/>\r\n     <use style=\"fill:#0000ff;stroke:#0000ff;\" x=\"822.412442\" xlink:href=\"#m996baec9d3\" y=\"358.474771\"/>\r\n     <use style=\"fill:#0000ff;stroke:#0000ff;\" x=\"1118.871832\" xlink:href=\"#m996baec9d3\" y=\"86.339063\"/>\r\n     <use style=\"fill:#0000ff;stroke:#0000ff;\" x=\"1030.81359\" xlink:href=\"#m996baec9d3\" y=\"86.398907\"/>\r\n     <use style=\"fill:#0000ff;stroke:#0000ff;\" x=\"1263.703553\" xlink:href=\"#m996baec9d3\" y=\"124.753194\"/>\r\n     <use style=\"fill:#0000ff;stroke:#0000ff;\" x=\"1071.239132\" xlink:href=\"#m996baec9d3\" y=\"198.72301\"/>\r\n     <use style=\"fill:#0000ff;stroke:#0000ff;\" x=\"1367.184284\" xlink:href=\"#m996baec9d3\" y=\"318.85586\"/>\r\n     <use style=\"fill:#0000ff;stroke:#0000ff;\" x=\"1267.997412\" xlink:href=\"#m996baec9d3\" y=\"216.443673\"/>\r\n     <use style=\"fill:#0000ff;stroke:#0000ff;\" x=\"1245.156962\" xlink:href=\"#m996baec9d3\" y=\"416.318268\"/>\r\n     <use style=\"fill:#0000ff;stroke:#0000ff;\" x=\"1203.82563\" xlink:href=\"#m996baec9d3\" y=\"608.058974\"/>\r\n     <use style=\"fill:#0000ff;stroke:#0000ff;\" x=\"800.453922\" xlink:href=\"#m996baec9d3\" y=\"304.568921\"/>\r\n     <use style=\"fill:#0000ff;stroke:#0000ff;\" x=\"757.664614\" xlink:href=\"#m996baec9d3\" y=\"545.395039\"/>\r\n     <use style=\"fill:#0000ff;stroke:#0000ff;\" x=\"836.735462\" xlink:href=\"#m996baec9d3\" y=\"513.212289\"/>\r\n     <use style=\"fill:#0000ff;stroke:#0000ff;\" x=\"966.420227\" xlink:href=\"#m996baec9d3\" y=\"543.759881\"/>\r\n     <use style=\"fill:#0000ff;stroke:#0000ff;\" x=\"977.097594\" xlink:href=\"#m996baec9d3\" y=\"487.415639\"/>\r\n     <use style=\"fill:#0000ff;stroke:#0000ff;\" x=\"1315.214995\" xlink:href=\"#m996baec9d3\" y=\"549.988849\"/>\r\n     <use style=\"fill:#0000ff;stroke:#0000ff;\" x=\"1068.057274\" xlink:href=\"#m996baec9d3\" y=\"375.634371\"/>\r\n     <use style=\"fill:#0000ff;stroke:#0000ff;\" x=\"869.654226\" xlink:href=\"#m996baec9d3\" y=\"238.623561\"/>\r\n     <use style=\"fill:#0000ff;stroke:#0000ff;\" x=\"853.537698\" xlink:href=\"#m996baec9d3\" y=\"142.775998\"/>\r\n     <use style=\"fill:#0000ff;stroke:#0000ff;\" x=\"1133.779248\" xlink:href=\"#m996baec9d3\" y=\"89.345013\"/>\r\n     <use style=\"fill:#0000ff;stroke:#0000ff;\" x=\"1023.406445\" xlink:href=\"#m996baec9d3\" y=\"575.791614\"/>\r\n     <use style=\"fill:#0000ff;stroke:#0000ff;\" x=\"1276.664254\" xlink:href=\"#m996baec9d3\" y=\"128.762449\"/>\r\n     <use style=\"fill:#0000ff;stroke:#0000ff;\" x=\"799.221747\" xlink:href=\"#m996baec9d3\" y=\"131.255884\"/>\r\n     <use style=\"fill:#0000ff;stroke:#0000ff;\" x=\"1020.261681\" xlink:href=\"#m996baec9d3\" y=\"95.546067\"/>\r\n     <use style=\"fill:#0000ff;stroke:#0000ff;\" x=\"1159.334222\" xlink:href=\"#m996baec9d3\" y=\"95.721097\"/>\r\n     <use style=\"fill:#0000ff;stroke:#0000ff;\" x=\"1278.424718\" xlink:href=\"#m996baec9d3\" y=\"150.651761\"/>\r\n     <use style=\"fill:#0000ff;stroke:#0000ff;\" x=\"1144.210007\" xlink:href=\"#m996baec9d3\" y=\"177.70546\"/>\r\n     <use style=\"fill:#0000ff;stroke:#0000ff;\" x=\"751.243026\" xlink:href=\"#m996baec9d3\" y=\"451.64133\"/>\r\n     <use style=\"fill:#0000ff;stroke:#0000ff;\" x=\"832.131877\" xlink:href=\"#m996baec9d3\" y=\"353.162233\"/>\r\n     <use style=\"fill:#0000ff;stroke:#0000ff;\" x=\"1343.133053\" xlink:href=\"#m996baec9d3\" y=\"231.513887\"/>\r\n     <use style=\"fill:#0000ff;stroke:#0000ff;\" x=\"1244.367522\" xlink:href=\"#m996baec9d3\" y=\"125.117953\"/>\r\n     <use style=\"fill:#0000ff;stroke:#0000ff;\" x=\"1041.913986\" xlink:href=\"#m996baec9d3\" y=\"548.363447\"/>\r\n     <use style=\"fill:#0000ff;stroke:#0000ff;\" x=\"1002.946895\" xlink:href=\"#m996baec9d3\" y=\"557.68497\"/>\r\n     <use style=\"fill:#0000ff;stroke:#0000ff;\" x=\"773.070191\" xlink:href=\"#m996baec9d3\" y=\"269.076937\"/>\r\n     <use style=\"fill:#0000ff;stroke:#0000ff;\" x=\"1294.175613\" xlink:href=\"#m996baec9d3\" y=\"415.949131\"/>\r\n     <use style=\"fill:#0000ff;stroke:#0000ff;\" x=\"1057.615169\" xlink:href=\"#m996baec9d3\" y=\"557.300241\"/>\r\n     <use style=\"fill:#0000ff;stroke:#0000ff;\" x=\"914.508164\" xlink:href=\"#m996baec9d3\" y=\"106.349597\"/>\r\n     <use style=\"fill:#0000ff;stroke:#0000ff;\" x=\"985.861052\" xlink:href=\"#m996baec9d3\" y=\"541.027176\"/>\r\n     <use style=\"fill:#0000ff;stroke:#0000ff;\" x=\"1262.356689\" xlink:href=\"#m996baec9d3\" y=\"543.124894\"/>\r\n     <use style=\"fill:#0000ff;stroke:#0000ff;\" x=\"1056.686173\" xlink:href=\"#m996baec9d3\" y=\"192.346169\"/>\r\n     <use style=\"fill:#0000ff;stroke:#0000ff;\" x=\"926.920227\" xlink:href=\"#m996baec9d3\" y=\"297.302592\"/>\r\n     <use style=\"fill:#0000ff;stroke:#0000ff;\" x=\"1328.720218\" xlink:href=\"#m996baec9d3\" y=\"291.427782\"/>\r\n     <use style=\"fill:#0000ff;stroke:#0000ff;\" x=\"929.907942\" xlink:href=\"#m996baec9d3\" y=\"355.962529\"/>\r\n     <use style=\"fill:#0000ff;stroke:#0000ff;\" x=\"822.409729\" xlink:href=\"#m996baec9d3\" y=\"636.631674\"/>\r\n     <use style=\"fill:#0000ff;stroke:#0000ff;\" x=\"901.196535\" xlink:href=\"#m996baec9d3\" y=\"155.871632\"/>\r\n     <use style=\"fill:#0000ff;stroke:#0000ff;\" x=\"878.549972\" xlink:href=\"#m996baec9d3\" y=\"572.955442\"/>\r\n     <use style=\"fill:#0000ff;stroke:#0000ff;\" x=\"868.114394\" xlink:href=\"#m996baec9d3\" y=\"75.506205\"/>\r\n     <use style=\"fill:#0000ff;stroke:#0000ff;\" x=\"1327.035879\" xlink:href=\"#m996baec9d3\" y=\"488.186844\"/>\r\n     <use style=\"fill:#0000ff;stroke:#0000ff;\" x=\"856.199246\" xlink:href=\"#m996baec9d3\" y=\"158.319563\"/>\r\n     <use style=\"fill:#0000ff;stroke:#0000ff;\" x=\"757.895643\" xlink:href=\"#m996baec9d3\" y=\"350.253741\"/>\r\n     <use style=\"fill:#0000ff;stroke:#0000ff;\" x=\"965.705185\" xlink:href=\"#m996baec9d3\" y=\"313.357519\"/>\r\n     <use style=\"fill:#0000ff;stroke:#0000ff;\" x=\"850.486809\" xlink:href=\"#m996baec9d3\" y=\"447.112462\"/>\r\n     <use style=\"fill:#0000ff;stroke:#0000ff;\" x=\"1106.398084\" xlink:href=\"#m996baec9d3\" y=\"91.561168\"/>\r\n     <use style=\"fill:#0000ff;stroke:#0000ff;\" x=\"1191.81933\" xlink:href=\"#m996baec9d3\" y=\"543.845874\"/>\r\n     <use style=\"fill:#0000ff;stroke:#0000ff;\" x=\"1226.831573\" xlink:href=\"#m996baec9d3\" y=\"603.722583\"/>\r\n     <use style=\"fill:#0000ff;stroke:#0000ff;\" x=\"893.368333\" xlink:href=\"#m996baec9d3\" y=\"594.08875\"/>\r\n     <use style=\"fill:#0000ff;stroke:#0000ff;\" x=\"1365.421657\" xlink:href=\"#m996baec9d3\" y=\"433.802022\"/>\r\n     <use style=\"fill:#0000ff;stroke:#0000ff;\" x=\"890.036446\" xlink:href=\"#m996baec9d3\" y=\"366.853375\"/>\r\n     <use style=\"fill:#0000ff;stroke:#0000ff;\" x=\"1131.997761\" xlink:href=\"#m996baec9d3\" y=\"253.852014\"/>\r\n     <use style=\"fill:#0000ff;stroke:#0000ff;\" x=\"1248.404357\" xlink:href=\"#m996baec9d3\" y=\"360.345622\"/>\r\n     <use style=\"fill:#0000ff;stroke:#0000ff;\" x=\"1302.710243\" xlink:href=\"#m996baec9d3\" y=\"218.02521\"/>\r\n     <use style=\"fill:#0000ff;stroke:#0000ff;\" x=\"1352.402363\" xlink:href=\"#m996baec9d3\" y=\"92.099768\"/>\r\n     <use style=\"fill:#0000ff;stroke:#0000ff;\" x=\"913.63556\" xlink:href=\"#m996baec9d3\" y=\"590.421033\"/>\r\n     <use style=\"fill:#0000ff;stroke:#0000ff;\" x=\"1311.89102\" xlink:href=\"#m996baec9d3\" y=\"554.283086\"/>\r\n    </g>\r\n   </g>\r\n   <g id=\"PathCollection_6\">\r\n    <g clip-path=\"url(#p5334f52ade)\">\r\n     <use style=\"fill:#ffa500;stroke:#ffa500;\" x=\"740.565666\" xlink:href=\"#ma771f674b6\" y=\"416.058047\"/>\r\n     <use style=\"fill:#ffa500;stroke:#ffa500;\" x=\"742.577068\" xlink:href=\"#ma771f674b6\" y=\"77.72272\"/>\r\n     <use style=\"fill:#ffa500;stroke:#ffa500;\" x=\"1107.61228\" xlink:href=\"#ma771f674b6\" y=\"269.975072\"/>\r\n     <use style=\"fill:#ffa500;stroke:#ffa500;\" x=\"784.722627\" xlink:href=\"#ma771f674b6\" y=\"146.483978\"/>\r\n     <use style=\"fill:#ffa500;stroke:#ffa500;\" x=\"1244.453172\" xlink:href=\"#ma771f674b6\" y=\"308.296284\"/>\r\n     <use style=\"fill:#ffa500;stroke:#ffa500;\" x=\"739.276145\" xlink:href=\"#ma771f674b6\" y=\"562.473347\"/>\r\n     <use style=\"fill:#ffa500;stroke:#ffa500;\" x=\"1155.197013\" xlink:href=\"#ma771f674b6\" y=\"331.882715\"/>\r\n     <use style=\"fill:#ffa500;stroke:#ffa500;\" x=\"1339.390052\" xlink:href=\"#ma771f674b6\" y=\"117.098146\"/>\r\n     <use style=\"fill:#ffa500;stroke:#ffa500;\" x=\"939.824215\" xlink:href=\"#ma771f674b6\" y=\"248.631458\"/>\r\n     <use style=\"fill:#ffa500;stroke:#ffa500;\" x=\"1329.536677\" xlink:href=\"#ma771f674b6\" y=\"229.638964\"/>\r\n     <use style=\"fill:#ffa500;stroke:#ffa500;\" x=\"1367.37801\" xlink:href=\"#ma771f674b6\" y=\"456.77738\"/>\r\n     <use style=\"fill:#ffa500;stroke:#ffa500;\" x=\"884.583623\" xlink:href=\"#ma771f674b6\" y=\"387.091938\"/>\r\n     <use style=\"fill:#ffa500;stroke:#ffa500;\" x=\"1139.796989\" xlink:href=\"#ma771f674b6\" y=\"78.193189\"/>\r\n     <use style=\"fill:#ffa500;stroke:#ffa500;\" x=\"1115.235845\" xlink:href=\"#ma771f674b6\" y=\"383.161191\"/>\r\n     <use style=\"fill:#ffa500;stroke:#ffa500;\" x=\"841.137893\" xlink:href=\"#ma771f674b6\" y=\"325.663285\"/>\r\n     <use style=\"fill:#ffa500;stroke:#ffa500;\" x=\"983.978338\" xlink:href=\"#ma771f674b6\" y=\"477.749731\"/>\r\n     <use style=\"fill:#ffa500;stroke:#ffa500;\" x=\"1100.954843\" xlink:href=\"#ma771f674b6\" y=\"616.782017\"/>\r\n     <use style=\"fill:#ffa500;stroke:#ffa500;\" x=\"799.971958\" xlink:href=\"#ma771f674b6\" y=\"475.332191\"/>\r\n     <use style=\"fill:#ffa500;stroke:#ffa500;\" x=\"1369.092291\" xlink:href=\"#ma771f674b6\" y=\"210.536905\"/>\r\n     <use style=\"fill:#ffa500;stroke:#ffa500;\" x=\"1164.228957\" xlink:href=\"#ma771f674b6\" y=\"634.267617\"/>\r\n     <use style=\"fill:#ffa500;stroke:#ffa500;\" x=\"880.389587\" xlink:href=\"#ma771f674b6\" y=\"109.858407\"/>\r\n     <use style=\"fill:#ffa500;stroke:#ffa500;\" x=\"1097.118224\" xlink:href=\"#ma771f674b6\" y=\"226.853764\"/>\r\n     <use style=\"fill:#ffa500;stroke:#ffa500;\" x=\"1364.524747\" xlink:href=\"#ma771f674b6\" y=\"505.026054\"/>\r\n     <use style=\"fill:#ffa500;stroke:#ffa500;\" x=\"1166.865686\" xlink:href=\"#ma771f674b6\" y=\"357.457127\"/>\r\n     <use style=\"fill:#ffa500;stroke:#ffa500;\" x=\"1149.255966\" xlink:href=\"#ma771f674b6\" y=\"465.90013\"/>\r\n     <use style=\"fill:#ffa500;stroke:#ffa500;\" x=\"1267.403255\" xlink:href=\"#ma771f674b6\" y=\"217.984713\"/>\r\n     <use style=\"fill:#ffa500;stroke:#ffa500;\" x=\"1111.35938\" xlink:href=\"#ma771f674b6\" y=\"428.132579\"/>\r\n     <use style=\"fill:#ffa500;stroke:#ffa500;\" x=\"802.54956\" xlink:href=\"#ma771f674b6\" y=\"269.480463\"/>\r\n     <use style=\"fill:#ffa500;stroke:#ffa500;\" x=\"1309.175851\" xlink:href=\"#ma771f674b6\" y=\"633.465745\"/>\r\n     <use style=\"fill:#ffa500;stroke:#ffa500;\" x=\"786.685337\" xlink:href=\"#ma771f674b6\" y=\"91.191689\"/>\r\n     <use style=\"fill:#ffa500;stroke:#ffa500;\" x=\"972.554128\" xlink:href=\"#ma771f674b6\" y=\"254.624768\"/>\r\n     <use style=\"fill:#ffa500;stroke:#ffa500;\" x=\"969.149267\" xlink:href=\"#ma771f674b6\" y=\"360.201542\"/>\r\n     <use style=\"fill:#ffa500;stroke:#ffa500;\" x=\"986.727016\" xlink:href=\"#ma771f674b6\" y=\"63.809044\"/>\r\n     <use style=\"fill:#ffa500;stroke:#ffa500;\" x=\"1096.155283\" xlink:href=\"#ma771f674b6\" y=\"658.511818\"/>\r\n     <use style=\"fill:#ffa500;stroke:#ffa500;\" x=\"1237.639311\" xlink:href=\"#ma771f674b6\" y=\"88.631815\"/>\r\n     <use style=\"fill:#ffa500;stroke:#ffa500;\" x=\"772.343006\" xlink:href=\"#ma771f674b6\" y=\"563.592837\"/>\r\n     <use style=\"fill:#ffa500;stroke:#ffa500;\" x=\"988.583716\" xlink:href=\"#ma771f674b6\" y=\"197.845483\"/>\r\n     <use style=\"fill:#ffa500;stroke:#ffa500;\" x=\"812.07997\" xlink:href=\"#ma771f674b6\" y=\"432.691657\"/>\r\n     <use style=\"fill:#ffa500;stroke:#ffa500;\" x=\"857.384735\" xlink:href=\"#ma771f674b6\" y=\"369.382335\"/>\r\n     <use style=\"fill:#ffa500;stroke:#ffa500;\" x=\"1131.174129\" xlink:href=\"#ma771f674b6\" y=\"458.351441\"/>\r\n     <use style=\"fill:#ffa500;stroke:#ffa500;\" x=\"1032.92593\" xlink:href=\"#ma771f674b6\" y=\"317.943169\"/>\r\n     <use style=\"fill:#ffa500;stroke:#ffa500;\" x=\"1004.746863\" xlink:href=\"#ma771f674b6\" y=\"506.380607\"/>\r\n     <use style=\"fill:#ffa500;stroke:#ffa500;\" x=\"1290.578258\" xlink:href=\"#ma771f674b6\" y=\"510.842965\"/>\r\n     <use style=\"fill:#ffa500;stroke:#ffa500;\" x=\"1046.775099\" xlink:href=\"#ma771f674b6\" y=\"397.378989\"/>\r\n     <use style=\"fill:#ffa500;stroke:#ffa500;\" x=\"1223.575791\" xlink:href=\"#ma771f674b6\" y=\"619.080197\"/>\r\n     <use style=\"fill:#ffa500;stroke:#ffa500;\" x=\"914.299979\" xlink:href=\"#ma771f674b6\" y=\"111.30977\"/>\r\n     <use style=\"fill:#ffa500;stroke:#ffa500;\" x=\"1242.457883\" xlink:href=\"#ma771f674b6\" y=\"129.852872\"/>\r\n     <use style=\"fill:#ffa500;stroke:#ffa500;\" x=\"1160.829616\" xlink:href=\"#ma771f674b6\" y=\"483.686872\"/>\r\n     <use style=\"fill:#ffa500;stroke:#ffa500;\" x=\"1345.705801\" xlink:href=\"#ma771f674b6\" y=\"406.271964\"/>\r\n     <use style=\"fill:#ffa500;stroke:#ffa500;\" x=\"1359.029062\" xlink:href=\"#ma771f674b6\" y=\"501.897082\"/>\r\n     <use style=\"fill:#ffa500;stroke:#ffa500;\" x=\"1144.014573\" xlink:href=\"#ma771f674b6\" y=\"284.023786\"/>\r\n     <use style=\"fill:#ffa500;stroke:#ffa500;\" x=\"941.976951\" xlink:href=\"#ma771f674b6\" y=\"176.054098\"/>\r\n     <use style=\"fill:#ffa500;stroke:#ffa500;\" x=\"763.054941\" xlink:href=\"#ma771f674b6\" y=\"621.37199\"/>\r\n     <use style=\"fill:#ffa500;stroke:#ffa500;\" x=\"1008.377082\" xlink:href=\"#ma771f674b6\" y=\"552.806295\"/>\r\n     <use style=\"fill:#ffa500;stroke:#ffa500;\" x=\"842.373226\" xlink:href=\"#ma771f674b6\" y=\"372.099566\"/>\r\n     <use style=\"fill:#ffa500;stroke:#ffa500;\" x=\"1361.776791\" xlink:href=\"#ma771f674b6\" y=\"135.156007\"/>\r\n     <use style=\"fill:#ffa500;stroke:#ffa500;\" x=\"942.688502\" xlink:href=\"#ma771f674b6\" y=\"445.094756\"/>\r\n     <use style=\"fill:#ffa500;stroke:#ffa500;\" x=\"933.313563\" xlink:href=\"#ma771f674b6\" y=\"658.434623\"/>\r\n     <use style=\"fill:#ffa500;stroke:#ffa500;\" x=\"1162.944594\" xlink:href=\"#ma771f674b6\" y=\"177.68323\"/>\r\n     <use style=\"fill:#ffa500;stroke:#ffa500;\" x=\"746.029425\" xlink:href=\"#ma771f674b6\" y=\"454.293726\"/>\r\n     <use style=\"fill:#ffa500;stroke:#ffa500;\" x=\"968.894955\" xlink:href=\"#ma771f674b6\" y=\"327.336192\"/>\r\n     <use style=\"fill:#ffa500;stroke:#ffa500;\" x=\"798.876028\" xlink:href=\"#ma771f674b6\" y=\"622.592537\"/>\r\n     <use style=\"fill:#ffa500;stroke:#ffa500;\" x=\"1323.695586\" xlink:href=\"#ma771f674b6\" y=\"348.445617\"/>\r\n     <use style=\"fill:#ffa500;stroke:#ffa500;\" x=\"857.805193\" xlink:href=\"#ma771f674b6\" y=\"291.553164\"/>\r\n     <use style=\"fill:#ffa500;stroke:#ffa500;\" x=\"1107.562985\" xlink:href=\"#ma771f674b6\" y=\"519.945827\"/>\r\n     <use style=\"fill:#ffa500;stroke:#ffa500;\" x=\"1306.072052\" xlink:href=\"#ma771f674b6\" y=\"305.869034\"/>\r\n     <use style=\"fill:#ffa500;stroke:#ffa500;\" x=\"1253.201299\" xlink:href=\"#ma771f674b6\" y=\"78.992353\"/>\r\n     <use style=\"fill:#ffa500;stroke:#ffa500;\" x=\"1033.407154\" xlink:href=\"#ma771f674b6\" y=\"362.696995\"/>\r\n     <use style=\"fill:#ffa500;stroke:#ffa500;\" x=\"1069.911584\" xlink:href=\"#ma771f674b6\" y=\"465.282428\"/>\r\n     <use style=\"fill:#ffa500;stroke:#ffa500;\" x=\"1336.671126\" xlink:href=\"#ma771f674b6\" y=\"76.514698\"/>\r\n     <use style=\"fill:#ffa500;stroke:#ffa500;\" x=\"878.069309\" xlink:href=\"#ma771f674b6\" y=\"203.417035\"/>\r\n     <use style=\"fill:#ffa500;stroke:#ffa500;\" x=\"1115.323924\" xlink:href=\"#ma771f674b6\" y=\"548.668974\"/>\r\n     <use style=\"fill:#ffa500;stroke:#ffa500;\" x=\"758.693858\" xlink:href=\"#ma771f674b6\" y=\"555.194633\"/>\r\n     <use style=\"fill:#ffa500;stroke:#ffa500;\" x=\"1218.991854\" xlink:href=\"#ma771f674b6\" y=\"440.422456\"/>\r\n     <use style=\"fill:#ffa500;stroke:#ffa500;\" x=\"1003.610195\" xlink:href=\"#ma771f674b6\" y=\"481.295885\"/>\r\n     <use style=\"fill:#ffa500;stroke:#ffa500;\" x=\"1138.597782\" xlink:href=\"#ma771f674b6\" y=\"120.330252\"/>\r\n     <use style=\"fill:#ffa500;stroke:#ffa500;\" x=\"1241.973776\" xlink:href=\"#ma771f674b6\" y=\"618.622567\"/>\r\n     <use style=\"fill:#ffa500;stroke:#ffa500;\" x=\"1352.388284\" xlink:href=\"#ma771f674b6\" y=\"578.578318\"/>\r\n     <use style=\"fill:#ffa500;stroke:#ffa500;\" x=\"1123.185729\" xlink:href=\"#ma771f674b6\" y=\"453.5817\"/>\r\n     <use style=\"fill:#ffa500;stroke:#ffa500;\" x=\"1045.89037\" xlink:href=\"#ma771f674b6\" y=\"156.078656\"/>\r\n     <use style=\"fill:#ffa500;stroke:#ffa500;\" x=\"1003.109865\" xlink:href=\"#ma771f674b6\" y=\"257.160934\"/>\r\n     <use style=\"fill:#ffa500;stroke:#ffa500;\" x=\"1307.682278\" xlink:href=\"#ma771f674b6\" y=\"596.803251\"/>\r\n     <use style=\"fill:#ffa500;stroke:#ffa500;\" x=\"751.379704\" xlink:href=\"#ma771f674b6\" y=\"607.900919\"/>\r\n     <use style=\"fill:#ffa500;stroke:#ffa500;\" x=\"789.352326\" xlink:href=\"#ma771f674b6\" y=\"147.261307\"/>\r\n     <use style=\"fill:#ffa500;stroke:#ffa500;\" x=\"963.896128\" xlink:href=\"#ma771f674b6\" y=\"525.860801\"/>\r\n     <use style=\"fill:#ffa500;stroke:#ffa500;\" x=\"1242.348023\" xlink:href=\"#ma771f674b6\" y=\"263.801076\"/>\r\n     <use style=\"fill:#ffa500;stroke:#ffa500;\" x=\"1328.948401\" xlink:href=\"#ma771f674b6\" y=\"478.575988\"/>\r\n     <use style=\"fill:#ffa500;stroke:#ffa500;\" x=\"1158.778582\" xlink:href=\"#ma771f674b6\" y=\"313.252746\"/>\r\n     <use style=\"fill:#ffa500;stroke:#ffa500;\" x=\"987.014854\" xlink:href=\"#ma771f674b6\" y=\"284.683516\"/>\r\n     <use style=\"fill:#ffa500;stroke:#ffa500;\" x=\"1167.979433\" xlink:href=\"#ma771f674b6\" y=\"647.685488\"/>\r\n     <use style=\"fill:#ffa500;stroke:#ffa500;\" x=\"751.275123\" xlink:href=\"#ma771f674b6\" y=\"475.06417\"/>\r\n     <use style=\"fill:#ffa500;stroke:#ffa500;\" x=\"1163.593169\" xlink:href=\"#ma771f674b6\" y=\"303.989068\"/>\r\n     <use style=\"fill:#ffa500;stroke:#ffa500;\" x=\"741.894254\" xlink:href=\"#ma771f674b6\" y=\"325.668654\"/>\r\n     <use style=\"fill:#ffa500;stroke:#ffa500;\" x=\"1171.416229\" xlink:href=\"#ma771f674b6\" y=\"327.131078\"/>\r\n     <use style=\"fill:#ffa500;stroke:#ffa500;\" x=\"929.27149\" xlink:href=\"#ma771f674b6\" y=\"382.273972\"/>\r\n     <use style=\"fill:#ffa500;stroke:#ffa500;\" x=\"1219.357715\" xlink:href=\"#ma771f674b6\" y=\"89.893954\"/>\r\n     <use style=\"fill:#ffa500;stroke:#ffa500;\" x=\"1333.176307\" xlink:href=\"#ma771f674b6\" y=\"492.256844\"/>\r\n     <use style=\"fill:#ffa500;stroke:#ffa500;\" x=\"782.845596\" xlink:href=\"#ma771f674b6\" y=\"529.286455\"/>\r\n     <use style=\"fill:#ffa500;stroke:#ffa500;\" x=\"1060.656201\" xlink:href=\"#ma771f674b6\" y=\"561.845386\"/>\r\n     <use style=\"fill:#ffa500;stroke:#ffa500;\" x=\"968.406617\" xlink:href=\"#ma771f674b6\" y=\"238.711688\"/>\r\n     <use style=\"fill:#ffa500;stroke:#ffa500;\" x=\"833.132851\" xlink:href=\"#ma771f674b6\" y=\"82.116983\"/>\r\n     <use style=\"fill:#ffa500;stroke:#ffa500;\" x=\"1262.218556\" xlink:href=\"#ma771f674b6\" y=\"135.873456\"/>\r\n     <use style=\"fill:#ffa500;stroke:#ffa500;\" x=\"1031.327089\" xlink:href=\"#ma771f674b6\" y=\"141.14766\"/>\r\n     <use style=\"fill:#ffa500;stroke:#ffa500;\" x=\"1038.085601\" xlink:href=\"#ma771f674b6\" y=\"287.975899\"/>\r\n     <use style=\"fill:#ffa500;stroke:#ffa500;\" x=\"766.104723\" xlink:href=\"#ma771f674b6\" y=\"623.453864\"/>\r\n     <use style=\"fill:#ffa500;stroke:#ffa500;\" x=\"1287.598892\" xlink:href=\"#ma771f674b6\" y=\"225.731419\"/>\r\n     <use style=\"fill:#ffa500;stroke:#ffa500;\" x=\"1076.454417\" xlink:href=\"#ma771f674b6\" y=\"155.575148\"/>\r\n     <use style=\"fill:#ffa500;stroke:#ffa500;\" x=\"777.081471\" xlink:href=\"#ma771f674b6\" y=\"274.539501\"/>\r\n     <use style=\"fill:#ffa500;stroke:#ffa500;\" x=\"808.724957\" xlink:href=\"#ma771f674b6\" y=\"330.16823\"/>\r\n     <use style=\"fill:#ffa500;stroke:#ffa500;\" x=\"1231.210703\" xlink:href=\"#ma771f674b6\" y=\"493.385548\"/>\r\n     <use style=\"fill:#ffa500;stroke:#ffa500;\" x=\"799.572414\" xlink:href=\"#ma771f674b6\" y=\"363.232496\"/>\r\n     <use style=\"fill:#ffa500;stroke:#ffa500;\" x=\"1003.52502\" xlink:href=\"#ma771f674b6\" y=\"482.18323\"/>\r\n     <use style=\"fill:#ffa500;stroke:#ffa500;\" x=\"1030.555731\" xlink:href=\"#ma771f674b6\" y=\"257.525693\"/>\r\n     <use style=\"fill:#ffa500;stroke:#ffa500;\" x=\"827.158305\" xlink:href=\"#ma771f674b6\" y=\"199.465283\"/>\r\n     <use style=\"fill:#ffa500;stroke:#ffa500;\" x=\"893.7104\" xlink:href=\"#ma771f674b6\" y=\"320.431272\"/>\r\n     <use style=\"fill:#ffa500;stroke:#ffa500;\" x=\"1279.731243\" xlink:href=\"#ma771f674b6\" y=\"381.833425\"/>\r\n     <use style=\"fill:#ffa500;stroke:#ffa500;\" x=\"845.402779\" xlink:href=\"#ma771f674b6\" y=\"340.692534\"/>\r\n     <use style=\"fill:#ffa500;stroke:#ffa500;\" x=\"952.294017\" xlink:href=\"#ma771f674b6\" y=\"74.850186\"/>\r\n     <use style=\"fill:#ffa500;stroke:#ffa500;\" x=\"1222.067419\" xlink:href=\"#ma771f674b6\" y=\"126.473623\"/>\r\n     <use style=\"fill:#ffa500;stroke:#ffa500;\" x=\"986.915259\" xlink:href=\"#ma771f674b6\" y=\"98.975108\"/>\r\n     <use style=\"fill:#ffa500;stroke:#ffa500;\" x=\"785.240357\" xlink:href=\"#ma771f674b6\" y=\"474.739439\"/>\r\n     <use style=\"fill:#ffa500;stroke:#ffa500;\" x=\"803.333052\" xlink:href=\"#ma771f674b6\" y=\"135.285568\"/>\r\n     <use style=\"fill:#ffa500;stroke:#ffa500;\" x=\"983.413021\" xlink:href=\"#ma771f674b6\" y=\"345.299585\"/>\r\n     <use style=\"fill:#ffa500;stroke:#ffa500;\" x=\"1373.676532\" xlink:href=\"#ma771f674b6\" y=\"656.847077\"/>\r\n     <use style=\"fill:#ffa500;stroke:#ffa500;\" x=\"822.995614\" xlink:href=\"#ma771f674b6\" y=\"638.862319\"/>\r\n     <use style=\"fill:#ffa500;stroke:#ffa500;\" x=\"1076.860541\" xlink:href=\"#ma771f674b6\" y=\"62.43399\"/>\r\n     <use style=\"fill:#ffa500;stroke:#ffa500;\" x=\"1221.674577\" xlink:href=\"#ma771f674b6\" y=\"551.042189\"/>\r\n     <use style=\"fill:#ffa500;stroke:#ffa500;\" x=\"1315.819285\" xlink:href=\"#ma771f674b6\" y=\"327.989618\"/>\r\n     <use style=\"fill:#ffa500;stroke:#ffa500;\" x=\"802.376819\" xlink:href=\"#ma771f674b6\" y=\"567.518909\"/>\r\n     <use style=\"fill:#ffa500;stroke:#ffa500;\" x=\"1196.113114\" xlink:href=\"#ma771f674b6\" y=\"510.189071\"/>\r\n     <use style=\"fill:#ffa500;stroke:#ffa500;\" x=\"800.870643\" xlink:href=\"#ma771f674b6\" y=\"392.090717\"/>\r\n     <use style=\"fill:#ffa500;stroke:#ffa500;\" x=\"1221.534434\" xlink:href=\"#ma771f674b6\" y=\"518.29751\"/>\r\n     <use style=\"fill:#ffa500;stroke:#ffa500;\" x=\"1169.063619\" xlink:href=\"#ma771f674b6\" y=\"154.83165\"/>\r\n     <use style=\"fill:#ffa500;stroke:#ffa500;\" x=\"1357.723865\" xlink:href=\"#ma771f674b6\" y=\"307.27165\"/>\r\n     <use style=\"fill:#ffa500;stroke:#ffa500;\" x=\"778.559013\" xlink:href=\"#ma771f674b6\" y=\"380.025355\"/>\r\n     <use style=\"fill:#ffa500;stroke:#ffa500;\" x=\"813.942566\" xlink:href=\"#ma771f674b6\" y=\"125.303684\"/>\r\n     <use style=\"fill:#ffa500;stroke:#ffa500;\" x=\"913.889814\" xlink:href=\"#ma771f674b6\" y=\"506.37241\"/>\r\n     <use style=\"fill:#ffa500;stroke:#ffa500;\" x=\"1163.290873\" xlink:href=\"#ma771f674b6\" y=\"620.630257\"/>\r\n     <use style=\"fill:#ffa500;stroke:#ffa500;\" x=\"817.609201\" xlink:href=\"#ma771f674b6\" y=\"645.767096\"/>\r\n     <use style=\"fill:#ffa500;stroke:#ffa500;\" x=\"968.378857\" xlink:href=\"#ma771f674b6\" y=\"299.062546\"/>\r\n     <use style=\"fill:#ffa500;stroke:#ffa500;\" x=\"1337.18525\" xlink:href=\"#ma771f674b6\" y=\"594.126774\"/>\r\n     <use style=\"fill:#ffa500;stroke:#ffa500;\" x=\"861.811708\" xlink:href=\"#ma771f674b6\" y=\"316.390275\"/>\r\n     <use style=\"fill:#ffa500;stroke:#ffa500;\" x=\"1231.498086\" xlink:href=\"#ma771f674b6\" y=\"370.262618\"/>\r\n     <use style=\"fill:#ffa500;stroke:#ffa500;\" x=\"1158.073691\" xlink:href=\"#ma771f674b6\" y=\"360.95965\"/>\r\n     <use style=\"fill:#ffa500;stroke:#ffa500;\" x=\"1224.274156\" xlink:href=\"#ma771f674b6\" y=\"499.591611\"/>\r\n     <use style=\"fill:#ffa500;stroke:#ffa500;\" x=\"1134.108792\" xlink:href=\"#ma771f674b6\" y=\"282.714377\"/>\r\n     <use style=\"fill:#ffa500;stroke:#ffa500;\" x=\"1304.079686\" xlink:href=\"#ma771f674b6\" y=\"383.928126\"/>\r\n     <use style=\"fill:#ffa500;stroke:#ffa500;\" x=\"1327.186154\" xlink:href=\"#ma771f674b6\" y=\"366.235493\"/>\r\n     <use style=\"fill:#ffa500;stroke:#ffa500;\" x=\"1344.632317\" xlink:href=\"#ma771f674b6\" y=\"636.941667\"/>\r\n     <use style=\"fill:#ffa500;stroke:#ffa500;\" x=\"1373.298414\" xlink:href=\"#ma771f674b6\" y=\"420.408535\"/>\r\n     <use style=\"fill:#ffa500;stroke:#ffa500;\" x=\"844.845545\" xlink:href=\"#ma771f674b6\" y=\"146.283367\"/>\r\n     <use style=\"fill:#ffa500;stroke:#ffa500;\" x=\"947.195727\" xlink:href=\"#ma771f674b6\" y=\"474.79959\"/>\r\n     <use style=\"fill:#ffa500;stroke:#ffa500;\" x=\"758.794135\" xlink:href=\"#ma771f674b6\" y=\"473.727524\"/>\r\n     <use style=\"fill:#ffa500;stroke:#ffa500;\" x=\"812.59973\" xlink:href=\"#ma771f674b6\" y=\"260.828813\"/>\r\n     <use style=\"fill:#ffa500;stroke:#ffa500;\" x=\"1209.610862\" xlink:href=\"#ma771f674b6\" y=\"424.83245\"/>\r\n     <use style=\"fill:#ffa500;stroke:#ffa500;\" x=\"1275.015966\" xlink:href=\"#ma771f674b6\" y=\"423.8272\"/>\r\n     <use style=\"fill:#ffa500;stroke:#ffa500;\" x=\"883.174714\" xlink:href=\"#ma771f674b6\" y=\"209.425657\"/>\r\n     <use style=\"fill:#ffa500;stroke:#ffa500;\" x=\"891.394182\" xlink:href=\"#ma771f674b6\" y=\"476.332253\"/>\r\n     <use style=\"fill:#ffa500;stroke:#ffa500;\" x=\"1036.031133\" xlink:href=\"#ma771f674b6\" y=\"437.423621\"/>\r\n     <use style=\"fill:#ffa500;stroke:#ffa500;\" x=\"749.47428\" xlink:href=\"#ma771f674b6\" y=\"455.73855\"/>\r\n     <use style=\"fill:#ffa500;stroke:#ffa500;\" x=\"1290.394853\" xlink:href=\"#ma771f674b6\" y=\"437.645741\"/>\r\n     <use style=\"fill:#ffa500;stroke:#ffa500;\" x=\"1229.713449\" xlink:href=\"#ma771f674b6\" y=\"301.088322\"/>\r\n     <use style=\"fill:#ffa500;stroke:#ffa500;\" x=\"834.079683\" xlink:href=\"#ma771f674b6\" y=\"592.613107\"/>\r\n     <use style=\"fill:#ffa500;stroke:#ffa500;\" x=\"1370.220306\" xlink:href=\"#ma771f674b6\" y=\"184.905747\"/>\r\n     <use style=\"fill:#ffa500;stroke:#ffa500;\" x=\"1195.659631\" xlink:href=\"#ma771f674b6\" y=\"429.610694\"/>\r\n     <use style=\"fill:#ffa500;stroke:#ffa500;\" x=\"1228.322793\" xlink:href=\"#ma771f674b6\" y=\"538.278636\"/>\r\n     <use style=\"fill:#ffa500;stroke:#ffa500;\" x=\"913.073696\" xlink:href=\"#ma771f674b6\" y=\"559.200015\"/>\r\n     <use style=\"fill:#ffa500;stroke:#ffa500;\" x=\"812.90667\" xlink:href=\"#ma771f674b6\" y=\"641.084642\"/>\r\n     <use style=\"fill:#ffa500;stroke:#ffa500;\" x=\"806.337245\" xlink:href=\"#ma771f674b6\" y=\"180.606745\"/>\r\n     <use style=\"fill:#ffa500;stroke:#ffa500;\" x=\"1232.489298\" xlink:href=\"#ma771f674b6\" y=\"234.327838\"/>\r\n     <use style=\"fill:#ffa500;stroke:#ffa500;\" x=\"1289.241222\" xlink:href=\"#ma771f674b6\" y=\"315.77868\"/>\r\n     <use style=\"fill:#ffa500;stroke:#ffa500;\" x=\"1111.777989\" xlink:href=\"#ma771f674b6\" y=\"483.822035\"/>\r\n     <use style=\"fill:#ffa500;stroke:#ffa500;\" x=\"840.683575\" xlink:href=\"#ma771f674b6\" y=\"518.45458\"/>\r\n     <use style=\"fill:#ffa500;stroke:#ffa500;\" x=\"855.004612\" xlink:href=\"#ma771f674b6\" y=\"327.102039\"/>\r\n     <use style=\"fill:#ffa500;stroke:#ffa500;\" x=\"1007.654412\" xlink:href=\"#ma771f674b6\" y=\"358.000519\"/>\r\n     <use style=\"fill:#ffa500;stroke:#ffa500;\" x=\"1246.134513\" xlink:href=\"#ma771f674b6\" y=\"495.018841\"/>\r\n     <use style=\"fill:#ffa500;stroke:#ffa500;\" x=\"1318.027919\" xlink:href=\"#ma771f674b6\" y=\"129.381682\"/>\r\n     <use style=\"fill:#ffa500;stroke:#ffa500;\" x=\"795.612353\" xlink:href=\"#ma771f674b6\" y=\"581.83278\"/>\r\n     <use style=\"fill:#ffa500;stroke:#ffa500;\" x=\"879.196167\" xlink:href=\"#ma771f674b6\" y=\"328.790726\"/>\r\n     <use style=\"fill:#ffa500;stroke:#ffa500;\" x=\"1128.970922\" xlink:href=\"#ma771f674b6\" y=\"211.93718\"/>\r\n     <use style=\"fill:#ffa500;stroke:#ffa500;\" x=\"933.15084\" xlink:href=\"#ma771f674b6\" y=\"360.173547\"/>\r\n     <use style=\"fill:#ffa500;stroke:#ffa500;\" x=\"1127.401604\" xlink:href=\"#ma771f674b6\" y=\"80.523557\"/>\r\n     <use style=\"fill:#ffa500;stroke:#ffa500;\" x=\"1261.138697\" xlink:href=\"#ma771f674b6\" y=\"659.909782\"/>\r\n     <use style=\"fill:#ffa500;stroke:#ffa500;\" x=\"759.277993\" xlink:href=\"#ma771f674b6\" y=\"381.050709\"/>\r\n     <use style=\"fill:#ffa500;stroke:#ffa500;\" x=\"1065.235584\" xlink:href=\"#ma771f674b6\" y=\"363.329649\"/>\r\n     <use style=\"fill:#ffa500;stroke:#ffa500;\" x=\"1197.154911\" xlink:href=\"#ma771f674b6\" y=\"233.493186\"/>\r\n     <use style=\"fill:#ffa500;stroke:#ffa500;\" x=\"1172.444934\" xlink:href=\"#ma771f674b6\" y=\"555.266908\"/>\r\n     <use style=\"fill:#ffa500;stroke:#ffa500;\" x=\"873.954167\" xlink:href=\"#ma771f674b6\" y=\"285.279007\"/>\r\n     <use style=\"fill:#ffa500;stroke:#ffa500;\" x=\"1011.453425\" xlink:href=\"#ma771f674b6\" y=\"600.321901\"/>\r\n     <use style=\"fill:#ffa500;stroke:#ffa500;\" x=\"1174.761569\" xlink:href=\"#ma771f674b6\" y=\"303.450323\"/>\r\n     <use style=\"fill:#ffa500;stroke:#ffa500;\" x=\"746.235081\" xlink:href=\"#ma771f674b6\" y=\"475.932275\"/>\r\n     <use style=\"fill:#ffa500;stroke:#ffa500;\" x=\"962.761832\" xlink:href=\"#ma771f674b6\" y=\"255.742645\"/>\r\n     <use style=\"fill:#ffa500;stroke:#ffa500;\" x=\"1327.003774\" xlink:href=\"#ma771f674b6\" y=\"106.385914\"/>\r\n     <use style=\"fill:#ffa500;stroke:#ffa500;\" x=\"946.504668\" xlink:href=\"#ma771f674b6\" y=\"300.982072\"/>\r\n     <use style=\"fill:#ffa500;stroke:#ffa500;\" x=\"816.891279\" xlink:href=\"#ma771f674b6\" y=\"292.928001\"/>\r\n     <use style=\"fill:#ffa500;stroke:#ffa500;\" x=\"767.286307\" xlink:href=\"#ma771f674b6\" y=\"585.406551\"/>\r\n     <use style=\"fill:#ffa500;stroke:#ffa500;\" x=\"1128.685588\" xlink:href=\"#ma771f674b6\" y=\"92.578776\"/>\r\n     <use style=\"fill:#ffa500;stroke:#ffa500;\" x=\"1360.418011\" xlink:href=\"#ma771f674b6\" y=\"452.852757\"/>\r\n     <use style=\"fill:#ffa500;stroke:#ffa500;\" x=\"780.382964\" xlink:href=\"#ma771f674b6\" y=\"327.319907\"/>\r\n     <use style=\"fill:#ffa500;stroke:#ffa500;\" x=\"955.253535\" xlink:href=\"#ma771f674b6\" y=\"298.499518\"/>\r\n    </g>\r\n   </g>\r\n   <g id=\"PathCollection_7\">\r\n    <g clip-path=\"url(#p5334f52ade)\">\r\n     <use style=\"fill:#ff0000;stroke:#ff0000;\" x=\"967.615222\" xlink:href=\"#m5495811549\" y=\"500.958756\"/>\r\n     <use style=\"fill:#ff0000;stroke:#ff0000;\" x=\"1346.021608\" xlink:href=\"#m5495811549\" y=\"642.305784\"/>\r\n     <use style=\"fill:#ff0000;stroke:#ff0000;\" x=\"1035.733029\" xlink:href=\"#m5495811549\" y=\"158.913144\"/>\r\n     <use style=\"fill:#ff0000;stroke:#ff0000;\" x=\"1041.698648\" xlink:href=\"#m5495811549\" y=\"310.080161\"/>\r\n     <use style=\"fill:#ff0000;stroke:#ff0000;\" x=\"934.109359\" xlink:href=\"#m5495811549\" y=\"183.372453\"/>\r\n     <use style=\"fill:#ff0000;stroke:#ff0000;\" x=\"1365.035836\" xlink:href=\"#m5495811549\" y=\"412.307302\"/>\r\n     <use style=\"fill:#ff0000;stroke:#ff0000;\" x=\"1215.846009\" xlink:href=\"#m5495811549\" y=\"660.418957\"/>\r\n     <use style=\"fill:#ff0000;stroke:#ff0000;\" x=\"953.217244\" xlink:href=\"#m5495811549\" y=\"641.698723\"/>\r\n     <use style=\"fill:#ff0000;stroke:#ff0000;\" x=\"916.328928\" xlink:href=\"#m5495811549\" y=\"556.849066\"/>\r\n     <use style=\"fill:#ff0000;stroke:#ff0000;\" x=\"1133.019825\" xlink:href=\"#m5495811549\" y=\"143.07414\"/>\r\n     <use style=\"fill:#ff0000;stroke:#ff0000;\" x=\"1201.229695\" xlink:href=\"#m5495811549\" y=\"250.028742\"/>\r\n     <use style=\"fill:#ff0000;stroke:#ff0000;\" x=\"879.810779\" xlink:href=\"#m5495811549\" y=\"232.839292\"/>\r\n     <use style=\"fill:#ff0000;stroke:#ff0000;\" x=\"828.019553\" xlink:href=\"#m5495811549\" y=\"110.676377\"/>\r\n     <use style=\"fill:#ff0000;stroke:#ff0000;\" x=\"1078.387166\" xlink:href=\"#m5495811549\" y=\"586.00404\"/>\r\n     <use style=\"fill:#ff0000;stroke:#ff0000;\" x=\"1163.174826\" xlink:href=\"#m5495811549\" y=\"87.462669\"/>\r\n     <use style=\"fill:#ff0000;stroke:#ff0000;\" x=\"853.195262\" xlink:href=\"#m5495811549\" y=\"199.662578\"/>\r\n     <use style=\"fill:#ff0000;stroke:#ff0000;\" x=\"1292.117824\" xlink:href=\"#m5495811549\" y=\"444.054287\"/>\r\n     <use style=\"fill:#ff0000;stroke:#ff0000;\" x=\"896.525895\" xlink:href=\"#m5495811549\" y=\"426.162323\"/>\r\n     <use style=\"fill:#ff0000;stroke:#ff0000;\" x=\"1201.085795\" xlink:href=\"#m5495811549\" y=\"621.660111\"/>\r\n     <use style=\"fill:#ff0000;stroke:#ff0000;\" x=\"835.12276\" xlink:href=\"#m5495811549\" y=\"384.452765\"/>\r\n     <use style=\"fill:#ff0000;stroke:#ff0000;\" x=\"1330.920313\" xlink:href=\"#m5495811549\" y=\"259.358642\"/>\r\n     <use style=\"fill:#ff0000;stroke:#ff0000;\" x=\"1203.856824\" xlink:href=\"#m5495811549\" y=\"384.735828\"/>\r\n     <use style=\"fill:#ff0000;stroke:#ff0000;\" x=\"924.05613\" xlink:href=\"#m5495811549\" y=\"556.018233\"/>\r\n     <use style=\"fill:#ff0000;stroke:#ff0000;\" x=\"1236.023886\" xlink:href=\"#m5495811549\" y=\"535.231982\"/>\r\n     <use style=\"fill:#ff0000;stroke:#ff0000;\" x=\"1069.324523\" xlink:href=\"#m5495811549\" y=\"630.907651\"/>\r\n     <use style=\"fill:#ff0000;stroke:#ff0000;\" x=\"1113.931977\" xlink:href=\"#m5495811549\" y=\"601.801755\"/>\r\n     <use style=\"fill:#ff0000;stroke:#ff0000;\" x=\"1259.762878\" xlink:href=\"#m5495811549\" y=\"120.919221\"/>\r\n     <use style=\"fill:#ff0000;stroke:#ff0000;\" x=\"778.078842\" xlink:href=\"#m5495811549\" y=\"322.971762\"/>\r\n     <use style=\"fill:#ff0000;stroke:#ff0000;\" x=\"1091.964378\" xlink:href=\"#m5495811549\" y=\"244.738649\"/>\r\n     <use style=\"fill:#ff0000;stroke:#ff0000;\" x=\"1240.466921\" xlink:href=\"#m5495811549\" y=\"479.104266\"/>\r\n     <use style=\"fill:#ff0000;stroke:#ff0000;\" x=\"902.832452\" xlink:href=\"#m5495811549\" y=\"364.935452\"/>\r\n     <use style=\"fill:#ff0000;stroke:#ff0000;\" x=\"789.216238\" xlink:href=\"#m5495811549\" y=\"60.781332\"/>\r\n     <use style=\"fill:#ff0000;stroke:#ff0000;\" x=\"746.449187\" xlink:href=\"#m5495811549\" y=\"286.323384\"/>\r\n     <use style=\"fill:#ff0000;stroke:#ff0000;\" x=\"1217.607307\" xlink:href=\"#m5495811549\" y=\"181.284995\"/>\r\n     <use style=\"fill:#ff0000;stroke:#ff0000;\" x=\"1073.945232\" xlink:href=\"#m5495811549\" y=\"600.968558\"/>\r\n     <use style=\"fill:#ff0000;stroke:#ff0000;\" x=\"869.468544\" xlink:href=\"#m5495811549\" y=\"315.082632\"/>\r\n     <use style=\"fill:#ff0000;stroke:#ff0000;\" x=\"870.804119\" xlink:href=\"#m5495811549\" y=\"85.067088\"/>\r\n     <use style=\"fill:#ff0000;stroke:#ff0000;\" x=\"1161.443735\" xlink:href=\"#m5495811549\" y=\"89.549803\"/>\r\n     <use style=\"fill:#ff0000;stroke:#ff0000;\" x=\"961.595356\" xlink:href=\"#m5495811549\" y=\"340.0733\"/>\r\n     <use style=\"fill:#ff0000;stroke:#ff0000;\" x=\"1068.759281\" xlink:href=\"#m5495811549\" y=\"243.268587\"/>\r\n     <use style=\"fill:#ff0000;stroke:#ff0000;\" x=\"975.62827\" xlink:href=\"#m5495811549\" y=\"106.961408\"/>\r\n     <use style=\"fill:#ff0000;stroke:#ff0000;\" x=\"1067.69297\" xlink:href=\"#m5495811549\" y=\"418.028033\"/>\r\n     <use style=\"fill:#ff0000;stroke:#ff0000;\" x=\"877.932372\" xlink:href=\"#m5495811549\" y=\"155.433842\"/>\r\n     <use style=\"fill:#ff0000;stroke:#ff0000;\" x=\"858.531488\" xlink:href=\"#m5495811549\" y=\"58.981818\"/>\r\n     <use style=\"fill:#ff0000;stroke:#ff0000;\" x=\"793.618474\" xlink:href=\"#m5495811549\" y=\"628.47165\"/>\r\n     <use style=\"fill:#ff0000;stroke:#ff0000;\" x=\"1074.487628\" xlink:href=\"#m5495811549\" y=\"141.575975\"/>\r\n     <use style=\"fill:#ff0000;stroke:#ff0000;\" x=\"942.888453\" xlink:href=\"#m5495811549\" y=\"592.63068\"/>\r\n     <use style=\"fill:#ff0000;stroke:#ff0000;\" x=\"834.089644\" xlink:href=\"#m5495811549\" y=\"64.240241\"/>\r\n     <use style=\"fill:#ff0000;stroke:#ff0000;\" x=\"830.293705\" xlink:href=\"#m5495811549\" y=\"422.463621\"/>\r\n    </g>\r\n   </g>\r\n   <g id=\"PathCollection_8\">\r\n    <g clip-path=\"url(#p5334f52ade)\">\r\n     <use style=\"fill:#808080;stroke:#808080;\" x=\"797.259493\" xlink:href=\"#m4c1a72403c\" y=\"541.755191\"/>\r\n     <use style=\"fill:#808080;stroke:#808080;\" x=\"1139.782227\" xlink:href=\"#m4c1a72403c\" y=\"296.668227\"/>\r\n     <use style=\"fill:#808080;stroke:#808080;\" x=\"1102.584006\" xlink:href=\"#m4c1a72403c\" y=\"210.9302\"/>\r\n     <use style=\"fill:#808080;stroke:#808080;\" x=\"1221.537849\" xlink:href=\"#m4c1a72403c\" y=\"133.887816\"/>\r\n     <use style=\"fill:#808080;stroke:#808080;\" x=\"762.339861\" xlink:href=\"#m4c1a72403c\" y=\"190.690268\"/>\r\n     <use style=\"fill:#808080;stroke:#808080;\" x=\"932.951839\" xlink:href=\"#m4c1a72403c\" y=\"355.177957\"/>\r\n     <use style=\"fill:#808080;stroke:#808080;\" x=\"1074.448769\" xlink:href=\"#m4c1a72403c\" y=\"156.38249\"/>\r\n     <use style=\"fill:#808080;stroke:#808080;\" x=\"1106.110815\" xlink:href=\"#m4c1a72403c\" y=\"159.294945\"/>\r\n     <use style=\"fill:#808080;stroke:#808080;\" x=\"1073.39813\" xlink:href=\"#m4c1a72403c\" y=\"258.585636\"/>\r\n     <use style=\"fill:#808080;stroke:#808080;\" x=\"1011.261861\" xlink:href=\"#m4c1a72403c\" y=\"326.470627\"/>\r\n     <use style=\"fill:#808080;stroke:#808080;\" x=\"928.243924\" xlink:href=\"#m4c1a72403c\" y=\"382.224162\"/>\r\n     <use style=\"fill:#808080;stroke:#808080;\" x=\"925.057246\" xlink:href=\"#m4c1a72403c\" y=\"655.433219\"/>\r\n     <use style=\"fill:#808080;stroke:#808080;\" x=\"1110.134748\" xlink:href=\"#m4c1a72403c\" y=\"242.288016\"/>\r\n     <use style=\"fill:#808080;stroke:#808080;\" x=\"939.498201\" xlink:href=\"#m4c1a72403c\" y=\"576.30966\"/>\r\n     <use style=\"fill:#808080;stroke:#808080;\" x=\"1209.999719\" xlink:href=\"#m4c1a72403c\" y=\"428.962403\"/>\r\n    </g>\r\n   </g>\r\n   <g id=\"patch_8\">\r\n    <path d=\"M 707.2 692.8 \r\nL 707.2 28.8 \r\n\" style=\"fill:none;stroke:#000000;stroke-linecap:square;stroke-linejoin:miter;stroke-width:0.8;\"/>\r\n   </g>\r\n   <g id=\"patch_9\">\r\n    <path d=\"M 1407.2 692.8 \r\nL 1407.2 28.8 \r\n\" style=\"fill:none;stroke:#000000;stroke-linecap:square;stroke-linejoin:miter;stroke-width:0.8;\"/>\r\n   </g>\r\n   <g id=\"patch_10\">\r\n    <path d=\"M 707.2 692.8 \r\nL 1407.2 692.8 \r\n\" style=\"fill:none;stroke:#000000;stroke-linecap:square;stroke-linejoin:miter;stroke-width:0.8;\"/>\r\n   </g>\r\n   <g id=\"patch_11\">\r\n    <path d=\"M 707.2 28.8 \r\nL 1407.2 28.8 \r\n\" style=\"fill:none;stroke:#000000;stroke-linecap:square;stroke-linejoin:miter;stroke-width:0.8;\"/>\r\n   </g>\r\n   <g id=\"text_2\">\r\n    <!-- test -->\r\n    <g transform=\"translate(1045.678125 22.8)scale(0.12 -0.12)\">\r\n     <use xlink:href=\"#DejaVuSans-116\"/>\r\n     <use x=\"39.208984\" xlink:href=\"#DejaVuSans-101\"/>\r\n     <use x=\"100.732422\" xlink:href=\"#DejaVuSans-115\"/>\r\n     <use x=\"152.832031\" xlink:href=\"#DejaVuSans-116\"/>\r\n    </g>\r\n   </g>\r\n  </g>\r\n  <g id=\"text_3\">\r\n   <!-- t= 249 days -->\r\n   <defs>\r\n    <path d=\"M 10.59375 45.40625 \r\nL 73.1875 45.40625 \r\nL 73.1875 37.203125 \r\nL 10.59375 37.203125 \r\nz\r\nM 10.59375 25.484375 \r\nL 73.1875 25.484375 \r\nL 73.1875 17.1875 \r\nL 10.59375 17.1875 \r\nz\r\n\" id=\"DejaVuSans-61\"/>\r\n    <path id=\"DejaVuSans-32\"/>\r\n    <path d=\"M 19.1875 8.296875 \r\nL 53.609375 8.296875 \r\nL 53.609375 0 \r\nL 7.328125 0 \r\nL 7.328125 8.296875 \r\nQ 12.9375 14.109375 22.625 23.890625 \r\nQ 32.328125 33.6875 34.8125 36.53125 \r\nQ 39.546875 41.84375 41.421875 45.53125 \r\nQ 43.3125 49.21875 43.3125 52.78125 \r\nQ 43.3125 58.59375 39.234375 62.25 \r\nQ 35.15625 65.921875 28.609375 65.921875 \r\nQ 23.96875 65.921875 18.8125 64.3125 \r\nQ 13.671875 62.703125 7.8125 59.421875 \r\nL 7.8125 69.390625 \r\nQ 13.765625 71.78125 18.9375 73 \r\nQ 24.125 74.21875 28.421875 74.21875 \r\nQ 39.75 74.21875 46.484375 68.546875 \r\nQ 53.21875 62.890625 53.21875 53.421875 \r\nQ 53.21875 48.921875 51.53125 44.890625 \r\nQ 49.859375 40.875 45.40625 35.40625 \r\nQ 44.1875 33.984375 37.640625 27.21875 \r\nQ 31.109375 20.453125 19.1875 8.296875 \r\nz\r\n\" id=\"DejaVuSans-50\"/>\r\n    <path d=\"M 37.796875 64.3125 \r\nL 12.890625 25.390625 \r\nL 37.796875 25.390625 \r\nz\r\nM 35.203125 72.90625 \r\nL 47.609375 72.90625 \r\nL 47.609375 25.390625 \r\nL 58.015625 25.390625 \r\nL 58.015625 17.1875 \r\nL 47.609375 17.1875 \r\nL 47.609375 0 \r\nL 37.796875 0 \r\nL 37.796875 17.1875 \r\nL 4.890625 17.1875 \r\nL 4.890625 26.703125 \r\nz\r\n\" id=\"DejaVuSans-52\"/>\r\n    <path d=\"M 10.984375 1.515625 \r\nL 10.984375 10.5 \r\nQ 14.703125 8.734375 18.5 7.8125 \r\nQ 22.3125 6.890625 25.984375 6.890625 \r\nQ 35.75 6.890625 40.890625 13.453125 \r\nQ 46.046875 20.015625 46.78125 33.40625 \r\nQ 43.953125 29.203125 39.59375 26.953125 \r\nQ 35.25 24.703125 29.984375 24.703125 \r\nQ 19.046875 24.703125 12.671875 31.3125 \r\nQ 6.296875 37.9375 6.296875 49.421875 \r\nQ 6.296875 60.640625 12.9375 67.421875 \r\nQ 19.578125 74.21875 30.609375 74.21875 \r\nQ 43.265625 74.21875 49.921875 64.515625 \r\nQ 56.59375 54.828125 56.59375 36.375 \r\nQ 56.59375 19.140625 48.40625 8.859375 \r\nQ 40.234375 -1.421875 26.421875 -1.421875 \r\nQ 22.703125 -1.421875 18.890625 -0.6875 \r\nQ 15.09375 0.046875 10.984375 1.515625 \r\nz\r\nM 30.609375 32.421875 \r\nQ 37.25 32.421875 41.125 36.953125 \r\nQ 45.015625 41.5 45.015625 49.421875 \r\nQ 45.015625 57.28125 41.125 61.84375 \r\nQ 37.25 66.40625 30.609375 66.40625 \r\nQ 23.96875 66.40625 20.09375 61.84375 \r\nQ 16.21875 57.28125 16.21875 49.421875 \r\nQ 16.21875 41.5 20.09375 36.953125 \r\nQ 23.96875 32.421875 30.609375 32.421875 \r\nz\r\n\" id=\"DejaVuSans-57\"/>\r\n    <path d=\"M 45.40625 46.390625 \r\nL 45.40625 75.984375 \r\nL 54.390625 75.984375 \r\nL 54.390625 0 \r\nL 45.40625 0 \r\nL 45.40625 8.203125 \r\nQ 42.578125 3.328125 38.25 0.953125 \r\nQ 33.9375 -1.421875 27.875 -1.421875 \r\nQ 17.96875 -1.421875 11.734375 6.484375 \r\nQ 5.515625 14.40625 5.515625 27.296875 \r\nQ 5.515625 40.1875 11.734375 48.09375 \r\nQ 17.96875 56 27.875 56 \r\nQ 33.9375 56 38.25 53.625 \r\nQ 42.578125 51.265625 45.40625 46.390625 \r\nz\r\nM 14.796875 27.296875 \r\nQ 14.796875 17.390625 18.875 11.75 \r\nQ 22.953125 6.109375 30.078125 6.109375 \r\nQ 37.203125 6.109375 41.296875 11.75 \r\nQ 45.40625 17.390625 45.40625 27.296875 \r\nQ 45.40625 37.203125 41.296875 42.84375 \r\nQ 37.203125 48.484375 30.078125 48.484375 \r\nQ 22.953125 48.484375 18.875 42.84375 \r\nQ 14.796875 37.203125 14.796875 27.296875 \r\nz\r\n\" id=\"DejaVuSans-100\"/>\r\n    <path d=\"M 34.28125 27.484375 \r\nQ 23.390625 27.484375 19.1875 25 \r\nQ 14.984375 22.515625 14.984375 16.5 \r\nQ 14.984375 11.71875 18.140625 8.90625 \r\nQ 21.296875 6.109375 26.703125 6.109375 \r\nQ 34.1875 6.109375 38.703125 11.40625 \r\nQ 43.21875 16.703125 43.21875 25.484375 \r\nL 43.21875 27.484375 \r\nz\r\nM 52.203125 31.203125 \r\nL 52.203125 0 \r\nL 43.21875 0 \r\nL 43.21875 8.296875 \r\nQ 40.140625 3.328125 35.546875 0.953125 \r\nQ 30.953125 -1.421875 24.3125 -1.421875 \r\nQ 15.921875 -1.421875 10.953125 3.296875 \r\nQ 6 8.015625 6 15.921875 \r\nQ 6 25.140625 12.171875 29.828125 \r\nQ 18.359375 34.515625 30.609375 34.515625 \r\nL 43.21875 34.515625 \r\nL 43.21875 35.40625 \r\nQ 43.21875 41.609375 39.140625 45 \r\nQ 35.0625 48.390625 27.6875 48.390625 \r\nQ 23 48.390625 18.546875 47.265625 \r\nQ 14.109375 46.140625 10.015625 43.890625 \r\nL 10.015625 52.203125 \r\nQ 14.9375 54.109375 19.578125 55.046875 \r\nQ 24.21875 56 28.609375 56 \r\nQ 40.484375 56 46.34375 49.84375 \r\nQ 52.203125 43.703125 52.203125 31.203125 \r\nz\r\n\" id=\"DejaVuSans-97\"/>\r\n    <path d=\"M 32.171875 -5.078125 \r\nQ 28.375 -14.84375 24.75 -17.8125 \r\nQ 21.140625 -20.796875 15.09375 -20.796875 \r\nL 7.90625 -20.796875 \r\nL 7.90625 -13.28125 \r\nL 13.1875 -13.28125 \r\nQ 16.890625 -13.28125 18.9375 -11.515625 \r\nQ 21 -9.765625 23.484375 -3.21875 \r\nL 25.09375 0.875 \r\nL 2.984375 54.6875 \r\nL 12.5 54.6875 \r\nL 29.59375 11.921875 \r\nL 46.6875 54.6875 \r\nL 56.203125 54.6875 \r\nz\r\n\" id=\"DejaVuSans-121\"/>\r\n   </defs>\r\n   <g transform=\"translate(661.188672 18.597656)scale(0.15 -0.15)\">\r\n    <use xlink:href=\"#DejaVuSans-116\"/>\r\n    <use x=\"39.208984\" xlink:href=\"#DejaVuSans-61\"/>\r\n    <use x=\"122.998047\" xlink:href=\"#DejaVuSans-32\"/>\r\n    <use x=\"154.785156\" xlink:href=\"#DejaVuSans-50\"/>\r\n    <use x=\"218.408203\" xlink:href=\"#DejaVuSans-52\"/>\r\n    <use x=\"282.03125\" xlink:href=\"#DejaVuSans-57\"/>\r\n    <use x=\"345.654297\" xlink:href=\"#DejaVuSans-32\"/>\r\n    <use x=\"377.441406\" xlink:href=\"#DejaVuSans-100\"/>\r\n    <use x=\"440.917969\" xlink:href=\"#DejaVuSans-97\"/>\r\n    <use x=\"502.197266\" xlink:href=\"#DejaVuSans-121\"/>\r\n    <use x=\"561.376953\" xlink:href=\"#DejaVuSans-115\"/>\r\n   </g>\r\n  </g>\r\n  <g id=\"legend_1\">\r\n   <g id=\"patch_12\">\r\n    <path d=\"M 376.541406 705 \r\nL 1037.858594 705 \r\nQ 1040.858594 705 1040.858594 702 \r\nL 1040.858594 681.482812 \r\nQ 1040.858594 678.482812 1037.858594 678.482812 \r\nL 376.541406 678.482812 \r\nQ 373.541406 678.482812 373.541406 681.482812 \r\nL 373.541406 702 \r\nQ 373.541406 705 376.541406 705 \r\nz\r\n\" style=\"fill:#ffffff;opacity:0.8;stroke:#cccccc;stroke-linejoin:miter;\"/>\r\n   </g>\r\n   <g id=\"PathCollection_9\">\r\n    <g>\r\n     <use style=\"fill:#0000ff;stroke:#0000ff;\" x=\"394.541406\" xlink:href=\"#m996baec9d3\" y=\"691.942969\"/>\r\n    </g>\r\n   </g>\r\n   <g id=\"text_4\">\r\n    <!-- Susceptible -->\r\n    <defs>\r\n     <path d=\"M 53.515625 70.515625 \r\nL 53.515625 60.890625 \r\nQ 47.90625 63.578125 42.921875 64.890625 \r\nQ 37.9375 66.21875 33.296875 66.21875 \r\nQ 25.25 66.21875 20.875 63.09375 \r\nQ 16.5 59.96875 16.5 54.203125 \r\nQ 16.5 49.359375 19.40625 46.890625 \r\nQ 22.3125 44.4375 30.421875 42.921875 \r\nL 36.375 41.703125 \r\nQ 47.40625 39.59375 52.65625 34.296875 \r\nQ 57.90625 29 57.90625 20.125 \r\nQ 57.90625 9.515625 50.796875 4.046875 \r\nQ 43.703125 -1.421875 29.984375 -1.421875 \r\nQ 24.8125 -1.421875 18.96875 -0.25 \r\nQ 13.140625 0.921875 6.890625 3.21875 \r\nL 6.890625 13.375 \r\nQ 12.890625 10.015625 18.65625 8.296875 \r\nQ 24.421875 6.59375 29.984375 6.59375 \r\nQ 38.421875 6.59375 43.015625 9.90625 \r\nQ 47.609375 13.234375 47.609375 19.390625 \r\nQ 47.609375 24.75 44.3125 27.78125 \r\nQ 41.015625 30.8125 33.5 32.328125 \r\nL 27.484375 33.5 \r\nQ 16.453125 35.6875 11.515625 40.375 \r\nQ 6.59375 45.0625 6.59375 53.421875 \r\nQ 6.59375 63.09375 13.40625 68.65625 \r\nQ 20.21875 74.21875 32.171875 74.21875 \r\nQ 37.3125 74.21875 42.625 73.28125 \r\nQ 47.953125 72.359375 53.515625 70.515625 \r\nz\r\n\" id=\"DejaVuSans-83\"/>\r\n     <path d=\"M 8.5 21.578125 \r\nL 8.5 54.6875 \r\nL 17.484375 54.6875 \r\nL 17.484375 21.921875 \r\nQ 17.484375 14.15625 20.5 10.265625 \r\nQ 23.53125 6.390625 29.59375 6.390625 \r\nQ 36.859375 6.390625 41.078125 11.03125 \r\nQ 45.3125 15.671875 45.3125 23.6875 \r\nL 45.3125 54.6875 \r\nL 54.296875 54.6875 \r\nL 54.296875 0 \r\nL 45.3125 0 \r\nL 45.3125 8.40625 \r\nQ 42.046875 3.421875 37.71875 1 \r\nQ 33.40625 -1.421875 27.6875 -1.421875 \r\nQ 18.265625 -1.421875 13.375 4.4375 \r\nQ 8.5 10.296875 8.5 21.578125 \r\nz\r\nM 31.109375 56 \r\nz\r\n\" id=\"DejaVuSans-117\"/>\r\n     <path d=\"M 48.78125 52.59375 \r\nL 48.78125 44.1875 \r\nQ 44.96875 46.296875 41.140625 47.34375 \r\nQ 37.3125 48.390625 33.40625 48.390625 \r\nQ 24.65625 48.390625 19.8125 42.84375 \r\nQ 14.984375 37.3125 14.984375 27.296875 \r\nQ 14.984375 17.28125 19.8125 11.734375 \r\nQ 24.65625 6.203125 33.40625 6.203125 \r\nQ 37.3125 6.203125 41.140625 7.25 \r\nQ 44.96875 8.296875 48.78125 10.40625 \r\nL 48.78125 2.09375 \r\nQ 45.015625 0.34375 40.984375 -0.53125 \r\nQ 36.96875 -1.421875 32.421875 -1.421875 \r\nQ 20.0625 -1.421875 12.78125 6.34375 \r\nQ 5.515625 14.109375 5.515625 27.296875 \r\nQ 5.515625 40.671875 12.859375 48.328125 \r\nQ 20.21875 56 33.015625 56 \r\nQ 37.15625 56 41.109375 55.140625 \r\nQ 45.0625 54.296875 48.78125 52.59375 \r\nz\r\n\" id=\"DejaVuSans-99\"/>\r\n     <path d=\"M 18.109375 8.203125 \r\nL 18.109375 -20.796875 \r\nL 9.078125 -20.796875 \r\nL 9.078125 54.6875 \r\nL 18.109375 54.6875 \r\nL 18.109375 46.390625 \r\nQ 20.953125 51.265625 25.265625 53.625 \r\nQ 29.59375 56 35.59375 56 \r\nQ 45.5625 56 51.78125 48.09375 \r\nQ 58.015625 40.1875 58.015625 27.296875 \r\nQ 58.015625 14.40625 51.78125 6.484375 \r\nQ 45.5625 -1.421875 35.59375 -1.421875 \r\nQ 29.59375 -1.421875 25.265625 0.953125 \r\nQ 20.953125 3.328125 18.109375 8.203125 \r\nz\r\nM 48.6875 27.296875 \r\nQ 48.6875 37.203125 44.609375 42.84375 \r\nQ 40.53125 48.484375 33.40625 48.484375 \r\nQ 26.265625 48.484375 22.1875 42.84375 \r\nQ 18.109375 37.203125 18.109375 27.296875 \r\nQ 18.109375 17.390625 22.1875 11.75 \r\nQ 26.265625 6.109375 33.40625 6.109375 \r\nQ 40.53125 6.109375 44.609375 11.75 \r\nQ 48.6875 17.390625 48.6875 27.296875 \r\nz\r\n\" id=\"DejaVuSans-112\"/>\r\n     <path d=\"M 9.421875 54.6875 \r\nL 18.40625 54.6875 \r\nL 18.40625 0 \r\nL 9.421875 0 \r\nz\r\nM 9.421875 75.984375 \r\nL 18.40625 75.984375 \r\nL 18.40625 64.59375 \r\nL 9.421875 64.59375 \r\nz\r\n\" id=\"DejaVuSans-105\"/>\r\n     <path d=\"M 48.6875 27.296875 \r\nQ 48.6875 37.203125 44.609375 42.84375 \r\nQ 40.53125 48.484375 33.40625 48.484375 \r\nQ 26.265625 48.484375 22.1875 42.84375 \r\nQ 18.109375 37.203125 18.109375 27.296875 \r\nQ 18.109375 17.390625 22.1875 11.75 \r\nQ 26.265625 6.109375 33.40625 6.109375 \r\nQ 40.53125 6.109375 44.609375 11.75 \r\nQ 48.6875 17.390625 48.6875 27.296875 \r\nz\r\nM 18.109375 46.390625 \r\nQ 20.953125 51.265625 25.265625 53.625 \r\nQ 29.59375 56 35.59375 56 \r\nQ 45.5625 56 51.78125 48.09375 \r\nQ 58.015625 40.1875 58.015625 27.296875 \r\nQ 58.015625 14.40625 51.78125 6.484375 \r\nQ 45.5625 -1.421875 35.59375 -1.421875 \r\nQ 29.59375 -1.421875 25.265625 0.953125 \r\nQ 20.953125 3.328125 18.109375 8.203125 \r\nL 18.109375 0 \r\nL 9.078125 0 \r\nL 9.078125 75.984375 \r\nL 18.109375 75.984375 \r\nz\r\n\" id=\"DejaVuSans-98\"/>\r\n     <path d=\"M 9.421875 75.984375 \r\nL 18.40625 75.984375 \r\nL 18.40625 0 \r\nL 9.421875 0 \r\nz\r\n\" id=\"DejaVuSans-108\"/>\r\n    </defs>\r\n    <g transform=\"translate(421.541406 695.880469)scale(0.15 -0.15)\">\r\n     <use xlink:href=\"#DejaVuSans-83\"/>\r\n     <use x=\"63.476562\" xlink:href=\"#DejaVuSans-117\"/>\r\n     <use x=\"126.855469\" xlink:href=\"#DejaVuSans-115\"/>\r\n     <use x=\"178.955078\" xlink:href=\"#DejaVuSans-99\"/>\r\n     <use x=\"233.935547\" xlink:href=\"#DejaVuSans-101\"/>\r\n     <use x=\"295.458984\" xlink:href=\"#DejaVuSans-112\"/>\r\n     <use x=\"358.935547\" xlink:href=\"#DejaVuSans-116\"/>\r\n     <use x=\"398.144531\" xlink:href=\"#DejaVuSans-105\"/>\r\n     <use x=\"425.927734\" xlink:href=\"#DejaVuSans-98\"/>\r\n     <use x=\"489.404297\" xlink:href=\"#DejaVuSans-108\"/>\r\n     <use x=\"517.1875\" xlink:href=\"#DejaVuSans-101\"/>\r\n    </g>\r\n   </g>\r\n   <g id=\"PathCollection_10\">\r\n    <g>\r\n     <use style=\"fill:#ffa500;stroke:#ffa500;\" x=\"553.351562\" xlink:href=\"#ma771f674b6\" y=\"691.942969\"/>\r\n    </g>\r\n   </g>\r\n   <g id=\"text_5\">\r\n    <!-- Exposed -->\r\n    <defs>\r\n     <path d=\"M 9.8125 72.90625 \r\nL 55.90625 72.90625 \r\nL 55.90625 64.59375 \r\nL 19.671875 64.59375 \r\nL 19.671875 43.015625 \r\nL 54.390625 43.015625 \r\nL 54.390625 34.71875 \r\nL 19.671875 34.71875 \r\nL 19.671875 8.296875 \r\nL 56.78125 8.296875 \r\nL 56.78125 0 \r\nL 9.8125 0 \r\nz\r\n\" id=\"DejaVuSans-69\"/>\r\n     <path d=\"M 54.890625 54.6875 \r\nL 35.109375 28.078125 \r\nL 55.90625 0 \r\nL 45.3125 0 \r\nL 29.390625 21.484375 \r\nL 13.484375 0 \r\nL 2.875 0 \r\nL 24.125 28.609375 \r\nL 4.6875 54.6875 \r\nL 15.28125 54.6875 \r\nL 29.78125 35.203125 \r\nL 44.28125 54.6875 \r\nz\r\n\" id=\"DejaVuSans-120\"/>\r\n     <path d=\"M 30.609375 48.390625 \r\nQ 23.390625 48.390625 19.1875 42.75 \r\nQ 14.984375 37.109375 14.984375 27.296875 \r\nQ 14.984375 17.484375 19.15625 11.84375 \r\nQ 23.34375 6.203125 30.609375 6.203125 \r\nQ 37.796875 6.203125 41.984375 11.859375 \r\nQ 46.1875 17.53125 46.1875 27.296875 \r\nQ 46.1875 37.015625 41.984375 42.703125 \r\nQ 37.796875 48.390625 30.609375 48.390625 \r\nz\r\nM 30.609375 56 \r\nQ 42.328125 56 49.015625 48.375 \r\nQ 55.71875 40.765625 55.71875 27.296875 \r\nQ 55.71875 13.875 49.015625 6.21875 \r\nQ 42.328125 -1.421875 30.609375 -1.421875 \r\nQ 18.84375 -1.421875 12.171875 6.21875 \r\nQ 5.515625 13.875 5.515625 27.296875 \r\nQ 5.515625 40.765625 12.171875 48.375 \r\nQ 18.84375 56 30.609375 56 \r\nz\r\n\" id=\"DejaVuSans-111\"/>\r\n    </defs>\r\n    <g transform=\"translate(580.351562 695.880469)scale(0.15 -0.15)\">\r\n     <use xlink:href=\"#DejaVuSans-69\"/>\r\n     <use x=\"63.183594\" xlink:href=\"#DejaVuSans-120\"/>\r\n     <use x=\"122.363281\" xlink:href=\"#DejaVuSans-112\"/>\r\n     <use x=\"185.839844\" xlink:href=\"#DejaVuSans-111\"/>\r\n     <use x=\"247.021484\" xlink:href=\"#DejaVuSans-115\"/>\r\n     <use x=\"299.121094\" xlink:href=\"#DejaVuSans-101\"/>\r\n     <use x=\"360.644531\" xlink:href=\"#DejaVuSans-100\"/>\r\n    </g>\r\n   </g>\r\n   <g id=\"PathCollection_11\">\r\n    <g>\r\n     <use style=\"fill:#ff0000;stroke:#ff0000;\" x=\"688.975\" xlink:href=\"#m5495811549\" y=\"691.942969\"/>\r\n    </g>\r\n   </g>\r\n   <g id=\"text_6\">\r\n    <!-- Infected -->\r\n    <defs>\r\n     <path d=\"M 9.8125 72.90625 \r\nL 19.671875 72.90625 \r\nL 19.671875 0 \r\nL 9.8125 0 \r\nz\r\n\" id=\"DejaVuSans-73\"/>\r\n     <path d=\"M 54.890625 33.015625 \r\nL 54.890625 0 \r\nL 45.90625 0 \r\nL 45.90625 32.71875 \r\nQ 45.90625 40.484375 42.875 44.328125 \r\nQ 39.84375 48.1875 33.796875 48.1875 \r\nQ 26.515625 48.1875 22.3125 43.546875 \r\nQ 18.109375 38.921875 18.109375 30.90625 \r\nL 18.109375 0 \r\nL 9.078125 0 \r\nL 9.078125 54.6875 \r\nL 18.109375 54.6875 \r\nL 18.109375 46.1875 \r\nQ 21.34375 51.125 25.703125 53.5625 \r\nQ 30.078125 56 35.796875 56 \r\nQ 45.21875 56 50.046875 50.171875 \r\nQ 54.890625 44.34375 54.890625 33.015625 \r\nz\r\n\" id=\"DejaVuSans-110\"/>\r\n     <path d=\"M 37.109375 75.984375 \r\nL 37.109375 68.5 \r\nL 28.515625 68.5 \r\nQ 23.6875 68.5 21.796875 66.546875 \r\nQ 19.921875 64.59375 19.921875 59.515625 \r\nL 19.921875 54.6875 \r\nL 34.71875 54.6875 \r\nL 34.71875 47.703125 \r\nL 19.921875 47.703125 \r\nL 19.921875 0 \r\nL 10.890625 0 \r\nL 10.890625 47.703125 \r\nL 2.296875 47.703125 \r\nL 2.296875 54.6875 \r\nL 10.890625 54.6875 \r\nL 10.890625 58.5 \r\nQ 10.890625 67.625 15.140625 71.796875 \r\nQ 19.390625 75.984375 28.609375 75.984375 \r\nz\r\n\" id=\"DejaVuSans-102\"/>\r\n    </defs>\r\n    <g transform=\"translate(715.975 695.880469)scale(0.15 -0.15)\">\r\n     <use xlink:href=\"#DejaVuSans-73\"/>\r\n     <use x=\"29.492188\" xlink:href=\"#DejaVuSans-110\"/>\r\n     <use x=\"92.871094\" xlink:href=\"#DejaVuSans-102\"/>\r\n     <use x=\"128.076172\" xlink:href=\"#DejaVuSans-101\"/>\r\n     <use x=\"189.599609\" xlink:href=\"#DejaVuSans-99\"/>\r\n     <use x=\"244.580078\" xlink:href=\"#DejaVuSans-116\"/>\r\n     <use x=\"283.789062\" xlink:href=\"#DejaVuSans-101\"/>\r\n     <use x=\"345.3125\" xlink:href=\"#DejaVuSans-100\"/>\r\n    </g>\r\n   </g>\r\n   <g id=\"PathCollection_12\">\r\n    <g>\r\n     <use style=\"fill:#808080;stroke:#808080;\" x=\"822.296875\" xlink:href=\"#m4c1a72403c\" y=\"691.942969\"/>\r\n    </g>\r\n   </g>\r\n   <g id=\"text_7\">\r\n    <!-- Recovered -->\r\n    <defs>\r\n     <path d=\"M 44.390625 34.1875 \r\nQ 47.5625 33.109375 50.5625 29.59375 \r\nQ 53.5625 26.078125 56.59375 19.921875 \r\nL 66.609375 0 \r\nL 56 0 \r\nL 46.6875 18.703125 \r\nQ 43.0625 26.03125 39.671875 28.421875 \r\nQ 36.28125 30.8125 30.421875 30.8125 \r\nL 19.671875 30.8125 \r\nL 19.671875 0 \r\nL 9.8125 0 \r\nL 9.8125 72.90625 \r\nL 32.078125 72.90625 \r\nQ 44.578125 72.90625 50.734375 67.671875 \r\nQ 56.890625 62.453125 56.890625 51.90625 \r\nQ 56.890625 45.015625 53.6875 40.46875 \r\nQ 50.484375 35.9375 44.390625 34.1875 \r\nz\r\nM 19.671875 64.796875 \r\nL 19.671875 38.921875 \r\nL 32.078125 38.921875 \r\nQ 39.203125 38.921875 42.84375 42.21875 \r\nQ 46.484375 45.515625 46.484375 51.90625 \r\nQ 46.484375 58.296875 42.84375 61.546875 \r\nQ 39.203125 64.796875 32.078125 64.796875 \r\nz\r\n\" id=\"DejaVuSans-82\"/>\r\n     <path d=\"M 2.984375 54.6875 \r\nL 12.5 54.6875 \r\nL 29.59375 8.796875 \r\nL 46.6875 54.6875 \r\nL 56.203125 54.6875 \r\nL 35.6875 0 \r\nL 23.484375 0 \r\nz\r\n\" id=\"DejaVuSans-118\"/>\r\n     <path d=\"M 41.109375 46.296875 \r\nQ 39.59375 47.171875 37.8125 47.578125 \r\nQ 36.03125 48 33.890625 48 \r\nQ 26.265625 48 22.1875 43.046875 \r\nQ 18.109375 38.09375 18.109375 28.8125 \r\nL 18.109375 0 \r\nL 9.078125 0 \r\nL 9.078125 54.6875 \r\nL 18.109375 54.6875 \r\nL 18.109375 46.1875 \r\nQ 20.953125 51.171875 25.484375 53.578125 \r\nQ 30.03125 56 36.53125 56 \r\nQ 37.453125 56 38.578125 55.875 \r\nQ 39.703125 55.765625 41.0625 55.515625 \r\nz\r\n\" id=\"DejaVuSans-114\"/>\r\n    </defs>\r\n    <g transform=\"translate(849.296875 695.880469)scale(0.15 -0.15)\">\r\n     <use xlink:href=\"#DejaVuSans-82\"/>\r\n     <use x=\"64.982422\" xlink:href=\"#DejaVuSans-101\"/>\r\n     <use x=\"126.505859\" xlink:href=\"#DejaVuSans-99\"/>\r\n     <use x=\"181.486328\" xlink:href=\"#DejaVuSans-111\"/>\r\n     <use x=\"242.667969\" xlink:href=\"#DejaVuSans-118\"/>\r\n     <use x=\"301.847656\" xlink:href=\"#DejaVuSans-101\"/>\r\n     <use x=\"363.371094\" xlink:href=\"#DejaVuSans-114\"/>\r\n     <use x=\"402.234375\" xlink:href=\"#DejaVuSans-101\"/>\r\n     <use x=\"463.757812\" xlink:href=\"#DejaVuSans-100\"/>\r\n    </g>\r\n   </g>\r\n   <g id=\"line2d_1\">\r\n    <path d=\"M 958.389063 690.630469 \r\nL 988.389063 690.630469 \r\n\" style=\"fill:none;stroke:#ff0000;\"/>\r\n   </g>\r\n   <g id=\"text_8\">\r\n    <!-- Died -->\r\n    <defs>\r\n     <path d=\"M 19.671875 64.796875 \r\nL 19.671875 8.109375 \r\nL 31.59375 8.109375 \r\nQ 46.6875 8.109375 53.6875 14.9375 \r\nQ 60.6875 21.78125 60.6875 36.53125 \r\nQ 60.6875 51.171875 53.6875 57.984375 \r\nQ 46.6875 64.796875 31.59375 64.796875 \r\nz\r\nM 9.8125 72.90625 \r\nL 30.078125 72.90625 \r\nQ 51.265625 72.90625 61.171875 64.09375 \r\nQ 71.09375 55.28125 71.09375 36.53125 \r\nQ 71.09375 17.671875 61.125 8.828125 \r\nQ 51.171875 0 30.078125 0 \r\nL 9.8125 0 \r\nz\r\n\" id=\"DejaVuSans-68\"/>\r\n    </defs>\r\n    <g transform=\"translate(1000.389063 695.880469)scale(0.15 -0.15)\">\r\n     <use xlink:href=\"#DejaVuSans-68\"/>\r\n     <use x=\"77.001953\" xlink:href=\"#DejaVuSans-105\"/>\r\n     <use x=\"104.785156\" xlink:href=\"#DejaVuSans-101\"/>\r\n     <use x=\"166.308594\" xlink:href=\"#DejaVuSans-100\"/>\r\n    </g>\r\n   </g>\r\n  </g>\r\n </g>\r\n <defs>\r\n  <clipPath id=\"p822253284a\">\r\n   <rect height=\"664\" width=\"700\" x=\"7.2\" y=\"28.8\"/>\r\n  </clipPath>\r\n  <clipPath id=\"p5334f52ade\">\r\n   <rect height=\"664\" width=\"700\" x=\"707.2\" y=\"28.8\"/>\r\n  </clipPath>\r\n </defs>\r\n</svg>\r\n",
      "image/png": "[encoded data removed]"
     },
     "metadata": {}
    }
   ],
   "source": [
    "fig, ax = plt.subplots(ncols=2, nrows=1, figsize=(20,10),  sharex='all', sharey='all')\n",
    "animate(logStatus, ax[0], 10)\n",
    "animate(logStatus, ax[1], 20)\n",
    "ax[0].set_title('test')\n",
    "ax[1].set_title('test')\n",
    "fig.suptitle('t= {} days'.format(t), fontsize=15)\n",
    "fig.legend(['Susceptible','Exposed','Infected','Recovered', 'Died'], loc='lower center', ncol=5, fancybox=True, fontsize=15)\n",
    "plt.tight_layout(pad=2.0, w_pad=0.0, h_pad=0.0)"
   ]
  },
  {
   "cell_type": "code",
   "execution_count": null,
   "metadata": {},
   "outputs": [],
   "source": [
    "video_name=os.path.join(data_dir, 'video_joined.mp4')\n",
    "(width, height) = (2*720, 720)\n",
    "\n",
    "fourcc = cv2.VideoWriter_fourcc('m','p','4','v')\n",
    "video = cv2.VideoWriter(video_name, fourcc, 1, (width,height))\n",
    "\n",
    "fig, ax = plt.subplots(ncols=2, nrows=1,  figsize=(20,10))\n",
    "for t in range(1,20): \n",
    "    \n",
    "    canvas = FigureCanvas(fig)\n",
    "    animate(logStatus, t)\n",
    "    animate(logStatus, t)\n",
    "    animate(t)\n",
    "    canvas.draw() \n",
    "    s, (width, height) = canvas.print_to_buffer()\n",
    "    \n",
    "    X = np.frombuffer(fig.canvas.tostring_rgb(), dtype=np.uint8)\n",
    "    X = X.reshape(fig.canvas.get_width_height()[::-1] + (3,))\n",
    "    X2= cv2.cvtColor(X, cv2.COLOR_BGR2RGB)\n",
    "    video.write(X2)\n",
    "    fig.clear()\n",
    "\n",
    "cv2.destroyAllWindows()\n",
    "video.release()"
   ]
  },
  {
   "cell_type": "code",
   "execution_count": 32,
   "metadata": {},
   "outputs": [
    {
     "output_type": "execute_result",
     "data": {
      "text/plain": "(720, 720, 3)"
     },
     "metadata": {},
     "execution_count": 32
    }
   ],
   "source": [
    "\n",
    "X.shape"
   ]
  },
  {
   "cell_type": "code",
   "execution_count": 24,
   "metadata": {},
   "outputs": [
    {
     "output_type": "display_data",
     "data": {
      "text/plain": "<Figure size 720x720 with 0 Axes>"
     },
     "metadata": {}
    },
    {
     "output_type": "display_data",
     "data": {
      "text/plain": "<Figure size 720x720 with 0 Axes>"
     },
     "metadata": {}
    },
    {
     "output_type": "display_data",
     "data": {
      "text/plain": "<Figure size 720x720 with 0 Axes>"
     },
     "metadata": {}
    },
    {
     "output_type": "display_data",
     "data": {
      "text/plain": "<Figure size 720x720 with 0 Axes>"
     },
     "metadata": {}
    },
    {
     "output_type": "display_data",
     "data": {
      "text/plain": "<Figure size 720x720 with 0 Axes>"
     },
     "metadata": {}
    },
    {
     "output_type": "display_data",
     "data": {
      "text/plain": "<Figure size 720x720 with 0 Axes>"
     },
     "metadata": {}
    },
    {
     "output_type": "display_data",
     "data": {
      "text/plain": "<Figure size 720x720 with 0 Axes>"
     },
     "metadata": {}
    },
    {
     "output_type": "display_data",
     "data": {
      "text/plain": "<Figure size 720x720 with 0 Axes>"
     },
     "metadata": {}
    },
    {
     "output_type": "display_data",
     "data": {
      "text/plain": "<Figure size 720x720 with 0 Axes>"
     },
     "metadata": {}
    },
    {
     "output_type": "display_data",
     "data": {
      "text/plain": "<Figure size 720x720 with 0 Axes>"
     },
     "metadata": {}
    },
    {
     "output_type": "display_data",
     "data": {
      "text/plain": "<Figure size 720x720 with 0 Axes>"
     },
     "metadata": {}
    },
    {
     "output_type": "display_data",
     "data": {
      "text/plain": "<Figure size 720x720 with 0 Axes>"
     },
     "metadata": {}
    },
    {
     "output_type": "display_data",
     "data": {
      "text/plain": "<Figure size 720x720 with 0 Axes>"
     },
     "metadata": {}
    },
    {
     "output_type": "display_data",
     "data": {
      "text/plain": "<Figure size 720x720 with 0 Axes>"
     },
     "metadata": {}
    },
    {
     "output_type": "display_data",
     "data": {
      "text/plain": "<Figure size 720x720 with 0 Axes>"
     },
     "metadata": {}
    },
    {
     "output_type": "display_data",
     "data": {
      "text/plain": "<Figure size 720x720 with 0 Axes>"
     },
     "metadata": {}
    },
    {
     "output_type": "display_data",
     "data": {
      "text/plain": "<Figure size 720x720 with 0 Axes>"
     },
     "metadata": {}
    },
    {
     "output_type": "display_data",
     "data": {
      "text/plain": "<Figure size 720x720 with 0 Axes>"
     },
     "metadata": {}
    },
    {
     "output_type": "display_data",
     "data": {
      "text/plain": "<Figure size 720x720 with 0 Axes>"
     },
     "metadata": {}
    },
    {
     "output_type": "display_data",
     "data": {
      "text/plain": "<Figure size 720x720 with 0 Axes>"
     },
     "metadata": {}
    },
    {
     "output_type": "display_data",
     "data": {
      "text/plain": "<Figure size 720x720 with 0 Axes>"
     },
     "metadata": {}
    },
    {
     "output_type": "display_data",
     "data": {
      "text/plain": "<Figure size 720x720 with 0 Axes>"
     },
     "metadata": {}
    },
    {
     "output_type": "display_data",
     "data": {
      "text/plain": "<Figure size 720x720 with 0 Axes>"
     },
     "metadata": {}
    },
    {
     "output_type": "display_data",
     "data": {
      "text/plain": "<Figure size 720x720 with 0 Axes>"
     },
     "metadata": {}
    },
    {
     "output_type": "display_data",
     "data": {
      "text/plain": "<Figure size 720x720 with 0 Axes>"
     },
     "metadata": {}
    },
    {
     "output_type": "display_data",
     "data": {
      "text/plain": "<Figure size 720x720 with 0 Axes>"
     },
     "metadata": {}
    },
    {
     "output_type": "display_data",
     "data": {
      "text/plain": "<Figure size 720x720 with 0 Axes>"
     },
     "metadata": {}
    },
    {
     "output_type": "display_data",
     "data": {
      "text/plain": "<Figure size 720x720 with 0 Axes>"
     },
     "metadata": {}
    },
    {
     "output_type": "display_data",
     "data": {
      "text/plain": "<Figure size 720x720 with 0 Axes>"
     },
     "metadata": {}
    },
    {
     "output_type": "display_data",
     "data": {
      "text/plain": "<Figure size 720x720 with 0 Axes>"
     },
     "metadata": {}
    },
    {
     "output_type": "display_data",
     "data": {
      "text/plain": "<Figure size 720x720 with 0 Axes>"
     },
     "metadata": {}
    },
    {
     "output_type": "display_data",
     "data": {
      "text/plain": "<Figure size 720x720 with 0 Axes>"
     },
     "metadata": {}
    },
    {
     "output_type": "display_data",
     "data": {
      "text/plain": "<Figure size 720x720 with 0 Axes>"
     },
     "metadata": {}
    },
    {
     "output_type": "display_data",
     "data": {
      "text/plain": "<Figure size 720x720 with 0 Axes>"
     },
     "metadata": {}
    },
    {
     "output_type": "display_data",
     "data": {
      "text/plain": "<Figure size 720x720 with 0 Axes>"
     },
     "metadata": {}
    },
    {
     "output_type": "display_data",
     "data": {
      "text/plain": "<Figure size 720x720 with 0 Axes>"
     },
     "metadata": {}
    },
    {
     "output_type": "display_data",
     "data": {
      "text/plain": "<Figure size 720x720 with 0 Axes>"
     },
     "metadata": {}
    },
    {
     "output_type": "display_data",
     "data": {
      "text/plain": "<Figure size 720x720 with 0 Axes>"
     },
     "metadata": {}
    },
    {
     "output_type": "display_data",
     "data": {
      "text/plain": "<Figure size 720x720 with 0 Axes>"
     },
     "metadata": {}
    },
    {
     "output_type": "display_data",
     "data": {
      "text/plain": "<Figure size 720x720 with 0 Axes>"
     },
     "metadata": {}
    },
    {
     "output_type": "display_data",
     "data": {
      "text/plain": "<Figure size 720x720 with 0 Axes>"
     },
     "metadata": {}
    },
    {
     "output_type": "display_data",
     "data": {
      "text/plain": "<Figure size 720x720 with 0 Axes>"
     },
     "metadata": {}
    },
    {
     "output_type": "display_data",
     "data": {
      "text/plain": "<Figure size 720x720 with 0 Axes>"
     },
     "metadata": {}
    },
    {
     "output_type": "display_data",
     "data": {
      "text/plain": "<Figure size 720x720 with 0 Axes>"
     },
     "metadata": {}
    },
    {
     "output_type": "display_data",
     "data": {
      "text/plain": "<Figure size 720x720 with 0 Axes>"
     },
     "metadata": {}
    },
    {
     "output_type": "display_data",
     "data": {
      "text/plain": "<Figure size 720x720 with 0 Axes>"
     },
     "metadata": {}
    },
    {
     "output_type": "display_data",
     "data": {
      "text/plain": "<Figure size 720x720 with 0 Axes>"
     },
     "metadata": {}
    },
    {
     "output_type": "display_data",
     "data": {
      "text/plain": "<Figure size 720x720 with 0 Axes>"
     },
     "metadata": {}
    },
    {
     "output_type": "display_data",
     "data": {
      "text/plain": "<Figure size 720x720 with 0 Axes>"
     },
     "metadata": {}
    },
    {
     "output_type": "display_data",
     "data": {
      "text/plain": "<Figure size 720x720 with 0 Axes>"
     },
     "metadata": {}
    },
    {
     "output_type": "display_data",
     "data": {
      "text/plain": "<Figure size 720x720 with 0 Axes>"
     },
     "metadata": {}
    },
    {
     "output_type": "display_data",
     "data": {
      "text/plain": "<Figure size 720x720 with 0 Axes>"
     },
     "metadata": {}
    },
    {
     "output_type": "display_data",
     "data": {
      "text/plain": "<Figure size 720x720 with 0 Axes>"
     },
     "metadata": {}
    },
    {
     "output_type": "display_data",
     "data": {
      "text/plain": "<Figure size 720x720 with 0 Axes>"
     },
     "metadata": {}
    },
    {
     "output_type": "display_data",
     "data": {
      "text/plain": "<Figure size 720x720 with 0 Axes>"
     },
     "metadata": {}
    },
    {
     "output_type": "display_data",
     "data": {
      "text/plain": "<Figure size 720x720 with 0 Axes>"
     },
     "metadata": {}
    },
    {
     "output_type": "display_data",
     "data": {
      "text/plain": "<Figure size 720x720 with 0 Axes>"
     },
     "metadata": {}
    },
    {
     "output_type": "display_data",
     "data": {
      "text/plain": "<Figure size 720x720 with 0 Axes>"
     },
     "metadata": {}
    },
    {
     "output_type": "display_data",
     "data": {
      "text/plain": "<Figure size 720x720 with 0 Axes>"
     },
     "metadata": {}
    },
    {
     "output_type": "display_data",
     "data": {
      "text/plain": "<Figure size 720x720 with 0 Axes>"
     },
     "metadata": {}
    },
    {
     "output_type": "display_data",
     "data": {
      "text/plain": "<Figure size 720x720 with 0 Axes>"
     },
     "metadata": {}
    },
    {
     "output_type": "display_data",
     "data": {
      "text/plain": "<Figure size 720x720 with 0 Axes>"
     },
     "metadata": {}
    },
    {
     "output_type": "display_data",
     "data": {
      "text/plain": "<Figure size 720x720 with 0 Axes>"
     },
     "metadata": {}
    },
    {
     "output_type": "display_data",
     "data": {
      "text/plain": "<Figure size 720x720 with 0 Axes>"
     },
     "metadata": {}
    },
    {
     "output_type": "display_data",
     "data": {
      "text/plain": "<Figure size 720x720 with 0 Axes>"
     },
     "metadata": {}
    },
    {
     "output_type": "display_data",
     "data": {
      "text/plain": "<Figure size 720x720 with 0 Axes>"
     },
     "metadata": {}
    },
    {
     "output_type": "display_data",
     "data": {
      "text/plain": "<Figure size 720x720 with 0 Axes>"
     },
     "metadata": {}
    },
    {
     "output_type": "display_data",
     "data": {
      "text/plain": "<Figure size 720x720 with 0 Axes>"
     },
     "metadata": {}
    },
    {
     "output_type": "display_data",
     "data": {
      "text/plain": "<Figure size 720x720 with 0 Axes>"
     },
     "metadata": {}
    },
    {
     "output_type": "display_data",
     "data": {
      "text/plain": "<Figure size 720x720 with 0 Axes>"
     },
     "metadata": {}
    },
    {
     "output_type": "display_data",
     "data": {
      "text/plain": "<Figure size 720x720 with 0 Axes>"
     },
     "metadata": {}
    },
    {
     "output_type": "display_data",
     "data": {
      "text/plain": "<Figure size 720x720 with 0 Axes>"
     },
     "metadata": {}
    },
    {
     "output_type": "display_data",
     "data": {
      "text/plain": "<Figure size 720x720 with 0 Axes>"
     },
     "metadata": {}
    },
    {
     "output_type": "display_data",
     "data": {
      "text/plain": "<Figure size 720x720 with 0 Axes>"
     },
     "metadata": {}
    },
    {
     "output_type": "display_data",
     "data": {
      "text/plain": "<Figure size 720x720 with 0 Axes>"
     },
     "metadata": {}
    },
    {
     "output_type": "display_data",
     "data": {
      "text/plain": "<Figure size 720x720 with 0 Axes>"
     },
     "metadata": {}
    },
    {
     "output_type": "display_data",
     "data": {
      "text/plain": "<Figure size 720x720 with 0 Axes>"
     },
     "metadata": {}
    },
    {
     "output_type": "display_data",
     "data": {
      "text/plain": "<Figure size 720x720 with 0 Axes>"
     },
     "metadata": {}
    },
    {
     "output_type": "display_data",
     "data": {
      "text/plain": "<Figure size 720x720 with 0 Axes>"
     },
     "metadata": {}
    },
    {
     "output_type": "display_data",
     "data": {
      "text/plain": "<Figure size 720x720 with 0 Axes>"
     },
     "metadata": {}
    },
    {
     "output_type": "display_data",
     "data": {
      "text/plain": "<Figure size 720x720 with 0 Axes>"
     },
     "metadata": {}
    },
    {
     "output_type": "display_data",
     "data": {
      "text/plain": "<Figure size 720x720 with 0 Axes>"
     },
     "metadata": {}
    },
    {
     "output_type": "display_data",
     "data": {
      "text/plain": "<Figure size 720x720 with 0 Axes>"
     },
     "metadata": {}
    },
    {
     "output_type": "display_data",
     "data": {
      "text/plain": "<Figure size 720x720 with 0 Axes>"
     },
     "metadata": {}
    },
    {
     "output_type": "display_data",
     "data": {
      "text/plain": "<Figure size 720x720 with 0 Axes>"
     },
     "metadata": {}
    },
    {
     "output_type": "display_data",
     "data": {
      "text/plain": "<Figure size 720x720 with 0 Axes>"
     },
     "metadata": {}
    },
    {
     "output_type": "display_data",
     "data": {
      "text/plain": "<Figure size 720x720 with 0 Axes>"
     },
     "metadata": {}
    },
    {
     "output_type": "display_data",
     "data": {
      "text/plain": "<Figure size 720x720 with 0 Axes>"
     },
     "metadata": {}
    },
    {
     "output_type": "display_data",
     "data": {
      "text/plain": "<Figure size 720x720 with 0 Axes>"
     },
     "metadata": {}
    },
    {
     "output_type": "display_data",
     "data": {
      "text/plain": "<Figure size 720x720 with 0 Axes>"
     },
     "metadata": {}
    },
    {
     "output_type": "display_data",
     "data": {
      "text/plain": "<Figure size 720x720 with 0 Axes>"
     },
     "metadata": {}
    },
    {
     "output_type": "display_data",
     "data": {
      "text/plain": "<Figure size 720x720 with 0 Axes>"
     },
     "metadata": {}
    },
    {
     "output_type": "display_data",
     "data": {
      "text/plain": "<Figure size 720x720 with 0 Axes>"
     },
     "metadata": {}
    },
    {
     "output_type": "display_data",
     "data": {
      "text/plain": "<Figure size 720x720 with 0 Axes>"
     },
     "metadata": {}
    },
    {
     "output_type": "display_data",
     "data": {
      "text/plain": "<Figure size 720x720 with 0 Axes>"
     },
     "metadata": {}
    },
    {
     "output_type": "display_data",
     "data": {
      "text/plain": "<Figure size 720x720 with 0 Axes>"
     },
     "metadata": {}
    },
    {
     "output_type": "display_data",
     "data": {
      "text/plain": "<Figure size 720x720 with 0 Axes>"
     },
     "metadata": {}
    },
    {
     "output_type": "display_data",
     "data": {
      "text/plain": "<Figure size 720x720 with 0 Axes>"
     },
     "metadata": {}
    },
    {
     "output_type": "display_data",
     "data": {
      "text/plain": "<Figure size 720x720 with 0 Axes>"
     },
     "metadata": {}
    },
    {
     "output_type": "display_data",
     "data": {
      "text/plain": "<Figure size 720x720 with 0 Axes>"
     },
     "metadata": {}
    },
    {
     "output_type": "display_data",
     "data": {
      "text/plain": "<Figure size 720x720 with 0 Axes>"
     },
     "metadata": {}
    },
    {
     "output_type": "display_data",
     "data": {
      "text/plain": "<Figure size 720x720 with 0 Axes>"
     },
     "metadata": {}
    },
    {
     "output_type": "display_data",
     "data": {
      "text/plain": "<Figure size 720x720 with 0 Axes>"
     },
     "metadata": {}
    },
    {
     "output_type": "display_data",
     "data": {
      "text/plain": "<Figure size 720x720 with 0 Axes>"
     },
     "metadata": {}
    },
    {
     "output_type": "display_data",
     "data": {
      "text/plain": "<Figure size 720x720 with 0 Axes>"
     },
     "metadata": {}
    },
    {
     "output_type": "display_data",
     "data": {
      "text/plain": "<Figure size 720x720 with 0 Axes>"
     },
     "metadata": {}
    },
    {
     "output_type": "display_data",
     "data": {
      "text/plain": "<Figure size 720x720 with 0 Axes>"
     },
     "metadata": {}
    },
    {
     "output_type": "display_data",
     "data": {
      "text/plain": "<Figure size 720x720 with 0 Axes>"
     },
     "metadata": {}
    },
    {
     "output_type": "display_data",
     "data": {
      "text/plain": "<Figure size 720x720 with 0 Axes>"
     },
     "metadata": {}
    },
    {
     "output_type": "display_data",
     "data": {
      "text/plain": "<Figure size 720x720 with 0 Axes>"
     },
     "metadata": {}
    },
    {
     "output_type": "display_data",
     "data": {
      "text/plain": "<Figure size 720x720 with 0 Axes>"
     },
     "metadata": {}
    },
    {
     "output_type": "display_data",
     "data": {
      "text/plain": "<Figure size 720x720 with 0 Axes>"
     },
     "metadata": {}
    },
    {
     "output_type": "display_data",
     "data": {
      "text/plain": "<Figure size 720x720 with 0 Axes>"
     },
     "metadata": {}
    },
    {
     "output_type": "display_data",
     "data": {
      "text/plain": "<Figure size 720x720 with 0 Axes>"
     },
     "metadata": {}
    },
    {
     "output_type": "display_data",
     "data": {
      "text/plain": "<Figure size 720x720 with 0 Axes>"
     },
     "metadata": {}
    },
    {
     "output_type": "display_data",
     "data": {
      "text/plain": "<Figure size 720x720 with 0 Axes>"
     },
     "metadata": {}
    },
    {
     "output_type": "display_data",
     "data": {
      "text/plain": "<Figure size 720x720 with 0 Axes>"
     },
     "metadata": {}
    },
    {
     "output_type": "display_data",
     "data": {
      "text/plain": "<Figure size 720x720 with 0 Axes>"
     },
     "metadata": {}
    },
    {
     "output_type": "display_data",
     "data": {
      "text/plain": "<Figure size 720x720 with 0 Axes>"
     },
     "metadata": {}
    },
    {
     "output_type": "display_data",
     "data": {
      "text/plain": "<Figure size 720x720 with 0 Axes>"
     },
     "metadata": {}
    },
    {
     "output_type": "display_data",
     "data": {
      "text/plain": "<Figure size 720x720 with 0 Axes>"
     },
     "metadata": {}
    },
    {
     "output_type": "display_data",
     "data": {
      "text/plain": "<Figure size 720x720 with 0 Axes>"
     },
     "metadata": {}
    },
    {
     "output_type": "display_data",
     "data": {
      "text/plain": "<Figure size 720x720 with 0 Axes>"
     },
     "metadata": {}
    },
    {
     "output_type": "display_data",
     "data": {
      "text/plain": "<Figure size 720x720 with 0 Axes>"
     },
     "metadata": {}
    },
    {
     "output_type": "display_data",
     "data": {
      "text/plain": "<Figure size 720x720 with 0 Axes>"
     },
     "metadata": {}
    },
    {
     "output_type": "display_data",
     "data": {
      "text/plain": "<Figure size 720x720 with 0 Axes>"
     },
     "metadata": {}
    },
    {
     "output_type": "display_data",
     "data": {
      "text/plain": "<Figure size 720x720 with 0 Axes>"
     },
     "metadata": {}
    },
    {
     "output_type": "display_data",
     "data": {
      "text/plain": "<Figure size 720x720 with 0 Axes>"
     },
     "metadata": {}
    },
    {
     "output_type": "display_data",
     "data": {
      "text/plain": "<Figure size 720x720 with 0 Axes>"
     },
     "metadata": {}
    },
    {
     "output_type": "display_data",
     "data": {
      "text/plain": "<Figure size 720x720 with 0 Axes>"
     },
     "metadata": {}
    },
    {
     "output_type": "display_data",
     "data": {
      "text/plain": "<Figure size 720x720 with 0 Axes>"
     },
     "metadata": {}
    },
    {
     "output_type": "display_data",
     "data": {
      "text/plain": "<Figure size 720x720 with 0 Axes>"
     },
     "metadata": {}
    },
    {
     "output_type": "display_data",
     "data": {
      "text/plain": "<Figure size 720x720 with 0 Axes>"
     },
     "metadata": {}
    },
    {
     "output_type": "display_data",
     "data": {
      "text/plain": "<Figure size 720x720 with 0 Axes>"
     },
     "metadata": {}
    },
    {
     "output_type": "display_data",
     "data": {
      "text/plain": "<Figure size 720x720 with 0 Axes>"
     },
     "metadata": {}
    },
    {
     "output_type": "display_data",
     "data": {
      "text/plain": "<Figure size 720x720 with 0 Axes>"
     },
     "metadata": {}
    },
    {
     "output_type": "display_data",
     "data": {
      "text/plain": "<Figure size 720x720 with 0 Axes>"
     },
     "metadata": {}
    },
    {
     "output_type": "display_data",
     "data": {
      "text/plain": "<Figure size 720x720 with 0 Axes>"
     },
     "metadata": {}
    },
    {
     "output_type": "display_data",
     "data": {
      "text/plain": "<Figure size 720x720 with 0 Axes>"
     },
     "metadata": {}
    },
    {
     "output_type": "display_data",
     "data": {
      "text/plain": "<Figure size 720x720 with 0 Axes>"
     },
     "metadata": {}
    },
    {
     "output_type": "display_data",
     "data": {
      "text/plain": "<Figure size 720x720 with 0 Axes>"
     },
     "metadata": {}
    },
    {
     "output_type": "display_data",
     "data": {
      "text/plain": "<Figure size 720x720 with 0 Axes>"
     },
     "metadata": {}
    },
    {
     "output_type": "display_data",
     "data": {
      "text/plain": "<Figure size 720x720 with 0 Axes>"
     },
     "metadata": {}
    },
    {
     "output_type": "display_data",
     "data": {
      "text/plain": "<Figure size 720x720 with 0 Axes>"
     },
     "metadata": {}
    },
    {
     "output_type": "display_data",
     "data": {
      "text/plain": "<Figure size 720x720 with 0 Axes>"
     },
     "metadata": {}
    },
    {
     "output_type": "display_data",
     "data": {
      "text/plain": "<Figure size 720x720 with 0 Axes>"
     },
     "metadata": {}
    },
    {
     "output_type": "display_data",
     "data": {
      "text/plain": "<Figure size 720x720 with 0 Axes>"
     },
     "metadata": {}
    },
    {
     "output_type": "display_data",
     "data": {
      "text/plain": "<Figure size 720x720 with 0 Axes>"
     },
     "metadata": {}
    },
    {
     "output_type": "display_data",
     "data": {
      "text/plain": "<Figure size 720x720 with 0 Axes>"
     },
     "metadata": {}
    },
    {
     "output_type": "display_data",
     "data": {
      "text/plain": "<Figure size 720x720 with 0 Axes>"
     },
     "metadata": {}
    },
    {
     "output_type": "display_data",
     "data": {
      "text/plain": "<Figure size 720x720 with 0 Axes>"
     },
     "metadata": {}
    },
    {
     "output_type": "display_data",
     "data": {
      "text/plain": "<Figure size 720x720 with 0 Axes>"
     },
     "metadata": {}
    },
    {
     "output_type": "display_data",
     "data": {
      "text/plain": "<Figure size 720x720 with 0 Axes>"
     },
     "metadata": {}
    },
    {
     "output_type": "display_data",
     "data": {
      "text/plain": "<Figure size 720x720 with 0 Axes>"
     },
     "metadata": {}
    },
    {
     "output_type": "display_data",
     "data": {
      "text/plain": "<Figure size 720x720 with 0 Axes>"
     },
     "metadata": {}
    },
    {
     "output_type": "display_data",
     "data": {
      "text/plain": "<Figure size 720x720 with 0 Axes>"
     },
     "metadata": {}
    },
    {
     "output_type": "display_data",
     "data": {
      "text/plain": "<Figure size 720x720 with 0 Axes>"
     },
     "metadata": {}
    },
    {
     "output_type": "display_data",
     "data": {
      "text/plain": "<Figure size 720x720 with 0 Axes>"
     },
     "metadata": {}
    },
    {
     "output_type": "display_data",
     "data": {
      "text/plain": "<Figure size 720x720 with 0 Axes>"
     },
     "metadata": {}
    },
    {
     "output_type": "display_data",
     "data": {
      "text/plain": "<Figure size 720x720 with 0 Axes>"
     },
     "metadata": {}
    },
    {
     "output_type": "display_data",
     "data": {
      "text/plain": "<Figure size 720x720 with 0 Axes>"
     },
     "metadata": {}
    },
    {
     "output_type": "display_data",
     "data": {
      "text/plain": "<Figure size 720x720 with 0 Axes>"
     },
     "metadata": {}
    },
    {
     "output_type": "display_data",
     "data": {
      "text/plain": "<Figure size 720x720 with 0 Axes>"
     },
     "metadata": {}
    },
    {
     "output_type": "display_data",
     "data": {
      "text/plain": "<Figure size 720x720 with 0 Axes>"
     },
     "metadata": {}
    },
    {
     "output_type": "display_data",
     "data": {
      "text/plain": "<Figure size 720x720 with 0 Axes>"
     },
     "metadata": {}
    },
    {
     "output_type": "display_data",
     "data": {
      "text/plain": "<Figure size 720x720 with 0 Axes>"
     },
     "metadata": {}
    },
    {
     "output_type": "display_data",
     "data": {
      "text/plain": "<Figure size 720x720 with 0 Axes>"
     },
     "metadata": {}
    },
    {
     "output_type": "display_data",
     "data": {
      "text/plain": "<Figure size 720x720 with 0 Axes>"
     },
     "metadata": {}
    },
    {
     "output_type": "display_data",
     "data": {
      "text/plain": "<Figure size 720x720 with 0 Axes>"
     },
     "metadata": {}
    },
    {
     "output_type": "display_data",
     "data": {
      "text/plain": "<Figure size 720x720 with 0 Axes>"
     },
     "metadata": {}
    },
    {
     "output_type": "display_data",
     "data": {
      "text/plain": "<Figure size 720x720 with 0 Axes>"
     },
     "metadata": {}
    },
    {
     "output_type": "display_data",
     "data": {
      "text/plain": "<Figure size 720x720 with 0 Axes>"
     },
     "metadata": {}
    },
    {
     "output_type": "display_data",
     "data": {
      "text/plain": "<Figure size 720x720 with 0 Axes>"
     },
     "metadata": {}
    },
    {
     "output_type": "display_data",
     "data": {
      "text/plain": "<Figure size 720x720 with 0 Axes>"
     },
     "metadata": {}
    },
    {
     "output_type": "display_data",
     "data": {
      "text/plain": "<Figure size 720x720 with 0 Axes>"
     },
     "metadata": {}
    },
    {
     "output_type": "display_data",
     "data": {
      "text/plain": "<Figure size 720x720 with 0 Axes>"
     },
     "metadata": {}
    },
    {
     "output_type": "display_data",
     "data": {
      "text/plain": "<Figure size 720x720 with 0 Axes>"
     },
     "metadata": {}
    },
    {
     "output_type": "display_data",
     "data": {
      "text/plain": "<Figure size 720x720 with 0 Axes>"
     },
     "metadata": {}
    },
    {
     "output_type": "display_data",
     "data": {
      "text/plain": "<Figure size 720x720 with 0 Axes>"
     },
     "metadata": {}
    },
    {
     "output_type": "display_data",
     "data": {
      "text/plain": "<Figure size 720x720 with 0 Axes>"
     },
     "metadata": {}
    },
    {
     "output_type": "display_data",
     "data": {
      "text/plain": "<Figure size 720x720 with 0 Axes>"
     },
     "metadata": {}
    },
    {
     "output_type": "display_data",
     "data": {
      "text/plain": "<Figure size 720x720 with 0 Axes>"
     },
     "metadata": {}
    },
    {
     "output_type": "display_data",
     "data": {
      "text/plain": "<Figure size 720x720 with 0 Axes>"
     },
     "metadata": {}
    },
    {
     "output_type": "display_data",
     "data": {
      "text/plain": "<Figure size 720x720 with 0 Axes>"
     },
     "metadata": {}
    },
    {
     "output_type": "display_data",
     "data": {
      "text/plain": "<Figure size 720x720 with 0 Axes>"
     },
     "metadata": {}
    },
    {
     "output_type": "display_data",
     "data": {
      "text/plain": "<Figure size 720x720 with 0 Axes>"
     },
     "metadata": {}
    },
    {
     "output_type": "display_data",
     "data": {
      "text/plain": "<Figure size 720x720 with 0 Axes>"
     },
     "metadata": {}
    },
    {
     "output_type": "display_data",
     "data": {
      "text/plain": "<Figure size 720x720 with 0 Axes>"
     },
     "metadata": {}
    },
    {
     "output_type": "display_data",
     "data": {
      "text/plain": "<Figure size 720x720 with 0 Axes>"
     },
     "metadata": {}
    },
    {
     "output_type": "display_data",
     "data": {
      "text/plain": "<Figure size 720x720 with 0 Axes>"
     },
     "metadata": {}
    },
    {
     "output_type": "display_data",
     "data": {
      "text/plain": "<Figure size 720x720 with 0 Axes>"
     },
     "metadata": {}
    },
    {
     "output_type": "display_data",
     "data": {
      "text/plain": "<Figure size 720x720 with 0 Axes>"
     },
     "metadata": {}
    },
    {
     "output_type": "display_data",
     "data": {
      "text/plain": "<Figure size 720x720 with 0 Axes>"
     },
     "metadata": {}
    },
    {
     "output_type": "display_data",
     "data": {
      "text/plain": "<Figure size 720x720 with 0 Axes>"
     },
     "metadata": {}
    },
    {
     "output_type": "display_data",
     "data": {
      "text/plain": "<Figure size 720x720 with 0 Axes>"
     },
     "metadata": {}
    },
    {
     "output_type": "display_data",
     "data": {
      "text/plain": "<Figure size 720x720 with 0 Axes>"
     },
     "metadata": {}
    },
    {
     "output_type": "display_data",
     "data": {
      "text/plain": "<Figure size 720x720 with 0 Axes>"
     },
     "metadata": {}
    },
    {
     "output_type": "display_data",
     "data": {
      "text/plain": "<Figure size 720x720 with 0 Axes>"
     },
     "metadata": {}
    },
    {
     "output_type": "display_data",
     "data": {
      "text/plain": "<Figure size 720x720 with 0 Axes>"
     },
     "metadata": {}
    },
    {
     "output_type": "display_data",
     "data": {
      "text/plain": "<Figure size 720x720 with 0 Axes>"
     },
     "metadata": {}
    },
    {
     "output_type": "display_data",
     "data": {
      "text/plain": "<Figure size 720x720 with 0 Axes>"
     },
     "metadata": {}
    },
    {
     "output_type": "display_data",
     "data": {
      "text/plain": "<Figure size 720x720 with 0 Axes>"
     },
     "metadata": {}
    },
    {
     "output_type": "display_data",
     "data": {
      "text/plain": "<Figure size 720x720 with 0 Axes>"
     },
     "metadata": {}
    },
    {
     "output_type": "display_data",
     "data": {
      "text/plain": "<Figure size 720x720 with 0 Axes>"
     },
     "metadata": {}
    },
    {
     "output_type": "display_data",
     "data": {
      "text/plain": "<Figure size 720x720 with 0 Axes>"
     },
     "metadata": {}
    },
    {
     "output_type": "display_data",
     "data": {
      "text/plain": "<Figure size 720x720 with 0 Axes>"
     },
     "metadata": {}
    },
    {
     "output_type": "display_data",
     "data": {
      "text/plain": "<Figure size 720x720 with 0 Axes>"
     },
     "metadata": {}
    },
    {
     "output_type": "display_data",
     "data": {
      "text/plain": "<Figure size 720x720 with 0 Axes>"
     },
     "metadata": {}
    },
    {
     "output_type": "display_data",
     "data": {
      "text/plain": "<Figure size 720x720 with 0 Axes>"
     },
     "metadata": {}
    },
    {
     "output_type": "display_data",
     "data": {
      "text/plain": "<Figure size 720x720 with 0 Axes>"
     },
     "metadata": {}
    },
    {
     "output_type": "display_data",
     "data": {
      "text/plain": "<Figure size 720x720 with 0 Axes>"
     },
     "metadata": {}
    },
    {
     "output_type": "display_data",
     "data": {
      "text/plain": "<Figure size 720x720 with 0 Axes>"
     },
     "metadata": {}
    },
    {
     "output_type": "display_data",
     "data": {
      "text/plain": "<Figure size 720x720 with 0 Axes>"
     },
     "metadata": {}
    },
    {
     "output_type": "display_data",
     "data": {
      "text/plain": "<Figure size 720x720 with 0 Axes>"
     },
     "metadata": {}
    },
    {
     "output_type": "display_data",
     "data": {
      "text/plain": "<Figure size 720x720 with 0 Axes>"
     },
     "metadata": {}
    },
    {
     "output_type": "display_data",
     "data": {
      "text/plain": "<Figure size 720x720 with 0 Axes>"
     },
     "metadata": {}
    },
    {
     "output_type": "display_data",
     "data": {
      "text/plain": "<Figure size 720x720 with 0 Axes>"
     },
     "metadata": {}
    },
    {
     "output_type": "display_data",
     "data": {
      "text/plain": "<Figure size 720x720 with 0 Axes>"
     },
     "metadata": {}
    },
    {
     "output_type": "display_data",
     "data": {
      "text/plain": "<Figure size 720x720 with 0 Axes>"
     },
     "metadata": {}
    },
    {
     "output_type": "display_data",
     "data": {
      "text/plain": "<Figure size 720x720 with 0 Axes>"
     },
     "metadata": {}
    },
    {
     "output_type": "display_data",
     "data": {
      "text/plain": "<Figure size 720x720 with 0 Axes>"
     },
     "metadata": {}
    },
    {
     "output_type": "display_data",
     "data": {
      "text/plain": "<Figure size 720x720 with 0 Axes>"
     },
     "metadata": {}
    },
    {
     "output_type": "display_data",
     "data": {
      "text/plain": "<Figure size 720x720 with 0 Axes>"
     },
     "metadata": {}
    },
    {
     "output_type": "display_data",
     "data": {
      "text/plain": "<Figure size 720x720 with 0 Axes>"
     },
     "metadata": {}
    },
    {
     "output_type": "display_data",
     "data": {
      "text/plain": "<Figure size 720x720 with 0 Axes>"
     },
     "metadata": {}
    },
    {
     "output_type": "display_data",
     "data": {
      "text/plain": "<Figure size 720x720 with 0 Axes>"
     },
     "metadata": {}
    },
    {
     "output_type": "display_data",
     "data": {
      "text/plain": "<Figure size 720x720 with 0 Axes>"
     },
     "metadata": {}
    },
    {
     "output_type": "display_data",
     "data": {
      "text/plain": "<Figure size 720x720 with 0 Axes>"
     },
     "metadata": {}
    },
    {
     "output_type": "display_data",
     "data": {
      "text/plain": "<Figure size 720x720 with 0 Axes>"
     },
     "metadata": {}
    },
    {
     "output_type": "display_data",
     "data": {
      "text/plain": "<Figure size 720x720 with 0 Axes>"
     },
     "metadata": {}
    },
    {
     "output_type": "display_data",
     "data": {
      "text/plain": "<Figure size 720x720 with 0 Axes>"
     },
     "metadata": {}
    },
    {
     "output_type": "display_data",
     "data": {
      "text/plain": "<Figure size 720x720 with 0 Axes>"
     },
     "metadata": {}
    },
    {
     "output_type": "display_data",
     "data": {
      "text/plain": "<Figure size 720x720 with 0 Axes>"
     },
     "metadata": {}
    },
    {
     "output_type": "display_data",
     "data": {
      "text/plain": "<Figure size 720x720 with 0 Axes>"
     },
     "metadata": {}
    },
    {
     "output_type": "display_data",
     "data": {
      "text/plain": "<Figure size 720x720 with 0 Axes>"
     },
     "metadata": {}
    },
    {
     "output_type": "display_data",
     "data": {
      "text/plain": "<Figure size 720x720 with 0 Axes>"
     },
     "metadata": {}
    },
    {
     "output_type": "display_data",
     "data": {
      "text/plain": "<Figure size 720x720 with 0 Axes>"
     },
     "metadata": {}
    },
    {
     "output_type": "display_data",
     "data": {
      "text/plain": "<Figure size 720x720 with 0 Axes>"
     },
     "metadata": {}
    },
    {
     "output_type": "display_data",
     "data": {
      "text/plain": "<Figure size 720x720 with 0 Axes>"
     },
     "metadata": {}
    },
    {
     "output_type": "display_data",
     "data": {
      "text/plain": "<Figure size 720x720 with 0 Axes>"
     },
     "metadata": {}
    },
    {
     "output_type": "display_data",
     "data": {
      "text/plain": "<Figure size 720x720 with 0 Axes>"
     },
     "metadata": {}
    },
    {
     "output_type": "display_data",
     "data": {
      "text/plain": "<Figure size 720x720 with 0 Axes>"
     },
     "metadata": {}
    },
    {
     "output_type": "display_data",
     "data": {
      "text/plain": "<Figure size 720x720 with 0 Axes>"
     },
     "metadata": {}
    },
    {
     "output_type": "display_data",
     "data": {
      "text/plain": "<Figure size 720x720 with 0 Axes>"
     },
     "metadata": {}
    },
    {
     "output_type": "display_data",
     "data": {
      "text/plain": "<Figure size 720x720 with 0 Axes>"
     },
     "metadata": {}
    },
    {
     "output_type": "display_data",
     "data": {
      "text/plain": "<Figure size 720x720 with 0 Axes>"
     },
     "metadata": {}
    },
    {
     "output_type": "display_data",
     "data": {
      "text/plain": "<Figure size 720x720 with 0 Axes>"
     },
     "metadata": {}
    },
    {
     "output_type": "display_data",
     "data": {
      "text/plain": "<Figure size 720x720 with 0 Axes>"
     },
     "metadata": {}
    },
    {
     "output_type": "display_data",
     "data": {
      "text/plain": "<Figure size 720x720 with 0 Axes>"
     },
     "metadata": {}
    }
   ],
   "source": [
    "video_name=os.path.join(data_dir, 'video_1.mp4')\n",
    "(width, height) = (720, 720)\n",
    "\n",
    "fourcc = cv2.VideoWriter_fourcc('m','p','4','v')\n",
    "video = cv2.VideoWriter(video_name, fourcc, 1, (width,height))\n",
    "\n",
    "\n",
    "for t in range(1,250): \n",
    "    fig = plt.figure(figsize=(10,10))\n",
    "    canvas = FigureCanvas(fig)\n",
    "    animate(t)\n",
    "    canvas.draw() \n",
    "    s, (width, height) = canvas.print_to_buffer()\n",
    "    \n",
    "    X = np.frombuffer(fig.canvas.tostring_rgb(), dtype=np.uint8)\n",
    "    X = X.reshape(fig.canvas.get_width_height()[::-1] + (3,))\n",
    "    X2= cv2.cvtColor(X, cv2.COLOR_BGR2RGB)\n",
    "    video.write(X2)\n",
    "    fig.clear()\n",
    "\n",
    "cv2.destroyAllWindows()\n",
    "video.release()"
   ]
  },
  {
   "cell_type": "code",
   "execution_count": 25,
   "metadata": {},
   "outputs": [],
   "source": [
    "def animate(t):\n",
    "    for k, status in enumerate(['E','I']): \n",
    "        nx.draw_networkx_nodes(G,pos,\n",
    "                                nodelist=logStatus[t][status],\n",
    "                                node_color=status_list[status]['node_color'],\n",
    "                                node_size=status_list[status]['node_size'],\n",
    "                                alpha=status_list[status]['alpha'])\n",
    "    nx.draw_networkx_edges(G, pos, edgelist=new_exposed_nodes(t), edge_color='r')\n",
    "        \n",
    "    plt.title('state : {} '.format(stateIdx), loc='center')  \n",
    "    plt.text(-0.04,-0.03, 't= {} days'.format(t), fontsize=12)\n",
    "    plt.legend(['Exposed','Infected'], loc='lower center', bbox_to_anchor=(0.5, -0.15), ncol=4, fancybox=True)"
   ]
  },
  {
   "cell_type": "code",
   "execution_count": 26,
   "metadata": {},
   "outputs": [
    {
     "output_type": "display_data",
     "data": {
      "text/plain": "<Figure size 720x720 with 0 Axes>"
     },
     "metadata": {}
    },
    {
     "output_type": "display_data",
     "data": {
      "text/plain": "<Figure size 720x720 with 0 Axes>"
     },
     "metadata": {}
    },
    {
     "output_type": "display_data",
     "data": {
      "text/plain": "<Figure size 720x720 with 0 Axes>"
     },
     "metadata": {}
    },
    {
     "output_type": "display_data",
     "data": {
      "text/plain": "<Figure size 720x720 with 0 Axes>"
     },
     "metadata": {}
    },
    {
     "output_type": "display_data",
     "data": {
      "text/plain": "<Figure size 720x720 with 0 Axes>"
     },
     "metadata": {}
    },
    {
     "output_type": "display_data",
     "data": {
      "text/plain": "<Figure size 720x720 with 0 Axes>"
     },
     "metadata": {}
    },
    {
     "output_type": "display_data",
     "data": {
      "text/plain": "<Figure size 720x720 with 0 Axes>"
     },
     "metadata": {}
    },
    {
     "output_type": "display_data",
     "data": {
      "text/plain": "<Figure size 720x720 with 0 Axes>"
     },
     "metadata": {}
    },
    {
     "output_type": "display_data",
     "data": {
      "text/plain": "<Figure size 720x720 with 0 Axes>"
     },
     "metadata": {}
    },
    {
     "output_type": "display_data",
     "data": {
      "text/plain": "<Figure size 720x720 with 0 Axes>"
     },
     "metadata": {}
    },
    {
     "output_type": "display_data",
     "data": {
      "text/plain": "<Figure size 720x720 with 0 Axes>"
     },
     "metadata": {}
    },
    {
     "output_type": "display_data",
     "data": {
      "text/plain": "<Figure size 720x720 with 0 Axes>"
     },
     "metadata": {}
    },
    {
     "output_type": "display_data",
     "data": {
      "text/plain": "<Figure size 720x720 with 0 Axes>"
     },
     "metadata": {}
    },
    {
     "output_type": "display_data",
     "data": {
      "text/plain": "<Figure size 720x720 with 0 Axes>"
     },
     "metadata": {}
    },
    {
     "output_type": "display_data",
     "data": {
      "text/plain": "<Figure size 720x720 with 0 Axes>"
     },
     "metadata": {}
    },
    {
     "output_type": "display_data",
     "data": {
      "text/plain": "<Figure size 720x720 with 0 Axes>"
     },
     "metadata": {}
    },
    {
     "output_type": "display_data",
     "data": {
      "text/plain": "<Figure size 720x720 with 0 Axes>"
     },
     "metadata": {}
    },
    {
     "output_type": "display_data",
     "data": {
      "text/plain": "<Figure size 720x720 with 0 Axes>"
     },
     "metadata": {}
    },
    {
     "output_type": "display_data",
     "data": {
      "text/plain": "<Figure size 720x720 with 0 Axes>"
     },
     "metadata": {}
    },
    {
     "output_type": "display_data",
     "data": {
      "text/plain": "<Figure size 720x720 with 0 Axes>"
     },
     "metadata": {}
    },
    {
     "output_type": "display_data",
     "data": {
      "text/plain": "<Figure size 720x720 with 0 Axes>"
     },
     "metadata": {}
    },
    {
     "output_type": "display_data",
     "data": {
      "text/plain": "<Figure size 720x720 with 0 Axes>"
     },
     "metadata": {}
    },
    {
     "output_type": "display_data",
     "data": {
      "text/plain": "<Figure size 720x720 with 0 Axes>"
     },
     "metadata": {}
    },
    {
     "output_type": "display_data",
     "data": {
      "text/plain": "<Figure size 720x720 with 0 Axes>"
     },
     "metadata": {}
    },
    {
     "output_type": "display_data",
     "data": {
      "text/plain": "<Figure size 720x720 with 0 Axes>"
     },
     "metadata": {}
    },
    {
     "output_type": "display_data",
     "data": {
      "text/plain": "<Figure size 720x720 with 0 Axes>"
     },
     "metadata": {}
    },
    {
     "output_type": "display_data",
     "data": {
      "text/plain": "<Figure size 720x720 with 0 Axes>"
     },
     "metadata": {}
    },
    {
     "output_type": "display_data",
     "data": {
      "text/plain": "<Figure size 720x720 with 0 Axes>"
     },
     "metadata": {}
    },
    {
     "output_type": "display_data",
     "data": {
      "text/plain": "<Figure size 720x720 with 0 Axes>"
     },
     "metadata": {}
    },
    {
     "output_type": "display_data",
     "data": {
      "text/plain": "<Figure size 720x720 with 0 Axes>"
     },
     "metadata": {}
    },
    {
     "output_type": "display_data",
     "data": {
      "text/plain": "<Figure size 720x720 with 0 Axes>"
     },
     "metadata": {}
    },
    {
     "output_type": "display_data",
     "data": {
      "text/plain": "<Figure size 720x720 with 0 Axes>"
     },
     "metadata": {}
    },
    {
     "output_type": "display_data",
     "data": {
      "text/plain": "<Figure size 720x720 with 0 Axes>"
     },
     "metadata": {}
    },
    {
     "output_type": "display_data",
     "data": {
      "text/plain": "<Figure size 720x720 with 0 Axes>"
     },
     "metadata": {}
    },
    {
     "output_type": "display_data",
     "data": {
      "text/plain": "<Figure size 720x720 with 0 Axes>"
     },
     "metadata": {}
    },
    {
     "output_type": "display_data",
     "data": {
      "text/plain": "<Figure size 720x720 with 0 Axes>"
     },
     "metadata": {}
    },
    {
     "output_type": "display_data",
     "data": {
      "text/plain": "<Figure size 720x720 with 0 Axes>"
     },
     "metadata": {}
    },
    {
     "output_type": "display_data",
     "data": {
      "text/plain": "<Figure size 720x720 with 0 Axes>"
     },
     "metadata": {}
    },
    {
     "output_type": "display_data",
     "data": {
      "text/plain": "<Figure size 720x720 with 0 Axes>"
     },
     "metadata": {}
    },
    {
     "output_type": "display_data",
     "data": {
      "text/plain": "<Figure size 720x720 with 0 Axes>"
     },
     "metadata": {}
    },
    {
     "output_type": "display_data",
     "data": {
      "text/plain": "<Figure size 720x720 with 0 Axes>"
     },
     "metadata": {}
    },
    {
     "output_type": "display_data",
     "data": {
      "text/plain": "<Figure size 720x720 with 0 Axes>"
     },
     "metadata": {}
    },
    {
     "output_type": "display_data",
     "data": {
      "text/plain": "<Figure size 720x720 with 0 Axes>"
     },
     "metadata": {}
    },
    {
     "output_type": "display_data",
     "data": {
      "text/plain": "<Figure size 720x720 with 0 Axes>"
     },
     "metadata": {}
    },
    {
     "output_type": "display_data",
     "data": {
      "text/plain": "<Figure size 720x720 with 0 Axes>"
     },
     "metadata": {}
    },
    {
     "output_type": "display_data",
     "data": {
      "text/plain": "<Figure size 720x720 with 0 Axes>"
     },
     "metadata": {}
    },
    {
     "output_type": "display_data",
     "data": {
      "text/plain": "<Figure size 720x720 with 0 Axes>"
     },
     "metadata": {}
    },
    {
     "output_type": "display_data",
     "data": {
      "text/plain": "<Figure size 720x720 with 0 Axes>"
     },
     "metadata": {}
    },
    {
     "output_type": "display_data",
     "data": {
      "text/plain": "<Figure size 720x720 with 0 Axes>"
     },
     "metadata": {}
    },
    {
     "output_type": "display_data",
     "data": {
      "text/plain": "<Figure size 720x720 with 0 Axes>"
     },
     "metadata": {}
    },
    {
     "output_type": "display_data",
     "data": {
      "text/plain": "<Figure size 720x720 with 0 Axes>"
     },
     "metadata": {}
    },
    {
     "output_type": "display_data",
     "data": {
      "text/plain": "<Figure size 720x720 with 0 Axes>"
     },
     "metadata": {}
    },
    {
     "output_type": "display_data",
     "data": {
      "text/plain": "<Figure size 720x720 with 0 Axes>"
     },
     "metadata": {}
    },
    {
     "output_type": "display_data",
     "data": {
      "text/plain": "<Figure size 720x720 with 0 Axes>"
     },
     "metadata": {}
    },
    {
     "output_type": "display_data",
     "data": {
      "text/plain": "<Figure size 720x720 with 0 Axes>"
     },
     "metadata": {}
    },
    {
     "output_type": "display_data",
     "data": {
      "text/plain": "<Figure size 720x720 with 0 Axes>"
     },
     "metadata": {}
    },
    {
     "output_type": "display_data",
     "data": {
      "text/plain": "<Figure size 720x720 with 0 Axes>"
     },
     "metadata": {}
    },
    {
     "output_type": "display_data",
     "data": {
      "text/plain": "<Figure size 720x720 with 0 Axes>"
     },
     "metadata": {}
    },
    {
     "output_type": "display_data",
     "data": {
      "text/plain": "<Figure size 720x720 with 0 Axes>"
     },
     "metadata": {}
    },
    {
     "output_type": "display_data",
     "data": {
      "text/plain": "<Figure size 720x720 with 0 Axes>"
     },
     "metadata": {}
    },
    {
     "output_type": "display_data",
     "data": {
      "text/plain": "<Figure size 720x720 with 0 Axes>"
     },
     "metadata": {}
    },
    {
     "output_type": "display_data",
     "data": {
      "text/plain": "<Figure size 720x720 with 0 Axes>"
     },
     "metadata": {}
    },
    {
     "output_type": "display_data",
     "data": {
      "text/plain": "<Figure size 720x720 with 0 Axes>"
     },
     "metadata": {}
    },
    {
     "output_type": "display_data",
     "data": {
      "text/plain": "<Figure size 720x720 with 0 Axes>"
     },
     "metadata": {}
    },
    {
     "output_type": "display_data",
     "data": {
      "text/plain": "<Figure size 720x720 with 0 Axes>"
     },
     "metadata": {}
    },
    {
     "output_type": "display_data",
     "data": {
      "text/plain": "<Figure size 720x720 with 0 Axes>"
     },
     "metadata": {}
    },
    {
     "output_type": "display_data",
     "data": {
      "text/plain": "<Figure size 720x720 with 0 Axes>"
     },
     "metadata": {}
    },
    {
     "output_type": "display_data",
     "data": {
      "text/plain": "<Figure size 720x720 with 0 Axes>"
     },
     "metadata": {}
    },
    {
     "output_type": "display_data",
     "data": {
      "text/plain": "<Figure size 720x720 with 0 Axes>"
     },
     "metadata": {}
    },
    {
     "output_type": "display_data",
     "data": {
      "text/plain": "<Figure size 720x720 with 0 Axes>"
     },
     "metadata": {}
    },
    {
     "output_type": "display_data",
     "data": {
      "text/plain": "<Figure size 720x720 with 0 Axes>"
     },
     "metadata": {}
    },
    {
     "output_type": "display_data",
     "data": {
      "text/plain": "<Figure size 720x720 with 0 Axes>"
     },
     "metadata": {}
    },
    {
     "output_type": "display_data",
     "data": {
      "text/plain": "<Figure size 720x720 with 0 Axes>"
     },
     "metadata": {}
    },
    {
     "output_type": "display_data",
     "data": {
      "text/plain": "<Figure size 720x720 with 0 Axes>"
     },
     "metadata": {}
    },
    {
     "output_type": "display_data",
     "data": {
      "text/plain": "<Figure size 720x720 with 0 Axes>"
     },
     "metadata": {}
    },
    {
     "output_type": "display_data",
     "data": {
      "text/plain": "<Figure size 720x720 with 0 Axes>"
     },
     "metadata": {}
    },
    {
     "output_type": "display_data",
     "data": {
      "text/plain": "<Figure size 720x720 with 0 Axes>"
     },
     "metadata": {}
    },
    {
     "output_type": "display_data",
     "data": {
      "text/plain": "<Figure size 720x720 with 0 Axes>"
     },
     "metadata": {}
    },
    {
     "output_type": "display_data",
     "data": {
      "text/plain": "<Figure size 720x720 with 0 Axes>"
     },
     "metadata": {}
    },
    {
     "output_type": "display_data",
     "data": {
      "text/plain": "<Figure size 720x720 with 0 Axes>"
     },
     "metadata": {}
    },
    {
     "output_type": "display_data",
     "data": {
      "text/plain": "<Figure size 720x720 with 0 Axes>"
     },
     "metadata": {}
    },
    {
     "output_type": "display_data",
     "data": {
      "text/plain": "<Figure size 720x720 with 0 Axes>"
     },
     "metadata": {}
    },
    {
     "output_type": "display_data",
     "data": {
      "text/plain": "<Figure size 720x720 with 0 Axes>"
     },
     "metadata": {}
    },
    {
     "output_type": "display_data",
     "data": {
      "text/plain": "<Figure size 720x720 with 0 Axes>"
     },
     "metadata": {}
    },
    {
     "output_type": "display_data",
     "data": {
      "text/plain": "<Figure size 720x720 with 0 Axes>"
     },
     "metadata": {}
    },
    {
     "output_type": "display_data",
     "data": {
      "text/plain": "<Figure size 720x720 with 0 Axes>"
     },
     "metadata": {}
    },
    {
     "output_type": "display_data",
     "data": {
      "text/plain": "<Figure size 720x720 with 0 Axes>"
     },
     "metadata": {}
    },
    {
     "output_type": "display_data",
     "data": {
      "text/plain": "<Figure size 720x720 with 0 Axes>"
     },
     "metadata": {}
    },
    {
     "output_type": "display_data",
     "data": {
      "text/plain": "<Figure size 720x720 with 0 Axes>"
     },
     "metadata": {}
    },
    {
     "output_type": "display_data",
     "data": {
      "text/plain": "<Figure size 720x720 with 0 Axes>"
     },
     "metadata": {}
    },
    {
     "output_type": "display_data",
     "data": {
      "text/plain": "<Figure size 720x720 with 0 Axes>"
     },
     "metadata": {}
    },
    {
     "output_type": "display_data",
     "data": {
      "text/plain": "<Figure size 720x720 with 0 Axes>"
     },
     "metadata": {}
    },
    {
     "output_type": "display_data",
     "data": {
      "text/plain": "<Figure size 720x720 with 0 Axes>"
     },
     "metadata": {}
    },
    {
     "output_type": "display_data",
     "data": {
      "text/plain": "<Figure size 720x720 with 0 Axes>"
     },
     "metadata": {}
    },
    {
     "output_type": "display_data",
     "data": {
      "text/plain": "<Figure size 720x720 with 0 Axes>"
     },
     "metadata": {}
    },
    {
     "output_type": "display_data",
     "data": {
      "text/plain": "<Figure size 720x720 with 0 Axes>"
     },
     "metadata": {}
    },
    {
     "output_type": "display_data",
     "data": {
      "text/plain": "<Figure size 720x720 with 0 Axes>"
     },
     "metadata": {}
    },
    {
     "output_type": "display_data",
     "data": {
      "text/plain": "<Figure size 720x720 with 0 Axes>"
     },
     "metadata": {}
    },
    {
     "output_type": "display_data",
     "data": {
      "text/plain": "<Figure size 720x720 with 0 Axes>"
     },
     "metadata": {}
    },
    {
     "output_type": "display_data",
     "data": {
      "text/plain": "<Figure size 720x720 with 0 Axes>"
     },
     "metadata": {}
    },
    {
     "output_type": "display_data",
     "data": {
      "text/plain": "<Figure size 720x720 with 0 Axes>"
     },
     "metadata": {}
    },
    {
     "output_type": "display_data",
     "data": {
      "text/plain": "<Figure size 720x720 with 0 Axes>"
     },
     "metadata": {}
    },
    {
     "output_type": "display_data",
     "data": {
      "text/plain": "<Figure size 720x720 with 0 Axes>"
     },
     "metadata": {}
    },
    {
     "output_type": "display_data",
     "data": {
      "text/plain": "<Figure size 720x720 with 0 Axes>"
     },
     "metadata": {}
    },
    {
     "output_type": "display_data",
     "data": {
      "text/plain": "<Figure size 720x720 with 0 Axes>"
     },
     "metadata": {}
    },
    {
     "output_type": "display_data",
     "data": {
      "text/plain": "<Figure size 720x720 with 0 Axes>"
     },
     "metadata": {}
    },
    {
     "output_type": "display_data",
     "data": {
      "text/plain": "<Figure size 720x720 with 0 Axes>"
     },
     "metadata": {}
    },
    {
     "output_type": "display_data",
     "data": {
      "text/plain": "<Figure size 720x720 with 0 Axes>"
     },
     "metadata": {}
    },
    {
     "output_type": "display_data",
     "data": {
      "text/plain": "<Figure size 720x720 with 0 Axes>"
     },
     "metadata": {}
    },
    {
     "output_type": "display_data",
     "data": {
      "text/plain": "<Figure size 720x720 with 0 Axes>"
     },
     "metadata": {}
    },
    {
     "output_type": "display_data",
     "data": {
      "text/plain": "<Figure size 720x720 with 0 Axes>"
     },
     "metadata": {}
    },
    {
     "output_type": "display_data",
     "data": {
      "text/plain": "<Figure size 720x720 with 0 Axes>"
     },
     "metadata": {}
    },
    {
     "output_type": "display_data",
     "data": {
      "text/plain": "<Figure size 720x720 with 0 Axes>"
     },
     "metadata": {}
    },
    {
     "output_type": "display_data",
     "data": {
      "text/plain": "<Figure size 720x720 with 0 Axes>"
     },
     "metadata": {}
    },
    {
     "output_type": "display_data",
     "data": {
      "text/plain": "<Figure size 720x720 with 0 Axes>"
     },
     "metadata": {}
    },
    {
     "output_type": "display_data",
     "data": {
      "text/plain": "<Figure size 720x720 with 0 Axes>"
     },
     "metadata": {}
    },
    {
     "output_type": "display_data",
     "data": {
      "text/plain": "<Figure size 720x720 with 0 Axes>"
     },
     "metadata": {}
    },
    {
     "output_type": "display_data",
     "data": {
      "text/plain": "<Figure size 720x720 with 0 Axes>"
     },
     "metadata": {}
    },
    {
     "output_type": "display_data",
     "data": {
      "text/plain": "<Figure size 720x720 with 0 Axes>"
     },
     "metadata": {}
    },
    {
     "output_type": "display_data",
     "data": {
      "text/plain": "<Figure size 720x720 with 0 Axes>"
     },
     "metadata": {}
    },
    {
     "output_type": "display_data",
     "data": {
      "text/plain": "<Figure size 720x720 with 0 Axes>"
     },
     "metadata": {}
    },
    {
     "output_type": "display_data",
     "data": {
      "text/plain": "<Figure size 720x720 with 0 Axes>"
     },
     "metadata": {}
    },
    {
     "output_type": "display_data",
     "data": {
      "text/plain": "<Figure size 720x720 with 0 Axes>"
     },
     "metadata": {}
    },
    {
     "output_type": "display_data",
     "data": {
      "text/plain": "<Figure size 720x720 with 0 Axes>"
     },
     "metadata": {}
    },
    {
     "output_type": "display_data",
     "data": {
      "text/plain": "<Figure size 720x720 with 0 Axes>"
     },
     "metadata": {}
    },
    {
     "output_type": "display_data",
     "data": {
      "text/plain": "<Figure size 720x720 with 0 Axes>"
     },
     "metadata": {}
    },
    {
     "output_type": "display_data",
     "data": {
      "text/plain": "<Figure size 720x720 with 0 Axes>"
     },
     "metadata": {}
    },
    {
     "output_type": "display_data",
     "data": {
      "text/plain": "<Figure size 720x720 with 0 Axes>"
     },
     "metadata": {}
    },
    {
     "output_type": "display_data",
     "data": {
      "text/plain": "<Figure size 720x720 with 0 Axes>"
     },
     "metadata": {}
    },
    {
     "output_type": "display_data",
     "data": {
      "text/plain": "<Figure size 720x720 with 0 Axes>"
     },
     "metadata": {}
    },
    {
     "output_type": "display_data",
     "data": {
      "text/plain": "<Figure size 720x720 with 0 Axes>"
     },
     "metadata": {}
    },
    {
     "output_type": "display_data",
     "data": {
      "text/plain": "<Figure size 720x720 with 0 Axes>"
     },
     "metadata": {}
    },
    {
     "output_type": "display_data",
     "data": {
      "text/plain": "<Figure size 720x720 with 0 Axes>"
     },
     "metadata": {}
    },
    {
     "output_type": "display_data",
     "data": {
      "text/plain": "<Figure size 720x720 with 0 Axes>"
     },
     "metadata": {}
    },
    {
     "output_type": "display_data",
     "data": {
      "text/plain": "<Figure size 720x720 with 0 Axes>"
     },
     "metadata": {}
    },
    {
     "output_type": "display_data",
     "data": {
      "text/plain": "<Figure size 720x720 with 0 Axes>"
     },
     "metadata": {}
    },
    {
     "output_type": "display_data",
     "data": {
      "text/plain": "<Figure size 720x720 with 0 Axes>"
     },
     "metadata": {}
    },
    {
     "output_type": "display_data",
     "data": {
      "text/plain": "<Figure size 720x720 with 0 Axes>"
     },
     "metadata": {}
    },
    {
     "output_type": "display_data",
     "data": {
      "text/plain": "<Figure size 720x720 with 0 Axes>"
     },
     "metadata": {}
    },
    {
     "output_type": "display_data",
     "data": {
      "text/plain": "<Figure size 720x720 with 0 Axes>"
     },
     "metadata": {}
    },
    {
     "output_type": "display_data",
     "data": {
      "text/plain": "<Figure size 720x720 with 0 Axes>"
     },
     "metadata": {}
    },
    {
     "output_type": "display_data",
     "data": {
      "text/plain": "<Figure size 720x720 with 0 Axes>"
     },
     "metadata": {}
    },
    {
     "output_type": "display_data",
     "data": {
      "text/plain": "<Figure size 720x720 with 0 Axes>"
     },
     "metadata": {}
    },
    {
     "output_type": "display_data",
     "data": {
      "text/plain": "<Figure size 720x720 with 0 Axes>"
     },
     "metadata": {}
    },
    {
     "output_type": "display_data",
     "data": {
      "text/plain": "<Figure size 720x720 with 0 Axes>"
     },
     "metadata": {}
    },
    {
     "output_type": "display_data",
     "data": {
      "text/plain": "<Figure size 720x720 with 0 Axes>"
     },
     "metadata": {}
    },
    {
     "output_type": "display_data",
     "data": {
      "text/plain": "<Figure size 720x720 with 0 Axes>"
     },
     "metadata": {}
    },
    {
     "output_type": "display_data",
     "data": {
      "text/plain": "<Figure size 720x720 with 0 Axes>"
     },
     "metadata": {}
    },
    {
     "output_type": "display_data",
     "data": {
      "text/plain": "<Figure size 720x720 with 0 Axes>"
     },
     "metadata": {}
    },
    {
     "output_type": "display_data",
     "data": {
      "text/plain": "<Figure size 720x720 with 0 Axes>"
     },
     "metadata": {}
    },
    {
     "output_type": "display_data",
     "data": {
      "text/plain": "<Figure size 720x720 with 0 Axes>"
     },
     "metadata": {}
    },
    {
     "output_type": "display_data",
     "data": {
      "text/plain": "<Figure size 720x720 with 0 Axes>"
     },
     "metadata": {}
    },
    {
     "output_type": "display_data",
     "data": {
      "text/plain": "<Figure size 720x720 with 0 Axes>"
     },
     "metadata": {}
    },
    {
     "output_type": "display_data",
     "data": {
      "text/plain": "<Figure size 720x720 with 0 Axes>"
     },
     "metadata": {}
    },
    {
     "output_type": "display_data",
     "data": {
      "text/plain": "<Figure size 720x720 with 0 Axes>"
     },
     "metadata": {}
    },
    {
     "output_type": "display_data",
     "data": {
      "text/plain": "<Figure size 720x720 with 0 Axes>"
     },
     "metadata": {}
    },
    {
     "output_type": "display_data",
     "data": {
      "text/plain": "<Figure size 720x720 with 0 Axes>"
     },
     "metadata": {}
    },
    {
     "output_type": "display_data",
     "data": {
      "text/plain": "<Figure size 720x720 with 0 Axes>"
     },
     "metadata": {}
    },
    {
     "output_type": "display_data",
     "data": {
      "text/plain": "<Figure size 720x720 with 0 Axes>"
     },
     "metadata": {}
    },
    {
     "output_type": "display_data",
     "data": {
      "text/plain": "<Figure size 720x720 with 0 Axes>"
     },
     "metadata": {}
    },
    {
     "output_type": "display_data",
     "data": {
      "text/plain": "<Figure size 720x720 with 0 Axes>"
     },
     "metadata": {}
    },
    {
     "output_type": "display_data",
     "data": {
      "text/plain": "<Figure size 720x720 with 0 Axes>"
     },
     "metadata": {}
    },
    {
     "output_type": "display_data",
     "data": {
      "text/plain": "<Figure size 720x720 with 0 Axes>"
     },
     "metadata": {}
    },
    {
     "output_type": "display_data",
     "data": {
      "text/plain": "<Figure size 720x720 with 0 Axes>"
     },
     "metadata": {}
    },
    {
     "output_type": "display_data",
     "data": {
      "text/plain": "<Figure size 720x720 with 0 Axes>"
     },
     "metadata": {}
    },
    {
     "output_type": "display_data",
     "data": {
      "text/plain": "<Figure size 720x720 with 0 Axes>"
     },
     "metadata": {}
    },
    {
     "output_type": "display_data",
     "data": {
      "text/plain": "<Figure size 720x720 with 0 Axes>"
     },
     "metadata": {}
    },
    {
     "output_type": "display_data",
     "data": {
      "text/plain": "<Figure size 720x720 with 0 Axes>"
     },
     "metadata": {}
    },
    {
     "output_type": "display_data",
     "data": {
      "text/plain": "<Figure size 720x720 with 0 Axes>"
     },
     "metadata": {}
    },
    {
     "output_type": "display_data",
     "data": {
      "text/plain": "<Figure size 720x720 with 0 Axes>"
     },
     "metadata": {}
    },
    {
     "output_type": "display_data",
     "data": {
      "text/plain": "<Figure size 720x720 with 0 Axes>"
     },
     "metadata": {}
    },
    {
     "output_type": "display_data",
     "data": {
      "text/plain": "<Figure size 720x720 with 0 Axes>"
     },
     "metadata": {}
    },
    {
     "output_type": "display_data",
     "data": {
      "text/plain": "<Figure size 720x720 with 0 Axes>"
     },
     "metadata": {}
    },
    {
     "output_type": "display_data",
     "data": {
      "text/plain": "<Figure size 720x720 with 0 Axes>"
     },
     "metadata": {}
    },
    {
     "output_type": "display_data",
     "data": {
      "text/plain": "<Figure size 720x720 with 0 Axes>"
     },
     "metadata": {}
    },
    {
     "output_type": "display_data",
     "data": {
      "text/plain": "<Figure size 720x720 with 0 Axes>"
     },
     "metadata": {}
    },
    {
     "output_type": "display_data",
     "data": {
      "text/plain": "<Figure size 720x720 with 0 Axes>"
     },
     "metadata": {}
    },
    {
     "output_type": "display_data",
     "data": {
      "text/plain": "<Figure size 720x720 with 0 Axes>"
     },
     "metadata": {}
    },
    {
     "output_type": "display_data",
     "data": {
      "text/plain": "<Figure size 720x720 with 0 Axes>"
     },
     "metadata": {}
    },
    {
     "output_type": "display_data",
     "data": {
      "text/plain": "<Figure size 720x720 with 0 Axes>"
     },
     "metadata": {}
    },
    {
     "output_type": "display_data",
     "data": {
      "text/plain": "<Figure size 720x720 with 0 Axes>"
     },
     "metadata": {}
    },
    {
     "output_type": "display_data",
     "data": {
      "text/plain": "<Figure size 720x720 with 0 Axes>"
     },
     "metadata": {}
    },
    {
     "output_type": "display_data",
     "data": {
      "text/plain": "<Figure size 720x720 with 0 Axes>"
     },
     "metadata": {}
    },
    {
     "output_type": "display_data",
     "data": {
      "text/plain": "<Figure size 720x720 with 0 Axes>"
     },
     "metadata": {}
    },
    {
     "output_type": "display_data",
     "data": {
      "text/plain": "<Figure size 720x720 with 0 Axes>"
     },
     "metadata": {}
    },
    {
     "output_type": "display_data",
     "data": {
      "text/plain": "<Figure size 720x720 with 0 Axes>"
     },
     "metadata": {}
    },
    {
     "output_type": "display_data",
     "data": {
      "text/plain": "<Figure size 720x720 with 0 Axes>"
     },
     "metadata": {}
    },
    {
     "output_type": "display_data",
     "data": {
      "text/plain": "<Figure size 720x720 with 0 Axes>"
     },
     "metadata": {}
    },
    {
     "output_type": "display_data",
     "data": {
      "text/plain": "<Figure size 720x720 with 0 Axes>"
     },
     "metadata": {}
    },
    {
     "output_type": "display_data",
     "data": {
      "text/plain": "<Figure size 720x720 with 0 Axes>"
     },
     "metadata": {}
    },
    {
     "output_type": "display_data",
     "data": {
      "text/plain": "<Figure size 720x720 with 0 Axes>"
     },
     "metadata": {}
    },
    {
     "output_type": "display_data",
     "data": {
      "text/plain": "<Figure size 720x720 with 0 Axes>"
     },
     "metadata": {}
    },
    {
     "output_type": "display_data",
     "data": {
      "text/plain": "<Figure size 720x720 with 0 Axes>"
     },
     "metadata": {}
    },
    {
     "output_type": "display_data",
     "data": {
      "text/plain": "<Figure size 720x720 with 0 Axes>"
     },
     "metadata": {}
    },
    {
     "output_type": "display_data",
     "data": {
      "text/plain": "<Figure size 720x720 with 0 Axes>"
     },
     "metadata": {}
    },
    {
     "output_type": "display_data",
     "data": {
      "text/plain": "<Figure size 720x720 with 0 Axes>"
     },
     "metadata": {}
    },
    {
     "output_type": "display_data",
     "data": {
      "text/plain": "<Figure size 720x720 with 0 Axes>"
     },
     "metadata": {}
    },
    {
     "output_type": "display_data",
     "data": {
      "text/plain": "<Figure size 720x720 with 0 Axes>"
     },
     "metadata": {}
    },
    {
     "output_type": "display_data",
     "data": {
      "text/plain": "<Figure size 720x720 with 0 Axes>"
     },
     "metadata": {}
    },
    {
     "output_type": "display_data",
     "data": {
      "text/plain": "<Figure size 720x720 with 0 Axes>"
     },
     "metadata": {}
    },
    {
     "output_type": "display_data",
     "data": {
      "text/plain": "<Figure size 720x720 with 0 Axes>"
     },
     "metadata": {}
    },
    {
     "output_type": "display_data",
     "data": {
      "text/plain": "<Figure size 720x720 with 0 Axes>"
     },
     "metadata": {}
    },
    {
     "output_type": "display_data",
     "data": {
      "text/plain": "<Figure size 720x720 with 0 Axes>"
     },
     "metadata": {}
    },
    {
     "output_type": "display_data",
     "data": {
      "text/plain": "<Figure size 720x720 with 0 Axes>"
     },
     "metadata": {}
    },
    {
     "output_type": "display_data",
     "data": {
      "text/plain": "<Figure size 720x720 with 0 Axes>"
     },
     "metadata": {}
    },
    {
     "output_type": "display_data",
     "data": {
      "text/plain": "<Figure size 720x720 with 0 Axes>"
     },
     "metadata": {}
    },
    {
     "output_type": "display_data",
     "data": {
      "text/plain": "<Figure size 720x720 with 0 Axes>"
     },
     "metadata": {}
    },
    {
     "output_type": "display_data",
     "data": {
      "text/plain": "<Figure size 720x720 with 0 Axes>"
     },
     "metadata": {}
    },
    {
     "output_type": "display_data",
     "data": {
      "text/plain": "<Figure size 720x720 with 0 Axes>"
     },
     "metadata": {}
    },
    {
     "output_type": "display_data",
     "data": {
      "text/plain": "<Figure size 720x720 with 0 Axes>"
     },
     "metadata": {}
    },
    {
     "output_type": "display_data",
     "data": {
      "text/plain": "<Figure size 720x720 with 0 Axes>"
     },
     "metadata": {}
    },
    {
     "output_type": "display_data",
     "data": {
      "text/plain": "<Figure size 720x720 with 0 Axes>"
     },
     "metadata": {}
    },
    {
     "output_type": "display_data",
     "data": {
      "text/plain": "<Figure size 720x720 with 0 Axes>"
     },
     "metadata": {}
    },
    {
     "output_type": "display_data",
     "data": {
      "text/plain": "<Figure size 720x720 with 0 Axes>"
     },
     "metadata": {}
    },
    {
     "output_type": "display_data",
     "data": {
      "text/plain": "<Figure size 720x720 with 0 Axes>"
     },
     "metadata": {}
    },
    {
     "output_type": "display_data",
     "data": {
      "text/plain": "<Figure size 720x720 with 0 Axes>"
     },
     "metadata": {}
    },
    {
     "output_type": "display_data",
     "data": {
      "text/plain": "<Figure size 720x720 with 0 Axes>"
     },
     "metadata": {}
    },
    {
     "output_type": "display_data",
     "data": {
      "text/plain": "<Figure size 720x720 with 0 Axes>"
     },
     "metadata": {}
    },
    {
     "output_type": "display_data",
     "data": {
      "text/plain": "<Figure size 720x720 with 0 Axes>"
     },
     "metadata": {}
    },
    {
     "output_type": "display_data",
     "data": {
      "text/plain": "<Figure size 720x720 with 0 Axes>"
     },
     "metadata": {}
    },
    {
     "output_type": "display_data",
     "data": {
      "text/plain": "<Figure size 720x720 with 0 Axes>"
     },
     "metadata": {}
    },
    {
     "output_type": "display_data",
     "data": {
      "text/plain": "<Figure size 720x720 with 0 Axes>"
     },
     "metadata": {}
    },
    {
     "output_type": "display_data",
     "data": {
      "text/plain": "<Figure size 720x720 with 0 Axes>"
     },
     "metadata": {}
    },
    {
     "output_type": "display_data",
     "data": {
      "text/plain": "<Figure size 720x720 with 0 Axes>"
     },
     "metadata": {}
    },
    {
     "output_type": "display_data",
     "data": {
      "text/plain": "<Figure size 720x720 with 0 Axes>"
     },
     "metadata": {}
    },
    {
     "output_type": "display_data",
     "data": {
      "text/plain": "<Figure size 720x720 with 0 Axes>"
     },
     "metadata": {}
    },
    {
     "output_type": "display_data",
     "data": {
      "text/plain": "<Figure size 720x720 with 0 Axes>"
     },
     "metadata": {}
    },
    {
     "output_type": "display_data",
     "data": {
      "text/plain": "<Figure size 720x720 with 0 Axes>"
     },
     "metadata": {}
    },
    {
     "output_type": "display_data",
     "data": {
      "text/plain": "<Figure size 720x720 with 0 Axes>"
     },
     "metadata": {}
    },
    {
     "output_type": "display_data",
     "data": {
      "text/plain": "<Figure size 720x720 with 0 Axes>"
     },
     "metadata": {}
    },
    {
     "output_type": "display_data",
     "data": {
      "text/plain": "<Figure size 720x720 with 0 Axes>"
     },
     "metadata": {}
    },
    {
     "output_type": "display_data",
     "data": {
      "text/plain": "<Figure size 720x720 with 0 Axes>"
     },
     "metadata": {}
    },
    {
     "output_type": "display_data",
     "data": {
      "text/plain": "<Figure size 720x720 with 0 Axes>"
     },
     "metadata": {}
    },
    {
     "output_type": "display_data",
     "data": {
      "text/plain": "<Figure size 720x720 with 0 Axes>"
     },
     "metadata": {}
    },
    {
     "output_type": "display_data",
     "data": {
      "text/plain": "<Figure size 720x720 with 0 Axes>"
     },
     "metadata": {}
    },
    {
     "output_type": "display_data",
     "data": {
      "text/plain": "<Figure size 720x720 with 0 Axes>"
     },
     "metadata": {}
    },
    {
     "output_type": "display_data",
     "data": {
      "text/plain": "<Figure size 720x720 with 0 Axes>"
     },
     "metadata": {}
    },
    {
     "output_type": "display_data",
     "data": {
      "text/plain": "<Figure size 720x720 with 0 Axes>"
     },
     "metadata": {}
    },
    {
     "output_type": "display_data",
     "data": {
      "text/plain": "<Figure size 720x720 with 0 Axes>"
     },
     "metadata": {}
    },
    {
     "output_type": "display_data",
     "data": {
      "text/plain": "<Figure size 720x720 with 0 Axes>"
     },
     "metadata": {}
    },
    {
     "output_type": "display_data",
     "data": {
      "text/plain": "<Figure size 720x720 with 0 Axes>"
     },
     "metadata": {}
    },
    {
     "output_type": "display_data",
     "data": {
      "text/plain": "<Figure size 720x720 with 0 Axes>"
     },
     "metadata": {}
    },
    {
     "output_type": "display_data",
     "data": {
      "text/plain": "<Figure size 720x720 with 0 Axes>"
     },
     "metadata": {}
    },
    {
     "output_type": "display_data",
     "data": {
      "text/plain": "<Figure size 720x720 with 0 Axes>"
     },
     "metadata": {}
    },
    {
     "output_type": "display_data",
     "data": {
      "text/plain": "<Figure size 720x720 with 0 Axes>"
     },
     "metadata": {}
    },
    {
     "output_type": "display_data",
     "data": {
      "text/plain": "<Figure size 720x720 with 0 Axes>"
     },
     "metadata": {}
    },
    {
     "output_type": "display_data",
     "data": {
      "text/plain": "<Figure size 720x720 with 0 Axes>"
     },
     "metadata": {}
    },
    {
     "output_type": "display_data",
     "data": {
      "text/plain": "<Figure size 720x720 with 0 Axes>"
     },
     "metadata": {}
    },
    {
     "output_type": "display_data",
     "data": {
      "text/plain": "<Figure size 720x720 with 0 Axes>"
     },
     "metadata": {}
    }
   ],
   "source": [
    "video_name=os.path.join(data_dir, 'video_2.mp4')\n",
    "(width, height) = (720, 720)\n",
    "\n",
    "fourcc = cv2.VideoWriter_fourcc('m','p','4','v')\n",
    "video = cv2.VideoWriter(video_name, fourcc, 1, (width,height))\n",
    "\n",
    "\n",
    "for t in range(1,250): \n",
    "    fig = plt.figure(figsize=(10,10))\n",
    "    canvas = FigureCanvas(fig)\n",
    "    animate(t)\n",
    "    canvas.draw() \n",
    "    s, (width, height) = canvas.print_to_buffer()\n",
    "    \n",
    "    X = np.frombuffer(fig.canvas.tostring_rgb(), dtype=np.uint8)\n",
    "    X = X.reshape(fig.canvas.get_width_height()[::-1] + (3,))\n",
    "    X2= cv2.cvtColor(X, cv2.COLOR_BGR2RGB)\n",
    "    video.write(X2)\n",
    "    fig.clear()\n",
    "\n",
    "cv2.destroyAllWindows()\n",
    "video.release()"
   ]
  },
  {
   "cell_type": "code",
   "execution_count": null,
   "metadata": {},
   "outputs": [],
   "source": []
  }
 ]
}